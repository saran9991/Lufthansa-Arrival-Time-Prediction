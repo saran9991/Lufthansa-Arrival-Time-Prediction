{
 "cells": [
  {
   "cell_type": "code",
   "execution_count": 1,
   "metadata": {
    "collapsed": true,
    "ExecuteTime": {
     "end_time": "2023-07-20T17:24:12.774282Z",
     "start_time": "2023-07-20T17:24:06.157098Z"
    }
   },
   "outputs": [],
   "source": [
    "from tensorflow.keras.models import load_model\n",
    "import os\n",
    "import pandas as pd\n",
    "from joblib import load as load_joblib\n",
    "from train_model.h3_preprocessing import h3_preprocess\n",
    "from train_model.preprocessing import generate_aux_columns, seconds_till_arrival"
   ]
  },
  {
   "cell_type": "code",
   "execution_count": null,
   "outputs": [],
   "source": [
    "data_path_train = \"..\" + os.sep + \"data\" + os.sep + \"timeseries_near_2023.csv\"\n",
    "data_path_test = \"..\" + os.sep + \"data\" + os.sep + \"timeseries_near_2023.csv\"\n",
    "scaler_path = \"..\" + os.sep + \"trained_models\" + os.sep + \"std_scaler_reg_new.bin\"\n",
    "model_file_near_dl = \"..\" + os.sep + \"trained_models\" + os.sep + \"dl_model_near\"\n",
    "df_test = pd.read_csv(data_path, parse_dates=[\"arrival_time\", \"timestamp\"])\n",
    "df_test = generate_aux_columns(df_test)\n",
    "df_test.head()"
   ],
   "metadata": {
    "collapsed": false
   }
  }
 ],
 "metadata": {
  "kernelspec": {
   "display_name": "Python 3",
   "language": "python",
   "name": "python3"
  },
  "language_info": {
   "codemirror_mode": {
    "name": "ipython",
    "version": 2
   },
   "file_extension": ".py",
   "mimetype": "text/x-python",
   "name": "python",
   "nbconvert_exporter": "python",
   "pygments_lexer": "ipython2",
   "version": "2.7.6"
  }
 },
 "nbformat": 4,
 "nbformat_minor": 0
}
