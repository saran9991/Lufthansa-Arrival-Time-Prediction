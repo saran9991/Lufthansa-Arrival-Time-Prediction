{
 "cells": [
  {
   "cell_type": "code",
   "execution_count": 121,
   "metadata": {
    "collapsed": true
   },
   "outputs": [],
   "source": [
    "from sklearn.preprocessing import StandardScaler, PolynomialFeatures\n",
    "from sklearn.linear_model import LinearRegression\n",
    "from sklearn.metrics import mean_absolute_error, r2_score\n",
    "from traffic.core import Traffic\n",
    "from preprocessing import preprocess_traffic, generate_aux_columns, seconds_till_arrival\n",
    "import h5py\n",
    "import numpy as np\n",
    "import pandas as pd\n",
    "import datetime\n",
    "from sklearn.preprocessing import StandardScaler\n",
    "from joblib import dump, load\n",
    "import itertools\n",
    "import copy\n",
    "from tqdm.auto import tqdm\n",
    "import os"
   ]
  },
  {
   "cell_type": "code",
   "execution_count": 106,
   "outputs": [],
   "source": [
    "data_files_train = []\n",
    "for i in range(1, 13):\n",
    "    month = \"0\" + str(i) if i < 10 else str(i)\n",
    "    file = \"..\" + os.sep + \"data\" + os.sep + \"Frankfurt_LH_22\" + month + \".h5\"\n",
    "    data_files_train.append(file)\n",
    "data_files_test = [\"..\" + os.sep + \"data\" + os.sep + \"Frankfurt_LH_2301\" + \".h5\",\n",
    "                   \"..\" + os.sep + \"data\" + os.sep + \"Frankfurt_LH_2302\" + \".h5\",\n",
    "                   \"..\" + os.sep + \"data\" + os.sep + \"Frankfurt_LH_2303\" + \".h5\"]\n",
    "def load_data_batch(file_batch, sample_fraction=1, quick_sample = True):\n",
    "    first_day = True\n",
    "    for file in file_batch:\n",
    "        with h5py.File(file, 'r') as f:\n",
    "            if quick_sample:\n",
    "                i = 0\n",
    "            for key in tqdm(list(f.keys()),desc=file):\n",
    "                if i > 0:\n",
    "                    continue\n",
    "                new_flights = Traffic.from_file(file, key=key,\n",
    "                                                parse_dates=[\"day\", \"firstseen\", \"hour\", \"last_position\",\n",
    "                                                             \"lastseen\", \"timestamp\"]).data\n",
    "\n",
    "                if first_day:\n",
    "                    df_flights = preprocess_traffic(new_flights)\n",
    "                    df_flights = df_flights[\n",
    "                        [\n",
    "                            \"distance\",\n",
    "                            \"altitude\",\n",
    "                            \"geoaltitude\",\n",
    "                            \"arrival_time\",\n",
    "                            \"timestamp\",\n",
    "                            \"vertical_rate\",\n",
    "                            \"groundspeed\",\n",
    "                            \"track\",\n",
    "                            \"latitude\",\n",
    "                            \"longitude\"\n",
    "                        ]\n",
    "                    ].dropna()\n",
    "                    df_flights = df_flights.sample(frac=sample_fraction)\n",
    "                    first_day = False\n",
    "                else:\n",
    "                    old_flights = pd.concat([old_flights,new_flights])\n",
    "                    start = new_flights.day.min().replace(tzinfo=None)\n",
    "                    end = start + datetime.timedelta(days=1)\n",
    "                    relevant_time = [str(start), str(end)]\n",
    "                    df_add_flights = preprocess_traffic(old_flights, relevant_time)\n",
    "                    df_add_flights = df_add_flights[\n",
    "                        [\n",
    "                            \"distance\",\n",
    "                            \"altitude\",\n",
    "                            \"geoaltitude\",\n",
    "                            \"arrival_time\",\n",
    "                            \"timestamp\",\n",
    "                            \"vertical_rate\",\n",
    "                            \"groundspeed\",\n",
    "                            \"track\",\n",
    "                            \"latitude\",\n",
    "                            \"longitude\"\n",
    "                        ]\n",
    "                    ].dropna()\n",
    "                    del(old_flights)\n",
    "                    df_add_flights = df_add_flights.sample(frac=sample_fraction)\n",
    "                    df_flights = pd.concat([df_flights, df_add_flights])\n",
    "                    del(df_add_flights)\n",
    "                old_flights = new_flights\n",
    "                if quick_sample:\n",
    "                    i += 1\n",
    "\n",
    "\n",
    "    return df_flights"
   ],
   "metadata": {
    "collapsed": false
   }
  },
  {
   "cell_type": "code",
   "execution_count": 107,
   "outputs": [
    {
     "data": {
      "text/plain": "..\\data\\Frankfurt_LH_2201.h5:   0%|          | 0/31 [00:00<?, ?it/s]",
      "application/vnd.jupyter.widget-view+json": {
       "version_major": 2,
       "version_minor": 0,
       "model_id": "1481e2294f23448e99d89b8e6bcf73ef"
      }
     },
     "metadata": {},
     "output_type": "display_data"
    },
    {
     "data": {
      "text/plain": "..\\data\\Frankfurt_LH_2202.h5:   0%|          | 0/28 [00:00<?, ?it/s]",
      "application/vnd.jupyter.widget-view+json": {
       "version_major": 2,
       "version_minor": 0,
       "model_id": "905e920de486401a8fa6e4a67b753530"
      }
     },
     "metadata": {},
     "output_type": "display_data"
    },
    {
     "data": {
      "text/plain": "..\\data\\Frankfurt_LH_2203.h5:   0%|          | 0/31 [00:00<?, ?it/s]",
      "application/vnd.jupyter.widget-view+json": {
       "version_major": 2,
       "version_minor": 0,
       "model_id": "270ebe26be9e4c43ad61ca9fc9b61c57"
      }
     },
     "metadata": {},
     "output_type": "display_data"
    },
    {
     "data": {
      "text/plain": "..\\data\\Frankfurt_LH_2204.h5:   0%|          | 0/30 [00:00<?, ?it/s]",
      "application/vnd.jupyter.widget-view+json": {
       "version_major": 2,
       "version_minor": 0,
       "model_id": "1e1b583f16344f0398938bd787c3d8a2"
      }
     },
     "metadata": {},
     "output_type": "display_data"
    },
    {
     "data": {
      "text/plain": "..\\data\\Frankfurt_LH_2205.h5:   0%|          | 0/31 [00:00<?, ?it/s]",
      "application/vnd.jupyter.widget-view+json": {
       "version_major": 2,
       "version_minor": 0,
       "model_id": "3773d278a428400e821df73c107268ec"
      }
     },
     "metadata": {},
     "output_type": "display_data"
    },
    {
     "data": {
      "text/plain": "..\\data\\Frankfurt_LH_2206.h5:   0%|          | 0/30 [00:00<?, ?it/s]",
      "application/vnd.jupyter.widget-view+json": {
       "version_major": 2,
       "version_minor": 0,
       "model_id": "78a2ec2b75e44f83a2bf2299ae4928bc"
      }
     },
     "metadata": {},
     "output_type": "display_data"
    },
    {
     "data": {
      "text/plain": "..\\data\\Frankfurt_LH_2207.h5:   0%|          | 0/31 [00:00<?, ?it/s]",
      "application/vnd.jupyter.widget-view+json": {
       "version_major": 2,
       "version_minor": 0,
       "model_id": "5665f3bacea14528a92443ff32d72b56"
      }
     },
     "metadata": {},
     "output_type": "display_data"
    },
    {
     "data": {
      "text/plain": "..\\data\\Frankfurt_LH_2208.h5:   0%|          | 0/31 [00:00<?, ?it/s]",
      "application/vnd.jupyter.widget-view+json": {
       "version_major": 2,
       "version_minor": 0,
       "model_id": "c1e42c73928844109d94ac68ab75bd3a"
      }
     },
     "metadata": {},
     "output_type": "display_data"
    },
    {
     "data": {
      "text/plain": "..\\data\\Frankfurt_LH_2209.h5:   0%|          | 0/30 [00:00<?, ?it/s]",
      "application/vnd.jupyter.widget-view+json": {
       "version_major": 2,
       "version_minor": 0,
       "model_id": "ca496e1d545d491da0d2ec268cc0cd07"
      }
     },
     "metadata": {},
     "output_type": "display_data"
    },
    {
     "data": {
      "text/plain": "..\\data\\Frankfurt_LH_2210.h5:   0%|          | 0/31 [00:00<?, ?it/s]",
      "application/vnd.jupyter.widget-view+json": {
       "version_major": 2,
       "version_minor": 0,
       "model_id": "5b12a2dcecaa4c38bfb333cc3a750fe8"
      }
     },
     "metadata": {},
     "output_type": "display_data"
    },
    {
     "data": {
      "text/plain": "..\\data\\Frankfurt_LH_2211.h5:   0%|          | 0/30 [00:00<?, ?it/s]",
      "application/vnd.jupyter.widget-view+json": {
       "version_major": 2,
       "version_minor": 0,
       "model_id": "a593e0dd9390419b829590631232e83d"
      }
     },
     "metadata": {},
     "output_type": "display_data"
    },
    {
     "data": {
      "text/plain": "..\\data\\Frankfurt_LH_2212.h5:   0%|          | 0/31 [00:00<?, ?it/s]",
      "application/vnd.jupyter.widget-view+json": {
       "version_major": 2,
       "version_minor": 0,
       "model_id": "61560f7a00ff42f0a818d84b13c488a3"
      }
     },
     "metadata": {},
     "output_type": "display_data"
    },
    {
     "data": {
      "text/plain": "       distance  altitude  geoaltitude              arrival_time  \\\n0    797.719481   25950.0      27150.0 2022-01-01 15:10:07+00:00   \n1   1360.263227   38025.0      37425.0 2022-01-01 16:56:31+00:00   \n2   2752.981764   34025.0      34050.0 2022-01-01 05:24:53+00:00   \n3   8556.482725   32975.0      34700.0 2022-01-01 13:44:59+00:00   \n4      8.769132    1400.0       1875.0 2022-01-01 13:57:54+00:00   \n..          ...       ...          ...                       ...   \n95    25.037531    6525.0       7050.0 2022-01-01 11:08:41+00:00   \n96  6143.441303   18000.0      17900.0 2022-01-01 06:59:27+00:00   \n97   365.343990   38000.0      39075.0 2022-01-01 19:11:51+00:00   \n98  1666.351930   34000.0      32300.0 2022-01-01 04:14:10+00:00   \n99   551.090704   34025.0      34925.0 2022-01-01 13:51:20+00:00   \n\n                   timestamp  vertical_rate  groundspeed       track  \\\n0  2022-01-01 13:50:08+00:00         1536.0        433.0   48.179830   \n1  2022-01-01 15:05:16+00:00            0.0        449.0  188.833415   \n2  2022-01-01 01:27:08+00:00            0.0        448.0  304.541459   \n3  2022-01-01 04:45:03+00:00            0.0        542.0   48.138402   \n4  2022-01-01 13:55:49+00:00         -768.0        141.0  252.208797   \n..                       ...            ...          ...         ...   \n95 2022-01-01 10:59:26+00:00        -2240.0        260.0   69.960352   \n96 2022-01-01 00:19:49+00:00         2176.0        453.0   49.837955   \n97 2022-01-01 18:31:54+00:00            0.0        449.0   48.969998   \n98 2022-01-01 02:11:58+00:00            0.0        468.0  226.903389   \n99 2022-01-01 12:59:48+00:00           64.0        418.0  319.071814   \n\n     latitude  longitude  ...  bearing_cos  track_sin  track_cos  weekday_0  \\\n0   44.170898   2.474096  ...    -0.793129   0.745241   0.666795          0   \n1   61.895949  14.066569  ...     0.977051  -0.153562  -0.988139          0   \n2   32.880112  32.797705  ...    -0.568646  -0.823716   0.567002          0   \n3   27.006024 -93.853666  ...     0.450048   0.744759   0.667334          0   \n4   50.062835   8.681649  ...     0.320260  -0.952176  -0.305549          0   \n..        ...        ...  ...          ...        ...        ...        ...   \n95  50.028992   8.915702  ...    -0.035957   0.939456   0.342670          0   \n96  41.078579 -73.615577  ...     0.417814   0.764223   0.644952          0   \n97  46.824051   7.518400  ...    -0.975956   0.754366   0.656454          0   \n98  61.243845  26.483256  ...     0.820228  -0.730203  -0.683231          0   \n99  47.049043  14.547659  ...    -0.570212  -0.655113   0.755531          0   \n\n    weekday_1  weekday_2  weekday_3  weekday_4  weekday_5  weekday_6  \n0           0          0          0          0          1          0  \n1           0          0          0          0          1          0  \n2           0          0          0          0          1          0  \n3           0          0          0          0          1          0  \n4           0          0          0          0          1          0  \n..        ...        ...        ...        ...        ...        ...  \n95          0          0          0          0          1          0  \n96          0          0          0          0          1          0  \n97          0          0          0          0          1          0  \n98          0          0          0          0          1          0  \n99          0          0          0          0          1          0  \n\n[100 rows x 26 columns]",
      "text/html": "<div>\n<style scoped>\n    .dataframe tbody tr th:only-of-type {\n        vertical-align: middle;\n    }\n\n    .dataframe tbody tr th {\n        vertical-align: top;\n    }\n\n    .dataframe thead th {\n        text-align: right;\n    }\n</style>\n<table border=\"1\" class=\"dataframe\">\n  <thead>\n    <tr style=\"text-align: right;\">\n      <th></th>\n      <th>distance</th>\n      <th>altitude</th>\n      <th>geoaltitude</th>\n      <th>arrival_time</th>\n      <th>timestamp</th>\n      <th>vertical_rate</th>\n      <th>groundspeed</th>\n      <th>track</th>\n      <th>latitude</th>\n      <th>longitude</th>\n      <th>...</th>\n      <th>bearing_cos</th>\n      <th>track_sin</th>\n      <th>track_cos</th>\n      <th>weekday_0</th>\n      <th>weekday_1</th>\n      <th>weekday_2</th>\n      <th>weekday_3</th>\n      <th>weekday_4</th>\n      <th>weekday_5</th>\n      <th>weekday_6</th>\n    </tr>\n  </thead>\n  <tbody>\n    <tr>\n      <th>0</th>\n      <td>797.719481</td>\n      <td>25950.0</td>\n      <td>27150.0</td>\n      <td>2022-01-01 15:10:07+00:00</td>\n      <td>2022-01-01 13:50:08+00:00</td>\n      <td>1536.0</td>\n      <td>433.0</td>\n      <td>48.179830</td>\n      <td>44.170898</td>\n      <td>2.474096</td>\n      <td>...</td>\n      <td>-0.793129</td>\n      <td>0.745241</td>\n      <td>0.666795</td>\n      <td>0</td>\n      <td>0</td>\n      <td>0</td>\n      <td>0</td>\n      <td>0</td>\n      <td>1</td>\n      <td>0</td>\n    </tr>\n    <tr>\n      <th>1</th>\n      <td>1360.263227</td>\n      <td>38025.0</td>\n      <td>37425.0</td>\n      <td>2022-01-01 16:56:31+00:00</td>\n      <td>2022-01-01 15:05:16+00:00</td>\n      <td>0.0</td>\n      <td>449.0</td>\n      <td>188.833415</td>\n      <td>61.895949</td>\n      <td>14.066569</td>\n      <td>...</td>\n      <td>0.977051</td>\n      <td>-0.153562</td>\n      <td>-0.988139</td>\n      <td>0</td>\n      <td>0</td>\n      <td>0</td>\n      <td>0</td>\n      <td>0</td>\n      <td>1</td>\n      <td>0</td>\n    </tr>\n    <tr>\n      <th>2</th>\n      <td>2752.981764</td>\n      <td>34025.0</td>\n      <td>34050.0</td>\n      <td>2022-01-01 05:24:53+00:00</td>\n      <td>2022-01-01 01:27:08+00:00</td>\n      <td>0.0</td>\n      <td>448.0</td>\n      <td>304.541459</td>\n      <td>32.880112</td>\n      <td>32.797705</td>\n      <td>...</td>\n      <td>-0.568646</td>\n      <td>-0.823716</td>\n      <td>0.567002</td>\n      <td>0</td>\n      <td>0</td>\n      <td>0</td>\n      <td>0</td>\n      <td>0</td>\n      <td>1</td>\n      <td>0</td>\n    </tr>\n    <tr>\n      <th>3</th>\n      <td>8556.482725</td>\n      <td>32975.0</td>\n      <td>34700.0</td>\n      <td>2022-01-01 13:44:59+00:00</td>\n      <td>2022-01-01 04:45:03+00:00</td>\n      <td>0.0</td>\n      <td>542.0</td>\n      <td>48.138402</td>\n      <td>27.006024</td>\n      <td>-93.853666</td>\n      <td>...</td>\n      <td>0.450048</td>\n      <td>0.744759</td>\n      <td>0.667334</td>\n      <td>0</td>\n      <td>0</td>\n      <td>0</td>\n      <td>0</td>\n      <td>0</td>\n      <td>1</td>\n      <td>0</td>\n    </tr>\n    <tr>\n      <th>4</th>\n      <td>8.769132</td>\n      <td>1400.0</td>\n      <td>1875.0</td>\n      <td>2022-01-01 13:57:54+00:00</td>\n      <td>2022-01-01 13:55:49+00:00</td>\n      <td>-768.0</td>\n      <td>141.0</td>\n      <td>252.208797</td>\n      <td>50.062835</td>\n      <td>8.681649</td>\n      <td>...</td>\n      <td>0.320260</td>\n      <td>-0.952176</td>\n      <td>-0.305549</td>\n      <td>0</td>\n      <td>0</td>\n      <td>0</td>\n      <td>0</td>\n      <td>0</td>\n      <td>1</td>\n      <td>0</td>\n    </tr>\n    <tr>\n      <th>...</th>\n      <td>...</td>\n      <td>...</td>\n      <td>...</td>\n      <td>...</td>\n      <td>...</td>\n      <td>...</td>\n      <td>...</td>\n      <td>...</td>\n      <td>...</td>\n      <td>...</td>\n      <td>...</td>\n      <td>...</td>\n      <td>...</td>\n      <td>...</td>\n      <td>...</td>\n      <td>...</td>\n      <td>...</td>\n      <td>...</td>\n      <td>...</td>\n      <td>...</td>\n      <td>...</td>\n    </tr>\n    <tr>\n      <th>95</th>\n      <td>25.037531</td>\n      <td>6525.0</td>\n      <td>7050.0</td>\n      <td>2022-01-01 11:08:41+00:00</td>\n      <td>2022-01-01 10:59:26+00:00</td>\n      <td>-2240.0</td>\n      <td>260.0</td>\n      <td>69.960352</td>\n      <td>50.028992</td>\n      <td>8.915702</td>\n      <td>...</td>\n      <td>-0.035957</td>\n      <td>0.939456</td>\n      <td>0.342670</td>\n      <td>0</td>\n      <td>0</td>\n      <td>0</td>\n      <td>0</td>\n      <td>0</td>\n      <td>1</td>\n      <td>0</td>\n    </tr>\n    <tr>\n      <th>96</th>\n      <td>6143.441303</td>\n      <td>18000.0</td>\n      <td>17900.0</td>\n      <td>2022-01-01 06:59:27+00:00</td>\n      <td>2022-01-01 00:19:49+00:00</td>\n      <td>2176.0</td>\n      <td>453.0</td>\n      <td>49.837955</td>\n      <td>41.078579</td>\n      <td>-73.615577</td>\n      <td>...</td>\n      <td>0.417814</td>\n      <td>0.764223</td>\n      <td>0.644952</td>\n      <td>0</td>\n      <td>0</td>\n      <td>0</td>\n      <td>0</td>\n      <td>0</td>\n      <td>1</td>\n      <td>0</td>\n    </tr>\n    <tr>\n      <th>97</th>\n      <td>365.343990</td>\n      <td>38000.0</td>\n      <td>39075.0</td>\n      <td>2022-01-01 19:11:51+00:00</td>\n      <td>2022-01-01 18:31:54+00:00</td>\n      <td>0.0</td>\n      <td>449.0</td>\n      <td>48.969998</td>\n      <td>46.824051</td>\n      <td>7.518400</td>\n      <td>...</td>\n      <td>-0.975956</td>\n      <td>0.754366</td>\n      <td>0.656454</td>\n      <td>0</td>\n      <td>0</td>\n      <td>0</td>\n      <td>0</td>\n      <td>0</td>\n      <td>1</td>\n      <td>0</td>\n    </tr>\n    <tr>\n      <th>98</th>\n      <td>1666.351930</td>\n      <td>34000.0</td>\n      <td>32300.0</td>\n      <td>2022-01-01 04:14:10+00:00</td>\n      <td>2022-01-01 02:11:58+00:00</td>\n      <td>0.0</td>\n      <td>468.0</td>\n      <td>226.903389</td>\n      <td>61.243845</td>\n      <td>26.483256</td>\n      <td>...</td>\n      <td>0.820228</td>\n      <td>-0.730203</td>\n      <td>-0.683231</td>\n      <td>0</td>\n      <td>0</td>\n      <td>0</td>\n      <td>0</td>\n      <td>0</td>\n      <td>1</td>\n      <td>0</td>\n    </tr>\n    <tr>\n      <th>99</th>\n      <td>551.090704</td>\n      <td>34025.0</td>\n      <td>34925.0</td>\n      <td>2022-01-01 13:51:20+00:00</td>\n      <td>2022-01-01 12:59:48+00:00</td>\n      <td>64.0</td>\n      <td>418.0</td>\n      <td>319.071814</td>\n      <td>47.049043</td>\n      <td>14.547659</td>\n      <td>...</td>\n      <td>-0.570212</td>\n      <td>-0.655113</td>\n      <td>0.755531</td>\n      <td>0</td>\n      <td>0</td>\n      <td>0</td>\n      <td>0</td>\n      <td>0</td>\n      <td>1</td>\n      <td>0</td>\n    </tr>\n  </tbody>\n</table>\n<p>100 rows × 26 columns</p>\n</div>"
     },
     "execution_count": 107,
     "metadata": {},
     "output_type": "execute_result"
    }
   ],
   "source": [
    "df_train = load_data_batch(data_files_train, sample_fraction=0.001)\n",
    "df_train = generate_aux_columns(df_train)\n",
    "df_train.head(100)"
   ],
   "metadata": {
    "collapsed": false
   }
  },
  {
   "cell_type": "code",
   "execution_count": 176,
   "outputs": [],
   "source": [
    "class LinearModel:\n",
    "    def __init__(self, cols, pol_degree = 1, scaler = None, pol_only = True):\n",
    "        self.feature_columns = cols\n",
    "        self.pol_degree = pol_degree\n",
    "        self.scaler = scaler\n",
    "        self.model = LinearRegression()\n",
    "        self.pol_only = pol_only\n",
    "\n",
    "    def preprocess(self, features, features_to_scale):\n",
    "        if self.scaler == None:\n",
    "            self.scaler = StandardScaler()\n",
    "            self.scaler.fit(features[features_to_scale])\n",
    "        X = features.copy()\n",
    "        X[features_to_scale] = self.scaler.transform(X[features_to_scale])\n",
    "\n",
    "        if self.pol_degree > 1:\n",
    "            poly = PolynomialFeatures(self.pol_degree, interaction_only=True, include_bias=False)\n",
    "\n",
    "            if self.pol_only:\n",
    "                X = np.hstack([X[self.feature_columns]**(i+1) for i in range(self.pol_degree)])\n",
    "\n",
    "            else:\n",
    "                X = poly.fit_transform(X[self.feature_columns])\n",
    "\n",
    "        else:\n",
    "            X = X[self.feature_columns]\n",
    "\n",
    "        return X\n",
    "\n",
    "    def fit(self, X_train, y_train):\n",
    "        self.model.fit(X_train, y_train)\n",
    "\n",
    "    def evaluate(self, X_test, y_test):\n",
    "\n",
    "        y_pred = self.model.predict(X_test)\n",
    "        mae = mean_absolute_error(y_test, y_pred)\n",
    "        r2 = r2_score(y_test, y_pred)\n",
    "\n",
    "        return mae, r2"
   ],
   "metadata": {
    "collapsed": false
   }
  },
  {
   "cell_type": "code",
   "execution_count": 203,
   "outputs": [],
   "source": [
    "features = ['distance', 'altitude', 'vertical_rate', 'groundspeed', 'holiday', 'sec_sin', 'sec_cos', 'day_sin', 'day_cos', 'bearing_sin',\n",
    "       'bearing_cos', 'track_sin', 'track_cos', 'weekday_1',\n",
    "       'weekday_2', 'weekday_3', 'weekday_4', 'weekday_5', 'weekday_6']\n",
    "model = LinearModel(cols = features, pol_degree=5)"
   ],
   "metadata": {
    "collapsed": false
   }
  },
  {
   "cell_type": "code",
   "execution_count": 204,
   "outputs": [],
   "source": [
    "cols_to_scale = [\"distance\", \"altitude\", \"vertical_rate\",\"groundspeed\"]\n",
    "X = model.preprocess(df_train, cols_to_scale)\n",
    "y =  seconds_till_arrival(df_train)"
   ],
   "metadata": {
    "collapsed": false
   }
  },
  {
   "cell_type": "code",
   "execution_count": 205,
   "outputs": [],
   "source": [
    "model.fit(X,y)"
   ],
   "metadata": {
    "collapsed": false
   }
  },
  {
   "cell_type": "code",
   "execution_count": 206,
   "outputs": [
    {
     "data": {
      "text/plain": "array([ 6.04622426e+03,  1.02129727e+02,  8.33519795e+01, -2.98741285e+02,\n       -2.20938978e+01, -1.74859656e+01, -1.88564530e+01,  4.31442695e+01,\n        4.09303512e+01,  4.65723783e+01, -5.12380737e+02, -1.23764879e+02,\n       -2.74271510e+02, -7.25939816e+00,  1.52360806e+01,  1.13810109e+01,\n        3.56096944e+00,  1.03287553e+01,  1.88299472e+01, -1.77139596e+02,\n       -1.15249458e+02,  4.77098494e-01, -1.75982819e+02, -2.20938978e+01,\n       -3.21546185e+00,  3.21546185e+00,  9.78043698e+00, -9.78043698e+00,\n       -7.29707929e+01,  7.29707929e+01,  3.88413577e+01, -3.88413577e+01,\n       -7.25939811e+00,  1.52360805e+01,  1.13810109e+01,  3.56096948e+00,\n        1.03287553e+01,  1.88299472e+01, -1.28400807e+02, -1.94908765e+01,\n       -1.78418883e-01,  2.42846442e+01, -2.20938978e+01,  6.62555560e+01,\n        9.06572665e+00, -1.69482097e+01,  5.26022431e+01,  4.86194136e+02,\n        6.97309866e+02,  7.76836961e+02,  3.36347504e+02, -7.25939811e+00,\n        1.52360805e+01,  1.13810109e+01,  3.56096948e+00,  1.03287553e+01,\n        1.88299472e+01,  3.33402563e+01,  1.09556063e+01, -7.68593289e-04,\n        8.43394628e+00, -2.20938978e+01, -1.40332977e+01, -7.60237404e+00,\n        1.19938313e+01, -7.56704269e+00, -8.55585189e+01,  6.03830670e+01,\n        1.49093497e+02,  7.14107813e+01, -7.25939811e+00,  1.52360805e+01,\n        1.13810109e+01,  3.56096948e+00,  1.03287553e+01,  1.88299472e+01,\n       -1.85660570e+00, -8.84139543e-01,  7.34682120e-05, -1.92017773e+00,\n       -2.20938978e+01, -2.66920737e+01,  2.94605554e+01, -3.32845020e+01,\n        3.79192615e+01, -3.83378580e+02, -2.56509896e+02, -5.69607125e+02,\n       -1.09508850e+02, -7.25939811e+00,  1.52360805e+01,  1.13810109e+01,\n        3.56096948e+00,  1.03287553e+01,  1.88299472e+01])"
     },
     "execution_count": 206,
     "metadata": {},
     "output_type": "execute_result"
    }
   ],
   "source": [
    "model.model.coef_"
   ],
   "metadata": {
    "collapsed": false
   }
  },
  {
   "cell_type": "code",
   "execution_count": 159,
   "outputs": [
    {
     "data": {
      "text/plain": "..\\data\\Frankfurt_LH_2301.h5:   0%|          | 0/30 [00:00<?, ?it/s]",
      "application/vnd.jupyter.widget-view+json": {
       "version_major": 2,
       "version_minor": 0,
       "model_id": "054e3009c7184e84ac0620e523312a05"
      }
     },
     "metadata": {},
     "output_type": "display_data"
    },
    {
     "data": {
      "text/plain": "..\\data\\Frankfurt_LH_2302.h5:   0%|          | 0/17 [00:00<?, ?it/s]",
      "application/vnd.jupyter.widget-view+json": {
       "version_major": 2,
       "version_minor": 0,
       "model_id": "0eaad732591d48ab81d908ab2349145d"
      }
     },
     "metadata": {},
     "output_type": "display_data"
    },
    {
     "data": {
      "text/plain": "..\\data\\Frankfurt_LH_2303.h5:   0%|          | 0/31 [00:00<?, ?it/s]",
      "application/vnd.jupyter.widget-view+json": {
       "version_major": 2,
       "version_minor": 0,
       "model_id": "9d1d6515e4d6447b879836544031c7aa"
      }
     },
     "metadata": {},
     "output_type": "display_data"
    },
    {
     "data": {
      "text/plain": "      distance  altitude  geoaltitude              arrival_time  \\\n0   501.237127   27800.0      27800.0 2023-01-01 15:01:11+00:00   \n1   101.039174   14050.0      14475.0 2023-01-01 18:12:08+00:00   \n2     6.295997    1050.0       1375.0 2023-01-01 14:36:32+00:00   \n3    40.403698    5050.0       5425.0 2023-01-01 07:08:10+00:00   \n4   592.785626   34000.0      35000.0 2023-01-01 18:46:25+00:00   \n..         ...       ...          ...                       ...   \n95  167.597679   22700.0      23450.0 2023-01-01 04:15:49+00:00   \n96  888.085238   36050.0      35550.0 2023-01-01 15:28:03+00:00   \n97  645.606000   36025.0      36300.0 2023-01-01 14:49:37+00:00   \n98  849.069544   36025.0      37000.0 2023-01-01 19:21:42+00:00   \n99  504.300387   35950.0      36350.0 2023-01-01 07:40:13+00:00   \n\n                   timestamp  vertical_rate  groundspeed       track  \\\n0  2023-01-01 14:15:26+00:00          896.0        529.0   96.735164   \n1  2023-01-01 17:54:37+00:00        -2432.0        377.0  186.860895   \n2  2023-01-01 14:35:03+00:00         -960.0        134.0  249.943905   \n3  2023-01-01 06:59:29+00:00        -1024.0        231.0  232.931332   \n4  2023-01-01 17:47:55+00:00            0.0        404.0  318.413598   \n..                       ...            ...          ...         ...   \n95 2023-01-01 03:50:09+00:00         -896.0        364.0  322.373766   \n96 2023-01-01 13:57:11+00:00         -768.0        302.0  226.743829   \n97 2023-01-01 13:56:59+00:00          -64.0        543.0   63.199165   \n98 2023-01-01 18:10:45+00:00            0.0        483.0   26.406044   \n99 2023-01-01 06:52:40+00:00           64.0        528.0   45.000000   \n\n     latitude  longitude  ...  bearing_cos  track_sin  track_cos  weekday_0  \\\n0   51.200060   1.693115  ...     0.301837   0.993099  -0.117280          0   \n1   50.765030   9.421073  ...     0.803441  -0.119459  -0.992839          0   \n2   50.059344   8.646686  ...     0.383913  -0.939357  -0.342940          0   \n3   50.174835   9.090175  ...     0.380639  -0.797914  -0.602772          0   \n4   46.087509  13.935554  ...    -0.715883  -0.663749   0.747956          0   \n..        ...        ...  ...          ...        ...        ...        ...   \n95  49.050696  10.322956  ...    -0.645440  -0.610508   0.792010          0   \n96  55.949112  17.530934  ...     0.778502  -0.728297  -0.685261          0   \n97  47.844528   0.368112  ...    -0.326123   0.892579   0.450891          0   \n98  42.721594   5.361520  ...    -0.951130   0.444730   0.895665          0   \n99  48.642340   1.934678  ...    -0.264936   0.707107   0.707107          0   \n\n    weekday_1  weekday_2  weekday_3  weekday_4  weekday_5  weekday_6  \n0           0          0          0          0          0          1  \n1           0          0          0          0          0          1  \n2           0          0          0          0          0          1  \n3           0          0          0          0          0          1  \n4           0          0          0          0          0          1  \n..        ...        ...        ...        ...        ...        ...  \n95          0          0          0          0          0          1  \n96          0          0          0          0          0          1  \n97          0          0          0          0          0          1  \n98          0          0          0          0          0          1  \n99          0          0          0          0          0          1  \n\n[100 rows x 26 columns]",
      "text/html": "<div>\n<style scoped>\n    .dataframe tbody tr th:only-of-type {\n        vertical-align: middle;\n    }\n\n    .dataframe tbody tr th {\n        vertical-align: top;\n    }\n\n    .dataframe thead th {\n        text-align: right;\n    }\n</style>\n<table border=\"1\" class=\"dataframe\">\n  <thead>\n    <tr style=\"text-align: right;\">\n      <th></th>\n      <th>distance</th>\n      <th>altitude</th>\n      <th>geoaltitude</th>\n      <th>arrival_time</th>\n      <th>timestamp</th>\n      <th>vertical_rate</th>\n      <th>groundspeed</th>\n      <th>track</th>\n      <th>latitude</th>\n      <th>longitude</th>\n      <th>...</th>\n      <th>bearing_cos</th>\n      <th>track_sin</th>\n      <th>track_cos</th>\n      <th>weekday_0</th>\n      <th>weekday_1</th>\n      <th>weekday_2</th>\n      <th>weekday_3</th>\n      <th>weekday_4</th>\n      <th>weekday_5</th>\n      <th>weekday_6</th>\n    </tr>\n  </thead>\n  <tbody>\n    <tr>\n      <th>0</th>\n      <td>501.237127</td>\n      <td>27800.0</td>\n      <td>27800.0</td>\n      <td>2023-01-01 15:01:11+00:00</td>\n      <td>2023-01-01 14:15:26+00:00</td>\n      <td>896.0</td>\n      <td>529.0</td>\n      <td>96.735164</td>\n      <td>51.200060</td>\n      <td>1.693115</td>\n      <td>...</td>\n      <td>0.301837</td>\n      <td>0.993099</td>\n      <td>-0.117280</td>\n      <td>0</td>\n      <td>0</td>\n      <td>0</td>\n      <td>0</td>\n      <td>0</td>\n      <td>0</td>\n      <td>1</td>\n    </tr>\n    <tr>\n      <th>1</th>\n      <td>101.039174</td>\n      <td>14050.0</td>\n      <td>14475.0</td>\n      <td>2023-01-01 18:12:08+00:00</td>\n      <td>2023-01-01 17:54:37+00:00</td>\n      <td>-2432.0</td>\n      <td>377.0</td>\n      <td>186.860895</td>\n      <td>50.765030</td>\n      <td>9.421073</td>\n      <td>...</td>\n      <td>0.803441</td>\n      <td>-0.119459</td>\n      <td>-0.992839</td>\n      <td>0</td>\n      <td>0</td>\n      <td>0</td>\n      <td>0</td>\n      <td>0</td>\n      <td>0</td>\n      <td>1</td>\n    </tr>\n    <tr>\n      <th>2</th>\n      <td>6.295997</td>\n      <td>1050.0</td>\n      <td>1375.0</td>\n      <td>2023-01-01 14:36:32+00:00</td>\n      <td>2023-01-01 14:35:03+00:00</td>\n      <td>-960.0</td>\n      <td>134.0</td>\n      <td>249.943905</td>\n      <td>50.059344</td>\n      <td>8.646686</td>\n      <td>...</td>\n      <td>0.383913</td>\n      <td>-0.939357</td>\n      <td>-0.342940</td>\n      <td>0</td>\n      <td>0</td>\n      <td>0</td>\n      <td>0</td>\n      <td>0</td>\n      <td>0</td>\n      <td>1</td>\n    </tr>\n    <tr>\n      <th>3</th>\n      <td>40.403698</td>\n      <td>5050.0</td>\n      <td>5425.0</td>\n      <td>2023-01-01 07:08:10+00:00</td>\n      <td>2023-01-01 06:59:29+00:00</td>\n      <td>-1024.0</td>\n      <td>231.0</td>\n      <td>232.931332</td>\n      <td>50.174835</td>\n      <td>9.090175</td>\n      <td>...</td>\n      <td>0.380639</td>\n      <td>-0.797914</td>\n      <td>-0.602772</td>\n      <td>0</td>\n      <td>0</td>\n      <td>0</td>\n      <td>0</td>\n      <td>0</td>\n      <td>0</td>\n      <td>1</td>\n    </tr>\n    <tr>\n      <th>4</th>\n      <td>592.785626</td>\n      <td>34000.0</td>\n      <td>35000.0</td>\n      <td>2023-01-01 18:46:25+00:00</td>\n      <td>2023-01-01 17:47:55+00:00</td>\n      <td>0.0</td>\n      <td>404.0</td>\n      <td>318.413598</td>\n      <td>46.087509</td>\n      <td>13.935554</td>\n      <td>...</td>\n      <td>-0.715883</td>\n      <td>-0.663749</td>\n      <td>0.747956</td>\n      <td>0</td>\n      <td>0</td>\n      <td>0</td>\n      <td>0</td>\n      <td>0</td>\n      <td>0</td>\n      <td>1</td>\n    </tr>\n    <tr>\n      <th>...</th>\n      <td>...</td>\n      <td>...</td>\n      <td>...</td>\n      <td>...</td>\n      <td>...</td>\n      <td>...</td>\n      <td>...</td>\n      <td>...</td>\n      <td>...</td>\n      <td>...</td>\n      <td>...</td>\n      <td>...</td>\n      <td>...</td>\n      <td>...</td>\n      <td>...</td>\n      <td>...</td>\n      <td>...</td>\n      <td>...</td>\n      <td>...</td>\n      <td>...</td>\n      <td>...</td>\n    </tr>\n    <tr>\n      <th>95</th>\n      <td>167.597679</td>\n      <td>22700.0</td>\n      <td>23450.0</td>\n      <td>2023-01-01 04:15:49+00:00</td>\n      <td>2023-01-01 03:50:09+00:00</td>\n      <td>-896.0</td>\n      <td>364.0</td>\n      <td>322.373766</td>\n      <td>49.050696</td>\n      <td>10.322956</td>\n      <td>...</td>\n      <td>-0.645440</td>\n      <td>-0.610508</td>\n      <td>0.792010</td>\n      <td>0</td>\n      <td>0</td>\n      <td>0</td>\n      <td>0</td>\n      <td>0</td>\n      <td>0</td>\n      <td>1</td>\n    </tr>\n    <tr>\n      <th>96</th>\n      <td>888.085238</td>\n      <td>36050.0</td>\n      <td>35550.0</td>\n      <td>2023-01-01 15:28:03+00:00</td>\n      <td>2023-01-01 13:57:11+00:00</td>\n      <td>-768.0</td>\n      <td>302.0</td>\n      <td>226.743829</td>\n      <td>55.949112</td>\n      <td>17.530934</td>\n      <td>...</td>\n      <td>0.778502</td>\n      <td>-0.728297</td>\n      <td>-0.685261</td>\n      <td>0</td>\n      <td>0</td>\n      <td>0</td>\n      <td>0</td>\n      <td>0</td>\n      <td>0</td>\n      <td>1</td>\n    </tr>\n    <tr>\n      <th>97</th>\n      <td>645.606000</td>\n      <td>36025.0</td>\n      <td>36300.0</td>\n      <td>2023-01-01 14:49:37+00:00</td>\n      <td>2023-01-01 13:56:59+00:00</td>\n      <td>-64.0</td>\n      <td>543.0</td>\n      <td>63.199165</td>\n      <td>47.844528</td>\n      <td>0.368112</td>\n      <td>...</td>\n      <td>-0.326123</td>\n      <td>0.892579</td>\n      <td>0.450891</td>\n      <td>0</td>\n      <td>0</td>\n      <td>0</td>\n      <td>0</td>\n      <td>0</td>\n      <td>0</td>\n      <td>1</td>\n    </tr>\n    <tr>\n      <th>98</th>\n      <td>849.069544</td>\n      <td>36025.0</td>\n      <td>37000.0</td>\n      <td>2023-01-01 19:21:42+00:00</td>\n      <td>2023-01-01 18:10:45+00:00</td>\n      <td>0.0</td>\n      <td>483.0</td>\n      <td>26.406044</td>\n      <td>42.721594</td>\n      <td>5.361520</td>\n      <td>...</td>\n      <td>-0.951130</td>\n      <td>0.444730</td>\n      <td>0.895665</td>\n      <td>0</td>\n      <td>0</td>\n      <td>0</td>\n      <td>0</td>\n      <td>0</td>\n      <td>0</td>\n      <td>1</td>\n    </tr>\n    <tr>\n      <th>99</th>\n      <td>504.300387</td>\n      <td>35950.0</td>\n      <td>36350.0</td>\n      <td>2023-01-01 07:40:13+00:00</td>\n      <td>2023-01-01 06:52:40+00:00</td>\n      <td>64.0</td>\n      <td>528.0</td>\n      <td>45.000000</td>\n      <td>48.642340</td>\n      <td>1.934678</td>\n      <td>...</td>\n      <td>-0.264936</td>\n      <td>0.707107</td>\n      <td>0.707107</td>\n      <td>0</td>\n      <td>0</td>\n      <td>0</td>\n      <td>0</td>\n      <td>0</td>\n      <td>0</td>\n      <td>1</td>\n    </tr>\n  </tbody>\n</table>\n<p>100 rows × 26 columns</p>\n</div>"
     },
     "execution_count": 159,
     "metadata": {},
     "output_type": "execute_result"
    }
   ],
   "source": [
    "df_test = load_data_batch(data_files_test, sample_fraction=0.001)\n",
    "df_test = generate_aux_columns(df_test)\n",
    "df_test.head(100)"
   ],
   "metadata": {
    "collapsed": false
   }
  },
  {
   "cell_type": "code",
   "execution_count": 207,
   "outputs": [],
   "source": [
    "cols_to_scale = [\"distance\", \"altitude\", \"vertical_rate\",\"groundspeed\"]\n",
    "#y_test =  seconds_till_arrival(df_test)\n",
    "#df_test = df_test.drop(columns = [\"arrival_time\"])\n",
    "X_test = model.preprocess(df_test, cols_to_scale)\n"
   ],
   "metadata": {
    "collapsed": false
   }
  },
  {
   "cell_type": "code",
   "execution_count": 209,
   "outputs": [
    {
     "data": {
      "text/plain": "(338.4511250700758, 0.9864284560450514)"
     },
     "execution_count": 209,
     "metadata": {},
     "output_type": "execute_result"
    }
   ],
   "source": [
    "model.evaluate(X_test,y_test)"
   ],
   "metadata": {
    "collapsed": false
   }
  },
  {
   "cell_type": "code",
   "execution_count": 211,
   "outputs": [
    {
     "data": {
      "text/plain": "(254.55744330048609, 0.9930823268576983)"
     },
     "execution_count": 211,
     "metadata": {},
     "output_type": "execute_result"
    }
   ],
   "source": [
    "model.evaluate(X,y)"
   ],
   "metadata": {
    "collapsed": false
   }
  },
  {
   "cell_type": "code",
   "execution_count": 197,
   "outputs": [
    {
     "data": {
      "text/plain": "0.9937562604094307"
     },
     "execution_count": 197,
     "metadata": {},
     "output_type": "execute_result"
    }
   ],
   "source": [
    "df_train[\"altitude\"].corr(df_train.geoaltitude)"
   ],
   "metadata": {
    "collapsed": false
   }
  },
  {
   "cell_type": "code",
   "execution_count": 218,
   "outputs": [
    {
     "name": "stdout",
     "output_type": "stream",
     "text": [
      "now = 2023-05-26 19:22:31.257260\n",
      "date and time = 230526_19_22_31\n"
     ]
    }
   ],
   "source": [
    "from datetime import datetime\n",
    "\n",
    "# datetime object containing current date and time\n",
    "now = datetime.now()\n",
    "\n",
    "print(\"now =\", now)\n",
    "\n",
    "# dd/mm/YY H:M:S\n",
    "dt_string = now.strftime(\"%y%m%d_%H_%M_%S\")\n",
    "print(\"date and time =\", dt_string)"
   ],
   "metadata": {
    "collapsed": false
   }
  },
  {
   "cell_type": "code",
   "execution_count": 215,
   "outputs": [
    {
     "data": {
      "text/plain": "str"
     },
     "execution_count": 215,
     "metadata": {},
     "output_type": "execute_result"
    }
   ],
   "source": [
    "type(dt_string)"
   ],
   "metadata": {
    "collapsed": false
   }
  },
  {
   "cell_type": "code",
   "execution_count": null,
   "outputs": [],
   "source": [],
   "metadata": {
    "collapsed": false
   }
  }
 ],
 "metadata": {
  "kernelspec": {
   "display_name": "Python 3",
   "language": "python",
   "name": "python3"
  },
  "language_info": {
   "codemirror_mode": {
    "name": "ipython",
    "version": 2
   },
   "file_extension": ".py",
   "mimetype": "text/x-python",
   "name": "python",
   "nbconvert_exporter": "python",
   "pygments_lexer": "ipython2",
   "version": "2.7.6"
  }
 },
 "nbformat": 4,
 "nbformat_minor": 0
}
