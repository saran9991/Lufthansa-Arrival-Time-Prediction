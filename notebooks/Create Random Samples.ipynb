{
 "cells": [
  {
   "cell_type": "markdown",
   "id": "e953db20-282b-4745-aea6-a7f0cfacaae0",
   "metadata": {},
   "source": [
    "In this Notebook we want to create train, test and validation datasets of flights for our landing time prediction model. We are going "
   ]
  },
  {
   "cell_type": "code",
   "execution_count": 23,
   "id": "ec36d921-2fd6-448b-8899-1a0c410ab195",
   "metadata": {},
   "outputs": [],
   "source": [
    "from traffic.core import Traffic\n",
    "from preprocessing import get_complete_flights, preprocess_traffic\n",
    "import h5py\n",
    "import numpy as np\n",
    "import pandas as pd\n",
    "import datetime\n",
    "import tensorflow as tf\n",
    "from tensorflow import keras\n",
    "from tensorflow.keras.optimizers import Adam\n",
    "from tensorflow.keras.models import load_model\n",
    "from sklearn.preprocessing import StandardScaler"
   ]
  },
  {
   "cell_type": "code",
   "execution_count": 24,
   "id": "3f8c5e98-bdcc-470f-bd6e-88dcc2dfb197",
   "metadata": {},
   "outputs": [
    {
     "ename": "SyntaxError",
     "evalue": "invalid syntax (3272259913.py, line 12)",
     "output_type": "error",
     "traceback": [
      "\u001b[1;36m  Cell \u001b[1;32mIn[24], line 12\u001b[1;36m\u001b[0m\n\u001b[1;33m    input = # so you init input here somehow\u001b[0m\n\u001b[1;37m            ^\u001b[0m\n\u001b[1;31mSyntaxError\u001b[0m\u001b[1;31m:\u001b[0m invalid syntax\n"
     ]
    }
   ],
   "source": [
    "def generate_batches(files, batch_size):\n",
    "    counter = 0\n",
    "\n",
    "    while True:\n",
    "        fname = files[counter]\n",
    "\n",
    "        counter = (counter + 1) % len(files)\n",
    "        frame = pd.read_csv(INPUT_DATA_DIR + fname)\n",
    "\n",
    "        # here is your preprocessing\n",
    "\n",
    "        input = # so you init input here somehow\n",
    "        output = # so you init output here\n",
    "\n",
    "        for local_index in range(0, input.shape[0], batch_size):\n",
    "            input_local = input[local_index:(local_index + batch_size)]\n",
    "            output_local = output[local_index:(local_index + batch_size)]\n",
    "\n",
    "            yield input_local, output_local"
   ]
  },
  {
   "cell_type": "code",
   "execution_count": 30,
   "id": "e46beb3e-a0c0-4ca9-a216-42a27afb6dff",
   "metadata": {},
   "outputs": [],
   "source": [
    "X = None\n",
    "y = None\n",
    "def data_generator_flights():\n",
    "    months = [\"01\",\"05\"]\n",
    "    while True:\n",
    "        first = True\n",
    "        for month in months:\n",
    "            file = \"Frankfurt_LH_22\" + month + \".h5\"\n",
    "            for day in range(1, 3):\n",
    "\n",
    "                if month in [\"06\", \"09\", \"11\"] and day ==31:\n",
    "                    continue\n",
    "                str_day = str(day) if day > 9 else \"0\"+str(day)\n",
    "                key = \"LH_22\"+month+str_day\n",
    "                with h5py.File(file, 'r') as f:\n",
    "                    print(key)\n",
    "                    if key in list(f.keys()):\n",
    "                        flights = Traffic.from_file(file, key = key, parse_dates=[\"day\",\"firstseen\", \"hour\", \"last_position\",\"lastseen\",\"timestamp\"])\n",
    "                    else:\n",
    "                        continue\n",
    "                    try:\n",
    "                        df_flights = preprocess_traffic(flights)\n",
    "                    except:\n",
    "                        continue\n",
    "                    df = df_flights[[\"distance\", \"altitude\", \"geoaltitude\", \"arrival_time\", \"timestamp\", \"vertical_rate\", \"groundspeed\"]].dropna()\n",
    "                    df_sample = df.sample(frac=0.05)\n",
    "                    if not first:\n",
    "                        df_train = pd.concat([df_sample, df_train])\n",
    "                    else:\n",
    "                        df_train = df_sample\n",
    "                        first = False\n",
    "\n",
    "        X = np.array(df_train[[\"distance\", \"altitude\", \"geoaltitude\", \"vertical_rate\", \"groundspeed\"]])  # we only take the feature\n",
    "        y = seconds_till_arrival(df_train)\n",
    "        scaler = StandardScaler()\n",
    "        scaler = scaler.fit(X)\n",
    "        X_scaled = scaler.transform(X)\n",
    "        \n",
    "        X = X_scaled\n"
   ]
  },
  {
   "cell_type": "code",
   "execution_count": 26,
   "id": "e3544d25-3eee-4840-b677-b478a37a4366",
   "metadata": {},
   "outputs": [],
   "source": [
    "def build_sequential(lr, input_dims, output_dims, layerSizes, activation, loss):\n",
    "    model = keras.Sequential()\n",
    "    model.add (keras.layers.Input(shape=input_dims))\n",
    "    for size in layerSizes:\n",
    "        model.add(keras.layers.Dense(size))\n",
    "        model.add(keras.layers.LeakyReLU(alpha=0.05))\n",
    "\n",
    "    model.add(keras.layers.Dense(output_dims,activation=activation))\n",
    "\n",
    "    model.compile(optimizer=Adam(learning_rate=lr), loss=loss)\n",
    "\n",
    "    return model"
   ]
  },
  {
   "cell_type": "code",
   "execution_count": 27,
   "id": "51cc1bf2-7711-4f36-8085-fe6555beb8be",
   "metadata": {},
   "outputs": [],
   "source": [
    "#create feature as seconds till landing\n",
    "def seconds_till_arrival(flights_data: pd.DataFrame):\n",
    "    time_till_arrival = flights_data[\"arrival_time\"]- flights_data[\"timestamp\"]\n",
    "    seconds = time_till_arrival.dt.total_seconds()\n",
    "    return seconds"
   ]
  },
  {
   "cell_type": "code",
   "execution_count": null,
   "id": "2101342c-1218-4475-9be5-88edfae21133",
   "metadata": {},
   "outputs": [],
   "source": []
  }
 ],
 "metadata": {
  "kernelspec": {
   "display_name": "Python 3 (ipykernel)",
   "language": "python",
   "name": "python3"
  },
  "language_info": {
   "codemirror_mode": {
    "name": "ipython",
    "version": 3
   },
   "file_extension": ".py",
   "mimetype": "text/x-python",
   "name": "python",
   "nbconvert_exporter": "python",
   "pygments_lexer": "ipython3",
   "version": "3.10.9"
  }
 },
 "nbformat": 4,
 "nbformat_minor": 5
}
