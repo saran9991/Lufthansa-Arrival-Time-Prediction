{
 "cells": [
  {
   "cell_type": "code",
   "execution_count": 1,
   "outputs": [
    {
     "name": "stderr",
     "output_type": "stream",
     "text": [
      "h5py is running against HDF5 1.14.3 when it was built against 1.14.2, this may cause problems\n"
     ]
    },
    {
     "name": "stdout",
     "output_type": "stream",
     "text": [
      "Number of GPUs available: 1\n"
     ]
    }
   ],
   "source": [
    "import joblib\n",
    "import os\n",
    "import numpy as np\n",
    "import pandas as pd\n",
    "from src.models.linear_model import LinearModel\n",
    "from src.models.fnn import VanillaNN\n",
    "from src.models.lstm import LSTMNN\n",
    "from src.models.xgb_model import XGBModel\n",
    "from src.processing_utils.preprocessing import seconds_till_arrival\n",
    "from src.processing_utils.preprocessing import generate_aux_columns"
   ],
   "metadata": {
    "collapsed": false,
    "ExecuteTime": {
     "end_time": "2024-03-09T21:55:36.581955100Z",
     "start_time": "2024-03-09T21:55:31.361514100Z"
    }
   }
  },
  {
   "cell_type": "markdown",
   "source": [
    "Load all models and data"
   ],
   "metadata": {
    "collapsed": false
   }
  },
  {
   "cell_type": "code",
   "execution_count": 2,
   "outputs": [],
   "source": [
    "PATH_STD_SCALER_FULL_DIST = os.path.join(\"..\", \"..\", \"trained_models\", \"scalers\", \"std_scaler_all_distances.bin\")\n",
    "PATH_MINMAX_SCALER_FULL_DIST = os.path.join(\"..\", \"..\", \"trained_models\", \"scalers\", \"minmax_scaler_all_distances_h3.bin\")\n",
    "PATH_STD_SCALER_100km = os.path.join(\"..\", \"..\", \"trained_models\", \"scalers\", \"std_scaler_100km.bin\")\n",
    "PATH_MINMAX_SCALER_100km = os.path.join(\"..\", \"..\", \"trained_models\", \"scalers\", \"minmax_scaler_100km_h3.bin\")\n",
    "PATH_MODEL =os.path.join(\"..\", \"..\", \"trained_models\", \"best_models\")\n",
    "PATH_LINEAR_MODEL_FULL_DIST = os.path.join(PATH_MODEL, \"polynomial_regression_all_dist_6.sav\")\n",
    "PATH_LINEAR_MODEL_100km = os.path.join(PATH_MODEL, \"polynomial_regression_100km_3.sav\")\n",
    "PATH_LINEAR_MODEL_FULL_DIST_REL = os.path.join(PATH_MODEL, \"polynomial_regression_all_dist_rel1.sav\")\n",
    "PATH_LINEAR_MODEL_100km_REL = os.path.join(PATH_MODEL, \"polynomial_regression_100km_rel1.sav\")\n",
    "PATH_MLP_FULL_DIST = os.path.join(PATH_MODEL, \"fnn_full_distance\")\n",
    "PATH_MLP_100km = os.path.join(PATH_MODEL, \"fnn_100km\")\n",
    "PATH_LSTM_FULL_DIST = os.path.join(PATH_MODEL, \"lstm_full_distance\")\n",
    "PATH_LSTM_100km = os.path.join(PATH_MODEL, \"lstm_100km\")\n",
    "PATH_XGB_FULL_DIST = os.path.join(PATH_MODEL, \"xgb_full_dist.model\")\n",
    "PATH_XGB_100km = os.path.join(PATH_MODEL, \"xgb_100km.model\")\n",
    "\n",
    "\n",
    "COLS_TO_SCALE_STD = [\"distance\", \"altitude\", \"geoaltitude\", \"vertical_rate\", \"groundspeed\"]\n",
    "COLS_TO_SCALE_MINMAX = [\"density_10_minutes_past\", \"density_30_minutes_past\", \"density_60_minutes_past\"]\n",
    "std_scaler_full_dist = joblib.load(PATH_STD_SCALER_FULL_DIST)\n",
    "minmax_scaler_full_dist = joblib.load(PATH_MINMAX_SCALER_FULL_DIST)\n",
    "std_scaler_100km = joblib.load(PATH_STD_SCALER_100km)\n",
    "minmax_scaler_100km = joblib.load(PATH_MINMAX_SCALER_100km)"
   ],
   "metadata": {
    "collapsed": false,
    "ExecuteTime": {
     "end_time": "2024-03-09T21:55:38.945302500Z",
     "start_time": "2024-03-09T21:55:38.930751Z"
    }
   }
  },
  {
   "cell_type": "code",
   "execution_count": 3,
   "outputs": [],
   "source": [
    "DIR_TEST_DATA = os.path.join(\"..\", \"..\", \"data\", \"final\", \"test\")\n",
    "FILE_TEST_DATA_FULL = os.path.join(DIR_TEST_DATA,\"testdata_2023_comparable.csv\")\n",
    "FILE_TEST_DATA_100km = os.path.join(DIR_TEST_DATA,\"testdata_2023_100km_comparable.csv\")\n",
    "FILE_TEST_DATA_LARGE = os.path.join(\"..\", \"..\", \"data\", \"testdata\", \"data_2023_10sec_h3.csv\")\n",
    "FILE_TEST_DATA_LSTM_100km = os.path.join(DIR_TEST_DATA, \"testdata_2023_100km_comparable_clean.npy\")\n",
    "FEATURES = [\n",
    "    'distance', 'altitude', 'vertical_rate', 'groundspeed', 'holiday',\n",
    "    'sec_sin', 'sec_cos', 'day_sin', 'day_cos', 'bearing_sin', 'bearing_cos',\n",
    "    'track_sin', 'track_cos', 'latitude_rad', 'longitude_rad',\n",
    "    'weekday_1', 'weekday_2', 'weekday_3', 'weekday_4', 'weekday_5', 'weekday_6',\n",
    "    'density_10_minutes_past', 'density_30_minutes_past', 'density_60_minutes_past'\n",
    "]\n",
    "FEATURES_DL = [\n",
    "    'distance',\n",
    "    'altitude',\n",
    "    'geoaltitude',\n",
    "    'vertical_rate',\n",
    "    'groundspeed',\n",
    "    'holiday',\n",
    "    'sec_sin',\n",
    "    'sec_cos',\n",
    "    'day_sin',\n",
    "    'day_cos',\n",
    "    'bearing_sin',\n",
    "    'bearing_cos',\n",
    "    'track_sin',\n",
    "    'track_cos',\n",
    "    'latitude_rad',\n",
    "    'longitude_rad',\n",
    "    'weekday_1',\n",
    "    'weekday_2',\n",
    "    'weekday_3',\n",
    "    'weekday_4',\n",
    "    'weekday_5',\n",
    "    'weekday_6',\n",
    "    \"density_10_minutes_past\",\n",
    "    \"density_30_minutes_past\",\n",
    "    \"density_60_minutes_past\",\n",
    "]\n",
    "df_test_full = pd.read_csv(FILE_TEST_DATA_FULL, parse_dates=[\"arrival_time\", \"timestamp\"])\n",
    "y_test_full = seconds_till_arrival(df_test_full)\n",
    "df_test_100km = pd.read_csv(FILE_TEST_DATA_100km, parse_dates=[\"arrival_time\", \"timestamp\"])\n",
    "y_test_100km = seconds_till_arrival(df_test_100km)\n",
    "df_test_full_xgb = generate_aux_columns(df_test_full)\n",
    "df_test_100km_xgb =generate_aux_columns(df_test_100km)\n",
    "df_test_large = pd.read_csv(FILE_TEST_DATA_LARGE, parse_dates=[\"arrival_time\", \"timestamp\"]).sample(frac=0.1)\n",
    "y_test_large = seconds_till_arrival(df_test_large)"
   ],
   "metadata": {
    "collapsed": false,
    "ExecuteTime": {
     "end_time": "2024-03-09T21:57:15.391014700Z",
     "start_time": "2024-03-09T21:55:40.096258900Z"
    }
   }
  },
  {
   "cell_type": "code",
   "execution_count": 4,
   "outputs": [],
   "source": [
    "linear_model_full = LinearModel(\n",
    "    std_scaler=std_scaler_full_dist,\n",
    "    minmax_scaler=minmax_scaler_full_dist,\n",
    "    features=FEATURES,\n",
    "    model_file=PATH_LINEAR_MODEL_FULL_DIST,\n",
    "    pol_degree=6,\n",
    "    cols_to_scale_std=COLS_TO_SCALE_STD,\n",
    "    cols_to_scale_minmax=COLS_TO_SCALE_MINMAX\n",
    ")\n",
    "linear_model_100km = LinearModel(\n",
    "    std_scaler=std_scaler_100km,\n",
    "    minmax_scaler=minmax_scaler_100km,\n",
    "    features=FEATURES,\n",
    "    model_file=PATH_LINEAR_MODEL_100km,\n",
    "    pol_degree=3,\n",
    "    cols_to_scale_std=COLS_TO_SCALE_STD,\n",
    "    cols_to_scale_minmax=COLS_TO_SCALE_MINMAX\n",
    ")\n",
    "linear_model_full_rel = LinearModel(\n",
    "    std_scaler=std_scaler_full_dist,\n",
    "    minmax_scaler=minmax_scaler_full_dist,\n",
    "    features=FEATURES,\n",
    "    model_file=PATH_LINEAR_MODEL_FULL_DIST_REL,\n",
    "    pol_degree=1,\n",
    "    cols_to_scale_std=COLS_TO_SCALE_STD,\n",
    "    cols_to_scale_minmax=COLS_TO_SCALE_MINMAX\n",
    ")\n",
    "linear_model_100km_rel = LinearModel(\n",
    "    std_scaler=std_scaler_100km,\n",
    "    minmax_scaler=minmax_scaler_100km,\n",
    "    features=FEATURES,\n",
    "    model_file=PATH_LINEAR_MODEL_100km_REL,\n",
    "    pol_degree=1,\n",
    "    cols_to_scale_std=COLS_TO_SCALE_STD,\n",
    "    cols_to_scale_minmax=COLS_TO_SCALE_MINMAX\n",
    ")"
   ],
   "metadata": {
    "collapsed": false,
    "ExecuteTime": {
     "end_time": "2024-03-09T21:58:35.133371300Z",
     "start_time": "2024-03-09T21:58:35.111346800Z"
    }
   }
  },
  {
   "cell_type": "code",
   "execution_count": 5,
   "outputs": [],
   "source": [
    "mlp_full = VanillaNN(\n",
    "    model_file=PATH_MLP_FULL_DIST,\n",
    "    features=FEATURES_DL,\n",
    "    std_scaler=std_scaler_full_dist,\n",
    "    minmax_scaler=minmax_scaler_full_dist,\n",
    "    cols_to_scale_std = COLS_TO_SCALE_STD,\n",
    "    cols_to_scale_minmax = COLS_TO_SCALE_MINMAX,\n",
    "    distance_relative=True,\n",
    ")\n",
    "mlp_100km = VanillaNN(\n",
    "    model_file=PATH_MLP_100km,\n",
    "    features=FEATURES_DL,\n",
    "    std_scaler=std_scaler_100km,\n",
    "    minmax_scaler=minmax_scaler_100km,\n",
    "    cols_to_scale_std=COLS_TO_SCALE_STD,\n",
    "    cols_to_scale_minmax=COLS_TO_SCALE_MINMAX,\n",
    "    distance_relative=True\n",
    ")"
   ],
   "metadata": {
    "collapsed": false,
    "ExecuteTime": {
     "end_time": "2024-03-09T21:58:38.335196700Z",
     "start_time": "2024-03-09T21:58:36.229734400Z"
    }
   }
  },
  {
   "cell_type": "code",
   "execution_count": 6,
   "outputs": [],
   "source": [
    "xgb_full_dist = XGBModel(model_file=PATH_XGB_FULL_DIST)\n",
    "xgb_100km = XGBModel(model_file=PATH_XGB_100km)"
   ],
   "metadata": {
    "collapsed": false,
    "ExecuteTime": {
     "end_time": "2024-03-09T21:58:39.913912600Z",
     "start_time": "2024-03-09T21:58:39.836210100Z"
    }
   }
  },
  {
   "cell_type": "code",
   "execution_count": 7,
   "outputs": [
    {
     "name": "stdout",
     "output_type": "stream",
     "text": [
      "265.9460238872875 0.9958110083518771\n"
     ]
    }
   ],
   "source": [
    "mae_reg_full, r2_reg_full = linear_model_full.evaluate(df_test_full, y_test_full)\n",
    "print(mae_reg_full, r2_reg_full)"
   ],
   "metadata": {
    "collapsed": false,
    "ExecuteTime": {
     "end_time": "2024-03-09T21:58:41.424688500Z",
     "start_time": "2024-03-09T21:58:40.629238Z"
    }
   }
  },
  {
   "cell_type": "code",
   "execution_count": 8,
   "outputs": [
    {
     "name": "stdout",
     "output_type": "stream",
     "text": [
      "70.92302499478444 0.7951972350673961\n"
     ]
    }
   ],
   "source": [
    "mae_reg_100km, r2_reg_100km = linear_model_100km.evaluate(df_test_100km, y_test_100km)\n",
    "print(mae_reg_100km, r2_reg_100km)"
   ],
   "metadata": {
    "collapsed": false,
    "ExecuteTime": {
     "end_time": "2024-03-09T21:58:42.728402Z",
     "start_time": "2024-03-09T21:58:42.363993700Z"
    }
   }
  },
  {
   "cell_type": "code",
   "execution_count": 9,
   "outputs": [
    {
     "name": "stdout",
     "output_type": "stream",
     "text": [
      "2.752382830793185 0.19700878973028624\n"
     ]
    }
   ],
   "source": [
    "mae_reg_full_rel, r2_reg_full_rel = linear_model_full_rel.evaluate(df_test_full, y_test_full/df_test_full.distance)\n",
    "print(mae_reg_full_rel, r2_reg_full_rel)"
   ],
   "metadata": {
    "collapsed": false,
    "ExecuteTime": {
     "end_time": "2024-03-09T21:58:44.064199100Z",
     "start_time": "2024-03-09T21:58:43.822623600Z"
    }
   }
  },
  {
   "cell_type": "code",
   "execution_count": 10,
   "outputs": [
    {
     "name": "stdout",
     "output_type": "stream",
     "text": [
      "6.319928203504311 0.2677301683517639\n"
     ]
    }
   ],
   "source": [
    "mae_reg_100km_rel, r2_reg_100km_rel = linear_model_100km_rel.evaluate(df_test_100km, y_test_100km/df_test_100km.distance)\n",
    "print(mae_reg_100km_rel, r2_reg_100km_rel)"
   ],
   "metadata": {
    "collapsed": false,
    "ExecuteTime": {
     "end_time": "2024-03-09T21:58:45.533007900Z",
     "start_time": "2024-03-09T21:58:45.285275Z"
    }
   }
  },
  {
   "cell_type": "code",
   "execution_count": 11,
   "outputs": [
    {
     "name": "stdout",
     "output_type": "stream",
     "text": [
      "3125/3125 [==============================] - 5s 1ms/step\n",
      "Evaluation Results:\n",
      " - Loss (relative to distance): 0.8532\n",
      " - Loss (absolute): 220.3844\n",
      " - R^2 (relative to distance): 0.4899\n",
      " - R^2 (absolute): 0.9963\n",
      "\n"
     ]
    },
    {
     "data": {
      "text/plain": "(0.8531660437583923,\n 220.38438460684728,\n 0.4898622570900997,\n 0.9962669041643459)"
     },
     "execution_count": 11,
     "metadata": {},
     "output_type": "execute_result"
    }
   ],
   "source": [
    "mlp_full.evaluate(df_test_full, y_test_full)"
   ],
   "metadata": {
    "collapsed": false,
    "ExecuteTime": {
     "end_time": "2024-03-09T21:58:53.944559200Z",
     "start_time": "2024-03-09T21:58:46.476478700Z"
    }
   }
  },
  {
   "cell_type": "code",
   "execution_count": 12,
   "outputs": [
    {
     "name": "stdout",
     "output_type": "stream",
     "text": [
      "3125/3125 [==============================] - 5s 1ms/step\n",
      "Evaluation Results:\n",
      " - Loss (relative to distance): 2.2527\n",
      " - Loss (absolute): 42.8237\n",
      " - R^2 (relative to distance): 0.4853\n",
      " - R^2 (absolute): 0.8793\n",
      "\n"
     ]
    },
    {
     "data": {
      "text/plain": "(2.252709150314331,\n 42.823679451666216,\n 0.48526663546713955,\n 0.8792744532608401)"
     },
     "execution_count": 12,
     "metadata": {},
     "output_type": "execute_result"
    }
   ],
   "source": [
    "mlp_100km.evaluate(df_test_100km, y_test_100km)"
   ],
   "metadata": {
    "collapsed": false,
    "ExecuteTime": {
     "end_time": "2024-03-09T21:59:02.217430500Z",
     "start_time": "2024-03-09T21:58:56.004705300Z"
    }
   }
  },
  {
   "cell_type": "code",
   "execution_count": 13,
   "outputs": [
    {
     "name": "stderr",
     "output_type": "stream",
     "text": [
      "[22:59:03] WARNING: C:\\buildkite-agent\\builds\\buildkite-windows-cpu-autoscaling-group-i-0b3782d1791676daf-1\\xgboost\\xgboost-ci-windows\\src\\common\\error_msg.cc:27: The tree method `gpu_hist` is deprecated since 2.0.0. To use GPU training, set the `device` parameter to CUDA instead.\n",
      "\n",
      "    E.g. tree_method = \"hist\", device = \"cuda\"\n",
      "\n",
      "[22:59:03] WARNING: C:\\buildkite-agent\\builds\\buildkite-windows-cpu-autoscaling-group-i-0b3782d1791676daf-1\\xgboost\\xgboost-ci-windows\\src\\common\\error_msg.cc:58: Falling back to prediction using DMatrix due to mismatched devices. This might lead to higher memory usage and slower performance. XGBoost is running on: cuda:0, while the input data is on: cpu.\n",
      "Potential solutions:\n",
      "- Use a data structure that matches the device ordinal in the booster.\n",
      "- Set the device for booster before call to inplace_predict.\n",
      "\n",
      "This warning will only be shown once.\n",
      "\n"
     ]
    },
    {
     "name": "stdout",
     "output_type": "stream",
     "text": [
      "Mean Absolute Error: 235.41647209479322\n",
      "Relative Mean Absolute Error: 1.1359423104207746\n",
      "R^2 Score: 0.9960082709097814\n",
      "R^2 Score Relative: 0.4299965176629347\n"
     ]
    }
   ],
   "source": [
    "mae_xgb_full_dist, mae_xgb_full_dist_rel, r2_xgb_full_dist, r2_xgb_full_dist_rel = xgb_full_dist.evaluate(df_test_full_xgb[FEATURES_DL], y_test_full/df_test_full_xgb.distance)\n",
    "print(f\"Mean Absolute Error: {mae_xgb_full_dist}\")\n",
    "print(f\"Relative Mean Absolute Error: {mae_xgb_full_dist_rel}\")\n",
    "print(f\"R^2 Score: {r2_xgb_full_dist}\")\n",
    "print(f\"R^2 Score Relative: {r2_xgb_full_dist_rel}\")"
   ],
   "metadata": {
    "collapsed": false,
    "ExecuteTime": {
     "end_time": "2024-03-09T21:59:04.096206500Z",
     "start_time": "2024-03-09T21:59:03.775434600Z"
    }
   }
  },
  {
   "cell_type": "code",
   "execution_count": 14,
   "outputs": [
    {
     "name": "stdout",
     "output_type": "stream",
     "text": [
      "Mean Absolute Error: 61.97138072238155\n",
      "Relative Mean Absolute Error: 3.61195175833924\n",
      "R^2 Score: 0.7622746104810203\n",
      "R^2 Score Relative: 0.34360806531477395\n"
     ]
    },
    {
     "name": "stderr",
     "output_type": "stream",
     "text": [
      "[22:59:07] WARNING: C:\\buildkite-agent\\builds\\buildkite-windows-cpu-autoscaling-group-i-0b3782d1791676daf-1\\xgboost\\xgboost-ci-windows\\src\\common\\error_msg.cc:27: The tree method `gpu_hist` is deprecated since 2.0.0. To use GPU training, set the `device` parameter to CUDA instead.\n",
      "\n",
      "    E.g. tree_method = \"hist\", device = \"cuda\"\n",
      "\n"
     ]
    }
   ],
   "source": [
    "mae_xgb_100km_dist, mae_xgb_100km_rel, r2_xgb_100km, r2_xgb_100km_rel = xgb_100km.evaluate(df_test_100km_xgb[FEATURES_DL], y_test_100km/df_test_100km_xgb.distance)\n",
    "print(f\"Mean Absolute Error: {mae_xgb_100km_dist}\")\n",
    "print(f\"Relative Mean Absolute Error: {mae_xgb_100km_rel}\")\n",
    "print(f\"R^2 Score: {r2_xgb_100km}\")\n",
    "print(f\"R^2 Score Relative: {r2_xgb_100km_rel}\")"
   ],
   "metadata": {
    "collapsed": false,
    "ExecuteTime": {
     "end_time": "2024-03-09T21:59:07.869995300Z",
     "start_time": "2024-03-09T21:59:07.700601500Z"
    }
   }
  },
  {
   "cell_type": "code",
   "execution_count": 34,
   "outputs": [
    {
     "name": "stdout",
     "output_type": "stream",
     "text": [
      "300.0 to 360.0\n",
      "n cases 20699\n",
      "(597.2525149272673, 0.3836268820786213)\n",
      "360.0 to 420.0\n",
      "n cases 25165\n",
      "(702.7212857827941, 0.19967257816072737)\n",
      "420.0 to 480.0\n",
      "n cases 15735\n",
      "(878.0555850158896, -0.16640688983912666)\n",
      "480.0 to 540.0\n",
      "n cases 11861\n",
      "(1025.64574825781, -0.6345618913727749)\n",
      "540.0 to 600.0\n",
      "n cases 6476\n",
      "(1111.0657645468973, -3.104481053444399)\n"
     ]
    }
   ],
   "source": [
    "for i in range(18000,36000, 3600):\n",
    "\n",
    "    print(f\"{i/60} to {(i+3600)/60}\")\n",
    "    cases = (y_test_large>=i) & (y_test_large<=(i+3600))\n",
    "    if cases.sum() <50:\n",
    "        continue\n",
    "    print(f\"n cases {cases.sum()}\")\n",
    "    metrics = linear_model_full.evaluate(df_test_large[cases], y_test_large[cases])\n",
    "    print(metrics)"
   ],
   "metadata": {
    "collapsed": false,
    "ExecuteTime": {
     "end_time": "2024-03-09T16:12:42.631670500Z",
     "start_time": "2024-03-09T16:12:41.663686100Z"
    }
   }
  },
  {
   "cell_type": "code",
   "execution_count": 35,
   "outputs": [
    {
     "name": "stdout",
     "output_type": "stream",
     "text": [
      "300.0 to 360.0\n",
      "n cases 20699\n",
      "647/647 [==============================] - 1s 2ms/step\n",
      "Evaluation Results:\n",
      " - Loss (relative to distance): 0.1221\n",
      " - Loss (absolute): 590.2479\n",
      " - R^2 (relative to distance): 0.8555\n",
      " - R^2 (absolute): 0.3841\n",
      "\n",
      "(0.12211378663778305, 590.2478582427899, 0.8555094393505915, 0.38405145656978534)\n",
      "360.0 to 420.0\n",
      "n cases 25165\n",
      "787/787 [==============================] - 1s 2ms/step\n",
      "Evaluation Results:\n",
      " - Loss (relative to distance): 0.1224\n",
      " - Loss (absolute): 700.0926\n",
      " - R^2 (relative to distance): 0.7506\n",
      " - R^2 (absolute): 0.2300\n",
      "\n",
      "(0.1223861575126648, 700.0925585696122, 0.7506085884300704, 0.23003063826707626)\n",
      "420.0 to 480.0\n",
      "n cases 15735\n",
      "492/492 [==============================] - 1s 2ms/step\n",
      "Evaluation Results:\n",
      " - Loss (relative to distance): 0.1161\n",
      " - Loss (absolute): 772.8257\n",
      " - R^2 (relative to distance): 0.5596\n",
      " - R^2 (absolute): 0.0762\n",
      "\n",
      "(0.11606386303901672, 772.8257146648945, 0.5595878799628359, 0.07624976470871714)\n",
      "480.0 to 540.0\n",
      "n cases 11861\n",
      "371/371 [==============================] - 1s 2ms/step\n",
      "Evaluation Results:\n",
      " - Loss (relative to distance): 0.1161\n",
      " - Loss (absolute): 860.5144\n",
      " - R^2 (relative to distance): 0.6730\n",
      " - R^2 (absolute): -0.5017\n",
      "\n",
      "(0.11605092138051987, 860.514398000051, 0.6730204476228985, -0.5017332125801881)\n",
      "540.0 to 600.0\n",
      "n cases 6476\n",
      "203/203 [==============================] - 0s 2ms/step\n",
      "Evaluation Results:\n",
      " - Loss (relative to distance): 0.1261\n",
      " - Loss (absolute): 1017.1836\n",
      " - R^2 (relative to distance): 0.4582\n",
      " - R^2 (absolute): -2.2129\n",
      "\n",
      "(0.1260565221309662, 1017.1836104808359, 0.45818936219882755, -2.2129464489681925)\n"
     ]
    }
   ],
   "source": [
    "for i in range(18000,36000, 3600):\n",
    "\n",
    "    print(f\"{i/60} to {(i+3600)/60}\")\n",
    "    cases = (y_test_large>=i) & (y_test_large<=(i+3600))\n",
    "    if cases.sum() <50:\n",
    "        continue\n",
    "    print(f\"n cases {cases.sum()}\")\n",
    "    metrics = mlp_full.evaluate(df_test_large[cases], y_test_large[cases])\n",
    "    print(metrics)"
   ],
   "metadata": {
    "collapsed": false,
    "ExecuteTime": {
     "end_time": "2024-03-09T16:15:15.339355800Z",
     "start_time": "2024-03-09T16:15:08.590911Z"
    }
   }
  },
  {
   "cell_type": "code",
   "execution_count": 43,
   "outputs": [
    {
     "name": "stdout",
     "output_type": "stream",
     "text": [
      "0.0 to 2.0\n",
      "n cases 21580\n",
      "(144.57783208021127, -23.502977388352253)\n",
      "2.0 to 4.0\n",
      "n cases 22055\n",
      "(134.50633828678963, -19.312824189909865)\n",
      "4.0 to 6.0\n",
      "n cases 21882\n",
      "(145.60931328196008, -25.076323613033328)\n",
      "6.0 to 8.0\n",
      "n cases 21622\n",
      "(150.64315885201117, -28.56203110803616)\n",
      "8.0 to 10.0\n",
      "n cases 22013\n",
      "(154.25425663002395, -31.182954925384415)\n"
     ]
    }
   ],
   "source": [
    "for i in range(0,600, 120):\n",
    "\n",
    "    print(f\"{i/60} to {(i+120)/60}\")\n",
    "    cases = (y_test_large>=i) & (y_test_large<=(i+120))\n",
    "    if cases.sum() <50:\n",
    "        continue\n",
    "    print(f\"n cases {cases.sum()}\")\n",
    "    metrics = linear_model_full.evaluate(df_test_large[cases], y_test_large[cases])\n",
    "    print(metrics)"
   ],
   "metadata": {
    "collapsed": false,
    "ExecuteTime": {
     "end_time": "2024-03-09T16:37:48.323101100Z",
     "start_time": "2024-03-09T16:37:47.074976900Z"
    }
   }
  },
  {
   "cell_type": "code",
   "execution_count": 44,
   "outputs": [
    {
     "name": "stdout",
     "output_type": "stream",
     "text": [
      "0.0 to 2.0\n",
      "n cases 21580\n",
      "675/675 [==============================] - 1s 2ms/step\n",
      "Evaluation Results:\n",
      " - Loss (relative to distance): 2.0125\n",
      " - Loss (absolute): 8.7709\n",
      " - R^2 (relative to distance): 0.6821\n",
      " - R^2 (absolute): 0.8463\n",
      "\n",
      "(2.012455940246582, 8.770894769825764, 0.6821296620722714, 0.8463176087726574)\n",
      "2.0 to 4.0\n",
      "n cases 22055\n",
      "690/690 [==============================] - 1s 2ms/step\n",
      "Evaluation Results:\n",
      " - Loss (relative to distance): 1.0019\n",
      " - Loss (absolute): 11.7239\n",
      " - R^2 (relative to distance): 0.5223\n",
      " - R^2 (absolute): 0.7472\n",
      "\n",
      "(1.0018953084945679, 11.723943720985424, 0.5223494983138925, 0.7472220850120207)\n",
      "4.0 to 6.0\n",
      "n cases 21882\n",
      "684/684 [==============================] - 1s 2ms/step\n",
      "Evaluation Results:\n",
      " - Loss (relative to distance): 0.6973\n",
      " - Loss (absolute): 16.2799\n",
      " - R^2 (relative to distance): 0.4791\n",
      " - R^2 (absolute): -4.3545\n",
      "\n",
      "(0.6972761154174805, 16.27994354103422, 0.4790745146083216, -4.354491045611886)\n",
      "6.0 to 8.0\n",
      "n cases 21622\n",
      "676/676 [==============================] - 1s 2ms/step\n",
      "Evaluation Results:\n",
      " - Loss (relative to distance): 0.8205\n",
      " - Loss (absolute): 26.1456\n",
      " - R^2 (relative to distance): 0.3115\n",
      " - R^2 (absolute): -4.3048\n",
      "\n",
      "(0.8205081820487976, 26.145579810251025, 0.31151511364203055, -4.304771148961296)\n",
      "8.0 to 10.0\n",
      "n cases 22013\n",
      "688/688 [==============================] - 1s 2ms/step\n",
      "Evaluation Results:\n",
      " - Loss (relative to distance): 1.6737\n",
      " - Loss (absolute): 47.2170\n",
      " - R^2 (relative to distance): 0.4678\n",
      " - R^2 (absolute): -4.5743\n",
      "\n",
      "(1.6737138032913208, 47.217036985016655, 0.4678295038462469, -4.574255725231395)\n"
     ]
    }
   ],
   "source": [
    "for i in range(0,600, 120):\n",
    "\n",
    "    print(f\"{i/60} to {(i+120)/60}\")\n",
    "    cases = (y_test_large>=i) & (y_test_large<=(i+120))\n",
    "    if cases.sum() <50:\n",
    "        continue\n",
    "    print(f\"n cases {cases.sum()}\")\n",
    "    metrics = mlp_full.evaluate(df_test_large[cases], y_test_large[cases])\n",
    "    print(metrics)"
   ],
   "metadata": {
    "collapsed": false,
    "ExecuteTime": {
     "end_time": "2024-03-09T16:39:55.885676100Z",
     "start_time": "2024-03-09T16:39:47.539137600Z"
    }
   }
  },
  {
   "cell_type": "code",
   "execution_count": 45,
   "outputs": [
    {
     "name": "stdout",
     "output_type": "stream",
     "text": [
      "10.0 to 15.0\n",
      "n cases 54115\n",
      "(163.56340211100397, -4.939848082511264)\n",
      "15.0 to 20.0\n",
      "n cases 54200\n",
      "(219.02781687644318, -8.435362663563627)\n"
     ]
    }
   ],
   "source": [
    "for i in range(600,1200, 300):\n",
    "\n",
    "    print(f\"{i/60} to {(i+300)/60}\")\n",
    "    cases = (y_test_large>=i) & (y_test_large<=(i+300))\n",
    "    if cases.sum() <50:\n",
    "        continue\n",
    "    print(f\"n cases {cases.sum()}\")\n",
    "    metrics = linear_model_full.evaluate(df_test_large[cases], y_test_large[cases])\n",
    "    print(metrics)"
   ],
   "metadata": {
    "collapsed": false,
    "ExecuteTime": {
     "end_time": "2024-03-09T16:42:11.297578200Z",
     "start_time": "2024-03-09T16:42:10.318903900Z"
    }
   }
  },
  {
   "cell_type": "code",
   "execution_count": 46,
   "outputs": [
    {
     "name": "stdout",
     "output_type": "stream",
     "text": [
      "10.0 to 15.0\n",
      "n cases 54115\n",
      "1692/1692 [==============================] - 4s 2ms/step\n",
      "Evaluation Results:\n",
      " - Loss (relative to distance): 3.2512\n",
      " - Loss (absolute): 90.2955\n",
      " - R^2 (relative to distance): 0.3886\n",
      " - R^2 (absolute): -1.7945\n",
      "\n",
      "(3.2511954307556152, 90.29546076851972, 0.3885950224432462, -1.7944627519580294)\n",
      "15.0 to 20.0\n",
      "n cases 54200\n",
      "1694/1694 [==============================] - 3s 2ms/step\n",
      "Evaluation Results:\n",
      " - Loss (relative to distance): 2.7058\n",
      " - Loss (absolute): 119.9085\n",
      " - R^2 (relative to distance): 0.2820\n",
      " - R^2 (absolute): -3.1650\n",
      "\n",
      "(2.7057979106903076, 119.90852780044705, 0.2819710538374435, -3.1650415625172714)\n"
     ]
    }
   ],
   "source": [
    "for i in range(600,1200, 300):\n",
    "\n",
    "    print(f\"{i/60} to {(i+300)/60}\")\n",
    "    cases = (y_test_large>=i) & (y_test_large<=(i+300))\n",
    "    if cases.sum() <50:\n",
    "        continue\n",
    "    print(f\"n cases {cases.sum()}\")\n",
    "    metrics = mlp_full.evaluate(df_test_large[cases], y_test_large[cases])\n",
    "    print(metrics)"
   ],
   "metadata": {
    "collapsed": false,
    "ExecuteTime": {
     "end_time": "2024-03-09T16:43:06.909244100Z",
     "start_time": "2024-03-09T16:42:56.392907400Z"
    }
   }
  },
  {
   "cell_type": "code",
   "execution_count": null,
   "outputs": [],
   "source": [],
   "metadata": {
    "collapsed": false
   }
  },
  {
   "cell_type": "code",
   "execution_count": 47,
   "outputs": [
    {
     "name": "stdout",
     "output_type": "stream",
     "text": [
      "0.0 to 2.0\n",
      "n cases 21580\n",
      "(39.31008886336474, -3.1797626165233037)\n",
      "2.0 to 4.0\n",
      "n cases 22055\n",
      "(25.081700212845245, 0.1335909477326901)\n",
      "4.0 to 6.0\n",
      "n cases 21882\n",
      "(70.4414207398761, -1505.9194454695557)\n",
      "6.0 to 8.0\n",
      "n cases 21622\n",
      "(77.22230087535118, -1159.4015605197872)\n",
      "8.0 to 10.0\n",
      "n cases 22013\n",
      "(94.48059936375692, -960.1439697900905)\n"
     ]
    }
   ],
   "source": [
    "for i in range(0,600, 120):\n",
    "\n",
    "    print(f\"{i/60} to {(i+120)/60}\")\n",
    "    cases = (y_test_large>=i) & (y_test_large<=(i+120))\n",
    "    if cases.sum() <50:\n",
    "        continue\n",
    "    print(f\"n cases {cases.sum()}\")\n",
    "    metrics = linear_model_100km.evaluate(df_test_large[cases], y_test_large[cases])\n",
    "    print(metrics)"
   ],
   "metadata": {
    "collapsed": false,
    "ExecuteTime": {
     "end_time": "2024-03-09T16:45:18.447395Z",
     "start_time": "2024-03-09T16:45:17.617419400Z"
    }
   }
  },
  {
   "cell_type": "code",
   "execution_count": 48,
   "outputs": [
    {
     "name": "stdout",
     "output_type": "stream",
     "text": [
      "10.0 to 15.0\n",
      "n cases 54115\n",
      "(272.2325628524685, -97216.41829595962)\n",
      "15.0 to 20.0\n",
      "n cases 54200\n",
      "(348.4530706919599, -139000.10101529752)\n"
     ]
    }
   ],
   "source": [
    "for i in range(600,1200, 300):\n",
    "\n",
    "    print(f\"{i/60} to {(i+300)/60}\")\n",
    "    cases = (y_test_large>=i) & (y_test_large<=(i+300))\n",
    "    if cases.sum() <50:\n",
    "        continue\n",
    "    print(f\"n cases {cases.sum()}\")\n",
    "    metrics = linear_model_100km.evaluate(df_test_large[cases], y_test_large[cases])\n",
    "    print(metrics)"
   ],
   "metadata": {
    "collapsed": false,
    "ExecuteTime": {
     "end_time": "2024-03-09T17:00:56.102043500Z",
     "start_time": "2024-03-09T17:00:55.258458600Z"
    }
   }
  },
  {
   "cell_type": "code",
   "execution_count": 49,
   "outputs": [
    {
     "name": "stdout",
     "output_type": "stream",
     "text": [
      "0.0 to 2.0\n",
      "n cases 21580\n",
      "675/675 [==============================] - 1s 2ms/step\n",
      "Evaluation Results:\n",
      " - Loss (relative to distance): 2.0165\n",
      " - Loss (absolute): 8.8862\n",
      " - R^2 (relative to distance): -3.4462\n",
      " - R^2 (absolute): 0.7397\n",
      "\n",
      "(2.0165181159973145, 8.886181818862436, -3.446195392564314, 0.7397341401544877)\n",
      "2.0 to 4.0\n",
      "n cases 22055\n",
      "690/690 [==============================] - 1s 2ms/step\n",
      "Evaluation Results:\n",
      " - Loss (relative to distance): 1.1665\n",
      " - Loss (absolute): 11.9882\n",
      " - R^2 (relative to distance): -15.9172\n",
      " - R^2 (absolute): 0.5831\n",
      "\n",
      "(1.166530966758728, 11.988226350700026, -15.91716810078064, 0.5831129578689465)\n",
      "4.0 to 6.0\n",
      "n cases 21882\n",
      "684/684 [==============================] - 1s 2ms/step\n",
      "Evaluation Results:\n",
      " - Loss (relative to distance): 0.8652\n",
      " - Loss (absolute): 22.2971\n",
      " - R^2 (relative to distance): -12.7244\n",
      " - R^2 (absolute): -143.7338\n",
      "\n",
      "(0.8652054667472839, 22.297098855594367, -12.72435135629994, -143.73384020694064)\n",
      "6.0 to 8.0\n",
      "n cases 21622\n",
      "676/676 [==============================] - 1s 2ms/step\n",
      "Evaluation Results:\n",
      " - Loss (relative to distance): 0.9428\n",
      " - Loss (absolute): 32.2739\n",
      " - R^2 (relative to distance): -4.3666\n",
      " - R^2 (absolute): -138.8401\n",
      "\n",
      "(0.9427756667137146, 32.273862874078254, -4.3666108679350035, -138.8401086621711)\n",
      "8.0 to 10.0\n",
      "n cases 22013\n",
      "688/688 [==============================] - 1s 2ms/step\n",
      "Evaluation Results:\n",
      " - Loss (relative to distance): 1.7712\n",
      " - Loss (absolute): 49.3786\n",
      " - R^2 (relative to distance): -1.3719\n",
      " - R^2 (absolute): -118.2629\n",
      "\n",
      "(1.7712042331695557, 49.378620296485224, -1.3718547949843005, -118.26286495643765)\n"
     ]
    }
   ],
   "source": [
    "for i in range(0,600, 120):\n",
    "\n",
    "    print(f\"{i/60} to {(i+120)/60}\")\n",
    "    cases = (y_test_large>=i) & (y_test_large<=(i+120))\n",
    "    if cases.sum() <50:\n",
    "        continue\n",
    "    print(f\"n cases {cases.sum()}\")\n",
    "    metrics = mlp_100km.evaluate(df_test_large[cases], y_test_large[cases])\n",
    "    print(metrics)"
   ],
   "metadata": {
    "collapsed": false,
    "ExecuteTime": {
     "end_time": "2024-03-09T17:02:19.903446700Z",
     "start_time": "2024-03-09T17:02:10.843208200Z"
    }
   }
  },
  {
   "cell_type": "code",
   "execution_count": 50,
   "outputs": [
    {
     "name": "stdout",
     "output_type": "stream",
     "text": [
      "10.0 to 15.0\n",
      "n cases 54115\n",
      "1692/1692 [==============================] - 4s 2ms/step\n",
      "Evaluation Results:\n",
      " - Loss (relative to distance): 2.8666\n",
      " - Loss (absolute): 94.1070\n",
      " - R^2 (relative to distance): 0.4203\n",
      " - R^2 (absolute): -424.9796\n",
      "\n",
      "(2.8665661811828613, 94.10695557155961, 0.42034136579996173, -424.97957793177295)\n",
      "15.0 to 20.0\n",
      "n cases 54200\n",
      "1694/1694 [==============================] - 3s 2ms/step\n",
      "Evaluation Results:\n",
      " - Loss (relative to distance): 2.3923\n",
      " - Loss (absolute): 143.1031\n",
      " - R^2 (relative to distance): 0.6756\n",
      " - R^2 (absolute): -543.0334\n",
      "\n",
      "(2.3922860622406006, 143.10311922798218, 0.6755759522350919, -543.0334205049842)\n"
     ]
    }
   ],
   "source": [
    "for i in range(600,1200, 300):\n",
    "\n",
    "    print(f\"{i/60} to {(i+300)/60}\")\n",
    "    cases = (y_test_large>=i) & (y_test_large<=(i+300))\n",
    "    if cases.sum() <50:\n",
    "        continue\n",
    "    print(f\"n cases {cases.sum()}\")\n",
    "    metrics = mlp_100km.evaluate(df_test_large[cases], y_test_large[cases])\n",
    "    print(metrics)"
   ],
   "metadata": {
    "collapsed": false,
    "ExecuteTime": {
     "end_time": "2024-03-09T17:04:13.780251900Z",
     "start_time": "2024-03-09T17:04:04.977351200Z"
    }
   }
  },
  {
   "cell_type": "code",
   "execution_count": 15,
   "outputs": [
    {
     "name": "stdout",
     "output_type": "stream",
     "text": [
      "shape test (100000, 40, 27)\n"
     ]
    }
   ],
   "source": [
    "data_lstm_100km = np.load(FILE_TEST_DATA_LSTM_100km)\n",
    "X_test_lstm = data_lstm_100km[:, :, :-1]\n",
    "y_test_lstm = data_lstm_100km[:, -1, -1]\n",
    "print(\"shape test\", X_test_lstm.shape)\n"
   ],
   "metadata": {
    "collapsed": false,
    "ExecuteTime": {
     "end_time": "2024-03-09T21:59:31.471275700Z",
     "start_time": "2024-03-09T21:59:31.173198800Z"
    }
   }
  },
  {
   "cell_type": "code",
   "execution_count": 16,
   "outputs": [],
   "source": [
    "n_features = X_test_lstm.shape[2]\n",
    "lstm_100km = LSTMNN(\n",
    "    scaler=std_scaler_100km,\n",
    "    distance_relative=True,\n",
    "    index_distance=0,\n",
    "    n_features=n_features,\n",
    "    lr=0.0001,\n",
    "    lstm_layers=(813, 281),\n",
    "    dense_layers=(1425, 4096, 588),\n",
    "    dropout_rate_fc=0.2,\n",
    "    dropout_rate_lstm= 0.1235,\n",
    "    model_file = PATH_LSTM_100km\n",
    ")"
   ],
   "metadata": {
    "collapsed": false,
    "ExecuteTime": {
     "end_time": "2024-03-09T21:59:39.513162Z",
     "start_time": "2024-03-09T21:59:35.061905900Z"
    }
   }
  },
  {
   "cell_type": "code",
   "execution_count": 17,
   "outputs": [
    {
     "name": "stdout",
     "output_type": "stream",
     "text": [
      "3125/3125 [==============================] - 24s 7ms/step\n",
      "Evaluation Results:\n",
      " - Loss (relative to distance): 2.3339\n",
      " - Loss (absolute): 44.4152\n",
      " - R2 (relative to distance): 0.4341\n",
      " - R2 (absolute): 0.8820\n",
      "\n"
     ]
    },
    {
     "data": {
      "text/plain": "(2.333946466445923, 44.41522283589065, 0.43407804413802586, 0.881955142443966)"
     },
     "execution_count": 17,
     "metadata": {},
     "output_type": "execute_result"
    }
   ],
   "source": [
    "lstm_100km.evaluate(X_test_lstm, y_test_lstm)"
   ],
   "metadata": {
    "collapsed": false,
    "ExecuteTime": {
     "end_time": "2024-03-09T22:00:06.330383700Z",
     "start_time": "2024-03-09T21:59:40.669402Z"
    }
   }
  },
  {
   "cell_type": "code",
   "execution_count": 74,
   "outputs": [
    {
     "name": "stdout",
     "output_type": "stream",
     "text": [
      "0.0 to 2.0\n",
      "n cases 14654\n",
      "458/458 [==============================] - 5s 7ms/step\n",
      "Evaluation Results:\n",
      " - Loss (relative to distance): 2.0190\n",
      " - Loss (absolute): 9.3796\n",
      "\n",
      "(2.0189826488494873, 9.379560605951022)\n",
      "2.0 to 4.0\n",
      "n cases 14934\n",
      "467/467 [==============================] - 3s 7ms/step\n",
      "Evaluation Results:\n",
      " - Loss (relative to distance): 1.0315\n",
      " - Loss (absolute): 11.8580\n",
      "\n",
      "(1.0314866304397583, 11.857980234408606)\n",
      "4.0 to 6.0\n",
      "n cases 15052\n",
      "471/471 [==============================] - 3s 7ms/step\n",
      "Evaluation Results:\n",
      " - Loss (relative to distance): 0.6908\n",
      " - Loss (absolute): 15.7738\n",
      "\n",
      "(0.6908015608787537, 15.773752569127101)\n",
      "6.0 to 8.0\n",
      "n cases 15044\n",
      "471/471 [==============================] - 3s 7ms/step\n",
      "Evaluation Results:\n",
      " - Loss (relative to distance): 0.8460\n",
      " - Loss (absolute): 26.9941\n",
      "\n",
      "(0.845952033996582, 26.99413345322804)\n",
      "8.0 to 10.0\n",
      "n cases 13239\n",
      "414/414 [==============================] - 3s 7ms/step\n",
      "Evaluation Results:\n",
      " - Loss (relative to distance): 1.5866\n",
      " - Loss (absolute): 44.8585\n",
      "\n",
      "(1.5866297483444214, 44.85847353296258)\n"
     ]
    }
   ],
   "source": [
    "distances = std_scaler_100km.inverse_transform(X_test_lstm[:, -1, :5])[:,0]\n",
    "seconds = y_test_lstm*distances\n",
    "for i in range(0,600, 120):\n",
    "\n",
    "    print(f\"{i/60} to {(i+120)/60}\")\n",
    "    cases = (seconds>=i) & (seconds<=(i+120))\n",
    "    if cases.sum() <50:\n",
    "        continue\n",
    "    print(f\"n cases {cases.sum()}\")\n",
    "    metrics = lstm_100km.evaluate(X_test_lstm[cases], y_test_lstm[cases])\n",
    "    print(metrics)"
   ],
   "metadata": {
    "collapsed": false,
    "ExecuteTime": {
     "end_time": "2024-03-09T19:07:29.563686400Z",
     "start_time": "2024-03-09T19:07:09.653204200Z"
    }
   }
  },
  {
   "cell_type": "code",
   "execution_count": 75,
   "outputs": [
    {
     "name": "stdout",
     "output_type": "stream",
     "text": [
      "10.0 to 15.0\n",
      "n cases 21715\n",
      "679/679 [==============================] - 5s 7ms/step\n",
      "Evaluation Results:\n",
      " - Loss (relative to distance): 3.9377\n",
      " - Loss (absolute): 76.4971\n",
      "\n",
      "(3.9376814365386963, 76.49714976194913)\n",
      "15.0 to 20.0\n",
      "n cases 5109\n",
      "160/160 [==============================] - 1s 7ms/step\n",
      "Evaluation Results:\n",
      " - Loss (relative to distance): 8.5530\n",
      " - Loss (absolute): 153.0603\n",
      "\n",
      "(8.552977561950684, 153.06025647922993)\n"
     ]
    }
   ],
   "source": [
    "for i in range(600,1200, 300):\n",
    "\n",
    "    print(f\"{i/60} to {(i+300)/60}\")\n",
    "    cases = (seconds>=i) & (seconds<=(i+300))\n",
    "    if cases.sum() <50:\n",
    "        continue\n",
    "    print(f\"n cases {cases.sum()}\")\n",
    "    metrics = lstm_100km.evaluate(X_test_lstm[cases], y_test_lstm[cases])\n",
    "    print(metrics)"
   ],
   "metadata": {
    "collapsed": false,
    "ExecuteTime": {
     "end_time": "2024-03-09T19:09:39.444405Z",
     "start_time": "2024-03-09T19:09:32.014612Z"
    }
   }
  },
  {
   "cell_type": "code",
   "execution_count": 73,
   "outputs": [
    {
     "data": {
      "text/plain": "<Figure size 640x480 with 1 Axes>",
      "image/png": "[encoded data removed]"
     },
     "metadata": {},
     "output_type": "display_data"
    }
   ],
   "source": [
    "# Calculate the 99th percentile\n",
    "p99 = np.percentile(seconds, 99)\n",
    "\n",
    "# Filter the data to include only the 99% smallest values\n",
    "filtered_data = seconds[seconds < p99]\n",
    "\n",
    "# Create a histogram of the filtered data\n",
    "plt.hist(filtered_data, bins=30, alpha=0.5, color='blue', edgecolor='black')\n",
    "\n",
    "# Add titles and labels\n",
    "plt.title('Histogram of 99% Smallest Data')\n",
    "plt.xlabel('Data Values')\n",
    "plt.ylabel('Frequency')\n",
    "\n",
    "# Show the plot\n",
    "plt.show()"
   ],
   "metadata": {
    "collapsed": false,
    "ExecuteTime": {
     "end_time": "2024-03-09T19:05:48.091142400Z",
     "start_time": "2024-03-09T19:05:47.802536700Z"
    }
   }
  },
  {
   "cell_type": "markdown",
   "source": [
    "XGBoost full dist"
   ],
   "metadata": {
    "collapsed": false
   }
  },
  {
   "cell_type": "code",
   "execution_count": 106,
   "outputs": [
    {
     "name": "stdout",
     "output_type": "stream",
     "text": [
      "0.0 to 2.0\n",
      "n cases 21263\n",
      "(10.073809312194857, 2.448253333333778, 0.8391004124305129, 0.6580205319937753)\n",
      "2.0 to 4.0\n",
      "n cases 22050\n",
      "(11.680575302497477, 1.015426762196611, 0.7290696989662436, 0.49504331813809355)\n",
      "4.0 to 6.0\n",
      "n cases 21805\n",
      "(18.168239021845807, 0.7782447275499428, -3.8524790318094784, 0.15259313317199452)\n",
      "6.0 to 8.0\n",
      "n cases 21819\n",
      "(37.26721629709505, 1.1187082549727392, -4.01845290794238, 0.02460180915655452)\n",
      "8.0 to 10.0\n",
      "n cases 21671\n",
      "(67.53023295340107, 1.9988558955746443, -7.556613427647063, 0.8360897907107947)\n"
     ]
    }
   ],
   "source": [
    "df_test_large_xgb = generate_aux_columns(df_test_large)[FEATURES_DL]\n",
    "seconds_xgb = y_test_large.reset_index(drop=True)\n",
    "y_test_large_xgb = seconds_xgb/df_test_large_xgb.distance\n",
    "for i in range(0,600, 120):\n",
    "\n",
    "    print(f\"{i/60} to {(i+120)/60}\")\n",
    "    cases = (seconds_xgb>=i) & (seconds_xgb<=(i+120))\n",
    "    if cases.sum() <50:\n",
    "        continue\n",
    "    print(f\"n cases {cases.sum()}\")\n",
    "    metrics = xgb_full_dist.evaluate(df_test_large_xgb[cases].reset_index(drop=True), y_test_large_xgb[cases].reset_index(drop=True))\n",
    "    print(metrics)"
   ],
   "metadata": {
    "collapsed": false,
    "ExecuteTime": {
     "end_time": "2024-03-09T19:41:20.897816900Z",
     "start_time": "2024-03-09T19:41:18.330046900Z"
    }
   }
  },
  {
   "cell_type": "code",
   "execution_count": 107,
   "outputs": [
    {
     "name": "stdout",
     "output_type": "stream",
     "text": [
      "10.0 to 15.0\n",
      "n cases 54228\n",
      "(126.72799450851686, 5.738473675268555, -3.14223780040533, 0.36999267827341276)\n",
      "15.0 to 20.0\n",
      "n cases 54376\n",
      "(151.67703776166363, 3.666375013235039, -4.102009293944018, 0.2234903545182898)\n"
     ]
    }
   ],
   "source": [
    "for i in range(600,1200, 300):\n",
    "\n",
    "    print(f\"{i/60} to {(i+300)/60}\")\n",
    "    cases = (seconds_xgb>=i) & (seconds_xgb<=(i+300))\n",
    "    if cases.sum() <50:\n",
    "        continue\n",
    "    print(f\"n cases {cases.sum()}\")\n",
    "    metrics = xgb_full_dist.evaluate(df_test_large_xgb[cases].reset_index(drop=True), y_test_large_xgb[cases].reset_index(drop=True))\n",
    "    print(metrics)"
   ],
   "metadata": {
    "collapsed": false,
    "ExecuteTime": {
     "end_time": "2024-03-09T19:43:55.521637100Z",
     "start_time": "2024-03-09T19:43:55.087966200Z"
    }
   }
  },
  {
   "cell_type": "code",
   "execution_count": 108,
   "outputs": [
    {
     "name": "stdout",
     "output_type": "stream",
     "text": [
      "20.0 to 30.0\n",
      "n cases 107657\n",
      "(170.10170088318193, 1.4041069571411704, -0.5332531864653627, 0.5438205778707359)\n",
      "30.0 to 40.0\n",
      "n cases 102705\n",
      "(171.3981213524648, 0.7061439344536665, -0.7042596583583478, 0.4863284682386696)\n",
      "40.0 to 50.0\n",
      "n cases 90671\n",
      "(178.28365304913373, 0.49006541289097677, -0.8930053696965272, 0.20113832185688585)\n",
      "50.0 to 60.0\n",
      "n cases 77567\n",
      "(190.83038936573422, 0.5059503214546881, -1.189152015187564, 0.001517166792185165)\n",
      "60.0 to 70.0\n",
      "n cases 67742\n",
      "(204.4354478725441, 0.3401895428278014, -1.5212768248037905, 0.07806021051972045)\n",
      "70.0 to 80.0\n",
      "n cases 58424\n",
      "(212.08657138164529, 0.27326837780326185, -1.750332821063906, 0.3945163029311788)\n",
      "80.0 to 90.0\n",
      "n cases 51204\n",
      "(220.88120807635684, 0.37260385473581364, -1.9773644746239452, 0.004300919753420951)\n",
      "90.0 to 100.0\n",
      "n cases 42837\n",
      "(233.32581081679035, 0.27216028139860565, -2.524573063655576, 0.08796090756576103)\n",
      "100.0 to 110.0\n",
      "n cases 35545\n",
      "(250.17449131834167, 0.2506435910023136, -3.1029178164852667, 0.14284975980763737)\n",
      "110.0 to 120.0\n",
      "n cases 27697\n",
      "(281.5123663923297, 0.2113242619994257, -4.020777609640579, 0.541480817324397)\n"
     ]
    }
   ],
   "source": [
    "for i in range(1200,7200, 600):\n",
    "\n",
    "    print(f\"{i/60} to {(i+600)/60}\")\n",
    "    cases = (seconds_xgb>=i) & (seconds_xgb<=(i+600))\n",
    "    if cases.sum() <50:\n",
    "        continue\n",
    "    print(f\"n cases {cases.sum()}\")\n",
    "    metrics = xgb_full_dist.evaluate(df_test_large_xgb[cases].reset_index(drop=True), y_test_large_xgb[cases].reset_index(drop=True))\n",
    "    print(metrics)"
   ],
   "metadata": {
    "collapsed": false,
    "ExecuteTime": {
     "end_time": "2024-03-09T19:45:36.861039400Z",
     "start_time": "2024-03-09T19:45:34.892838400Z"
    }
   }
  },
  {
   "cell_type": "code",
   "execution_count": 109,
   "outputs": [
    {
     "name": "stdout",
     "output_type": "stream",
     "text": [
      "120.0 to 150.0\n",
      "n cases 48795\n",
      "(350.74900336148585, 0.2239153147037408, 0.10931475733143492, 0.3423887266726193)\n",
      "150.0 to 180.0\n",
      "n cases 23547\n",
      "(392.13809582769295, 1.5421761837882115, -0.12866636340100013, 0.001973237700862218)\n",
      "180.0 to 210.0\n",
      "n cases 10437\n",
      "(437.6388191682984, 0.18781058044160207, -0.14793117741876882, 0.34527389267488806)\n",
      "210.0 to 240.0\n",
      "n cases 7586\n",
      "(425.60527529546295, 0.15879922000841495, -0.18162365840651473, 0.27637654252932564)\n",
      "240.0 to 270.0\n",
      "n cases 1832\n",
      "(653.1285529035666, 0.22762977769717999, -2.719788494554726, -0.9348862102025006)\n",
      "270.0 to 300.0\n",
      "n cases 1463\n",
      "(916.7656722226914, 0.23339447671331842, -4.951396452622279, 0.7178029299119393)\n"
     ]
    }
   ],
   "source": [
    "for i in range(7200, 18000, 1800):\n",
    "\n",
    "    print(f\"{i/60} to {(i+1800)/60}\")\n",
    "    cases = (seconds_xgb>=i) & (seconds_xgb<=(i+1800))\n",
    "    if cases.sum() <50:\n",
    "        continue\n",
    "    print(f\"n cases {cases.sum()}\")\n",
    "    metrics = xgb_full_dist.evaluate(df_test_large_xgb[cases].reset_index(drop=True), y_test_large_xgb[cases].reset_index(drop=True))\n",
    "    print(metrics)"
   ],
   "metadata": {
    "collapsed": false,
    "ExecuteTime": {
     "end_time": "2024-03-09T19:48:46.829487100Z",
     "start_time": "2024-03-09T19:48:46.065513800Z"
    }
   }
  },
  {
   "cell_type": "code",
   "execution_count": 110,
   "outputs": [
    {
     "name": "stdout",
     "output_type": "stream",
     "text": [
      "300.0 to 360.0\n",
      "n cases 20765\n",
      "(647.0058673839844, 0.13371474571533098, 0.28052587277595153, 0.8274788428925732)\n",
      "360.0 to 420.0\n",
      "n cases 25021\n",
      "(804.8343002197746, 0.14179213021175993, -0.011167242017557255, 0.6710338290945017)\n",
      "420.0 to 480.0\n",
      "n cases 15595\n",
      "(916.870873338664, 0.13843801225706084, -0.23795019874403156, 0.42576817724926386)\n",
      "480.0 to 540.0\n",
      "n cases 11863\n",
      "(930.0997040808003, 0.1255729214504424, -0.24057484546861274, 0.717565338191881)\n",
      "540.0 to 600.0\n",
      "n cases 6397\n",
      "(1003.512503598931, 0.12369332909583847, -0.6556212842951497, 0.7172299536225115)\n"
     ]
    }
   ],
   "source": [
    "for i in range(18000, 36000, 3600):\n",
    "\n",
    "    print(f\"{i/60} to {(i+3600)/60}\")\n",
    "    cases = (seconds_xgb>=i) & (seconds_xgb<=(i+3600))\n",
    "    if cases.sum() <50:\n",
    "        continue\n",
    "    print(f\"n cases {cases.sum()}\")\n",
    "    metrics = xgb_full_dist.evaluate(df_test_large_xgb[cases].reset_index(drop=True), y_test_large_xgb[cases].reset_index(drop=True))\n",
    "    print(metrics)"
   ],
   "metadata": {
    "collapsed": false,
    "ExecuteTime": {
     "end_time": "2024-03-09T19:50:54.340913100Z",
     "start_time": "2024-03-09T19:50:53.735279600Z"
    }
   }
  },
  {
   "cell_type": "code",
   "execution_count": 18,
   "outputs": [
    {
     "name": "stdout",
     "output_type": "stream",
     "text": [
      "0.0 to 2.0\n",
      "n cases 21328\n",
      "(14.73197192133393, 3.1364996671921954, -6.169706278544011, 0.49571220873066724)\n",
      "2.0 to 4.0\n",
      "n cases 21817\n",
      "(12.870829591851583, 0.9959205752891318, -11.830554877602717, 0.5005734484491269)\n",
      "4.0 to 6.0\n",
      "n cases 22123\n",
      "(19.761773053551522, 0.7897187231860205, -24.899409696476607, 0.19379181510098942)\n",
      "6.0 to 8.0\n",
      "n cases 21993\n",
      "(34.86251848781307, 1.0255805280968482, -19.97794865720137, 0.072343824826273)\n",
      "8.0 to 10.0\n",
      "n cases 21755\n",
      "(65.22046318981042, 1.932983039594699, -10.03358658918363, 0.8280079898816832)\n"
     ]
    }
   ],
   "source": [
    "df_test_large_xgb = generate_aux_columns(df_test_large)[FEATURES_DL]\n",
    "seconds_xgb = y_test_large.reset_index(drop=True)\n",
    "y_test_large_xgb = seconds_xgb/df_test_large_xgb.distance\n",
    "for i in range(0,600, 120):\n",
    "\n",
    "    print(f\"{i/60} to {(i+120)/60}\")\n",
    "    cases = (seconds_xgb>=i) & (seconds_xgb<=(i+120))\n",
    "    if cases.sum() <50:\n",
    "        continue\n",
    "    print(f\"n cases {cases.sum()}\")\n",
    "    metrics = xgb_100km.evaluate(df_test_large_xgb[cases].reset_index(drop=True), y_test_large_xgb[cases].reset_index(drop=True))\n",
    "    print(metrics)"
   ],
   "metadata": {
    "collapsed": false,
    "ExecuteTime": {
     "end_time": "2024-03-09T22:02:28.497759Z",
     "start_time": "2024-03-09T22:02:25.857719900Z"
    }
   }
  },
  {
   "cell_type": "code",
   "execution_count": 20,
   "outputs": [
    {
     "name": "stdout",
     "output_type": "stream",
     "text": [
      "10.0 to 15.0\n",
      "n cases 54661\n",
      "(135.13752683696063, 5.088571878149758, -10.568248368384006, 0.5220097491513518)\n",
      "15.0 to 20.0\n",
      "n cases 53928\n",
      "(278.53511962217914, 4.571627344108339, -33.568825910914576, 0.14406274438835975)\n"
     ]
    }
   ],
   "source": [
    "\n",
    "for i in range(600, 1200, 300):\n",
    "\n",
    "    print(f\"{i / 60} to {(i + 300) / 60}\")\n",
    "    cases = (seconds_xgb >= i) & (seconds_xgb <= (i + 300))\n",
    "    if cases.sum() < 50:\n",
    "        continue\n",
    "    print(f\"n cases {cases.sum()}\")\n",
    "    metrics = xgb_100km.evaluate(df_test_large_xgb[cases].reset_index(drop=True),\n",
    "                                     y_test_large_xgb[cases].reset_index(drop=True))\n",
    "    print(metrics)"
   ],
   "metadata": {
    "collapsed": false,
    "ExecuteTime": {
     "end_time": "2024-03-09T22:04:44.297737800Z",
     "start_time": "2024-03-09T22:04:43.907521900Z"
    }
   }
  },
  {
   "cell_type": "code",
   "execution_count": null,
   "outputs": [],
   "source": [],
   "metadata": {
    "collapsed": false
   }
  }
 ],
 "metadata": {
  "kernelspec": {
   "name": "lufthansa-arrival-time-prediction",
   "language": "python",
   "display_name": "Lufthansa-Arrival-Time-Prediction"
  },
  "language_info": {
   "codemirror_mode": {
    "name": "ipython",
    "version": 2
   },
   "file_extension": ".py",
   "mimetype": "text/x-python",
   "name": "python",
   "nbconvert_exporter": "python",
   "pygments_lexer": "ipython2",
   "version": "2.7.6"
  }
 },
 "nbformat": 4,
 "nbformat_minor": 0
}
