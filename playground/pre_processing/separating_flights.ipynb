{
 "cells": [
  {
   "cell_type": "code",
   "execution_count": 1,
   "metadata": {
    "collapsed": true,
    "ExecuteTime": {
     "start_time": "2023-04-05T15:49:31.886848Z",
     "end_time": "2023-04-05T15:49:39.025189Z"
    }
   },
   "outputs": [],
   "source": [
    "import traffic\n",
    "from traffic.data import opensky\n",
    "from traffic.core import Traffic\n",
    "from rich.pretty import pprint\n",
    "import pandas as pd\n",
    "import copy"
   ]
  },
  {
   "cell_type": "code",
   "execution_count": 2,
   "outputs": [],
   "source": [
    "file = \"Frankfurt_LH_2205.h5\""
   ],
   "metadata": {
    "collapsed": false,
    "ExecuteTime": {
     "start_time": "2023-04-05T15:50:35.467397Z",
     "end_time": "2023-04-05T15:50:35.489125Z"
    }
   }
  },
  {
   "cell_type": "code",
   "execution_count": 3,
   "outputs": [],
   "source": [
    "t_09 = Traffic.from_file(file, key=\"LH_220509\", parse_dates=[\"day\", \"firstseen\", \"hour\", \"last_position\", \"lastseen\", \"timestamp\"])\n",
    "t_10 = Traffic.from_file(file, key=\"LH_220510\", parse_dates=[\"day\", \"firstseen\", \"hour\", \"last_position\", \"lastseen\", \"timestamp\"])\n",
    "t_11 = Traffic.from_file(file, key=\"LH_220511\", parse_dates=[\"day\", \"firstseen\", \"hour\", \"last_position\", \"lastseen\", \"timestamp\"])"
   ],
   "metadata": {
    "collapsed": false,
    "ExecuteTime": {
     "start_time": "2023-04-05T15:50:35.754508Z",
     "end_time": "2023-04-05T15:51:20.324200Z"
    }
   }
  },
  {
   "cell_type": "code",
   "execution_count": 4,
   "outputs": [],
   "source": [
    "three_days_data = pd.concat([t_09.data, t_10.data,t_11.data ], axis=0)"
   ],
   "metadata": {
    "collapsed": false,
    "ExecuteTime": {
     "start_time": "2023-04-05T15:51:20.450559Z",
     "end_time": "2023-04-05T15:51:22.796598Z"
    }
   }
  },
  {
   "cell_type": "code",
   "execution_count": 5,
   "outputs": [
    {
     "data": {
      "text/plain": "       alert  altitude callsign                       day destination  \\\n42158  False    1550.0   DLH465 2022-05-09 00:00:00+00:00        EDDF   \n42159  False    1600.0   DLH465 2022-05-09 00:00:00+00:00        EDDF   \n42160  False    1600.0   DLH465 2022-05-09 00:00:00+00:00        EDDF   \n42161  False    1600.0   DLH465 2022-05-09 00:00:00+00:00        EDDF   \n42162  False    1600.0   DLH465 2022-05-09 00:00:00+00:00        EDDF   \n\n                      firstseen  geoaltitude  groundspeed  \\\n42158 2022-05-09 00:47:48+00:00       1300.0        179.0   \n42159 2022-05-09 00:47:48+00:00       1300.0        179.0   \n42160 2022-05-09 00:47:48+00:00       1300.0        179.0   \n42161 2022-05-09 00:47:48+00:00       1475.0        177.0   \n42162 2022-05-09 00:47:48+00:00       1500.0        177.0   \n\n                           hour  icao24  ...   latitude  longitude  onground  \\\n42158 2022-05-09 00:00:00+00:00  3c4a8b  ...  28.463947 -81.298343     False   \n42159 2022-05-09 00:00:00+00:00  3c4a8b  ...  28.465669 -81.298397     False   \n42160 2022-05-09 00:00:00+00:00  3c4a8b  ...  28.465669 -81.298397     False   \n42161 2022-05-09 00:00:00+00:00  3c4a8b  ...  28.465669 -81.298397     False   \n42162 2022-05-09 00:00:00+00:00  3c4a8b  ...  28.465669 -81.298397     False   \n\n       origin    spi squawk                 timestamp       track  \\\n42158    KMCO  False    NaN 2022-05-09 00:47:48+00:00  355.183085   \n42159    KMCO  False    NaN 2022-05-09 00:47:49+00:00  355.183085   \n42160    KMCO  False    NaN 2022-05-09 00:47:50+00:00  355.183085   \n42161    KMCO  False    NaN 2022-05-09 00:47:51+00:00    3.556181   \n42162    KMCO  False    NaN 2022-05-09 00:47:52+00:00    5.517136   \n\n      vertical_rate   flight_id  \n42158        1856.0  DLH465_000  \n42159        1856.0  DLH465_000  \n42160        1856.0  DLH465_000  \n42161        1728.0  DLH465_000  \n42162        1664.0  DLH465_000  \n\n[5 rows x 22 columns]",
      "text/html": "<div>\n<style scoped>\n    .dataframe tbody tr th:only-of-type {\n        vertical-align: middle;\n    }\n\n    .dataframe tbody tr th {\n        vertical-align: top;\n    }\n\n    .dataframe thead th {\n        text-align: right;\n    }\n</style>\n<table border=\"1\" class=\"dataframe\">\n  <thead>\n    <tr style=\"text-align: right;\">\n      <th></th>\n      <th>alert</th>\n      <th>altitude</th>\n      <th>callsign</th>\n      <th>day</th>\n      <th>destination</th>\n      <th>firstseen</th>\n      <th>geoaltitude</th>\n      <th>groundspeed</th>\n      <th>hour</th>\n      <th>icao24</th>\n      <th>...</th>\n      <th>latitude</th>\n      <th>longitude</th>\n      <th>onground</th>\n      <th>origin</th>\n      <th>spi</th>\n      <th>squawk</th>\n      <th>timestamp</th>\n      <th>track</th>\n      <th>vertical_rate</th>\n      <th>flight_id</th>\n    </tr>\n  </thead>\n  <tbody>\n    <tr>\n      <th>42158</th>\n      <td>False</td>\n      <td>1550.0</td>\n      <td>DLH465</td>\n      <td>2022-05-09 00:00:00+00:00</td>\n      <td>EDDF</td>\n      <td>2022-05-09 00:47:48+00:00</td>\n      <td>1300.0</td>\n      <td>179.0</td>\n      <td>2022-05-09 00:00:00+00:00</td>\n      <td>3c4a8b</td>\n      <td>...</td>\n      <td>28.463947</td>\n      <td>-81.298343</td>\n      <td>False</td>\n      <td>KMCO</td>\n      <td>False</td>\n      <td>NaN</td>\n      <td>2022-05-09 00:47:48+00:00</td>\n      <td>355.183085</td>\n      <td>1856.0</td>\n      <td>DLH465_000</td>\n    </tr>\n    <tr>\n      <th>42159</th>\n      <td>False</td>\n      <td>1600.0</td>\n      <td>DLH465</td>\n      <td>2022-05-09 00:00:00+00:00</td>\n      <td>EDDF</td>\n      <td>2022-05-09 00:47:48+00:00</td>\n      <td>1300.0</td>\n      <td>179.0</td>\n      <td>2022-05-09 00:00:00+00:00</td>\n      <td>3c4a8b</td>\n      <td>...</td>\n      <td>28.465669</td>\n      <td>-81.298397</td>\n      <td>False</td>\n      <td>KMCO</td>\n      <td>False</td>\n      <td>NaN</td>\n      <td>2022-05-09 00:47:49+00:00</td>\n      <td>355.183085</td>\n      <td>1856.0</td>\n      <td>DLH465_000</td>\n    </tr>\n    <tr>\n      <th>42160</th>\n      <td>False</td>\n      <td>1600.0</td>\n      <td>DLH465</td>\n      <td>2022-05-09 00:00:00+00:00</td>\n      <td>EDDF</td>\n      <td>2022-05-09 00:47:48+00:00</td>\n      <td>1300.0</td>\n      <td>179.0</td>\n      <td>2022-05-09 00:00:00+00:00</td>\n      <td>3c4a8b</td>\n      <td>...</td>\n      <td>28.465669</td>\n      <td>-81.298397</td>\n      <td>False</td>\n      <td>KMCO</td>\n      <td>False</td>\n      <td>NaN</td>\n      <td>2022-05-09 00:47:50+00:00</td>\n      <td>355.183085</td>\n      <td>1856.0</td>\n      <td>DLH465_000</td>\n    </tr>\n    <tr>\n      <th>42161</th>\n      <td>False</td>\n      <td>1600.0</td>\n      <td>DLH465</td>\n      <td>2022-05-09 00:00:00+00:00</td>\n      <td>EDDF</td>\n      <td>2022-05-09 00:47:48+00:00</td>\n      <td>1475.0</td>\n      <td>177.0</td>\n      <td>2022-05-09 00:00:00+00:00</td>\n      <td>3c4a8b</td>\n      <td>...</td>\n      <td>28.465669</td>\n      <td>-81.298397</td>\n      <td>False</td>\n      <td>KMCO</td>\n      <td>False</td>\n      <td>NaN</td>\n      <td>2022-05-09 00:47:51+00:00</td>\n      <td>3.556181</td>\n      <td>1728.0</td>\n      <td>DLH465_000</td>\n    </tr>\n    <tr>\n      <th>42162</th>\n      <td>False</td>\n      <td>1600.0</td>\n      <td>DLH465</td>\n      <td>2022-05-09 00:00:00+00:00</td>\n      <td>EDDF</td>\n      <td>2022-05-09 00:47:48+00:00</td>\n      <td>1500.0</td>\n      <td>177.0</td>\n      <td>2022-05-09 00:00:00+00:00</td>\n      <td>3c4a8b</td>\n      <td>...</td>\n      <td>28.465669</td>\n      <td>-81.298397</td>\n      <td>False</td>\n      <td>KMCO</td>\n      <td>False</td>\n      <td>NaN</td>\n      <td>2022-05-09 00:47:52+00:00</td>\n      <td>5.517136</td>\n      <td>1664.0</td>\n      <td>DLH465_000</td>\n    </tr>\n  </tbody>\n</table>\n<p>5 rows × 22 columns</p>\n</div>"
     },
     "execution_count": 5,
     "metadata": {},
     "output_type": "execute_result"
    }
   ],
   "source": [
    "three_days_data.head()"
   ],
   "metadata": {
    "collapsed": false,
    "ExecuteTime": {
     "start_time": "2023-04-05T15:52:21.572618Z",
     "end_time": "2023-04-05T15:52:21.701948Z"
    }
   }
  },
  {
   "cell_type": "code",
   "execution_count": 6,
   "outputs": [],
   "source": [
    "three_days_data.sort_values(by=['callsign','timestamp'], inplace = True)"
   ],
   "metadata": {
    "collapsed": false,
    "ExecuteTime": {
     "start_time": "2023-04-05T15:52:33.745210Z",
     "end_time": "2023-04-05T15:52:38.713989Z"
    }
   }
  },
  {
   "cell_type": "code",
   "execution_count": 7,
   "outputs": [
    {
     "data": {
      "text/plain": "        alert  altitude callsign                       day destination  \\\n228881  False    -350.0   DLH001 2022-05-09 00:00:00+00:00        EDDF   \n228882  False    -350.0   DLH001 2022-05-09 00:00:00+00:00        EDDF   \n228883  False    -350.0   DLH001 2022-05-09 00:00:00+00:00        EDDF   \n228884  False    -350.0   DLH001 2022-05-09 00:00:00+00:00        EDDF   \n228885  False    -350.0   DLH001 2022-05-09 00:00:00+00:00        EDDF   \n\n                       firstseen  geoaltitude  groundspeed  \\\n228881 2022-05-09 04:06:29+00:00        200.0        123.0   \n228882 2022-05-09 04:06:29+00:00        200.0        126.0   \n228883 2022-05-09 04:06:29+00:00        200.0        126.0   \n228884 2022-05-09 04:06:29+00:00        200.0        126.0   \n228885 2022-05-09 04:06:29+00:00        200.0        126.0   \n\n                            hour  icao24  ...   latitude longitude  onground  \\\n228881 2022-05-09 04:00:00+00:00  3c666a  ...  53.636092  9.991096     False   \n228882 2022-05-09 04:00:00+00:00  3c666a  ...  53.637222  9.990104     False   \n228883 2022-05-09 04:00:00+00:00  3c666a  ...  53.637768  9.989642     False   \n228884 2022-05-09 04:00:00+00:00  3c666a  ...  53.638367  9.989083     False   \n228885 2022-05-09 04:00:00+00:00  3c666a  ...  53.638367  9.989083     False   \n\n        origin    spi squawk                 timestamp       track  \\\n228881    EDDH  False    NaN 2022-05-09 04:06:29+00:00  332.807648   \n228882    EDDH  False    NaN 2022-05-09 04:06:30+00:00  333.027157   \n228883    EDDH  False    NaN 2022-05-09 04:06:31+00:00  333.027157   \n228884    EDDH  False    NaN 2022-05-09 04:06:32+00:00  333.027157   \n228885    EDDH  False    NaN 2022-05-09 04:06:33+00:00  333.027157   \n\n       vertical_rate   flight_id  \n228881          64.0  DLH001_332  \n228882          64.0  DLH001_332  \n228883          64.0  DLH001_332  \n228884          64.0  DLH001_332  \n228885          64.0  DLH001_332  \n\n[5 rows x 22 columns]",
      "text/html": "<div>\n<style scoped>\n    .dataframe tbody tr th:only-of-type {\n        vertical-align: middle;\n    }\n\n    .dataframe tbody tr th {\n        vertical-align: top;\n    }\n\n    .dataframe thead th {\n        text-align: right;\n    }\n</style>\n<table border=\"1\" class=\"dataframe\">\n  <thead>\n    <tr style=\"text-align: right;\">\n      <th></th>\n      <th>alert</th>\n      <th>altitude</th>\n      <th>callsign</th>\n      <th>day</th>\n      <th>destination</th>\n      <th>firstseen</th>\n      <th>geoaltitude</th>\n      <th>groundspeed</th>\n      <th>hour</th>\n      <th>icao24</th>\n      <th>...</th>\n      <th>latitude</th>\n      <th>longitude</th>\n      <th>onground</th>\n      <th>origin</th>\n      <th>spi</th>\n      <th>squawk</th>\n      <th>timestamp</th>\n      <th>track</th>\n      <th>vertical_rate</th>\n      <th>flight_id</th>\n    </tr>\n  </thead>\n  <tbody>\n    <tr>\n      <th>228881</th>\n      <td>False</td>\n      <td>-350.0</td>\n      <td>DLH001</td>\n      <td>2022-05-09 00:00:00+00:00</td>\n      <td>EDDF</td>\n      <td>2022-05-09 04:06:29+00:00</td>\n      <td>200.0</td>\n      <td>123.0</td>\n      <td>2022-05-09 04:00:00+00:00</td>\n      <td>3c666a</td>\n      <td>...</td>\n      <td>53.636092</td>\n      <td>9.991096</td>\n      <td>False</td>\n      <td>EDDH</td>\n      <td>False</td>\n      <td>NaN</td>\n      <td>2022-05-09 04:06:29+00:00</td>\n      <td>332.807648</td>\n      <td>64.0</td>\n      <td>DLH001_332</td>\n    </tr>\n    <tr>\n      <th>228882</th>\n      <td>False</td>\n      <td>-350.0</td>\n      <td>DLH001</td>\n      <td>2022-05-09 00:00:00+00:00</td>\n      <td>EDDF</td>\n      <td>2022-05-09 04:06:29+00:00</td>\n      <td>200.0</td>\n      <td>126.0</td>\n      <td>2022-05-09 04:00:00+00:00</td>\n      <td>3c666a</td>\n      <td>...</td>\n      <td>53.637222</td>\n      <td>9.990104</td>\n      <td>False</td>\n      <td>EDDH</td>\n      <td>False</td>\n      <td>NaN</td>\n      <td>2022-05-09 04:06:30+00:00</td>\n      <td>333.027157</td>\n      <td>64.0</td>\n      <td>DLH001_332</td>\n    </tr>\n    <tr>\n      <th>228883</th>\n      <td>False</td>\n      <td>-350.0</td>\n      <td>DLH001</td>\n      <td>2022-05-09 00:00:00+00:00</td>\n      <td>EDDF</td>\n      <td>2022-05-09 04:06:29+00:00</td>\n      <td>200.0</td>\n      <td>126.0</td>\n      <td>2022-05-09 04:00:00+00:00</td>\n      <td>3c666a</td>\n      <td>...</td>\n      <td>53.637768</td>\n      <td>9.989642</td>\n      <td>False</td>\n      <td>EDDH</td>\n      <td>False</td>\n      <td>NaN</td>\n      <td>2022-05-09 04:06:31+00:00</td>\n      <td>333.027157</td>\n      <td>64.0</td>\n      <td>DLH001_332</td>\n    </tr>\n    <tr>\n      <th>228884</th>\n      <td>False</td>\n      <td>-350.0</td>\n      <td>DLH001</td>\n      <td>2022-05-09 00:00:00+00:00</td>\n      <td>EDDF</td>\n      <td>2022-05-09 04:06:29+00:00</td>\n      <td>200.0</td>\n      <td>126.0</td>\n      <td>2022-05-09 04:00:00+00:00</td>\n      <td>3c666a</td>\n      <td>...</td>\n      <td>53.638367</td>\n      <td>9.989083</td>\n      <td>False</td>\n      <td>EDDH</td>\n      <td>False</td>\n      <td>NaN</td>\n      <td>2022-05-09 04:06:32+00:00</td>\n      <td>333.027157</td>\n      <td>64.0</td>\n      <td>DLH001_332</td>\n    </tr>\n    <tr>\n      <th>228885</th>\n      <td>False</td>\n      <td>-350.0</td>\n      <td>DLH001</td>\n      <td>2022-05-09 00:00:00+00:00</td>\n      <td>EDDF</td>\n      <td>2022-05-09 04:06:29+00:00</td>\n      <td>200.0</td>\n      <td>126.0</td>\n      <td>2022-05-09 04:00:00+00:00</td>\n      <td>3c666a</td>\n      <td>...</td>\n      <td>53.638367</td>\n      <td>9.989083</td>\n      <td>False</td>\n      <td>EDDH</td>\n      <td>False</td>\n      <td>NaN</td>\n      <td>2022-05-09 04:06:33+00:00</td>\n      <td>333.027157</td>\n      <td>64.0</td>\n      <td>DLH001_332</td>\n    </tr>\n  </tbody>\n</table>\n<p>5 rows × 22 columns</p>\n</div>"
     },
     "execution_count": 7,
     "metadata": {},
     "output_type": "execute_result"
    }
   ],
   "source": [
    "three_days_data.head()"
   ],
   "metadata": {
    "collapsed": false,
    "ExecuteTime": {
     "start_time": "2023-04-05T15:53:08.819605Z",
     "end_time": "2023-04-05T15:53:08.952244Z"
    }
   }
  },
  {
   "cell_type": "code",
   "execution_count": 8,
   "outputs": [],
   "source": [
    "callsigns = three_days_data.groupby('callsign').mean(numeric_only = True) # Looking at the numerical data by callsigns - primarily to check if onground goes to True ever"
   ],
   "metadata": {
    "collapsed": false,
    "ExecuteTime": {
     "start_time": "2023-04-05T15:53:24.378981Z",
     "end_time": "2023-04-05T15:53:25.630370Z"
    }
   }
  },
  {
   "cell_type": "code",
   "execution_count": 9,
   "outputs": [
    {
     "data": {
      "text/plain": "             alert      altitude   geoaltitude  groundspeed   latitude  \\\ncallsign                                                                 \nDLH001    0.002009  16127.247672  17061.627653   317.077623  51.416622   \nDLH011    0.000221  15412.291876  16200.799864   322.143157  51.461679   \nDLH01F    0.000209  28565.147139  29961.354966   381.856207  46.456241   \nDLH033    0.000919  16119.783219  17812.261536   309.906891  51.387440   \nDLH03H    0.000139  20653.509629  21463.494834   359.102371  48.734352   \n...            ...           ...           ...          ...        ...   \nDLH9UM    0.000306   9695.586883  10228.518859   277.973636  49.531298   \nDLH9V     0.000353  19909.295925  20852.012321   352.246470  49.059907   \nDLH9VT    0.000803  19163.884430  19739.576362   361.797485  50.427113   \nDLH9Y     0.002713  11806.746415  12529.416936   303.559370  50.326888   \nDLH9YX    0.000209  23678.172358  24299.054989   362.906075  52.166810   \n\n          longitude  onground       spi       track  vertical_rate  \ncallsign                                                            \nDLH001     9.423855  0.032995  0.000423  187.744064      -9.353638  \nDLH011     9.453660  0.026929  0.000110  189.874476       3.079912  \nDLH01F     1.792900  0.026213  0.000376   53.864588     -13.364722  \nDLH033     9.541780  0.079216  0.000102  199.150652      -6.109239  \nDLH03H    11.988422  0.001255  0.000139  297.101695     -11.639609  \n...             ...       ...       ...         ...            ...  \nDLH9UM     8.932650  0.000613  0.000000  197.903500     -30.705089  \nDLH9V     11.911300  0.018878  0.000176  269.675408      -2.360748  \nDLH9VT    11.573852  0.000401  0.000268  235.088912     -97.643660  \nDLH9Y      7.028872  0.034997  0.000136  123.151986      -1.346180  \nDLH9YX    13.076542  0.000279  0.000140  229.133392      -4.294972  \n\n[415 rows x 10 columns]",
      "text/html": "<div>\n<style scoped>\n    .dataframe tbody tr th:only-of-type {\n        vertical-align: middle;\n    }\n\n    .dataframe tbody tr th {\n        vertical-align: top;\n    }\n\n    .dataframe thead th {\n        text-align: right;\n    }\n</style>\n<table border=\"1\" class=\"dataframe\">\n  <thead>\n    <tr style=\"text-align: right;\">\n      <th></th>\n      <th>alert</th>\n      <th>altitude</th>\n      <th>geoaltitude</th>\n      <th>groundspeed</th>\n      <th>latitude</th>\n      <th>longitude</th>\n      <th>onground</th>\n      <th>spi</th>\n      <th>track</th>\n      <th>vertical_rate</th>\n    </tr>\n    <tr>\n      <th>callsign</th>\n      <th></th>\n      <th></th>\n      <th></th>\n      <th></th>\n      <th></th>\n      <th></th>\n      <th></th>\n      <th></th>\n      <th></th>\n      <th></th>\n    </tr>\n  </thead>\n  <tbody>\n    <tr>\n      <th>DLH001</th>\n      <td>0.002009</td>\n      <td>16127.247672</td>\n      <td>17061.627653</td>\n      <td>317.077623</td>\n      <td>51.416622</td>\n      <td>9.423855</td>\n      <td>0.032995</td>\n      <td>0.000423</td>\n      <td>187.744064</td>\n      <td>-9.353638</td>\n    </tr>\n    <tr>\n      <th>DLH011</th>\n      <td>0.000221</td>\n      <td>15412.291876</td>\n      <td>16200.799864</td>\n      <td>322.143157</td>\n      <td>51.461679</td>\n      <td>9.453660</td>\n      <td>0.026929</td>\n      <td>0.000110</td>\n      <td>189.874476</td>\n      <td>3.079912</td>\n    </tr>\n    <tr>\n      <th>DLH01F</th>\n      <td>0.000209</td>\n      <td>28565.147139</td>\n      <td>29961.354966</td>\n      <td>381.856207</td>\n      <td>46.456241</td>\n      <td>1.792900</td>\n      <td>0.026213</td>\n      <td>0.000376</td>\n      <td>53.864588</td>\n      <td>-13.364722</td>\n    </tr>\n    <tr>\n      <th>DLH033</th>\n      <td>0.000919</td>\n      <td>16119.783219</td>\n      <td>17812.261536</td>\n      <td>309.906891</td>\n      <td>51.387440</td>\n      <td>9.541780</td>\n      <td>0.079216</td>\n      <td>0.000102</td>\n      <td>199.150652</td>\n      <td>-6.109239</td>\n    </tr>\n    <tr>\n      <th>DLH03H</th>\n      <td>0.000139</td>\n      <td>20653.509629</td>\n      <td>21463.494834</td>\n      <td>359.102371</td>\n      <td>48.734352</td>\n      <td>11.988422</td>\n      <td>0.001255</td>\n      <td>0.000139</td>\n      <td>297.101695</td>\n      <td>-11.639609</td>\n    </tr>\n    <tr>\n      <th>...</th>\n      <td>...</td>\n      <td>...</td>\n      <td>...</td>\n      <td>...</td>\n      <td>...</td>\n      <td>...</td>\n      <td>...</td>\n      <td>...</td>\n      <td>...</td>\n      <td>...</td>\n    </tr>\n    <tr>\n      <th>DLH9UM</th>\n      <td>0.000306</td>\n      <td>9695.586883</td>\n      <td>10228.518859</td>\n      <td>277.973636</td>\n      <td>49.531298</td>\n      <td>8.932650</td>\n      <td>0.000613</td>\n      <td>0.000000</td>\n      <td>197.903500</td>\n      <td>-30.705089</td>\n    </tr>\n    <tr>\n      <th>DLH9V</th>\n      <td>0.000353</td>\n      <td>19909.295925</td>\n      <td>20852.012321</td>\n      <td>352.246470</td>\n      <td>49.059907</td>\n      <td>11.911300</td>\n      <td>0.018878</td>\n      <td>0.000176</td>\n      <td>269.675408</td>\n      <td>-2.360748</td>\n    </tr>\n    <tr>\n      <th>DLH9VT</th>\n      <td>0.000803</td>\n      <td>19163.884430</td>\n      <td>19739.576362</td>\n      <td>361.797485</td>\n      <td>50.427113</td>\n      <td>11.573852</td>\n      <td>0.000401</td>\n      <td>0.000268</td>\n      <td>235.088912</td>\n      <td>-97.643660</td>\n    </tr>\n    <tr>\n      <th>DLH9Y</th>\n      <td>0.002713</td>\n      <td>11806.746415</td>\n      <td>12529.416936</td>\n      <td>303.559370</td>\n      <td>50.326888</td>\n      <td>7.028872</td>\n      <td>0.034997</td>\n      <td>0.000136</td>\n      <td>123.151986</td>\n      <td>-1.346180</td>\n    </tr>\n    <tr>\n      <th>DLH9YX</th>\n      <td>0.000209</td>\n      <td>23678.172358</td>\n      <td>24299.054989</td>\n      <td>362.906075</td>\n      <td>52.166810</td>\n      <td>13.076542</td>\n      <td>0.000279</td>\n      <td>0.000140</td>\n      <td>229.133392</td>\n      <td>-4.294972</td>\n    </tr>\n  </tbody>\n</table>\n<p>415 rows × 10 columns</p>\n</div>"
     },
     "execution_count": 9,
     "metadata": {},
     "output_type": "execute_result"
    }
   ],
   "source": [
    "callsigns"
   ],
   "metadata": {
    "collapsed": false,
    "ExecuteTime": {
     "start_time": "2023-04-05T15:53:28.633762Z",
     "end_time": "2023-04-05T15:53:28.674509Z"
    }
   }
  },
  {
   "cell_type": "code",
   "execution_count": 10,
   "outputs": [
    {
     "data": {
      "text/plain": "             alert      altitude   geoaltitude  groundspeed   latitude  \\\ncallsign                                                                 \nDLH065    0.000000  11661.114991  12236.497201   300.792365  50.887083   \nDLH09F    0.000103  29092.986926  30309.263358   406.463043  45.111275   \nDLH11U    0.000000  24011.782835  24828.046468   381.119725  48.971369   \nDLH1323   0.000322  28539.442744  29086.833629   403.313416  45.619617   \nDLH1425   0.001000  29856.318764  30541.757527   386.215582  46.609103   \nDLH1561   0.001649  31582.948869  32111.529126   418.160117  46.133943   \nDLH1FL    0.000194  27381.697985  27791.015209   393.982759  53.557401   \nDLH1VR    0.000271  12000.081169  12520.155616   308.639069  50.903669   \nDLH223    0.000000  20500.896624  20876.655236   334.490770  52.129985   \nDLH23M    0.000787  20953.858004  21569.256491   354.123230  48.768520   \nDLH27Y    0.000000  25021.619011  25965.161321   392.277821  48.251676   \nDLH291    0.000000  22252.283264           NaN   371.918173  47.885206   \nDLH2AM    0.000517  12615.227918  13204.256556   302.740702  51.281870   \nDLH2EK    0.000233  12409.975484  13001.044828   314.106443  49.058030   \nDLH2PM    0.000504  26178.110229  26971.687260   382.703914  46.187619   \nDLH2V     0.000130  20839.305700  19970.955606   350.946903  49.039823   \nDLH31X    0.000663  21463.741546  22330.279215   362.265482  47.838048   \nDLH345    0.000000  26205.262213  27084.794061   358.855125  48.355250   \nDLH359    0.001601  13049.039231  13396.807446   288.230184  51.329382   \nDLH3F     0.000000  14945.830055  15687.052342   370.797404  49.610623   \nDLH3KK    0.000246  19476.561731  20104.137973   355.752091  48.190180   \nDLH3KW    0.097053  29054.551544  29621.266832   400.205291  47.501648   \nDLH3LJ    0.000270  21328.211102  22097.936647   357.710292  48.364185   \nDLH403    0.000403  31811.021822  32560.426967   485.378753  48.643479   \nDLH44K    0.000141  28633.923117  29507.185326   391.364350  44.677609   \nDLH451    0.006137  31677.409403  32016.086296   514.823915  46.516543   \nDLH48F    0.000229  23499.181548  24374.748111   395.852106  48.915882   \nDLH4CH    0.000000  23797.244439  24511.697076   407.993002  50.237176   \nDLH4LA    0.000927  22534.638554  23180.579374   415.925626  50.750016   \nDLH4TT    0.000000  28719.737932  29612.961044   372.613424  47.922019   \nDLH4WT    0.000000  25322.141835  25857.906662   402.346319  46.101488   \nDLH4YR    0.000218  24194.145915  24810.498143   374.758191  47.717990   \nDLH56V    0.000264  28142.833693  29090.582856   416.872956  45.907769   \nDLH5AE    0.000353  28764.419179  29503.543724   377.129561  49.293456   \nDLH5KK    0.003373  20999.522901  21672.281161   366.083348  48.485536   \nDLH5NC    0.000186   9543.741876  10100.255386   261.114206  49.827406   \nDLH5YX    0.000000  12895.699648  13498.353355   311.233858  50.630407   \nDLH649    0.000177  33231.868741  33646.933168   422.343083  45.965328   \nDLH67Y    0.000150  27231.362270  28001.954299   378.413604  45.563279   \nDLH68E    0.000000  15881.853090  16525.126491   335.063245  49.239675   \nDLH6K     0.000152  19924.658003  20615.826490   344.399696  48.234218   \nDLH6LF    0.000177  20611.506388  20848.183244   369.750288  48.030266   \nDLH6LX    0.001958  30675.673653  31115.807807   401.511055  43.904727   \nDLH6TP    0.000204  24528.209908  25192.844740   364.935853  48.647657   \nDLH6U     0.000284  22417.162220  23137.812234   370.615101  50.682181   \nDLH717    0.000000  30596.559704  30923.862625   437.640737  52.473023   \nDLH72T    0.000194  24813.470850  25774.849835   360.798954  48.049591   \nDLH755    0.000027  32087.133854  32712.222207   454.543552  41.182220   \nDLH7KW    0.000690  11011.121979  11545.090930   313.707250  51.007185   \nDLH7TH    0.000749  15445.035594  16096.458021   359.744569  50.385006   \nDLH7V     0.000259  21225.226479  21838.635775   347.104957  49.016337   \nDLH839    0.000762  21365.663110  21979.048043   354.504191  52.549050   \nDLH8XV    0.000000  13149.309482  13716.998477   294.899304  48.999686   \nDLH9917   0.000745   7648.250186   7966.641847   277.214445  50.020058   \nDLH9LA    0.000114  22801.346330  23508.708829   365.901555  48.371662   \n\n          longitude  onground       spi       track  vertical_rate  \ncallsign                                                            \nDLH065     8.062404       0.0  0.000000  177.160825     -14.778399  \nDLH09F     0.656701       0.0  0.002882   52.292883      -2.273008  \nDLH11U     3.676257       0.0  0.000000   67.473579     -67.944998  \nDLH1323    9.089588       0.0  0.000805  269.736702    -327.844097  \nDLH1425   14.320494       0.0  0.000050  310.617561     -80.322448  \nDLH1561   20.919309       0.0  0.000047  287.099222    -193.263594  \nDLH1FL     8.649036       0.0  0.000194  175.374518    -208.799690  \nDLH1VR     8.160555       0.0  0.000271  165.216660      -2.354978  \nDLH223     9.277101       0.0  0.000264  191.033683       3.223629  \nDLH23M    11.747245       0.0  0.000000  277.496000     -11.804929  \nDLH27Y     3.693937       0.0  0.000193   72.775698      -1.644513  \nDLH291    10.433136       0.0  0.000000  263.968714       5.340751  \nDLH2AM     8.979046       0.0  0.000387  183.938047      -1.322314  \nDLH2EK     8.878139       0.0  0.000467  251.853017     -24.082166  \nDLH2PM     9.979731       0.0  0.000189  265.979914       0.407386  \nDLH2V     11.926153       0.0  0.000000  274.130233       1.041124  \nDLH31X     7.818443       0.0  0.000265   96.002174     -90.572603  \nDLH345    12.296221       0.0  0.000000  299.763379    -112.720307  \nDLH359     9.039045       0.0  0.000400  191.364626      -6.635709  \nDLH3F      5.842596       0.0  0.000393   78.625378      -9.365854  \nDLH3KK    11.112039       0.0  0.000000  269.925756     -19.218888  \nDLH3KW    17.064489       0.0  0.000000  283.195343       0.505827  \nDLH3LJ    11.841312       0.0  0.000000  304.008086     -27.124797  \nDLH403   -26.412847       0.0  0.000269   83.194840     -75.390688  \nDLH44K     6.426677       0.0  0.000047   58.403235      -0.839137  \nDLH451   -60.375366       0.0  0.000196   81.462401     -11.192113  \nDLH48F     4.151693       0.0  0.000229   83.254172     -55.882784  \nDLH4CH    13.994072       0.0  0.000000  262.317005     -14.588353  \nDLH4LA     3.679218       0.0  0.000463  118.812199      -9.356812  \nDLH4TT    12.854853       0.0  0.000207  308.629820    -335.605552  \nDLH4WT    12.827443       0.0  0.000000  293.601324      19.589760  \nDLH4YR    11.369243       0.0  0.000000  296.055449    -184.856269  \nDLH56V     4.079949       0.0  0.000220   99.582969    -114.355616  \nDLH5AE    14.725806       0.0  0.000176  279.888128    -304.168283  \nDLH5KK    11.574012       0.0  0.000266  294.065521     -31.806852  \nDLH5NC     9.463349       0.0  0.000000  250.589169     -27.786815  \nDLH5YX     9.936804       0.0  0.000000  213.339588      -4.543046  \nDLH649    21.819627       0.0  0.000177  282.996548    -201.234423  \nDLH67Y     6.595441       0.0  0.000225   71.966899       1.337242  \nDLH68E    10.620534       0.0  0.000181  276.890720     -26.564510  \nDLH6K      8.192078       0.0  0.000152  117.348222     -60.333131  \nDLH6LF    10.712789       0.0  0.000000  294.018269       5.603477  \nDLH6LX    11.697081       0.0  0.000000  326.552066     -37.350530  \nDLH6TP    13.325373       0.0  0.000102  276.193850      -1.385904  \nDLH6U      4.390237       0.0  0.000284  103.733223     -17.403349  \nDLH717   -14.019386       0.0  0.000178  127.689526     -33.214721  \nDLH72T     3.179951       0.0  0.000194   50.136754       0.173543  \nDLH755    29.108491       0.0  0.000000  289.485233     -89.226841  \nDLH7KW     9.148039       0.0  0.000460  191.508117     -10.251784  \nDLH7TH    10.684981       0.0  0.000000  225.980688      -7.814232  \nDLH7V     11.869729       0.0  0.000129  274.614677      -2.650446  \nDLH839     9.492655       0.0  0.000508  193.806060      -6.583693  \nDLH8XV     8.315383       0.0  0.000000  131.282917     -14.169639  \nDLH9917    8.200933       0.0  0.000745  140.006934    -127.952345  \nDLH9LA    11.846042       0.0  0.000114  273.385658     -93.892522  ",
      "text/html": "<div>\n<style scoped>\n    .dataframe tbody tr th:only-of-type {\n        vertical-align: middle;\n    }\n\n    .dataframe tbody tr th {\n        vertical-align: top;\n    }\n\n    .dataframe thead th {\n        text-align: right;\n    }\n</style>\n<table border=\"1\" class=\"dataframe\">\n  <thead>\n    <tr style=\"text-align: right;\">\n      <th></th>\n      <th>alert</th>\n      <th>altitude</th>\n      <th>geoaltitude</th>\n      <th>groundspeed</th>\n      <th>latitude</th>\n      <th>longitude</th>\n      <th>onground</th>\n      <th>spi</th>\n      <th>track</th>\n      <th>vertical_rate</th>\n    </tr>\n    <tr>\n      <th>callsign</th>\n      <th></th>\n      <th></th>\n      <th></th>\n      <th></th>\n      <th></th>\n      <th></th>\n      <th></th>\n      <th></th>\n      <th></th>\n      <th></th>\n    </tr>\n  </thead>\n  <tbody>\n    <tr>\n      <th>DLH065</th>\n      <td>0.000000</td>\n      <td>11661.114991</td>\n      <td>12236.497201</td>\n      <td>300.792365</td>\n      <td>50.887083</td>\n      <td>8.062404</td>\n      <td>0.0</td>\n      <td>0.000000</td>\n      <td>177.160825</td>\n      <td>-14.778399</td>\n    </tr>\n    <tr>\n      <th>DLH09F</th>\n      <td>0.000103</td>\n      <td>29092.986926</td>\n      <td>30309.263358</td>\n      <td>406.463043</td>\n      <td>45.111275</td>\n      <td>0.656701</td>\n      <td>0.0</td>\n      <td>0.002882</td>\n      <td>52.292883</td>\n      <td>-2.273008</td>\n    </tr>\n    <tr>\n      <th>DLH11U</th>\n      <td>0.000000</td>\n      <td>24011.782835</td>\n      <td>24828.046468</td>\n      <td>381.119725</td>\n      <td>48.971369</td>\n      <td>3.676257</td>\n      <td>0.0</td>\n      <td>0.000000</td>\n      <td>67.473579</td>\n      <td>-67.944998</td>\n    </tr>\n    <tr>\n      <th>DLH1323</th>\n      <td>0.000322</td>\n      <td>28539.442744</td>\n      <td>29086.833629</td>\n      <td>403.313416</td>\n      <td>45.619617</td>\n      <td>9.089588</td>\n      <td>0.0</td>\n      <td>0.000805</td>\n      <td>269.736702</td>\n      <td>-327.844097</td>\n    </tr>\n    <tr>\n      <th>DLH1425</th>\n      <td>0.001000</td>\n      <td>29856.318764</td>\n      <td>30541.757527</td>\n      <td>386.215582</td>\n      <td>46.609103</td>\n      <td>14.320494</td>\n      <td>0.0</td>\n      <td>0.000050</td>\n      <td>310.617561</td>\n      <td>-80.322448</td>\n    </tr>\n    <tr>\n      <th>DLH1561</th>\n      <td>0.001649</td>\n      <td>31582.948869</td>\n      <td>32111.529126</td>\n      <td>418.160117</td>\n      <td>46.133943</td>\n      <td>20.919309</td>\n      <td>0.0</td>\n      <td>0.000047</td>\n      <td>287.099222</td>\n      <td>-193.263594</td>\n    </tr>\n    <tr>\n      <th>DLH1FL</th>\n      <td>0.000194</td>\n      <td>27381.697985</td>\n      <td>27791.015209</td>\n      <td>393.982759</td>\n      <td>53.557401</td>\n      <td>8.649036</td>\n      <td>0.0</td>\n      <td>0.000194</td>\n      <td>175.374518</td>\n      <td>-208.799690</td>\n    </tr>\n    <tr>\n      <th>DLH1VR</th>\n      <td>0.000271</td>\n      <td>12000.081169</td>\n      <td>12520.155616</td>\n      <td>308.639069</td>\n      <td>50.903669</td>\n      <td>8.160555</td>\n      <td>0.0</td>\n      <td>0.000271</td>\n      <td>165.216660</td>\n      <td>-2.354978</td>\n    </tr>\n    <tr>\n      <th>DLH223</th>\n      <td>0.000000</td>\n      <td>20500.896624</td>\n      <td>20876.655236</td>\n      <td>334.490770</td>\n      <td>52.129985</td>\n      <td>9.277101</td>\n      <td>0.0</td>\n      <td>0.000264</td>\n      <td>191.033683</td>\n      <td>3.223629</td>\n    </tr>\n    <tr>\n      <th>DLH23M</th>\n      <td>0.000787</td>\n      <td>20953.858004</td>\n      <td>21569.256491</td>\n      <td>354.123230</td>\n      <td>48.768520</td>\n      <td>11.747245</td>\n      <td>0.0</td>\n      <td>0.000000</td>\n      <td>277.496000</td>\n      <td>-11.804929</td>\n    </tr>\n    <tr>\n      <th>DLH27Y</th>\n      <td>0.000000</td>\n      <td>25021.619011</td>\n      <td>25965.161321</td>\n      <td>392.277821</td>\n      <td>48.251676</td>\n      <td>3.693937</td>\n      <td>0.0</td>\n      <td>0.000193</td>\n      <td>72.775698</td>\n      <td>-1.644513</td>\n    </tr>\n    <tr>\n      <th>DLH291</th>\n      <td>0.000000</td>\n      <td>22252.283264</td>\n      <td>NaN</td>\n      <td>371.918173</td>\n      <td>47.885206</td>\n      <td>10.433136</td>\n      <td>0.0</td>\n      <td>0.000000</td>\n      <td>263.968714</td>\n      <td>5.340751</td>\n    </tr>\n    <tr>\n      <th>DLH2AM</th>\n      <td>0.000517</td>\n      <td>12615.227918</td>\n      <td>13204.256556</td>\n      <td>302.740702</td>\n      <td>51.281870</td>\n      <td>8.979046</td>\n      <td>0.0</td>\n      <td>0.000387</td>\n      <td>183.938047</td>\n      <td>-1.322314</td>\n    </tr>\n    <tr>\n      <th>DLH2EK</th>\n      <td>0.000233</td>\n      <td>12409.975484</td>\n      <td>13001.044828</td>\n      <td>314.106443</td>\n      <td>49.058030</td>\n      <td>8.878139</td>\n      <td>0.0</td>\n      <td>0.000467</td>\n      <td>251.853017</td>\n      <td>-24.082166</td>\n    </tr>\n    <tr>\n      <th>DLH2PM</th>\n      <td>0.000504</td>\n      <td>26178.110229</td>\n      <td>26971.687260</td>\n      <td>382.703914</td>\n      <td>46.187619</td>\n      <td>9.979731</td>\n      <td>0.0</td>\n      <td>0.000189</td>\n      <td>265.979914</td>\n      <td>0.407386</td>\n    </tr>\n    <tr>\n      <th>DLH2V</th>\n      <td>0.000130</td>\n      <td>20839.305700</td>\n      <td>19970.955606</td>\n      <td>350.946903</td>\n      <td>49.039823</td>\n      <td>11.926153</td>\n      <td>0.0</td>\n      <td>0.000000</td>\n      <td>274.130233</td>\n      <td>1.041124</td>\n    </tr>\n    <tr>\n      <th>DLH31X</th>\n      <td>0.000663</td>\n      <td>21463.741546</td>\n      <td>22330.279215</td>\n      <td>362.265482</td>\n      <td>47.838048</td>\n      <td>7.818443</td>\n      <td>0.0</td>\n      <td>0.000265</td>\n      <td>96.002174</td>\n      <td>-90.572603</td>\n    </tr>\n    <tr>\n      <th>DLH345</th>\n      <td>0.000000</td>\n      <td>26205.262213</td>\n      <td>27084.794061</td>\n      <td>358.855125</td>\n      <td>48.355250</td>\n      <td>12.296221</td>\n      <td>0.0</td>\n      <td>0.000000</td>\n      <td>299.763379</td>\n      <td>-112.720307</td>\n    </tr>\n    <tr>\n      <th>DLH359</th>\n      <td>0.001601</td>\n      <td>13049.039231</td>\n      <td>13396.807446</td>\n      <td>288.230184</td>\n      <td>51.329382</td>\n      <td>9.039045</td>\n      <td>0.0</td>\n      <td>0.000400</td>\n      <td>191.364626</td>\n      <td>-6.635709</td>\n    </tr>\n    <tr>\n      <th>DLH3F</th>\n      <td>0.000000</td>\n      <td>14945.830055</td>\n      <td>15687.052342</td>\n      <td>370.797404</td>\n      <td>49.610623</td>\n      <td>5.842596</td>\n      <td>0.0</td>\n      <td>0.000393</td>\n      <td>78.625378</td>\n      <td>-9.365854</td>\n    </tr>\n    <tr>\n      <th>DLH3KK</th>\n      <td>0.000246</td>\n      <td>19476.561731</td>\n      <td>20104.137973</td>\n      <td>355.752091</td>\n      <td>48.190180</td>\n      <td>11.112039</td>\n      <td>0.0</td>\n      <td>0.000000</td>\n      <td>269.925756</td>\n      <td>-19.218888</td>\n    </tr>\n    <tr>\n      <th>DLH3KW</th>\n      <td>0.097053</td>\n      <td>29054.551544</td>\n      <td>29621.266832</td>\n      <td>400.205291</td>\n      <td>47.501648</td>\n      <td>17.064489</td>\n      <td>0.0</td>\n      <td>0.000000</td>\n      <td>283.195343</td>\n      <td>0.505827</td>\n    </tr>\n    <tr>\n      <th>DLH3LJ</th>\n      <td>0.000270</td>\n      <td>21328.211102</td>\n      <td>22097.936647</td>\n      <td>357.710292</td>\n      <td>48.364185</td>\n      <td>11.841312</td>\n      <td>0.0</td>\n      <td>0.000000</td>\n      <td>304.008086</td>\n      <td>-27.124797</td>\n    </tr>\n    <tr>\n      <th>DLH403</th>\n      <td>0.000403</td>\n      <td>31811.021822</td>\n      <td>32560.426967</td>\n      <td>485.378753</td>\n      <td>48.643479</td>\n      <td>-26.412847</td>\n      <td>0.0</td>\n      <td>0.000269</td>\n      <td>83.194840</td>\n      <td>-75.390688</td>\n    </tr>\n    <tr>\n      <th>DLH44K</th>\n      <td>0.000141</td>\n      <td>28633.923117</td>\n      <td>29507.185326</td>\n      <td>391.364350</td>\n      <td>44.677609</td>\n      <td>6.426677</td>\n      <td>0.0</td>\n      <td>0.000047</td>\n      <td>58.403235</td>\n      <td>-0.839137</td>\n    </tr>\n    <tr>\n      <th>DLH451</th>\n      <td>0.006137</td>\n      <td>31677.409403</td>\n      <td>32016.086296</td>\n      <td>514.823915</td>\n      <td>46.516543</td>\n      <td>-60.375366</td>\n      <td>0.0</td>\n      <td>0.000196</td>\n      <td>81.462401</td>\n      <td>-11.192113</td>\n    </tr>\n    <tr>\n      <th>DLH48F</th>\n      <td>0.000229</td>\n      <td>23499.181548</td>\n      <td>24374.748111</td>\n      <td>395.852106</td>\n      <td>48.915882</td>\n      <td>4.151693</td>\n      <td>0.0</td>\n      <td>0.000229</td>\n      <td>83.254172</td>\n      <td>-55.882784</td>\n    </tr>\n    <tr>\n      <th>DLH4CH</th>\n      <td>0.000000</td>\n      <td>23797.244439</td>\n      <td>24511.697076</td>\n      <td>407.993002</td>\n      <td>50.237176</td>\n      <td>13.994072</td>\n      <td>0.0</td>\n      <td>0.000000</td>\n      <td>262.317005</td>\n      <td>-14.588353</td>\n    </tr>\n    <tr>\n      <th>DLH4LA</th>\n      <td>0.000927</td>\n      <td>22534.638554</td>\n      <td>23180.579374</td>\n      <td>415.925626</td>\n      <td>50.750016</td>\n      <td>3.679218</td>\n      <td>0.0</td>\n      <td>0.000463</td>\n      <td>118.812199</td>\n      <td>-9.356812</td>\n    </tr>\n    <tr>\n      <th>DLH4TT</th>\n      <td>0.000000</td>\n      <td>28719.737932</td>\n      <td>29612.961044</td>\n      <td>372.613424</td>\n      <td>47.922019</td>\n      <td>12.854853</td>\n      <td>0.0</td>\n      <td>0.000207</td>\n      <td>308.629820</td>\n      <td>-335.605552</td>\n    </tr>\n    <tr>\n      <th>DLH4WT</th>\n      <td>0.000000</td>\n      <td>25322.141835</td>\n      <td>25857.906662</td>\n      <td>402.346319</td>\n      <td>46.101488</td>\n      <td>12.827443</td>\n      <td>0.0</td>\n      <td>0.000000</td>\n      <td>293.601324</td>\n      <td>19.589760</td>\n    </tr>\n    <tr>\n      <th>DLH4YR</th>\n      <td>0.000218</td>\n      <td>24194.145915</td>\n      <td>24810.498143</td>\n      <td>374.758191</td>\n      <td>47.717990</td>\n      <td>11.369243</td>\n      <td>0.0</td>\n      <td>0.000000</td>\n      <td>296.055449</td>\n      <td>-184.856269</td>\n    </tr>\n    <tr>\n      <th>DLH56V</th>\n      <td>0.000264</td>\n      <td>28142.833693</td>\n      <td>29090.582856</td>\n      <td>416.872956</td>\n      <td>45.907769</td>\n      <td>4.079949</td>\n      <td>0.0</td>\n      <td>0.000220</td>\n      <td>99.582969</td>\n      <td>-114.355616</td>\n    </tr>\n    <tr>\n      <th>DLH5AE</th>\n      <td>0.000353</td>\n      <td>28764.419179</td>\n      <td>29503.543724</td>\n      <td>377.129561</td>\n      <td>49.293456</td>\n      <td>14.725806</td>\n      <td>0.0</td>\n      <td>0.000176</td>\n      <td>279.888128</td>\n      <td>-304.168283</td>\n    </tr>\n    <tr>\n      <th>DLH5KK</th>\n      <td>0.003373</td>\n      <td>20999.522901</td>\n      <td>21672.281161</td>\n      <td>366.083348</td>\n      <td>48.485536</td>\n      <td>11.574012</td>\n      <td>0.0</td>\n      <td>0.000266</td>\n      <td>294.065521</td>\n      <td>-31.806852</td>\n    </tr>\n    <tr>\n      <th>DLH5NC</th>\n      <td>0.000186</td>\n      <td>9543.741876</td>\n      <td>10100.255386</td>\n      <td>261.114206</td>\n      <td>49.827406</td>\n      <td>9.463349</td>\n      <td>0.0</td>\n      <td>0.000000</td>\n      <td>250.589169</td>\n      <td>-27.786815</td>\n    </tr>\n    <tr>\n      <th>DLH5YX</th>\n      <td>0.000000</td>\n      <td>12895.699648</td>\n      <td>13498.353355</td>\n      <td>311.233858</td>\n      <td>50.630407</td>\n      <td>9.936804</td>\n      <td>0.0</td>\n      <td>0.000000</td>\n      <td>213.339588</td>\n      <td>-4.543046</td>\n    </tr>\n    <tr>\n      <th>DLH649</th>\n      <td>0.000177</td>\n      <td>33231.868741</td>\n      <td>33646.933168</td>\n      <td>422.343083</td>\n      <td>45.965328</td>\n      <td>21.819627</td>\n      <td>0.0</td>\n      <td>0.000177</td>\n      <td>282.996548</td>\n      <td>-201.234423</td>\n    </tr>\n    <tr>\n      <th>DLH67Y</th>\n      <td>0.000150</td>\n      <td>27231.362270</td>\n      <td>28001.954299</td>\n      <td>378.413604</td>\n      <td>45.563279</td>\n      <td>6.595441</td>\n      <td>0.0</td>\n      <td>0.000225</td>\n      <td>71.966899</td>\n      <td>1.337242</td>\n    </tr>\n    <tr>\n      <th>DLH68E</th>\n      <td>0.000000</td>\n      <td>15881.853090</td>\n      <td>16525.126491</td>\n      <td>335.063245</td>\n      <td>49.239675</td>\n      <td>10.620534</td>\n      <td>0.0</td>\n      <td>0.000181</td>\n      <td>276.890720</td>\n      <td>-26.564510</td>\n    </tr>\n    <tr>\n      <th>DLH6K</th>\n      <td>0.000152</td>\n      <td>19924.658003</td>\n      <td>20615.826490</td>\n      <td>344.399696</td>\n      <td>48.234218</td>\n      <td>8.192078</td>\n      <td>0.0</td>\n      <td>0.000152</td>\n      <td>117.348222</td>\n      <td>-60.333131</td>\n    </tr>\n    <tr>\n      <th>DLH6LF</th>\n      <td>0.000177</td>\n      <td>20611.506388</td>\n      <td>20848.183244</td>\n      <td>369.750288</td>\n      <td>48.030266</td>\n      <td>10.712789</td>\n      <td>0.0</td>\n      <td>0.000000</td>\n      <td>294.018269</td>\n      <td>5.603477</td>\n    </tr>\n    <tr>\n      <th>DLH6LX</th>\n      <td>0.001958</td>\n      <td>30675.673653</td>\n      <td>31115.807807</td>\n      <td>401.511055</td>\n      <td>43.904727</td>\n      <td>11.697081</td>\n      <td>0.0</td>\n      <td>0.000000</td>\n      <td>326.552066</td>\n      <td>-37.350530</td>\n    </tr>\n    <tr>\n      <th>DLH6TP</th>\n      <td>0.000204</td>\n      <td>24528.209908</td>\n      <td>25192.844740</td>\n      <td>364.935853</td>\n      <td>48.647657</td>\n      <td>13.325373</td>\n      <td>0.0</td>\n      <td>0.000102</td>\n      <td>276.193850</td>\n      <td>-1.385904</td>\n    </tr>\n    <tr>\n      <th>DLH6U</th>\n      <td>0.000284</td>\n      <td>22417.162220</td>\n      <td>23137.812234</td>\n      <td>370.615101</td>\n      <td>50.682181</td>\n      <td>4.390237</td>\n      <td>0.0</td>\n      <td>0.000284</td>\n      <td>103.733223</td>\n      <td>-17.403349</td>\n    </tr>\n    <tr>\n      <th>DLH717</th>\n      <td>0.000000</td>\n      <td>30596.559704</td>\n      <td>30923.862625</td>\n      <td>437.640737</td>\n      <td>52.473023</td>\n      <td>-14.019386</td>\n      <td>0.0</td>\n      <td>0.000178</td>\n      <td>127.689526</td>\n      <td>-33.214721</td>\n    </tr>\n    <tr>\n      <th>DLH72T</th>\n      <td>0.000194</td>\n      <td>24813.470850</td>\n      <td>25774.849835</td>\n      <td>360.798954</td>\n      <td>48.049591</td>\n      <td>3.179951</td>\n      <td>0.0</td>\n      <td>0.000194</td>\n      <td>50.136754</td>\n      <td>0.173543</td>\n    </tr>\n    <tr>\n      <th>DLH755</th>\n      <td>0.000027</td>\n      <td>32087.133854</td>\n      <td>32712.222207</td>\n      <td>454.543552</td>\n      <td>41.182220</td>\n      <td>29.108491</td>\n      <td>0.0</td>\n      <td>0.000000</td>\n      <td>289.485233</td>\n      <td>-89.226841</td>\n    </tr>\n    <tr>\n      <th>DLH7KW</th>\n      <td>0.000690</td>\n      <td>11011.121979</td>\n      <td>11545.090930</td>\n      <td>313.707250</td>\n      <td>51.007185</td>\n      <td>9.148039</td>\n      <td>0.0</td>\n      <td>0.000460</td>\n      <td>191.508117</td>\n      <td>-10.251784</td>\n    </tr>\n    <tr>\n      <th>DLH7TH</th>\n      <td>0.000749</td>\n      <td>15445.035594</td>\n      <td>16096.458021</td>\n      <td>359.744569</td>\n      <td>50.385006</td>\n      <td>10.684981</td>\n      <td>0.0</td>\n      <td>0.000000</td>\n      <td>225.980688</td>\n      <td>-7.814232</td>\n    </tr>\n    <tr>\n      <th>DLH7V</th>\n      <td>0.000259</td>\n      <td>21225.226479</td>\n      <td>21838.635775</td>\n      <td>347.104957</td>\n      <td>49.016337</td>\n      <td>11.869729</td>\n      <td>0.0</td>\n      <td>0.000129</td>\n      <td>274.614677</td>\n      <td>-2.650446</td>\n    </tr>\n    <tr>\n      <th>DLH839</th>\n      <td>0.000762</td>\n      <td>21365.663110</td>\n      <td>21979.048043</td>\n      <td>354.504191</td>\n      <td>52.549050</td>\n      <td>9.492655</td>\n      <td>0.0</td>\n      <td>0.000508</td>\n      <td>193.806060</td>\n      <td>-6.583693</td>\n    </tr>\n    <tr>\n      <th>DLH8XV</th>\n      <td>0.000000</td>\n      <td>13149.309482</td>\n      <td>13716.998477</td>\n      <td>294.899304</td>\n      <td>48.999686</td>\n      <td>8.315383</td>\n      <td>0.0</td>\n      <td>0.000000</td>\n      <td>131.282917</td>\n      <td>-14.169639</td>\n    </tr>\n    <tr>\n      <th>DLH9917</th>\n      <td>0.000745</td>\n      <td>7648.250186</td>\n      <td>7966.641847</td>\n      <td>277.214445</td>\n      <td>50.020058</td>\n      <td>8.200933</td>\n      <td>0.0</td>\n      <td>0.000745</td>\n      <td>140.006934</td>\n      <td>-127.952345</td>\n    </tr>\n    <tr>\n      <th>DLH9LA</th>\n      <td>0.000114</td>\n      <td>22801.346330</td>\n      <td>23508.708829</td>\n      <td>365.901555</td>\n      <td>48.371662</td>\n      <td>11.846042</td>\n      <td>0.0</td>\n      <td>0.000114</td>\n      <td>273.385658</td>\n      <td>-93.892522</td>\n    </tr>\n  </tbody>\n</table>\n</div>"
     },
     "execution_count": 10,
     "metadata": {},
     "output_type": "execute_result"
    }
   ],
   "source": [
    "callsigns[ callsigns['onground'] == 0 ]"
   ],
   "metadata": {
    "collapsed": false,
    "ExecuteTime": {
     "start_time": "2023-04-05T15:54:17.570162Z",
     "end_time": "2023-04-05T15:54:17.656964Z"
    }
   }
  },
  {
   "cell_type": "code",
   "execution_count": 29,
   "outputs": [],
   "source": [
    "callsign_onground_false = list(callsigns[ callsigns['onground'] == 0 ].index)"
   ],
   "metadata": {
    "collapsed": false,
    "ExecuteTime": {
     "start_time": "2023-04-02T10:10:43.772506Z",
     "end_time": "2023-04-02T10:10:43.774012Z"
    }
   }
  },
  {
   "cell_type": "code",
   "execution_count": 30,
   "outputs": [
    {
     "data": {
      "text/plain": "['DLH065',\n 'DLH09F',\n 'DLH11U',\n 'DLH1323',\n 'DLH1425',\n 'DLH1561',\n 'DLH1FL',\n 'DLH1VR',\n 'DLH223',\n 'DLH23M',\n 'DLH27Y',\n 'DLH291',\n 'DLH2AM',\n 'DLH2EK',\n 'DLH2PM',\n 'DLH2V',\n 'DLH31X',\n 'DLH345',\n 'DLH359',\n 'DLH3F',\n 'DLH3KK',\n 'DLH3KW',\n 'DLH3LJ',\n 'DLH403',\n 'DLH44K',\n 'DLH451',\n 'DLH48F',\n 'DLH4CH',\n 'DLH4LA',\n 'DLH4TT',\n 'DLH4WT',\n 'DLH4YR',\n 'DLH56V',\n 'DLH5AE',\n 'DLH5KK',\n 'DLH5NC',\n 'DLH5YX',\n 'DLH649',\n 'DLH67Y',\n 'DLH68E',\n 'DLH6K',\n 'DLH6LF',\n 'DLH6LX',\n 'DLH6TP',\n 'DLH6U',\n 'DLH717',\n 'DLH72T',\n 'DLH755',\n 'DLH7KW',\n 'DLH7TH',\n 'DLH7V',\n 'DLH839',\n 'DLH8XV',\n 'DLH9917',\n 'DLH9LA']"
     },
     "execution_count": 30,
     "metadata": {},
     "output_type": "execute_result"
    }
   ],
   "source": [
    "callsign_onground_false"
   ],
   "metadata": {
    "collapsed": false,
    "ExecuteTime": {
     "start_time": "2023-04-02T10:10:46.624344Z",
     "end_time": "2023-04-02T10:10:46.637606Z"
    }
   }
  },
  {
   "cell_type": "code",
   "execution_count": 31,
   "outputs": [
    {
     "data": {
      "text/plain": "       callsign  icao24\n153584   DLH065  3c4dce\n40308    DLH09F  3c6497\n128243   DLH11U  3c4d67\n12990   DLH1323  3c6495\n157801  DLH1425  3c6446\n...         ...     ...\n52383    DLH8XV  3c4dd6\n0        DLH8XV  3c4dcb\n135378  DLH9917  3c6441\n35601    DLH9LA  3c6441\n271285   DLH9LA  3c658c\n\n[98 rows x 2 columns]",
      "text/html": "<div>\n<style scoped>\n    .dataframe tbody tr th:only-of-type {\n        vertical-align: middle;\n    }\n\n    .dataframe tbody tr th {\n        vertical-align: top;\n    }\n\n    .dataframe thead th {\n        text-align: right;\n    }\n</style>\n<table border=\"1\" class=\"dataframe\">\n  <thead>\n    <tr style=\"text-align: right;\">\n      <th></th>\n      <th>callsign</th>\n      <th>icao24</th>\n    </tr>\n  </thead>\n  <tbody>\n    <tr>\n      <th>153584</th>\n      <td>DLH065</td>\n      <td>3c4dce</td>\n    </tr>\n    <tr>\n      <th>40308</th>\n      <td>DLH09F</td>\n      <td>3c6497</td>\n    </tr>\n    <tr>\n      <th>128243</th>\n      <td>DLH11U</td>\n      <td>3c4d67</td>\n    </tr>\n    <tr>\n      <th>12990</th>\n      <td>DLH1323</td>\n      <td>3c6495</td>\n    </tr>\n    <tr>\n      <th>157801</th>\n      <td>DLH1425</td>\n      <td>3c6446</td>\n    </tr>\n    <tr>\n      <th>...</th>\n      <td>...</td>\n      <td>...</td>\n    </tr>\n    <tr>\n      <th>52383</th>\n      <td>DLH8XV</td>\n      <td>3c4dd6</td>\n    </tr>\n    <tr>\n      <th>0</th>\n      <td>DLH8XV</td>\n      <td>3c4dcb</td>\n    </tr>\n    <tr>\n      <th>135378</th>\n      <td>DLH9917</td>\n      <td>3c6441</td>\n    </tr>\n    <tr>\n      <th>35601</th>\n      <td>DLH9LA</td>\n      <td>3c6441</td>\n    </tr>\n    <tr>\n      <th>271285</th>\n      <td>DLH9LA</td>\n      <td>3c658c</td>\n    </tr>\n  </tbody>\n</table>\n<p>98 rows × 2 columns</p>\n</div>"
     },
     "execution_count": 31,
     "metadata": {},
     "output_type": "execute_result"
    }
   ],
   "source": [
    "filtered_df = three_days_data[three_days_data['callsign'].isin(callsign_onground_false)]\n",
    "result_df = filtered_df[['callsign', 'icao24']].drop_duplicates()\n",
    "result_df"
   ],
   "metadata": {
    "collapsed": false,
    "ExecuteTime": {
     "start_time": "2023-04-02T10:13:40.388431Z",
     "end_time": "2023-04-02T10:13:42.828766Z"
    }
   }
  },
  {
   "cell_type": "code",
   "execution_count": null,
   "outputs": [],
   "source": [],
   "metadata": {
    "collapsed": false
   }
  }
 ],
 "metadata": {
  "kernelspec": {
   "display_name": "Python 3",
   "language": "python",
   "name": "python3"
  },
  "language_info": {
   "codemirror_mode": {
    "name": "ipython",
    "version": 2
   },
   "file_extension": ".py",
   "mimetype": "text/x-python",
   "name": "python",
   "nbconvert_exporter": "python",
   "pygments_lexer": "ipython2",
   "version": "2.7.6"
  }
 },
 "nbformat": 4,
 "nbformat_minor": 0
}
