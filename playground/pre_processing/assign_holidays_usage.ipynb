{
 "cells": [
  {
   "cell_type": "code",
   "execution_count": 1,
   "metadata": {
    "collapsed": true,
    "ExecuteTime": {
     "start_time": "2023-04-27T15:34:18.949853Z",
     "end_time": "2023-04-27T15:34:22.374206Z"
    }
   },
   "outputs": [],
   "source": [
    "from traffic.core import Traffic\n",
    "import assign_holiday_month_weekday as hmw"
   ]
  },
  {
   "cell_type": "code",
   "execution_count": 2,
   "outputs": [],
   "source": [
    "file = \"Frankfurt_LH_2205.h5\"\n",
    "t_09 = Traffic.from_file(file, key=\"LH_220526\", parse_dates=[\"day\", \"firstseen\", \"hour\", \"last_position\", \"lastseen\", \"timestamp\"])"
   ],
   "metadata": {
    "collapsed": false,
    "ExecuteTime": {
     "start_time": "2023-04-27T15:34:22.378951Z",
     "end_time": "2023-04-27T15:34:31.393790Z"
    }
   }
  },
  {
   "cell_type": "code",
   "execution_count": 3,
   "outputs": [],
   "source": [
    "dft09 = t_09.data #Pandas DataFrame"
   ],
   "metadata": {
    "collapsed": false,
    "ExecuteTime": {
     "start_time": "2023-04-27T15:34:31.397791Z",
     "end_time": "2023-04-27T15:34:31.410312Z"
    }
   }
  },
  {
   "cell_type": "code",
   "execution_count": 4,
   "outputs": [],
   "source": [
    "dft09 = hmw.add_holiday(dft09, 2022) #Pass DataFrame and Year"
   ],
   "metadata": {
    "collapsed": false,
    "ExecuteTime": {
     "start_time": "2023-04-27T15:34:31.411314Z",
     "end_time": "2023-04-27T15:35:02.810324Z"
    }
   }
  },
  {
   "cell_type": "code",
   "execution_count": 5,
   "outputs": [],
   "source": [
    "dft09 = hmw.add_month_weekday(dft09) #Pass DataFrame"
   ],
   "metadata": {
    "collapsed": false,
    "ExecuteTime": {
     "start_time": "2023-04-27T15:35:02.812319Z",
     "end_time": "2023-04-27T15:35:05.994851Z"
    }
   }
  },
  {
   "cell_type": "code",
   "execution_count": 6,
   "outputs": [
    {
     "data": {
      "text/plain": "       alert  altitude callsign                       day destination  \\\n30046  False     325.0   DLH423 2022-05-27 00:00:00+00:00        EDDF   \n30047  False     525.0   DLH423 2022-05-27 00:00:00+00:00        EDDF   \n30048  False     575.0   DLH423 2022-05-27 00:00:00+00:00        EDDF   \n30049  False     600.0   DLH423 2022-05-27 00:00:00+00:00        EDDF   \n30050  False     625.0   DLH423 2022-05-27 00:00:00+00:00        EDDF   \n...      ...       ...      ...                       ...         ...   \n31304  False     200.0   DLH9FW 2022-05-26 00:00:00+00:00        EDDF   \n31305  False     200.0   DLH9FW 2022-05-26 00:00:00+00:00        EDDF   \n31306  False     175.0   DLH9FW 2022-05-26 00:00:00+00:00        EDDF   \n31307  False     150.0   DLH9FW 2022-05-26 00:00:00+00:00        EDDF   \n31308  False     150.0   DLH9FW 2022-05-26 00:00:00+00:00        EDDF   \n\n                      firstseen  geoaltitude  groundspeed  \\\n30046 2022-05-26 22:00:48+00:00        425.0        149.0   \n30047 2022-05-26 22:00:48+00:00        600.0        148.0   \n30048 2022-05-26 22:00:48+00:00        650.0        148.0   \n30049 2022-05-26 22:00:48+00:00        675.0        148.0   \n30050 2022-05-26 22:00:48+00:00        700.0        148.0   \n...                         ...          ...          ...   \n31304 2022-05-26 05:15:38+00:00        625.0        131.0   \n31305 2022-05-26 05:15:38+00:00        625.0        131.0   \n31306 2022-05-26 05:15:38+00:00        600.0        131.0   \n31307 2022-05-26 05:15:38+00:00        600.0        132.0   \n31308 2022-05-26 05:15:38+00:00        600.0        132.0   \n\n                           hour  icao24  ... origin    spi  squawk  \\\n30046 2022-05-26 22:00:00+00:00  3c4a8c  ...   KBOS  False     NaN   \n30047 2022-05-26 22:00:00+00:00  3c4a8c  ...   KBOS  False     NaN   \n30048 2022-05-26 22:00:00+00:00  3c4a8c  ...   KBOS  False     NaN   \n30049 2022-05-26 22:00:00+00:00  3c4a8c  ...   KBOS  False     NaN   \n30050 2022-05-26 22:00:00+00:00  3c4a8c  ...   KBOS  False     NaN   \n...                         ...     ...  ...    ...    ...     ...   \n31304 2022-05-26 05:00:00+00:00  3c675a  ...   EDDM  False    1000   \n31305 2022-05-26 05:00:00+00:00  3c675a  ...   EDDM  False    1000   \n31306 2022-05-26 05:00:00+00:00  3c675a  ...   EDDM  False    1000   \n31307 2022-05-26 05:00:00+00:00  3c675a  ...   EDDM  False    1000   \n31308 2022-05-26 05:00:00+00:00  3c675a  ...   EDDM  False    1000   \n\n                      timestamp       track vertical_rate   flight_id holiday  \\\n30046 2022-05-26 22:00:48+00:00  197.949403        2368.0  DLH423_000    True   \n30047 2022-05-26 22:00:49+00:00  198.068456        2496.0  DLH423_000    True   \n30048 2022-05-26 22:00:50+00:00  198.557638        2496.0  DLH423_000    True   \n30049 2022-05-26 22:00:51+00:00  198.557638        2496.0  DLH423_000    True   \n30050 2022-05-26 22:00:52+00:00  198.924644        2432.0  DLH423_000    True   \n...                         ...         ...           ...         ...     ...   \n31304 2022-05-26 05:51:51+00:00  249.904769        -832.0  DLH9FW_406    True   \n31305 2022-05-26 05:51:52+00:00  249.904769        -832.0  DLH9FW_406    True   \n31306 2022-05-26 05:51:53+00:00  249.904769        -832.0  DLH9FW_406    True   \n31307 2022-05-26 05:51:54+00:00  249.646771        -832.0  DLH9FW_406    True   \n31308 2022-05-26 05:51:55+00:00  249.646771        -832.0  DLH9FW_406    True   \n\n      month  weekday  \n30046     5        3  \n30047     5        3  \n30048     5        3  \n30049     5        3  \n30050     5        3  \n...     ...      ...  \n31304     5        3  \n31305     5        3  \n31306     5        3  \n31307     5        3  \n31308     5        3  \n\n[1960769 rows x 25 columns]",
      "text/html": "<div>\n<style scoped>\n    .dataframe tbody tr th:only-of-type {\n        vertical-align: middle;\n    }\n\n    .dataframe tbody tr th {\n        vertical-align: top;\n    }\n\n    .dataframe thead th {\n        text-align: right;\n    }\n</style>\n<table border=\"1\" class=\"dataframe\">\n  <thead>\n    <tr style=\"text-align: right;\">\n      <th></th>\n      <th>alert</th>\n      <th>altitude</th>\n      <th>callsign</th>\n      <th>day</th>\n      <th>destination</th>\n      <th>firstseen</th>\n      <th>geoaltitude</th>\n      <th>groundspeed</th>\n      <th>hour</th>\n      <th>icao24</th>\n      <th>...</th>\n      <th>origin</th>\n      <th>spi</th>\n      <th>squawk</th>\n      <th>timestamp</th>\n      <th>track</th>\n      <th>vertical_rate</th>\n      <th>flight_id</th>\n      <th>holiday</th>\n      <th>month</th>\n      <th>weekday</th>\n    </tr>\n  </thead>\n  <tbody>\n    <tr>\n      <th>30046</th>\n      <td>False</td>\n      <td>325.0</td>\n      <td>DLH423</td>\n      <td>2022-05-27 00:00:00+00:00</td>\n      <td>EDDF</td>\n      <td>2022-05-26 22:00:48+00:00</td>\n      <td>425.0</td>\n      <td>149.0</td>\n      <td>2022-05-26 22:00:00+00:00</td>\n      <td>3c4a8c</td>\n      <td>...</td>\n      <td>KBOS</td>\n      <td>False</td>\n      <td>NaN</td>\n      <td>2022-05-26 22:00:48+00:00</td>\n      <td>197.949403</td>\n      <td>2368.0</td>\n      <td>DLH423_000</td>\n      <td>True</td>\n      <td>5</td>\n      <td>3</td>\n    </tr>\n    <tr>\n      <th>30047</th>\n      <td>False</td>\n      <td>525.0</td>\n      <td>DLH423</td>\n      <td>2022-05-27 00:00:00+00:00</td>\n      <td>EDDF</td>\n      <td>2022-05-26 22:00:48+00:00</td>\n      <td>600.0</td>\n      <td>148.0</td>\n      <td>2022-05-26 22:00:00+00:00</td>\n      <td>3c4a8c</td>\n      <td>...</td>\n      <td>KBOS</td>\n      <td>False</td>\n      <td>NaN</td>\n      <td>2022-05-26 22:00:49+00:00</td>\n      <td>198.068456</td>\n      <td>2496.0</td>\n      <td>DLH423_000</td>\n      <td>True</td>\n      <td>5</td>\n      <td>3</td>\n    </tr>\n    <tr>\n      <th>30048</th>\n      <td>False</td>\n      <td>575.0</td>\n      <td>DLH423</td>\n      <td>2022-05-27 00:00:00+00:00</td>\n      <td>EDDF</td>\n      <td>2022-05-26 22:00:48+00:00</td>\n      <td>650.0</td>\n      <td>148.0</td>\n      <td>2022-05-26 22:00:00+00:00</td>\n      <td>3c4a8c</td>\n      <td>...</td>\n      <td>KBOS</td>\n      <td>False</td>\n      <td>NaN</td>\n      <td>2022-05-26 22:00:50+00:00</td>\n      <td>198.557638</td>\n      <td>2496.0</td>\n      <td>DLH423_000</td>\n      <td>True</td>\n      <td>5</td>\n      <td>3</td>\n    </tr>\n    <tr>\n      <th>30049</th>\n      <td>False</td>\n      <td>600.0</td>\n      <td>DLH423</td>\n      <td>2022-05-27 00:00:00+00:00</td>\n      <td>EDDF</td>\n      <td>2022-05-26 22:00:48+00:00</td>\n      <td>675.0</td>\n      <td>148.0</td>\n      <td>2022-05-26 22:00:00+00:00</td>\n      <td>3c4a8c</td>\n      <td>...</td>\n      <td>KBOS</td>\n      <td>False</td>\n      <td>NaN</td>\n      <td>2022-05-26 22:00:51+00:00</td>\n      <td>198.557638</td>\n      <td>2496.0</td>\n      <td>DLH423_000</td>\n      <td>True</td>\n      <td>5</td>\n      <td>3</td>\n    </tr>\n    <tr>\n      <th>30050</th>\n      <td>False</td>\n      <td>625.0</td>\n      <td>DLH423</td>\n      <td>2022-05-27 00:00:00+00:00</td>\n      <td>EDDF</td>\n      <td>2022-05-26 22:00:48+00:00</td>\n      <td>700.0</td>\n      <td>148.0</td>\n      <td>2022-05-26 22:00:00+00:00</td>\n      <td>3c4a8c</td>\n      <td>...</td>\n      <td>KBOS</td>\n      <td>False</td>\n      <td>NaN</td>\n      <td>2022-05-26 22:00:52+00:00</td>\n      <td>198.924644</td>\n      <td>2432.0</td>\n      <td>DLH423_000</td>\n      <td>True</td>\n      <td>5</td>\n      <td>3</td>\n    </tr>\n    <tr>\n      <th>...</th>\n      <td>...</td>\n      <td>...</td>\n      <td>...</td>\n      <td>...</td>\n      <td>...</td>\n      <td>...</td>\n      <td>...</td>\n      <td>...</td>\n      <td>...</td>\n      <td>...</td>\n      <td>...</td>\n      <td>...</td>\n      <td>...</td>\n      <td>...</td>\n      <td>...</td>\n      <td>...</td>\n      <td>...</td>\n      <td>...</td>\n      <td>...</td>\n      <td>...</td>\n      <td>...</td>\n    </tr>\n    <tr>\n      <th>31304</th>\n      <td>False</td>\n      <td>200.0</td>\n      <td>DLH9FW</td>\n      <td>2022-05-26 00:00:00+00:00</td>\n      <td>EDDF</td>\n      <td>2022-05-26 05:15:38+00:00</td>\n      <td>625.0</td>\n      <td>131.0</td>\n      <td>2022-05-26 05:00:00+00:00</td>\n      <td>3c675a</td>\n      <td>...</td>\n      <td>EDDM</td>\n      <td>False</td>\n      <td>1000</td>\n      <td>2022-05-26 05:51:51+00:00</td>\n      <td>249.904769</td>\n      <td>-832.0</td>\n      <td>DLH9FW_406</td>\n      <td>True</td>\n      <td>5</td>\n      <td>3</td>\n    </tr>\n    <tr>\n      <th>31305</th>\n      <td>False</td>\n      <td>200.0</td>\n      <td>DLH9FW</td>\n      <td>2022-05-26 00:00:00+00:00</td>\n      <td>EDDF</td>\n      <td>2022-05-26 05:15:38+00:00</td>\n      <td>625.0</td>\n      <td>131.0</td>\n      <td>2022-05-26 05:00:00+00:00</td>\n      <td>3c675a</td>\n      <td>...</td>\n      <td>EDDM</td>\n      <td>False</td>\n      <td>1000</td>\n      <td>2022-05-26 05:51:52+00:00</td>\n      <td>249.904769</td>\n      <td>-832.0</td>\n      <td>DLH9FW_406</td>\n      <td>True</td>\n      <td>5</td>\n      <td>3</td>\n    </tr>\n    <tr>\n      <th>31306</th>\n      <td>False</td>\n      <td>175.0</td>\n      <td>DLH9FW</td>\n      <td>2022-05-26 00:00:00+00:00</td>\n      <td>EDDF</td>\n      <td>2022-05-26 05:15:38+00:00</td>\n      <td>600.0</td>\n      <td>131.0</td>\n      <td>2022-05-26 05:00:00+00:00</td>\n      <td>3c675a</td>\n      <td>...</td>\n      <td>EDDM</td>\n      <td>False</td>\n      <td>1000</td>\n      <td>2022-05-26 05:51:53+00:00</td>\n      <td>249.904769</td>\n      <td>-832.0</td>\n      <td>DLH9FW_406</td>\n      <td>True</td>\n      <td>5</td>\n      <td>3</td>\n    </tr>\n    <tr>\n      <th>31307</th>\n      <td>False</td>\n      <td>150.0</td>\n      <td>DLH9FW</td>\n      <td>2022-05-26 00:00:00+00:00</td>\n      <td>EDDF</td>\n      <td>2022-05-26 05:15:38+00:00</td>\n      <td>600.0</td>\n      <td>132.0</td>\n      <td>2022-05-26 05:00:00+00:00</td>\n      <td>3c675a</td>\n      <td>...</td>\n      <td>EDDM</td>\n      <td>False</td>\n      <td>1000</td>\n      <td>2022-05-26 05:51:54+00:00</td>\n      <td>249.646771</td>\n      <td>-832.0</td>\n      <td>DLH9FW_406</td>\n      <td>True</td>\n      <td>5</td>\n      <td>3</td>\n    </tr>\n    <tr>\n      <th>31308</th>\n      <td>False</td>\n      <td>150.0</td>\n      <td>DLH9FW</td>\n      <td>2022-05-26 00:00:00+00:00</td>\n      <td>EDDF</td>\n      <td>2022-05-26 05:15:38+00:00</td>\n      <td>600.0</td>\n      <td>132.0</td>\n      <td>2022-05-26 05:00:00+00:00</td>\n      <td>3c675a</td>\n      <td>...</td>\n      <td>EDDM</td>\n      <td>False</td>\n      <td>1000</td>\n      <td>2022-05-26 05:51:55+00:00</td>\n      <td>249.646771</td>\n      <td>-832.0</td>\n      <td>DLH9FW_406</td>\n      <td>True</td>\n      <td>5</td>\n      <td>3</td>\n    </tr>\n  </tbody>\n</table>\n<p>1960769 rows × 25 columns</p>\n</div>"
     },
     "execution_count": 6,
     "metadata": {},
     "output_type": "execute_result"
    }
   ],
   "source": [
    "dft09 #Check the columns"
   ],
   "metadata": {
    "collapsed": false,
    "ExecuteTime": {
     "start_time": "2023-04-27T15:35:05.997978Z",
     "end_time": "2023-04-27T15:35:07.671796Z"
    }
   }
  },
  {
   "cell_type": "code",
   "execution_count": 6,
   "outputs": [],
   "source": [],
   "metadata": {
    "collapsed": false,
    "ExecuteTime": {
     "start_time": "2023-04-27T15:35:07.675140Z",
     "end_time": "2023-04-27T15:35:07.693574Z"
    }
   }
  }
 ],
 "metadata": {
  "kernelspec": {
   "display_name": "Python 3",
   "language": "python",
   "name": "python3"
  },
  "language_info": {
   "codemirror_mode": {
    "name": "ipython",
    "version": 2
   },
   "file_extension": ".py",
   "mimetype": "text/x-python",
   "name": "python",
   "nbconvert_exporter": "python",
   "pygments_lexer": "ipython2",
   "version": "2.7.6"
  }
 },
 "nbformat": 4,
 "nbformat_minor": 0
}
