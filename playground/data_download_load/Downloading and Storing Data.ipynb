{
 "cells": [
  {
   "cell_type": "code",
   "execution_count": 1,
   "id": "010e048c-683b-4d5a-896c-3bc747ce680f",
   "metadata": {
    "tags": []
   },
   "outputs": [],
   "source": [
    "import traffic\n",
    "from traffic.data import opensky\n",
    "from traffic.core import Traffic\n",
    "from rich.pretty import pprint\n",
    "import pandas as pd\n",
    "import numpy as np\n",
    "from datetime import datetime, timedelta\n",
    "import h5py\n",
    "import os"
   ]
  },
  {
   "cell_type": "code",
   "execution_count": 2,
   "id": "021c77ba-8c38-4505-a58b-42ef03d61773",
   "metadata": {
    "tags": []
   },
   "outputs": [],
   "source": [
    "def download_month(month: int, year: int, start_day = 1, cached=True):\n",
    "\n",
    "    if month < 10:\n",
    "        str_month = \"0\" + str(month)\n",
    "    else:\n",
    "        str_month = str(month)\n",
    "\n",
    "    filename = \"Frankfurt_LH_\" + str(year)[2:] + str_month + \".h5\"\n",
    "    print(filename)\n",
    "    next_month = month + 1 if month < 12 else  1\n",
    "    str_next_month = str(next_month) if next_month > 9 else \"0\" + str(next_month)\n",
    "\n",
    "    start_day_str = \"0\" + str(start_day) if start_day < 10 else str(start_day)\n",
    "    datetime_str_start = str(year) + \"-\"+ str_month + \"-\" + start_day_str +  \" 00:00:00\"\n",
    "    datetime_str_end = str(year) + \"-\" + str_next_month + \"-01 00:00:00\" if next_month != 1 else str(year+1) + \"-\" + str_next_month + \"-01 00:00:00\"\n",
    "    datetime_current = datetime.strptime(datetime_str_start, '%Y-%m-%d %H:%M:%S')\n",
    "    datetime_end = datetime.strptime(datetime_str_end, '%Y-%m-%d %H:%M:%S')\n",
    "\n",
    "    while datetime_current < datetime_end:\n",
    "\n",
    "        print(datetime_current)\n",
    "        day = datetime_current.day\n",
    "        if day < 10:\n",
    "            day_str = \"0\" + str(day)\n",
    "        else:\n",
    "            day_str = str(day)\n",
    "\n",
    "        h5_key = \"LH_\" + str(year)[2:] + str_month + day_str\n",
    "        print(h5_key)\n",
    "        str_current_day = str(datetime_current)\n",
    "        str_next_day = str(datetime_current + timedelta(days = 1))\n",
    "        print(\"getting data between \"+str_current_day+ \" and \"+ str_next_day)\n",
    "\n",
    "        trajectories = opensky.history(str_current_day,\n",
    "                            stop= str_next_day,\n",
    "                            arrival_airport =\"EDDF\",\n",
    "                            cached=cached)\n",
    "        try:\n",
    "            callsigns_lh = trajectories.data.callsign.loc[trajectories.data.callsign.str.contains(\"DLH\").astype(bool)]\n",
    "\n",
    "            callsigns_lh = callsigns_lh.unique()\n",
    "            callsigns_lh = callsigns_lh[~pd.isnull(callsigns_lh)]\n",
    "            trajectories_lh = trajectories[callsigns_lh]\n",
    "            print(\"add\",h5_key,\"to file\")\n",
    "\n",
    "            trajectories_lh.to_hdf(filename, key=h5_key, format = 'table')\n",
    "\n",
    "        except AttributeError as e:\n",
    "            print(e)\n",
    "\n",
    "        datetime_current += timedelta(days = 1)\n"
   ]
  },
  {
   "cell_type": "code",
   "execution_count": null,
   "id": "dc0ae2c6-52b1-47c3-856f-80b3275c3f22",
   "metadata": {},
   "outputs": [
    {
     "data": {
      "application/vnd.jupyter.widget-view+json": {
       "model_id": "4c482b4b4a6a4903b5276175e0158da9",
       "version_major": 2,
       "version_minor": 0
      },
      "text/plain": [
       "Output()"
      ]
     },
     "metadata": {},
     "output_type": "display_data"
    },
    {
     "name": "stdout",
     "output_type": "stream",
     "text": [
      "Frankfurt_LH_2111.h5\n",
      "2021-11-01 00:00:00\n",
      "LH_211101\n",
      "getting data between 2021-11-01 00:00:00 and 2021-11-02 00:00:00\n"
     ]
    },
    {
     "data": {
      "text/html": [
       "<pre style=\"white-space:pre;overflow-x:auto;line-height:normal;font-family:Menlo,'DejaVu Sans Mono',consolas,'Courier New',monospace\"></pre>\n"
      ],
      "text/plain": []
     },
     "metadata": {},
     "output_type": "display_data"
    },
    {
     "data": {
      "text/html": [
       "<pre style=\"white-space:pre;overflow-x:auto;line-height:normal;font-family:Menlo,'DejaVu Sans Mono',consolas,'Courier New',monospace\">\n",
       "</pre>\n"
      ],
      "text/plain": [
       "\n"
      ]
     },
     "metadata": {},
     "output_type": "display_data"
    },
    {
     "name": "stdout",
     "output_type": "stream",
     "text": [
      "add LH_211101 to file\n"
     ]
    },
    {
     "data": {
      "application/vnd.jupyter.widget-view+json": {
       "model_id": "56e657f085bd486d9a7d8475e5330dc8",
       "version_major": 2,
       "version_minor": 0
      },
      "text/plain": [
       "Output()"
      ]
     },
     "metadata": {},
     "output_type": "display_data"
    },
    {
     "name": "stdout",
     "output_type": "stream",
     "text": [
      "2021-11-02 00:00:00\n",
      "LH_211102\n",
      "getting data between 2021-11-02 00:00:00 and 2021-11-03 00:00:00\n"
     ]
    },
    {
     "data": {
      "text/html": [
       "<pre style=\"white-space:pre;overflow-x:auto;line-height:normal;font-family:Menlo,'DejaVu Sans Mono',consolas,'Courier New',monospace\">C:\\Users\\dario\\anaconda3\\envs\\Lufthansa-Arrival-Time-Prediction\\lib\\site-packages\\traffic\\data\\adsb\\opensky_impala.\n",
       "py:196: DtypeWarning: Columns (18) have mixed types. Specify dtype option on import or set low_memory=False.\n",
       "  df = pd.read_csv(s, dtype={\"icao24\": str, \"callsign\": str})\n",
       "</pre>\n"
      ],
      "text/plain": [
       "C:\\Users\\dario\\anaconda3\\envs\\Lufthansa-Arrival-Time-Prediction\\lib\\site-packages\\traffic\\data\\adsb\\opensky_impala.\n",
       "py:196: DtypeWarning: Columns (18) have mixed types. Specify dtype option on import or set low_memory=False.\n",
       "  df = pd.read_csv(s, dtype={\"icao24\": str, \"callsign\": str})\n"
      ]
     },
     "metadata": {},
     "output_type": "display_data"
    },
    {
     "data": {
      "text/html": [
       "<pre style=\"white-space:pre;overflow-x:auto;line-height:normal;font-family:Menlo,'DejaVu Sans Mono',consolas,'Courier New',monospace\">C:\\Users\\dario\\anaconda3\\envs\\Lufthansa-Arrival-Time-Prediction\\lib\\site-packages\\traffic\\data\\adsb\\opensky_impala.\n",
       "py:196: DtypeWarning: Columns (18) have mixed types. Specify dtype option on import or set low_memory=False.\n",
       "  df = pd.read_csv(s, dtype={\"icao24\": str, \"callsign\": str})\n",
       "</pre>\n"
      ],
      "text/plain": [
       "C:\\Users\\dario\\anaconda3\\envs\\Lufthansa-Arrival-Time-Prediction\\lib\\site-packages\\traffic\\data\\adsb\\opensky_impala.\n",
       "py:196: DtypeWarning: Columns (18) have mixed types. Specify dtype option on import or set low_memory=False.\n",
       "  df = pd.read_csv(s, dtype={\"icao24\": str, \"callsign\": str})\n"
      ]
     },
     "metadata": {},
     "output_type": "display_data"
    },
    {
     "data": {
      "text/html": [
       "<pre style=\"white-space:pre;overflow-x:auto;line-height:normal;font-family:Menlo,'DejaVu Sans Mono',consolas,'Courier New',monospace\"></pre>\n"
      ],
      "text/plain": []
     },
     "metadata": {},
     "output_type": "display_data"
    },
    {
     "data": {
      "text/html": [
       "<pre style=\"white-space:pre;overflow-x:auto;line-height:normal;font-family:Menlo,'DejaVu Sans Mono',consolas,'Courier New',monospace\">\n",
       "</pre>\n"
      ],
      "text/plain": [
       "\n"
      ]
     },
     "metadata": {},
     "output_type": "display_data"
    },
    {
     "name": "stdout",
     "output_type": "stream",
     "text": [
      "add LH_211102 to file\n"
     ]
    },
    {
     "data": {
      "application/vnd.jupyter.widget-view+json": {
       "model_id": "edb976ca20034f21ae1746f6452c5e3c",
       "version_major": 2,
       "version_minor": 0
      },
      "text/plain": [
       "Output()"
      ]
     },
     "metadata": {},
     "output_type": "display_data"
    },
    {
     "name": "stdout",
     "output_type": "stream",
     "text": [
      "2021-11-03 00:00:00\n",
      "LH_211103\n",
      "getting data between 2021-11-03 00:00:00 and 2021-11-04 00:00:00\n"
     ]
    },
    {
     "data": {
      "text/html": [
       "<pre style=\"white-space:pre;overflow-x:auto;line-height:normal;font-family:Menlo,'DejaVu Sans Mono',consolas,'Courier New',monospace\"></pre>\n"
      ],
      "text/plain": []
     },
     "metadata": {},
     "output_type": "display_data"
    },
    {
     "data": {
      "text/html": [
       "<pre style=\"white-space:pre;overflow-x:auto;line-height:normal;font-family:Menlo,'DejaVu Sans Mono',consolas,'Courier New',monospace\">\n",
       "</pre>\n"
      ],
      "text/plain": [
       "\n"
      ]
     },
     "metadata": {},
     "output_type": "display_data"
    },
    {
     "name": "stdout",
     "output_type": "stream",
     "text": [
      "add LH_211103 to file\n"
     ]
    },
    {
     "data": {
      "application/vnd.jupyter.widget-view+json": {
       "model_id": "7220c34ce58a4169ae17ef08b03f69bb",
       "version_major": 2,
       "version_minor": 0
      },
      "text/plain": [
       "Output()"
      ]
     },
     "metadata": {},
     "output_type": "display_data"
    },
    {
     "name": "stdout",
     "output_type": "stream",
     "text": [
      "2021-11-04 00:00:00\n",
      "LH_211104\n",
      "getting data between 2021-11-04 00:00:00 and 2021-11-05 00:00:00\n"
     ]
    },
    {
     "data": {
      "text/html": [
       "<pre style=\"white-space:pre;overflow-x:auto;line-height:normal;font-family:Menlo,'DejaVu Sans Mono',consolas,'Courier New',monospace\"></pre>\n"
      ],
      "text/plain": []
     },
     "metadata": {},
     "output_type": "display_data"
    },
    {
     "data": {
      "text/html": [
       "<pre style=\"white-space:pre;overflow-x:auto;line-height:normal;font-family:Menlo,'DejaVu Sans Mono',consolas,'Courier New',monospace\">\n",
       "</pre>\n"
      ],
      "text/plain": [
       "\n"
      ]
     },
     "metadata": {},
     "output_type": "display_data"
    },
    {
     "name": "stdout",
     "output_type": "stream",
     "text": [
      "add LH_211104 to file\n"
     ]
    },
    {
     "data": {
      "application/vnd.jupyter.widget-view+json": {
       "model_id": "e3813d6c586348bca51bcd4b07ce08a1",
       "version_major": 2,
       "version_minor": 0
      },
      "text/plain": [
       "Output()"
      ]
     },
     "metadata": {},
     "output_type": "display_data"
    },
    {
     "name": "stdout",
     "output_type": "stream",
     "text": [
      "2021-11-05 00:00:00\n",
      "LH_211105\n",
      "getting data between 2021-11-05 00:00:00 and 2021-11-06 00:00:00\n"
     ]
    },
    {
     "data": {
      "text/html": [
       "<pre style=\"white-space:pre;overflow-x:auto;line-height:normal;font-family:Menlo,'DejaVu Sans Mono',consolas,'Courier New',monospace\">C:\\Users\\dario\\anaconda3\\envs\\Lufthansa-Arrival-Time-Prediction\\lib\\site-packages\\traffic\\data\\adsb\\opensky_impala.\n",
       "py:196: DtypeWarning: Columns (18) have mixed types. Specify dtype option on import or set low_memory=False.\n",
       "  df = pd.read_csv(s, dtype={\"icao24\": str, \"callsign\": str})\n",
       "</pre>\n"
      ],
      "text/plain": [
       "C:\\Users\\dario\\anaconda3\\envs\\Lufthansa-Arrival-Time-Prediction\\lib\\site-packages\\traffic\\data\\adsb\\opensky_impala.\n",
       "py:196: DtypeWarning: Columns (18) have mixed types. Specify dtype option on import or set low_memory=False.\n",
       "  df = pd.read_csv(s, dtype={\"icao24\": str, \"callsign\": str})\n"
      ]
     },
     "metadata": {},
     "output_type": "display_data"
    },
    {
     "data": {
      "text/html": [
       "<pre style=\"white-space:pre;overflow-x:auto;line-height:normal;font-family:Menlo,'DejaVu Sans Mono',consolas,'Courier New',monospace\"></pre>\n"
      ],
      "text/plain": []
     },
     "metadata": {},
     "output_type": "display_data"
    },
    {
     "data": {
      "text/html": [
       "<pre style=\"white-space:pre;overflow-x:auto;line-height:normal;font-family:Menlo,'DejaVu Sans Mono',consolas,'Courier New',monospace\">\n",
       "</pre>\n"
      ],
      "text/plain": [
       "\n"
      ]
     },
     "metadata": {},
     "output_type": "display_data"
    },
    {
     "name": "stdout",
     "output_type": "stream",
     "text": [
      "add LH_211105 to file\n"
     ]
    },
    {
     "data": {
      "application/vnd.jupyter.widget-view+json": {
       "model_id": "adc9b71510a5486ba03a2f951752eaf6",
       "version_major": 2,
       "version_minor": 0
      },
      "text/plain": [
       "Output()"
      ]
     },
     "metadata": {},
     "output_type": "display_data"
    },
    {
     "name": "stdout",
     "output_type": "stream",
     "text": [
      "2021-11-06 00:00:00\n",
      "LH_211106\n",
      "getting data between 2021-11-06 00:00:00 and 2021-11-07 00:00:00\n"
     ]
    },
    {
     "data": {
      "text/html": [
       "<pre style=\"white-space:pre;overflow-x:auto;line-height:normal;font-family:Menlo,'DejaVu Sans Mono',consolas,'Courier New',monospace\">C:\\Users\\dario\\anaconda3\\envs\\Lufthansa-Arrival-Time-Prediction\\lib\\site-packages\\traffic\\data\\adsb\\opensky_impala.\n",
       "py:196: DtypeWarning: Columns (18) have mixed types. Specify dtype option on import or set low_memory=False.\n",
       "  df = pd.read_csv(s, dtype={\"icao24\": str, \"callsign\": str})\n",
       "</pre>\n"
      ],
      "text/plain": [
       "C:\\Users\\dario\\anaconda3\\envs\\Lufthansa-Arrival-Time-Prediction\\lib\\site-packages\\traffic\\data\\adsb\\opensky_impala.\n",
       "py:196: DtypeWarning: Columns (18) have mixed types. Specify dtype option on import or set low_memory=False.\n",
       "  df = pd.read_csv(s, dtype={\"icao24\": str, \"callsign\": str})\n"
      ]
     },
     "metadata": {},
     "output_type": "display_data"
    },
    {
     "data": {
      "text/html": [
       "<pre style=\"white-space:pre;overflow-x:auto;line-height:normal;font-family:Menlo,'DejaVu Sans Mono',consolas,'Courier New',monospace\"></pre>\n"
      ],
      "text/plain": []
     },
     "metadata": {},
     "output_type": "display_data"
    },
    {
     "data": {
      "text/html": [
       "<pre style=\"white-space:pre;overflow-x:auto;line-height:normal;font-family:Menlo,'DejaVu Sans Mono',consolas,'Courier New',monospace\">\n",
       "</pre>\n"
      ],
      "text/plain": [
       "\n"
      ]
     },
     "metadata": {},
     "output_type": "display_data"
    },
    {
     "name": "stdout",
     "output_type": "stream",
     "text": [
      "add LH_211106 to file\n"
     ]
    },
    {
     "data": {
      "application/vnd.jupyter.widget-view+json": {
       "model_id": "6a7740525dac4e75b0dfa1a2ad9f75ba",
       "version_major": 2,
       "version_minor": 0
      },
      "text/plain": [
       "Output()"
      ]
     },
     "metadata": {},
     "output_type": "display_data"
    },
    {
     "name": "stdout",
     "output_type": "stream",
     "text": [
      "2021-11-07 00:00:00\n",
      "LH_211107\n",
      "getting data between 2021-11-07 00:00:00 and 2021-11-08 00:00:00\n"
     ]
    },
    {
     "data": {
      "text/html": [
       "<pre style=\"white-space:pre;overflow-x:auto;line-height:normal;font-family:Menlo,'DejaVu Sans Mono',consolas,'Courier New',monospace\">C:\\Users\\dario\\anaconda3\\envs\\Lufthansa-Arrival-Time-Prediction\\lib\\site-packages\\traffic\\data\\adsb\\opensky_impala.\n",
       "py:196: DtypeWarning: Columns (18) have mixed types. Specify dtype option on import or set low_memory=False.\n",
       "  df = pd.read_csv(s, dtype={\"icao24\": str, \"callsign\": str})\n",
       "</pre>\n"
      ],
      "text/plain": [
       "C:\\Users\\dario\\anaconda3\\envs\\Lufthansa-Arrival-Time-Prediction\\lib\\site-packages\\traffic\\data\\adsb\\opensky_impala.\n",
       "py:196: DtypeWarning: Columns (18) have mixed types. Specify dtype option on import or set low_memory=False.\n",
       "  df = pd.read_csv(s, dtype={\"icao24\": str, \"callsign\": str})\n"
      ]
     },
     "metadata": {},
     "output_type": "display_data"
    },
    {
     "data": {
      "text/html": [
       "<pre style=\"white-space:pre;overflow-x:auto;line-height:normal;font-family:Menlo,'DejaVu Sans Mono',consolas,'Courier New',monospace\"></pre>\n"
      ],
      "text/plain": []
     },
     "metadata": {},
     "output_type": "display_data"
    },
    {
     "data": {
      "text/html": [
       "<pre style=\"white-space:pre;overflow-x:auto;line-height:normal;font-family:Menlo,'DejaVu Sans Mono',consolas,'Courier New',monospace\">\n",
       "</pre>\n"
      ],
      "text/plain": [
       "\n"
      ]
     },
     "metadata": {},
     "output_type": "display_data"
    },
    {
     "name": "stdout",
     "output_type": "stream",
     "text": [
      "add LH_211107 to file\n"
     ]
    },
    {
     "data": {
      "application/vnd.jupyter.widget-view+json": {
       "model_id": "7269ea5e3fec45bea41f555fbddd590d",
       "version_major": 2,
       "version_minor": 0
      },
      "text/plain": [
       "Output()"
      ]
     },
     "metadata": {},
     "output_type": "display_data"
    },
    {
     "name": "stdout",
     "output_type": "stream",
     "text": [
      "2021-11-08 00:00:00\n",
      "LH_211108\n",
      "getting data between 2021-11-08 00:00:00 and 2021-11-09 00:00:00\n"
     ]
    },
    {
     "data": {
      "text/html": [
       "<pre style=\"white-space:pre;overflow-x:auto;line-height:normal;font-family:Menlo,'DejaVu Sans Mono',consolas,'Courier New',monospace\">C:\\Users\\dario\\anaconda3\\envs\\Lufthansa-Arrival-Time-Prediction\\lib\\site-packages\\traffic\\data\\adsb\\opensky_impala.\n",
       "py:196: DtypeWarning: Columns (18) have mixed types. Specify dtype option on import or set low_memory=False.\n",
       "  df = pd.read_csv(s, dtype={\"icao24\": str, \"callsign\": str})\n",
       "</pre>\n"
      ],
      "text/plain": [
       "C:\\Users\\dario\\anaconda3\\envs\\Lufthansa-Arrival-Time-Prediction\\lib\\site-packages\\traffic\\data\\adsb\\opensky_impala.\n",
       "py:196: DtypeWarning: Columns (18) have mixed types. Specify dtype option on import or set low_memory=False.\n",
       "  df = pd.read_csv(s, dtype={\"icao24\": str, \"callsign\": str})\n"
      ]
     },
     "metadata": {},
     "output_type": "display_data"
    },
    {
     "data": {
      "text/html": [
       "<pre style=\"white-space:pre;overflow-x:auto;line-height:normal;font-family:Menlo,'DejaVu Sans Mono',consolas,'Courier New',monospace\">C:\\Users\\dario\\anaconda3\\envs\\Lufthansa-Arrival-Time-Prediction\\lib\\site-packages\\traffic\\data\\adsb\\opensky_impala.\n",
       "py:196: DtypeWarning: Columns (18) have mixed types. Specify dtype option on import or set low_memory=False.\n",
       "  df = pd.read_csv(s, dtype={\"icao24\": str, \"callsign\": str})\n",
       "</pre>\n"
      ],
      "text/plain": [
       "C:\\Users\\dario\\anaconda3\\envs\\Lufthansa-Arrival-Time-Prediction\\lib\\site-packages\\traffic\\data\\adsb\\opensky_impala.\n",
       "py:196: DtypeWarning: Columns (18) have mixed types. Specify dtype option on import or set low_memory=False.\n",
       "  df = pd.read_csv(s, dtype={\"icao24\": str, \"callsign\": str})\n"
      ]
     },
     "metadata": {},
     "output_type": "display_data"
    },
    {
     "data": {
      "text/html": [
       "<pre style=\"white-space:pre;overflow-x:auto;line-height:normal;font-family:Menlo,'DejaVu Sans Mono',consolas,'Courier New',monospace\"></pre>\n"
      ],
      "text/plain": []
     },
     "metadata": {},
     "output_type": "display_data"
    },
    {
     "data": {
      "text/html": [
       "<pre style=\"white-space:pre;overflow-x:auto;line-height:normal;font-family:Menlo,'DejaVu Sans Mono',consolas,'Courier New',monospace\">\n",
       "</pre>\n"
      ],
      "text/plain": [
       "\n"
      ]
     },
     "metadata": {},
     "output_type": "display_data"
    },
    {
     "name": "stdout",
     "output_type": "stream",
     "text": [
      "add LH_211108 to file\n"
     ]
    },
    {
     "data": {
      "application/vnd.jupyter.widget-view+json": {
       "model_id": "7e401fd5d0d7434eae0496cfb7ddcfce",
       "version_major": 2,
       "version_minor": 0
      },
      "text/plain": [
       "Output()"
      ]
     },
     "metadata": {},
     "output_type": "display_data"
    },
    {
     "name": "stdout",
     "output_type": "stream",
     "text": [
      "2021-11-09 00:00:00\n",
      "LH_211109\n",
      "getting data between 2021-11-09 00:00:00 and 2021-11-10 00:00:00\n"
     ]
    }
   ],
   "source": [
    "download_month(11, 2021, 1, cached = True)"
   ]
  },
  {
   "cell_type": "code",
   "execution_count": 3,
   "id": "5919da59-92c6-4787-8a59-5d0743a93639",
   "metadata": {},
   "outputs": [
    {
     "name": "stdout",
     "output_type": "stream",
     "text": [
      "['LH_211001', 'LH_211002', 'LH_211003', 'LH_211004', 'LH_211005', 'LH_211006', 'LH_211007', 'LH_211008', 'LH_211009', 'LH_211010', 'LH_211011', 'LH_211012', 'LH_211013', 'LH_211014', 'LH_211015', 'LH_211016', 'LH_211017', 'LH_211018', 'LH_211019', 'LH_211020', 'LH_211021', 'LH_211022', 'LH_211023', 'LH_211024', 'LH_211025', 'LH_211026', 'LH_211027']\n"
     ]
    }
   ],
   "source": [
    "with h5py.File(\"Frankfurt_LH_2110.h5\", 'r') as f:\n",
    "    keys = print(list(f.keys()))\n"
   ]
  },
  {
   "cell_type": "code",
   "execution_count": 2,
   "id": "6783e659-dec1-4e18-ad5d-503b2bf16b1d",
   "metadata": {},
   "outputs": [
    {
     "data": {
      "text/plain": [
       "'C:\\\\Users\\\\dario\\\\Documents\\\\Master Data Science\\\\Lufthansa\\\\Lufthansa-Arrival-Time-Prediction\\\\playground'"
      ]
     },
     "execution_count": 2,
     "metadata": {},
     "output_type": "execute_result"
    }
   ],
   "source": [
    "os.getcwd()"
   ]
  },
  {
   "cell_type": "code",
   "execution_count": null,
   "id": "764e772e-bca7-4945-9d9e-2909829e6ca1",
   "metadata": {},
   "outputs": [],
   "source": []
  }
 ],
 "metadata": {
  "kernelspec": {
   "display_name": "Python 3 (ipykernel)",
   "language": "python",
   "name": "python3"
  },
  "language_info": {
   "codemirror_mode": {
    "name": "ipython",
    "version": 3
   },
   "file_extension": ".py",
   "mimetype": "text/x-python",
   "name": "python",
   "nbconvert_exporter": "python",
   "pygments_lexer": "ipython3",
   "version": "3.10.9"
  }
 },
 "nbformat": 4,
 "nbformat_minor": 5
}
