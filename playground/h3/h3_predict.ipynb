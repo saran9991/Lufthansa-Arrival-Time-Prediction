{
 "cells": [
  {
   "cell_type": "code",
   "execution_count": 35,
   "metadata": {
    "collapsed": true,
    "ExecuteTime": {
     "end_time": "2023-07-21T10:13:17.276448900Z",
     "start_time": "2023-07-21T10:13:17.264449400Z"
    }
   },
   "outputs": [],
   "source": [
    "import os\n",
    "from src.processing_utils.h3_preprocessing import h3_preprocess, get_h3_index, test_data_h3_average\n",
    "from train_model.incremental_combined_xgboost import PreProcessing\n",
    "\n",
    "import pandas as pd\n",
    "import xgboost as xgb\n",
    "from sklearn.metrics import r2_score\n",
    "import joblib\n",
    "import h3pandas\n",
    "import h3\n",
    "from sklearn.metrics import mean_absolute_error"
   ]
  },
  {
   "cell_type": "code",
   "execution_count": 3,
   "outputs": [
    {
     "data": {
      "text/plain": "'C:\\\\Users\\\\saran\\\\Desktop\\\\Lufthansa\\\\Lufthansa-Arrival-Time-Prediction\\\\playground\\\\h3'"
     },
     "execution_count": 3,
     "metadata": {},
     "output_type": "execute_result"
    }
   ],
   "source": [
    "os.getcwd()"
   ],
   "metadata": {
    "collapsed": false,
    "ExecuteTime": {
     "end_time": "2023-07-21T10:03:47.637948400Z",
     "start_time": "2023-07-21T10:03:47.624950600Z"
    }
   }
  },
  {
   "cell_type": "code",
   "execution_count": 4,
   "outputs": [],
   "source": [
    "os.chdir('..')\n",
    "os.chdir('..')"
   ],
   "metadata": {
    "collapsed": false,
    "ExecuteTime": {
     "end_time": "2023-07-21T10:03:47.676945900Z",
     "start_time": "2023-07-21T10:03:47.636951200Z"
    }
   }
  },
  {
   "cell_type": "code",
   "execution_count": 11,
   "outputs": [],
   "source": [
    "combined_data = pd.read_csv('combined_data_2.csv', low_memory=False)"
   ],
   "metadata": {
    "collapsed": false,
    "ExecuteTime": {
     "end_time": "2023-07-21T10:07:00.747276300Z",
     "start_time": "2023-07-21T10:06:22.267851600Z"
    }
   }
  },
  {
   "cell_type": "code",
   "execution_count": 7,
   "outputs": [],
   "source": [
    "preprocessor = PreProcessing()"
   ],
   "metadata": {
    "collapsed": false,
    "ExecuteTime": {
     "end_time": "2023-07-21T10:04:15.896111Z",
     "start_time": "2023-07-21T10:04:15.887112900Z"
    }
   }
  },
  {
   "cell_type": "code",
   "execution_count": 12,
   "outputs": [],
   "source": [
    "data = preprocessor.data_steps(combined_data)\n",
    "data.drop(columns=['Unnamed: 0.1', 'Unnamed: 0'], inplace=True)"
   ],
   "metadata": {
    "collapsed": false,
    "ExecuteTime": {
     "end_time": "2023-07-21T10:07:47.896328Z",
     "start_time": "2023-07-21T10:07:01.080737200Z"
    }
   }
  },
  {
   "cell_type": "code",
   "execution_count": 13,
   "outputs": [
    {
     "name": "stdout",
     "output_type": "stream",
     "text": [
      "H3 Features Added\n"
     ]
    }
   ],
   "source": [
    "data2 = h3_preprocess(data, 6)"
   ],
   "metadata": {
    "collapsed": false,
    "ExecuteTime": {
     "end_time": "2023-07-21T10:08:11.132938700Z",
     "start_time": "2023-07-21T10:07:47.900346900Z"
    }
   }
  },
  {
   "cell_type": "code",
   "execution_count": 14,
   "outputs": [],
   "source": [
    "traindata = data2.copy()"
   ],
   "metadata": {
    "collapsed": false,
    "ExecuteTime": {
     "end_time": "2023-07-21T10:08:11.230941800Z",
     "start_time": "2023-07-21T10:08:11.138942200Z"
    }
   }
  },
  {
   "cell_type": "code",
   "execution_count": 8,
   "outputs": [
    {
     "data": {
      "text/plain": "         Unnamed: 0.1  Unnamed: 0  alert  altitude callsign  \\\n0              176719      6591.0  False    1400.0   DLH01P   \n50             176769      6841.0  False   11475.0   DLH01P   \n100            176819      7091.0  False   19350.0   DLH01P   \n150            176869     88536.0  False   25725.0   DLH01P   \n200            176919     88786.0  False   30025.0   DLH01P   \n...               ...         ...    ...       ...      ...   \n4865400       7770020     29825.0  False   13000.0   DLH9YJ   \n4865450       7770070     30075.0  False   12000.0   DLH9YJ   \n4865500       7770120     30325.0  False    7350.0   DLH9YJ   \n4865550       7770170     30575.0  False    4500.0   DLH9YJ   \n4865600       7770220     30825.0  False     325.0   DLH9YJ   \n\n                               day destination                  firstseen  \\\n0        2023-01-01 00:00:00+00:00        EDDF  2023-01-01 12:48:30+00:00   \n50       2023-01-01 00:00:00+00:00        EDDF  2023-01-01 12:48:30+00:00   \n100      2023-01-01 00:00:00+00:00        EDDF  2023-01-01 12:48:30+00:00   \n150      2023-01-01 00:00:00+00:00        EDDF  2023-01-01 12:48:30+00:00   \n200      2023-01-01 00:00:00+00:00        EDDF  2023-01-01 12:48:30+00:00   \n...                            ...         ...                        ...   \n4865400  2023-01-28 00:00:00+00:00        EDDF  2023-01-28 14:21:43+00:00   \n4865450  2023-01-28 00:00:00+00:00        EDDF  2023-01-28 14:21:43+00:00   \n4865500  2023-01-28 00:00:00+00:00        EDDF  2023-01-28 14:21:43+00:00   \n4865550  2023-01-28 00:00:00+00:00        EDDF  2023-01-28 14:21:43+00:00   \n4865600  2023-01-28 00:00:00+00:00        EDDF  2023-01-28 14:21:43+00:00   \n\n         geoaltitude  groundspeed  ... latitude_rad longitude_rad weekday_0  \\\n0             1475.0        154.0  ...     0.719611     -0.151439         0   \n50           11700.0        326.0  ...     0.720437     -0.152666         0   \n100          19625.0        451.0  ...     0.728340     -0.150833         0   \n150          26000.0        497.0  ...     0.737878     -0.148871         0   \n200          30250.0        542.0  ...     0.746604     -0.141326         0   \n...              ...          ...  ...          ...           ...       ...   \n4865400      13225.0        373.0  ...     0.879553      0.163986         0   \n4865450      12250.0        368.0  ...     0.876126      0.153617         0   \n4865500       7675.0        338.0  ...     0.873632      0.143206         0   \n4865550       4900.0        193.0  ...     0.872028      0.142969         0   \n4865600        925.0        127.0  ...     0.873192      0.147801         0   \n\n        weekday_1  weekday_2  weekday_3  weekday_4 weekday_5  weekday_6  \\\n0               0          0          0          0         0          1   \n50              0          0          0          0         0          1   \n100             0          0          0          0         0          1   \n150             0          0          0          0         0          1   \n200             0          0          0          0         0          1   \n...           ...        ...        ...        ...       ...        ...   \n4865400         0          0          0          0         1          0   \n4865450         0          0          0          0         1          0   \n4865500         0          0          0          0         1          0   \n4865550         0          0          0          0         1          0   \n4865600         0          0          0          0         1          0   \n\n              y  \n0        7261.0  \n50       7011.0  \n100      6761.0  \n150      6510.0  \n200      6260.0  \n...         ...  \n4865400  1100.0  \n4865450   850.0  \n4865500   600.0  \n4865550   350.0  \n4865600   100.0  \n\n[97313 rows x 47 columns]",
      "text/html": "<div>\n<style scoped>\n    .dataframe tbody tr th:only-of-type {\n        vertical-align: middle;\n    }\n\n    .dataframe tbody tr th {\n        vertical-align: top;\n    }\n\n    .dataframe thead th {\n        text-align: right;\n    }\n</style>\n<table border=\"1\" class=\"dataframe\">\n  <thead>\n    <tr style=\"text-align: right;\">\n      <th></th>\n      <th>Unnamed: 0.1</th>\n      <th>Unnamed: 0</th>\n      <th>alert</th>\n      <th>altitude</th>\n      <th>callsign</th>\n      <th>day</th>\n      <th>destination</th>\n      <th>firstseen</th>\n      <th>geoaltitude</th>\n      <th>groundspeed</th>\n      <th>...</th>\n      <th>latitude_rad</th>\n      <th>longitude_rad</th>\n      <th>weekday_0</th>\n      <th>weekday_1</th>\n      <th>weekday_2</th>\n      <th>weekday_3</th>\n      <th>weekday_4</th>\n      <th>weekday_5</th>\n      <th>weekday_6</th>\n      <th>y</th>\n    </tr>\n  </thead>\n  <tbody>\n    <tr>\n      <th>0</th>\n      <td>176719</td>\n      <td>6591.0</td>\n      <td>False</td>\n      <td>1400.0</td>\n      <td>DLH01P</td>\n      <td>2023-01-01 00:00:00+00:00</td>\n      <td>EDDF</td>\n      <td>2023-01-01 12:48:30+00:00</td>\n      <td>1475.0</td>\n      <td>154.0</td>\n      <td>...</td>\n      <td>0.719611</td>\n      <td>-0.151439</td>\n      <td>0</td>\n      <td>0</td>\n      <td>0</td>\n      <td>0</td>\n      <td>0</td>\n      <td>0</td>\n      <td>1</td>\n      <td>7261.0</td>\n    </tr>\n    <tr>\n      <th>50</th>\n      <td>176769</td>\n      <td>6841.0</td>\n      <td>False</td>\n      <td>11475.0</td>\n      <td>DLH01P</td>\n      <td>2023-01-01 00:00:00+00:00</td>\n      <td>EDDF</td>\n      <td>2023-01-01 12:48:30+00:00</td>\n      <td>11700.0</td>\n      <td>326.0</td>\n      <td>...</td>\n      <td>0.720437</td>\n      <td>-0.152666</td>\n      <td>0</td>\n      <td>0</td>\n      <td>0</td>\n      <td>0</td>\n      <td>0</td>\n      <td>0</td>\n      <td>1</td>\n      <td>7011.0</td>\n    </tr>\n    <tr>\n      <th>100</th>\n      <td>176819</td>\n      <td>7091.0</td>\n      <td>False</td>\n      <td>19350.0</td>\n      <td>DLH01P</td>\n      <td>2023-01-01 00:00:00+00:00</td>\n      <td>EDDF</td>\n      <td>2023-01-01 12:48:30+00:00</td>\n      <td>19625.0</td>\n      <td>451.0</td>\n      <td>...</td>\n      <td>0.728340</td>\n      <td>-0.150833</td>\n      <td>0</td>\n      <td>0</td>\n      <td>0</td>\n      <td>0</td>\n      <td>0</td>\n      <td>0</td>\n      <td>1</td>\n      <td>6761.0</td>\n    </tr>\n    <tr>\n      <th>150</th>\n      <td>176869</td>\n      <td>88536.0</td>\n      <td>False</td>\n      <td>25725.0</td>\n      <td>DLH01P</td>\n      <td>2023-01-01 00:00:00+00:00</td>\n      <td>EDDF</td>\n      <td>2023-01-01 12:48:30+00:00</td>\n      <td>26000.0</td>\n      <td>497.0</td>\n      <td>...</td>\n      <td>0.737878</td>\n      <td>-0.148871</td>\n      <td>0</td>\n      <td>0</td>\n      <td>0</td>\n      <td>0</td>\n      <td>0</td>\n      <td>0</td>\n      <td>1</td>\n      <td>6510.0</td>\n    </tr>\n    <tr>\n      <th>200</th>\n      <td>176919</td>\n      <td>88786.0</td>\n      <td>False</td>\n      <td>30025.0</td>\n      <td>DLH01P</td>\n      <td>2023-01-01 00:00:00+00:00</td>\n      <td>EDDF</td>\n      <td>2023-01-01 12:48:30+00:00</td>\n      <td>30250.0</td>\n      <td>542.0</td>\n      <td>...</td>\n      <td>0.746604</td>\n      <td>-0.141326</td>\n      <td>0</td>\n      <td>0</td>\n      <td>0</td>\n      <td>0</td>\n      <td>0</td>\n      <td>0</td>\n      <td>1</td>\n      <td>6260.0</td>\n    </tr>\n    <tr>\n      <th>...</th>\n      <td>...</td>\n      <td>...</td>\n      <td>...</td>\n      <td>...</td>\n      <td>...</td>\n      <td>...</td>\n      <td>...</td>\n      <td>...</td>\n      <td>...</td>\n      <td>...</td>\n      <td>...</td>\n      <td>...</td>\n      <td>...</td>\n      <td>...</td>\n      <td>...</td>\n      <td>...</td>\n      <td>...</td>\n      <td>...</td>\n      <td>...</td>\n      <td>...</td>\n      <td>...</td>\n    </tr>\n    <tr>\n      <th>4865400</th>\n      <td>7770020</td>\n      <td>29825.0</td>\n      <td>False</td>\n      <td>13000.0</td>\n      <td>DLH9YJ</td>\n      <td>2023-01-28 00:00:00+00:00</td>\n      <td>EDDF</td>\n      <td>2023-01-28 14:21:43+00:00</td>\n      <td>13225.0</td>\n      <td>373.0</td>\n      <td>...</td>\n      <td>0.879553</td>\n      <td>0.163986</td>\n      <td>0</td>\n      <td>0</td>\n      <td>0</td>\n      <td>0</td>\n      <td>0</td>\n      <td>1</td>\n      <td>0</td>\n      <td>1100.0</td>\n    </tr>\n    <tr>\n      <th>4865450</th>\n      <td>7770070</td>\n      <td>30075.0</td>\n      <td>False</td>\n      <td>12000.0</td>\n      <td>DLH9YJ</td>\n      <td>2023-01-28 00:00:00+00:00</td>\n      <td>EDDF</td>\n      <td>2023-01-28 14:21:43+00:00</td>\n      <td>12250.0</td>\n      <td>368.0</td>\n      <td>...</td>\n      <td>0.876126</td>\n      <td>0.153617</td>\n      <td>0</td>\n      <td>0</td>\n      <td>0</td>\n      <td>0</td>\n      <td>0</td>\n      <td>1</td>\n      <td>0</td>\n      <td>850.0</td>\n    </tr>\n    <tr>\n      <th>4865500</th>\n      <td>7770120</td>\n      <td>30325.0</td>\n      <td>False</td>\n      <td>7350.0</td>\n      <td>DLH9YJ</td>\n      <td>2023-01-28 00:00:00+00:00</td>\n      <td>EDDF</td>\n      <td>2023-01-28 14:21:43+00:00</td>\n      <td>7675.0</td>\n      <td>338.0</td>\n      <td>...</td>\n      <td>0.873632</td>\n      <td>0.143206</td>\n      <td>0</td>\n      <td>0</td>\n      <td>0</td>\n      <td>0</td>\n      <td>0</td>\n      <td>1</td>\n      <td>0</td>\n      <td>600.0</td>\n    </tr>\n    <tr>\n      <th>4865550</th>\n      <td>7770170</td>\n      <td>30575.0</td>\n      <td>False</td>\n      <td>4500.0</td>\n      <td>DLH9YJ</td>\n      <td>2023-01-28 00:00:00+00:00</td>\n      <td>EDDF</td>\n      <td>2023-01-28 14:21:43+00:00</td>\n      <td>4900.0</td>\n      <td>193.0</td>\n      <td>...</td>\n      <td>0.872028</td>\n      <td>0.142969</td>\n      <td>0</td>\n      <td>0</td>\n      <td>0</td>\n      <td>0</td>\n      <td>0</td>\n      <td>1</td>\n      <td>0</td>\n      <td>350.0</td>\n    </tr>\n    <tr>\n      <th>4865600</th>\n      <td>7770220</td>\n      <td>30825.0</td>\n      <td>False</td>\n      <td>325.0</td>\n      <td>DLH9YJ</td>\n      <td>2023-01-28 00:00:00+00:00</td>\n      <td>EDDF</td>\n      <td>2023-01-28 14:21:43+00:00</td>\n      <td>925.0</td>\n      <td>127.0</td>\n      <td>...</td>\n      <td>0.873192</td>\n      <td>0.147801</td>\n      <td>0</td>\n      <td>0</td>\n      <td>0</td>\n      <td>0</td>\n      <td>0</td>\n      <td>1</td>\n      <td>0</td>\n      <td>100.0</td>\n    </tr>\n  </tbody>\n</table>\n<p>97313 rows × 47 columns</p>\n</div>"
     },
     "execution_count": 8,
     "metadata": {},
     "output_type": "execute_result"
    }
   ],
   "source": [
    "testdata = preprocessor.data_steps(pd.read_csv('playground/data/2023/january2023.csv'))\n",
    "testdata.iloc[::50, :]"
   ],
   "metadata": {
    "collapsed": false,
    "ExecuteTime": {
     "end_time": "2023-07-21T10:05:59.923170500Z",
     "start_time": "2023-07-21T10:04:19.716232900Z"
    }
   }
  },
  {
   "cell_type": "code",
   "execution_count": 9,
   "outputs": [
    {
     "name": "stdout",
     "output_type": "stream",
     "text": [
      "H3 Index Added\n"
     ]
    }
   ],
   "source": [
    "testdata = get_h3_index(testdata, 6)"
   ],
   "metadata": {
    "collapsed": false,
    "ExecuteTime": {
     "end_time": "2023-07-21T10:06:15.142739300Z",
     "start_time": "2023-07-21T10:05:59.926173600Z"
    }
   }
  },
  {
   "cell_type": "code",
   "execution_count": 15,
   "outputs": [],
   "source": [
    "testdata = test_data_h3_average(traindata, testdata)"
   ],
   "metadata": {
    "collapsed": false,
    "ExecuteTime": {
     "end_time": "2023-07-21T10:08:48.620284500Z",
     "start_time": "2023-07-21T10:08:37.104239700Z"
    }
   }
  },
  {
   "cell_type": "code",
   "execution_count": 16,
   "outputs": [
    {
     "data": {
      "text/plain": "         Unnamed: 0.1  Unnamed: 0  alert  altitude callsign  \\\n0              176719      6591.0  False    1400.0   DLH01P   \n1              176720      6596.0  False    1675.0   DLH01P   \n2              176721      6601.0  False    1875.0   DLH01P   \n3              176722      6606.0  False    2075.0   DLH01P   \n4              176723      6611.0  False    2200.0   DLH01P   \n...               ...         ...    ...       ...      ...   \n4865641       7770265     31050.0  False       NaN   DLH9YJ   \n4865642       7770266     31055.0  False       NaN   DLH9YJ   \n4865643       7770267     31060.0  False       NaN   DLH9YJ   \n4865644       7770268     31065.0  False     -75.0   DLH9YJ   \n4865645       7770269     31070.0  False       NaN   DLH9YJ   \n\n                               day destination                  firstseen  \\\n0        2023-01-01 00:00:00+00:00        EDDF  2023-01-01 12:48:30+00:00   \n1        2023-01-01 00:00:00+00:00        EDDF  2023-01-01 12:48:30+00:00   \n2        2023-01-01 00:00:00+00:00        EDDF  2023-01-01 12:48:30+00:00   \n3        2023-01-01 00:00:00+00:00        EDDF  2023-01-01 12:48:30+00:00   \n4        2023-01-01 00:00:00+00:00        EDDF  2023-01-01 12:48:30+00:00   \n...                            ...         ...                        ...   \n4865641  2023-01-28 00:00:00+00:00        EDDF  2023-01-28 14:21:43+00:00   \n4865642  2023-01-28 00:00:00+00:00        EDDF  2023-01-28 14:21:43+00:00   \n4865643  2023-01-28 00:00:00+00:00        EDDF  2023-01-28 14:21:43+00:00   \n4865644  2023-01-28 00:00:00+00:00        EDDF  2023-01-28 14:21:43+00:00   \n4865645  2023-01-28 00:00:00+00:00        EDDF  2023-01-28 14:21:43+00:00   \n\n         geoaltitude  groundspeed  ...  weekday_2 weekday_3 weekday_4  \\\n0             1475.0        154.0  ...          0         0         0   \n1             1825.0        157.0  ...          0         0         0   \n2             2025.0        157.0  ...          0         0         0   \n3             2225.0        160.0  ...          0         0         0   \n4             2375.0        163.0  ...          0         0         0   \n...              ...          ...  ...        ...       ...       ...   \n4865641          NaN         48.0  ...          0         0         0   \n4865642          NaN         48.0  ...          0         0         0   \n4865643          NaN         48.0  ...          0         0         0   \n4865644          NaN         48.0  ...          0         0         0   \n4865645          NaN         48.0  ...          0         0         0   \n\n        weekday_5  weekday_6       y          h3index hexbin_hourly_density  \\\n0               0          1  7261.0  86392201fffffff              1.000000   \n1               0          1  7256.0  86392201fffffff              1.000000   \n2               0          1  7251.0  86392201fffffff              1.000000   \n3               0          1  7246.0  86392201fffffff              1.000000   \n4               0          1  7241.0  86392201fffffff              1.000000   \n...           ...        ...     ...              ...                   ...   \n4865641         1          0  -125.0  861faea97ffffff             15.590795   \n4865642         1          0  -130.0  861faea97ffffff             15.590795   \n4865643         1          0  -135.0  861faea97ffffff             15.590795   \n4865644         1          0  -140.0  861faea97ffffff             15.590795   \n4865645         1          0  -145.0  861faea97ffffff             15.590795   \n\n         average_hourly_speed  average_hourly_altitude  \n0                  184.500000              3237.500000  \n1                  184.500000              3237.500000  \n2                  184.500000              3237.500000  \n3                  184.500000              3237.500000  \n4                  184.500000              3237.500000  \n...                       ...                      ...  \n4865641            113.442789               585.392867  \n4865642            113.442789               585.392867  \n4865643            113.442789               585.392867  \n4865644            113.442789               585.392867  \n4865645            113.442789               585.392867  \n\n[4865646 rows x 51 columns]",
      "text/html": "<div>\n<style scoped>\n    .dataframe tbody tr th:only-of-type {\n        vertical-align: middle;\n    }\n\n    .dataframe tbody tr th {\n        vertical-align: top;\n    }\n\n    .dataframe thead th {\n        text-align: right;\n    }\n</style>\n<table border=\"1\" class=\"dataframe\">\n  <thead>\n    <tr style=\"text-align: right;\">\n      <th></th>\n      <th>Unnamed: 0.1</th>\n      <th>Unnamed: 0</th>\n      <th>alert</th>\n      <th>altitude</th>\n      <th>callsign</th>\n      <th>day</th>\n      <th>destination</th>\n      <th>firstseen</th>\n      <th>geoaltitude</th>\n      <th>groundspeed</th>\n      <th>...</th>\n      <th>weekday_2</th>\n      <th>weekday_3</th>\n      <th>weekday_4</th>\n      <th>weekday_5</th>\n      <th>weekday_6</th>\n      <th>y</th>\n      <th>h3index</th>\n      <th>hexbin_hourly_density</th>\n      <th>average_hourly_speed</th>\n      <th>average_hourly_altitude</th>\n    </tr>\n  </thead>\n  <tbody>\n    <tr>\n      <th>0</th>\n      <td>176719</td>\n      <td>6591.0</td>\n      <td>False</td>\n      <td>1400.0</td>\n      <td>DLH01P</td>\n      <td>2023-01-01 00:00:00+00:00</td>\n      <td>EDDF</td>\n      <td>2023-01-01 12:48:30+00:00</td>\n      <td>1475.0</td>\n      <td>154.0</td>\n      <td>...</td>\n      <td>0</td>\n      <td>0</td>\n      <td>0</td>\n      <td>0</td>\n      <td>1</td>\n      <td>7261.0</td>\n      <td>86392201fffffff</td>\n      <td>1.000000</td>\n      <td>184.500000</td>\n      <td>3237.500000</td>\n    </tr>\n    <tr>\n      <th>1</th>\n      <td>176720</td>\n      <td>6596.0</td>\n      <td>False</td>\n      <td>1675.0</td>\n      <td>DLH01P</td>\n      <td>2023-01-01 00:00:00+00:00</td>\n      <td>EDDF</td>\n      <td>2023-01-01 12:48:30+00:00</td>\n      <td>1825.0</td>\n      <td>157.0</td>\n      <td>...</td>\n      <td>0</td>\n      <td>0</td>\n      <td>0</td>\n      <td>0</td>\n      <td>1</td>\n      <td>7256.0</td>\n      <td>86392201fffffff</td>\n      <td>1.000000</td>\n      <td>184.500000</td>\n      <td>3237.500000</td>\n    </tr>\n    <tr>\n      <th>2</th>\n      <td>176721</td>\n      <td>6601.0</td>\n      <td>False</td>\n      <td>1875.0</td>\n      <td>DLH01P</td>\n      <td>2023-01-01 00:00:00+00:00</td>\n      <td>EDDF</td>\n      <td>2023-01-01 12:48:30+00:00</td>\n      <td>2025.0</td>\n      <td>157.0</td>\n      <td>...</td>\n      <td>0</td>\n      <td>0</td>\n      <td>0</td>\n      <td>0</td>\n      <td>1</td>\n      <td>7251.0</td>\n      <td>86392201fffffff</td>\n      <td>1.000000</td>\n      <td>184.500000</td>\n      <td>3237.500000</td>\n    </tr>\n    <tr>\n      <th>3</th>\n      <td>176722</td>\n      <td>6606.0</td>\n      <td>False</td>\n      <td>2075.0</td>\n      <td>DLH01P</td>\n      <td>2023-01-01 00:00:00+00:00</td>\n      <td>EDDF</td>\n      <td>2023-01-01 12:48:30+00:00</td>\n      <td>2225.0</td>\n      <td>160.0</td>\n      <td>...</td>\n      <td>0</td>\n      <td>0</td>\n      <td>0</td>\n      <td>0</td>\n      <td>1</td>\n      <td>7246.0</td>\n      <td>86392201fffffff</td>\n      <td>1.000000</td>\n      <td>184.500000</td>\n      <td>3237.500000</td>\n    </tr>\n    <tr>\n      <th>4</th>\n      <td>176723</td>\n      <td>6611.0</td>\n      <td>False</td>\n      <td>2200.0</td>\n      <td>DLH01P</td>\n      <td>2023-01-01 00:00:00+00:00</td>\n      <td>EDDF</td>\n      <td>2023-01-01 12:48:30+00:00</td>\n      <td>2375.0</td>\n      <td>163.0</td>\n      <td>...</td>\n      <td>0</td>\n      <td>0</td>\n      <td>0</td>\n      <td>0</td>\n      <td>1</td>\n      <td>7241.0</td>\n      <td>86392201fffffff</td>\n      <td>1.000000</td>\n      <td>184.500000</td>\n      <td>3237.500000</td>\n    </tr>\n    <tr>\n      <th>...</th>\n      <td>...</td>\n      <td>...</td>\n      <td>...</td>\n      <td>...</td>\n      <td>...</td>\n      <td>...</td>\n      <td>...</td>\n      <td>...</td>\n      <td>...</td>\n      <td>...</td>\n      <td>...</td>\n      <td>...</td>\n      <td>...</td>\n      <td>...</td>\n      <td>...</td>\n      <td>...</td>\n      <td>...</td>\n      <td>...</td>\n      <td>...</td>\n      <td>...</td>\n      <td>...</td>\n    </tr>\n    <tr>\n      <th>4865641</th>\n      <td>7770265</td>\n      <td>31050.0</td>\n      <td>False</td>\n      <td>NaN</td>\n      <td>DLH9YJ</td>\n      <td>2023-01-28 00:00:00+00:00</td>\n      <td>EDDF</td>\n      <td>2023-01-28 14:21:43+00:00</td>\n      <td>NaN</td>\n      <td>48.0</td>\n      <td>...</td>\n      <td>0</td>\n      <td>0</td>\n      <td>0</td>\n      <td>1</td>\n      <td>0</td>\n      <td>-125.0</td>\n      <td>861faea97ffffff</td>\n      <td>15.590795</td>\n      <td>113.442789</td>\n      <td>585.392867</td>\n    </tr>\n    <tr>\n      <th>4865642</th>\n      <td>7770266</td>\n      <td>31055.0</td>\n      <td>False</td>\n      <td>NaN</td>\n      <td>DLH9YJ</td>\n      <td>2023-01-28 00:00:00+00:00</td>\n      <td>EDDF</td>\n      <td>2023-01-28 14:21:43+00:00</td>\n      <td>NaN</td>\n      <td>48.0</td>\n      <td>...</td>\n      <td>0</td>\n      <td>0</td>\n      <td>0</td>\n      <td>1</td>\n      <td>0</td>\n      <td>-130.0</td>\n      <td>861faea97ffffff</td>\n      <td>15.590795</td>\n      <td>113.442789</td>\n      <td>585.392867</td>\n    </tr>\n    <tr>\n      <th>4865643</th>\n      <td>7770267</td>\n      <td>31060.0</td>\n      <td>False</td>\n      <td>NaN</td>\n      <td>DLH9YJ</td>\n      <td>2023-01-28 00:00:00+00:00</td>\n      <td>EDDF</td>\n      <td>2023-01-28 14:21:43+00:00</td>\n      <td>NaN</td>\n      <td>48.0</td>\n      <td>...</td>\n      <td>0</td>\n      <td>0</td>\n      <td>0</td>\n      <td>1</td>\n      <td>0</td>\n      <td>-135.0</td>\n      <td>861faea97ffffff</td>\n      <td>15.590795</td>\n      <td>113.442789</td>\n      <td>585.392867</td>\n    </tr>\n    <tr>\n      <th>4865644</th>\n      <td>7770268</td>\n      <td>31065.0</td>\n      <td>False</td>\n      <td>-75.0</td>\n      <td>DLH9YJ</td>\n      <td>2023-01-28 00:00:00+00:00</td>\n      <td>EDDF</td>\n      <td>2023-01-28 14:21:43+00:00</td>\n      <td>NaN</td>\n      <td>48.0</td>\n      <td>...</td>\n      <td>0</td>\n      <td>0</td>\n      <td>0</td>\n      <td>1</td>\n      <td>0</td>\n      <td>-140.0</td>\n      <td>861faea97ffffff</td>\n      <td>15.590795</td>\n      <td>113.442789</td>\n      <td>585.392867</td>\n    </tr>\n    <tr>\n      <th>4865645</th>\n      <td>7770269</td>\n      <td>31070.0</td>\n      <td>False</td>\n      <td>NaN</td>\n      <td>DLH9YJ</td>\n      <td>2023-01-28 00:00:00+00:00</td>\n      <td>EDDF</td>\n      <td>2023-01-28 14:21:43+00:00</td>\n      <td>NaN</td>\n      <td>48.0</td>\n      <td>...</td>\n      <td>0</td>\n      <td>0</td>\n      <td>0</td>\n      <td>1</td>\n      <td>0</td>\n      <td>-145.0</td>\n      <td>861faea97ffffff</td>\n      <td>15.590795</td>\n      <td>113.442789</td>\n      <td>585.392867</td>\n    </tr>\n  </tbody>\n</table>\n<p>4865646 rows × 51 columns</p>\n</div>"
     },
     "execution_count": 16,
     "metadata": {},
     "output_type": "execute_result"
    }
   ],
   "source": [
    "testdata"
   ],
   "metadata": {
    "collapsed": false,
    "ExecuteTime": {
     "end_time": "2023-07-21T10:08:49.975141400Z",
     "start_time": "2023-07-21T10:08:48.634288400Z"
    }
   }
  },
  {
   "cell_type": "code",
   "execution_count": 17,
   "outputs": [],
   "source": [
    "from xgboost import XGBRegressor\n",
    "from sklearn.model_selection import train_test_split\n",
    "from sklearn.metrics import mean_squared_error"
   ],
   "metadata": {
    "collapsed": false,
    "ExecuteTime": {
     "end_time": "2023-07-21T10:10:06.085934300Z",
     "start_time": "2023-07-21T10:10:06.068907100Z"
    }
   }
  },
  {
   "cell_type": "code",
   "execution_count": 18,
   "outputs": [],
   "source": [
    "feature_cols = ['distance', 'altitude', 'vertical_rate', 'groundspeed', 'holiday', 'sec_sin',\n",
    "                'sec_cos', 'day_sin', 'day_cos', 'bearing_sin', 'bearing_cos',\n",
    "                'track_sin', 'track_cos', 'weekday_1', 'weekday_2', 'weekday_3',\n",
    "                'weekday_4', 'weekday_5', 'weekday_6']"
   ],
   "metadata": {
    "collapsed": false,
    "ExecuteTime": {
     "end_time": "2023-07-21T10:10:08.141973700Z",
     "start_time": "2023-07-21T10:10:08.125969300Z"
    }
   }
  },
  {
   "cell_type": "code",
   "execution_count": 19,
   "outputs": [],
   "source": [
    "import numpy as np"
   ],
   "metadata": {
    "collapsed": false,
    "ExecuteTime": {
     "end_time": "2023-07-21T10:10:08.157022500Z",
     "start_time": "2023-07-21T10:10:08.142974100Z"
    }
   }
  },
  {
   "cell_type": "code",
   "execution_count": 20,
   "outputs": [],
   "source": [
    "testdata.reset_index(inplace=True, drop=True)"
   ],
   "metadata": {
    "collapsed": false,
    "ExecuteTime": {
     "end_time": "2023-07-21T10:10:09.985094400Z",
     "start_time": "2023-07-21T10:10:09.975098100Z"
    }
   }
  },
  {
   "cell_type": "code",
   "execution_count": 21,
   "outputs": [
    {
     "data": {
      "text/plain": "         Unnamed: 0.1  Unnamed: 0  alert  altitude callsign  \\\n0              176719      6591.0  False    1400.0   DLH01P   \n1              176720      6596.0  False    1675.0   DLH01P   \n2              176721      6601.0  False    1875.0   DLH01P   \n3              176722      6606.0  False    2075.0   DLH01P   \n4              176723      6611.0  False    2200.0   DLH01P   \n...               ...         ...    ...       ...      ...   \n4865641       7770265     31050.0  False       NaN   DLH9YJ   \n4865642       7770266     31055.0  False       NaN   DLH9YJ   \n4865643       7770267     31060.0  False       NaN   DLH9YJ   \n4865644       7770268     31065.0  False     -75.0   DLH9YJ   \n4865645       7770269     31070.0  False       NaN   DLH9YJ   \n\n                               day destination                  firstseen  \\\n0        2023-01-01 00:00:00+00:00        EDDF  2023-01-01 12:48:30+00:00   \n1        2023-01-01 00:00:00+00:00        EDDF  2023-01-01 12:48:30+00:00   \n2        2023-01-01 00:00:00+00:00        EDDF  2023-01-01 12:48:30+00:00   \n3        2023-01-01 00:00:00+00:00        EDDF  2023-01-01 12:48:30+00:00   \n4        2023-01-01 00:00:00+00:00        EDDF  2023-01-01 12:48:30+00:00   \n...                            ...         ...                        ...   \n4865641  2023-01-28 00:00:00+00:00        EDDF  2023-01-28 14:21:43+00:00   \n4865642  2023-01-28 00:00:00+00:00        EDDF  2023-01-28 14:21:43+00:00   \n4865643  2023-01-28 00:00:00+00:00        EDDF  2023-01-28 14:21:43+00:00   \n4865644  2023-01-28 00:00:00+00:00        EDDF  2023-01-28 14:21:43+00:00   \n4865645  2023-01-28 00:00:00+00:00        EDDF  2023-01-28 14:21:43+00:00   \n\n         geoaltitude  groundspeed  ...  weekday_2 weekday_3 weekday_4  \\\n0             1475.0        154.0  ...          0         0         0   \n1             1825.0        157.0  ...          0         0         0   \n2             2025.0        157.0  ...          0         0         0   \n3             2225.0        160.0  ...          0         0         0   \n4             2375.0        163.0  ...          0         0         0   \n...              ...          ...  ...        ...       ...       ...   \n4865641          NaN         48.0  ...          0         0         0   \n4865642          NaN         48.0  ...          0         0         0   \n4865643          NaN         48.0  ...          0         0         0   \n4865644          NaN         48.0  ...          0         0         0   \n4865645          NaN         48.0  ...          0         0         0   \n\n        weekday_5  weekday_6       y          h3index hexbin_hourly_density  \\\n0               0          1  7261.0  86392201fffffff              1.000000   \n1               0          1  7256.0  86392201fffffff              1.000000   \n2               0          1  7251.0  86392201fffffff              1.000000   \n3               0          1  7246.0  86392201fffffff              1.000000   \n4               0          1  7241.0  86392201fffffff              1.000000   \n...           ...        ...     ...              ...                   ...   \n4865641         1          0  -125.0  861faea97ffffff             15.590795   \n4865642         1          0  -130.0  861faea97ffffff             15.590795   \n4865643         1          0  -135.0  861faea97ffffff             15.590795   \n4865644         1          0  -140.0  861faea97ffffff             15.590795   \n4865645         1          0  -145.0  861faea97ffffff             15.590795   \n\n         average_hourly_speed  average_hourly_altitude  \n0                  184.500000              3237.500000  \n1                  184.500000              3237.500000  \n2                  184.500000              3237.500000  \n3                  184.500000              3237.500000  \n4                  184.500000              3237.500000  \n...                       ...                      ...  \n4865641            113.442789               585.392867  \n4865642            113.442789               585.392867  \n4865643            113.442789               585.392867  \n4865644            113.442789               585.392867  \n4865645            113.442789               585.392867  \n\n[4865646 rows x 51 columns]",
      "text/html": "<div>\n<style scoped>\n    .dataframe tbody tr th:only-of-type {\n        vertical-align: middle;\n    }\n\n    .dataframe tbody tr th {\n        vertical-align: top;\n    }\n\n    .dataframe thead th {\n        text-align: right;\n    }\n</style>\n<table border=\"1\" class=\"dataframe\">\n  <thead>\n    <tr style=\"text-align: right;\">\n      <th></th>\n      <th>Unnamed: 0.1</th>\n      <th>Unnamed: 0</th>\n      <th>alert</th>\n      <th>altitude</th>\n      <th>callsign</th>\n      <th>day</th>\n      <th>destination</th>\n      <th>firstseen</th>\n      <th>geoaltitude</th>\n      <th>groundspeed</th>\n      <th>...</th>\n      <th>weekday_2</th>\n      <th>weekday_3</th>\n      <th>weekday_4</th>\n      <th>weekday_5</th>\n      <th>weekday_6</th>\n      <th>y</th>\n      <th>h3index</th>\n      <th>hexbin_hourly_density</th>\n      <th>average_hourly_speed</th>\n      <th>average_hourly_altitude</th>\n    </tr>\n  </thead>\n  <tbody>\n    <tr>\n      <th>0</th>\n      <td>176719</td>\n      <td>6591.0</td>\n      <td>False</td>\n      <td>1400.0</td>\n      <td>DLH01P</td>\n      <td>2023-01-01 00:00:00+00:00</td>\n      <td>EDDF</td>\n      <td>2023-01-01 12:48:30+00:00</td>\n      <td>1475.0</td>\n      <td>154.0</td>\n      <td>...</td>\n      <td>0</td>\n      <td>0</td>\n      <td>0</td>\n      <td>0</td>\n      <td>1</td>\n      <td>7261.0</td>\n      <td>86392201fffffff</td>\n      <td>1.000000</td>\n      <td>184.500000</td>\n      <td>3237.500000</td>\n    </tr>\n    <tr>\n      <th>1</th>\n      <td>176720</td>\n      <td>6596.0</td>\n      <td>False</td>\n      <td>1675.0</td>\n      <td>DLH01P</td>\n      <td>2023-01-01 00:00:00+00:00</td>\n      <td>EDDF</td>\n      <td>2023-01-01 12:48:30+00:00</td>\n      <td>1825.0</td>\n      <td>157.0</td>\n      <td>...</td>\n      <td>0</td>\n      <td>0</td>\n      <td>0</td>\n      <td>0</td>\n      <td>1</td>\n      <td>7256.0</td>\n      <td>86392201fffffff</td>\n      <td>1.000000</td>\n      <td>184.500000</td>\n      <td>3237.500000</td>\n    </tr>\n    <tr>\n      <th>2</th>\n      <td>176721</td>\n      <td>6601.0</td>\n      <td>False</td>\n      <td>1875.0</td>\n      <td>DLH01P</td>\n      <td>2023-01-01 00:00:00+00:00</td>\n      <td>EDDF</td>\n      <td>2023-01-01 12:48:30+00:00</td>\n      <td>2025.0</td>\n      <td>157.0</td>\n      <td>...</td>\n      <td>0</td>\n      <td>0</td>\n      <td>0</td>\n      <td>0</td>\n      <td>1</td>\n      <td>7251.0</td>\n      <td>86392201fffffff</td>\n      <td>1.000000</td>\n      <td>184.500000</td>\n      <td>3237.500000</td>\n    </tr>\n    <tr>\n      <th>3</th>\n      <td>176722</td>\n      <td>6606.0</td>\n      <td>False</td>\n      <td>2075.0</td>\n      <td>DLH01P</td>\n      <td>2023-01-01 00:00:00+00:00</td>\n      <td>EDDF</td>\n      <td>2023-01-01 12:48:30+00:00</td>\n      <td>2225.0</td>\n      <td>160.0</td>\n      <td>...</td>\n      <td>0</td>\n      <td>0</td>\n      <td>0</td>\n      <td>0</td>\n      <td>1</td>\n      <td>7246.0</td>\n      <td>86392201fffffff</td>\n      <td>1.000000</td>\n      <td>184.500000</td>\n      <td>3237.500000</td>\n    </tr>\n    <tr>\n      <th>4</th>\n      <td>176723</td>\n      <td>6611.0</td>\n      <td>False</td>\n      <td>2200.0</td>\n      <td>DLH01P</td>\n      <td>2023-01-01 00:00:00+00:00</td>\n      <td>EDDF</td>\n      <td>2023-01-01 12:48:30+00:00</td>\n      <td>2375.0</td>\n      <td>163.0</td>\n      <td>...</td>\n      <td>0</td>\n      <td>0</td>\n      <td>0</td>\n      <td>0</td>\n      <td>1</td>\n      <td>7241.0</td>\n      <td>86392201fffffff</td>\n      <td>1.000000</td>\n      <td>184.500000</td>\n      <td>3237.500000</td>\n    </tr>\n    <tr>\n      <th>...</th>\n      <td>...</td>\n      <td>...</td>\n      <td>...</td>\n      <td>...</td>\n      <td>...</td>\n      <td>...</td>\n      <td>...</td>\n      <td>...</td>\n      <td>...</td>\n      <td>...</td>\n      <td>...</td>\n      <td>...</td>\n      <td>...</td>\n      <td>...</td>\n      <td>...</td>\n      <td>...</td>\n      <td>...</td>\n      <td>...</td>\n      <td>...</td>\n      <td>...</td>\n      <td>...</td>\n    </tr>\n    <tr>\n      <th>4865641</th>\n      <td>7770265</td>\n      <td>31050.0</td>\n      <td>False</td>\n      <td>NaN</td>\n      <td>DLH9YJ</td>\n      <td>2023-01-28 00:00:00+00:00</td>\n      <td>EDDF</td>\n      <td>2023-01-28 14:21:43+00:00</td>\n      <td>NaN</td>\n      <td>48.0</td>\n      <td>...</td>\n      <td>0</td>\n      <td>0</td>\n      <td>0</td>\n      <td>1</td>\n      <td>0</td>\n      <td>-125.0</td>\n      <td>861faea97ffffff</td>\n      <td>15.590795</td>\n      <td>113.442789</td>\n      <td>585.392867</td>\n    </tr>\n    <tr>\n      <th>4865642</th>\n      <td>7770266</td>\n      <td>31055.0</td>\n      <td>False</td>\n      <td>NaN</td>\n      <td>DLH9YJ</td>\n      <td>2023-01-28 00:00:00+00:00</td>\n      <td>EDDF</td>\n      <td>2023-01-28 14:21:43+00:00</td>\n      <td>NaN</td>\n      <td>48.0</td>\n      <td>...</td>\n      <td>0</td>\n      <td>0</td>\n      <td>0</td>\n      <td>1</td>\n      <td>0</td>\n      <td>-130.0</td>\n      <td>861faea97ffffff</td>\n      <td>15.590795</td>\n      <td>113.442789</td>\n      <td>585.392867</td>\n    </tr>\n    <tr>\n      <th>4865643</th>\n      <td>7770267</td>\n      <td>31060.0</td>\n      <td>False</td>\n      <td>NaN</td>\n      <td>DLH9YJ</td>\n      <td>2023-01-28 00:00:00+00:00</td>\n      <td>EDDF</td>\n      <td>2023-01-28 14:21:43+00:00</td>\n      <td>NaN</td>\n      <td>48.0</td>\n      <td>...</td>\n      <td>0</td>\n      <td>0</td>\n      <td>0</td>\n      <td>1</td>\n      <td>0</td>\n      <td>-135.0</td>\n      <td>861faea97ffffff</td>\n      <td>15.590795</td>\n      <td>113.442789</td>\n      <td>585.392867</td>\n    </tr>\n    <tr>\n      <th>4865644</th>\n      <td>7770268</td>\n      <td>31065.0</td>\n      <td>False</td>\n      <td>-75.0</td>\n      <td>DLH9YJ</td>\n      <td>2023-01-28 00:00:00+00:00</td>\n      <td>EDDF</td>\n      <td>2023-01-28 14:21:43+00:00</td>\n      <td>NaN</td>\n      <td>48.0</td>\n      <td>...</td>\n      <td>0</td>\n      <td>0</td>\n      <td>0</td>\n      <td>1</td>\n      <td>0</td>\n      <td>-140.0</td>\n      <td>861faea97ffffff</td>\n      <td>15.590795</td>\n      <td>113.442789</td>\n      <td>585.392867</td>\n    </tr>\n    <tr>\n      <th>4865645</th>\n      <td>7770269</td>\n      <td>31070.0</td>\n      <td>False</td>\n      <td>NaN</td>\n      <td>DLH9YJ</td>\n      <td>2023-01-28 00:00:00+00:00</td>\n      <td>EDDF</td>\n      <td>2023-01-28 14:21:43+00:00</td>\n      <td>NaN</td>\n      <td>48.0</td>\n      <td>...</td>\n      <td>0</td>\n      <td>0</td>\n      <td>0</td>\n      <td>1</td>\n      <td>0</td>\n      <td>-145.0</td>\n      <td>861faea97ffffff</td>\n      <td>15.590795</td>\n      <td>113.442789</td>\n      <td>585.392867</td>\n    </tr>\n  </tbody>\n</table>\n<p>4865646 rows × 51 columns</p>\n</div>"
     },
     "execution_count": 21,
     "metadata": {},
     "output_type": "execute_result"
    }
   ],
   "source": [
    "testdata"
   ],
   "metadata": {
    "collapsed": false,
    "ExecuteTime": {
     "end_time": "2023-07-21T10:10:13.140391400Z",
     "start_time": "2023-07-21T10:10:11.899501100Z"
    }
   }
  },
  {
   "cell_type": "code",
   "execution_count": 22,
   "outputs": [],
   "source": [
    "testdata.drop(columns=['Unnamed: 0.1', 'Unnamed: 0'], inplace=True)"
   ],
   "metadata": {
    "collapsed": false,
    "ExecuteTime": {
     "end_time": "2023-07-21T10:10:14.253486300Z",
     "start_time": "2023-07-21T10:10:13.134082700Z"
    }
   }
  },
  {
   "cell_type": "code",
   "execution_count": 24,
   "outputs": [],
   "source": [
    "traindata = traindata.dropna(subset=['hexbin_hourly_density', 'average_hourly_speed', 'average_hourly_altitude'])\n",
    "traindata = traindata.loc[~np.isinf(traindata['hexbin_hourly_density']) &\n",
    "                          ~np.isinf(traindata['average_hourly_speed']) &\n",
    "                          ~np.isinf(traindata['average_hourly_altitude'])]\n"
   ],
   "metadata": {
    "collapsed": false,
    "ExecuteTime": {
     "end_time": "2023-07-21T10:10:35.292904700Z",
     "start_time": "2023-07-21T10:10:34.978328600Z"
    }
   }
  },
  {
   "cell_type": "code",
   "execution_count": 26,
   "outputs": [],
   "source": [
    "testdata = testdata.dropna(subset=['hexbin_hourly_density', 'average_hourly_speed', 'average_hourly_altitude'])\n",
    "testdata = testdata.loc[~np.isinf(testdata['hexbin_hourly_density']) &\n",
    "                        ~np.isinf(testdata['average_hourly_speed']) &\n",
    "                        ~np.isinf(testdata['average_hourly_altitude'])]\n"
   ],
   "metadata": {
    "collapsed": false,
    "ExecuteTime": {
     "end_time": "2023-07-21T10:11:31.805128300Z",
     "start_time": "2023-07-21T10:11:30.347644200Z"
    }
   }
  },
  {
   "cell_type": "code",
   "execution_count": 27,
   "outputs": [],
   "source": [
    "X = traindata[feature_cols]"
   ],
   "metadata": {
    "collapsed": false,
    "ExecuteTime": {
     "end_time": "2023-07-21T10:11:35.297229300Z",
     "start_time": "2023-07-21T10:11:35.261704400Z"
    }
   }
  },
  {
   "cell_type": "code",
   "execution_count": 28,
   "outputs": [],
   "source": [
    "y_density = traindata['hexbin_hourly_density']\n",
    "y_speed = traindata['average_hourly_speed']\n",
    "y_altitude = traindata['average_hourly_altitude']"
   ],
   "metadata": {
    "collapsed": false,
    "ExecuteTime": {
     "end_time": "2023-07-21T10:11:38.103754900Z",
     "start_time": "2023-07-21T10:11:38.084060500Z"
    }
   }
  },
  {
   "cell_type": "code",
   "execution_count": 29,
   "outputs": [],
   "source": [
    "model_density = XGBRegressor(random_state=42)\n",
    "model_speed = XGBRegressor(random_state=42)\n",
    "model_altitude = XGBRegressor(random_state=42)"
   ],
   "metadata": {
    "collapsed": false,
    "ExecuteTime": {
     "end_time": "2023-07-21T10:11:40.092159700Z",
     "start_time": "2023-07-21T10:11:40.082157700Z"
    }
   }
  },
  {
   "cell_type": "code",
   "execution_count": 31,
   "outputs": [
    {
     "data": {
      "text/plain": "XGBRegressor(base_score=None, booster=None, callbacks=None,\n             colsample_bylevel=None, colsample_bynode=None,\n             colsample_bytree=None, early_stopping_rounds=None,\n             enable_categorical=False, eval_metric=None, feature_types=None,\n             gamma=None, gpu_id=None, grow_policy=None, importance_type=None,\n             interaction_constraints=None, learning_rate=None, max_bin=None,\n             max_cat_threshold=None, max_cat_to_onehot=None,\n             max_delta_step=None, max_depth=None, max_leaves=None,\n             min_child_weight=None, missing=nan, monotone_constraints=None,\n             n_estimators=100, n_jobs=None, num_parallel_tree=None,\n             predictor=None, random_state=42, ...)",
      "text/html": "<style>#sk-container-id-1 {color: black;background-color: white;}#sk-container-id-1 pre{padding: 0;}#sk-container-id-1 div.sk-toggleable {background-color: white;}#sk-container-id-1 label.sk-toggleable__label {cursor: pointer;display: block;width: 100%;margin-bottom: 0;padding: 0.3em;box-sizing: border-box;text-align: center;}#sk-container-id-1 label.sk-toggleable__label-arrow:before {content: \"▸\";float: left;margin-right: 0.25em;color: #696969;}#sk-container-id-1 label.sk-toggleable__label-arrow:hover:before {color: black;}#sk-container-id-1 div.sk-estimator:hover label.sk-toggleable__label-arrow:before {color: black;}#sk-container-id-1 div.sk-toggleable__content {max-height: 0;max-width: 0;overflow: hidden;text-align: left;background-color: #f0f8ff;}#sk-container-id-1 div.sk-toggleable__content pre {margin: 0.2em;color: black;border-radius: 0.25em;background-color: #f0f8ff;}#sk-container-id-1 input.sk-toggleable__control:checked~div.sk-toggleable__content {max-height: 200px;max-width: 100%;overflow: auto;}#sk-container-id-1 input.sk-toggleable__control:checked~label.sk-toggleable__label-arrow:before {content: \"▾\";}#sk-container-id-1 div.sk-estimator input.sk-toggleable__control:checked~label.sk-toggleable__label {background-color: #d4ebff;}#sk-container-id-1 div.sk-label input.sk-toggleable__control:checked~label.sk-toggleable__label {background-color: #d4ebff;}#sk-container-id-1 input.sk-hidden--visually {border: 0;clip: rect(1px 1px 1px 1px);clip: rect(1px, 1px, 1px, 1px);height: 1px;margin: -1px;overflow: hidden;padding: 0;position: absolute;width: 1px;}#sk-container-id-1 div.sk-estimator {font-family: monospace;background-color: #f0f8ff;border: 1px dotted black;border-radius: 0.25em;box-sizing: border-box;margin-bottom: 0.5em;}#sk-container-id-1 div.sk-estimator:hover {background-color: #d4ebff;}#sk-container-id-1 div.sk-parallel-item::after {content: \"\";width: 100%;border-bottom: 1px solid gray;flex-grow: 1;}#sk-container-id-1 div.sk-label:hover label.sk-toggleable__label {background-color: #d4ebff;}#sk-container-id-1 div.sk-serial::before {content: \"\";position: absolute;border-left: 1px solid gray;box-sizing: border-box;top: 0;bottom: 0;left: 50%;z-index: 0;}#sk-container-id-1 div.sk-serial {display: flex;flex-direction: column;align-items: center;background-color: white;padding-right: 0.2em;padding-left: 0.2em;position: relative;}#sk-container-id-1 div.sk-item {position: relative;z-index: 1;}#sk-container-id-1 div.sk-parallel {display: flex;align-items: stretch;justify-content: center;background-color: white;position: relative;}#sk-container-id-1 div.sk-item::before, #sk-container-id-1 div.sk-parallel-item::before {content: \"\";position: absolute;border-left: 1px solid gray;box-sizing: border-box;top: 0;bottom: 0;left: 50%;z-index: -1;}#sk-container-id-1 div.sk-parallel-item {display: flex;flex-direction: column;z-index: 1;position: relative;background-color: white;}#sk-container-id-1 div.sk-parallel-item:first-child::after {align-self: flex-end;width: 50%;}#sk-container-id-1 div.sk-parallel-item:last-child::after {align-self: flex-start;width: 50%;}#sk-container-id-1 div.sk-parallel-item:only-child::after {width: 0;}#sk-container-id-1 div.sk-dashed-wrapped {border: 1px dashed gray;margin: 0 0.4em 0.5em 0.4em;box-sizing: border-box;padding-bottom: 0.4em;background-color: white;}#sk-container-id-1 div.sk-label label {font-family: monospace;font-weight: bold;display: inline-block;line-height: 1.2em;}#sk-container-id-1 div.sk-label-container {text-align: center;}#sk-container-id-1 div.sk-container {/* jupyter's `normalize.less` sets `[hidden] { display: none; }` but bootstrap.min.css set `[hidden] { display: none !important; }` so we also need the `!important` here to be able to override the default hidden behavior on the sphinx rendered scikit-learn.org. See: https://github.com/scikit-learn/scikit-learn/issues/21755 */display: inline-block !important;position: relative;}#sk-container-id-1 div.sk-text-repr-fallback {display: none;}</style><div id=\"sk-container-id-1\" class=\"sk-top-container\"><div class=\"sk-text-repr-fallback\"><pre>XGBRegressor(base_score=None, booster=None, callbacks=None,\n             colsample_bylevel=None, colsample_bynode=None,\n             colsample_bytree=None, early_stopping_rounds=None,\n             enable_categorical=False, eval_metric=None, feature_types=None,\n             gamma=None, gpu_id=None, grow_policy=None, importance_type=None,\n             interaction_constraints=None, learning_rate=None, max_bin=None,\n             max_cat_threshold=None, max_cat_to_onehot=None,\n             max_delta_step=None, max_depth=None, max_leaves=None,\n             min_child_weight=None, missing=nan, monotone_constraints=None,\n             n_estimators=100, n_jobs=None, num_parallel_tree=None,\n             predictor=None, random_state=42, ...)</pre><b>In a Jupyter environment, please rerun this cell to show the HTML representation or trust the notebook. <br />On GitHub, the HTML representation is unable to render, please try loading this page with nbviewer.org.</b></div><div class=\"sk-container\" hidden><div class=\"sk-item\"><div class=\"sk-estimator sk-toggleable\"><input class=\"sk-toggleable__control sk-hidden--visually\" id=\"sk-estimator-id-1\" type=\"checkbox\" checked><label for=\"sk-estimator-id-1\" class=\"sk-toggleable__label sk-toggleable__label-arrow\">XGBRegressor</label><div class=\"sk-toggleable__content\"><pre>XGBRegressor(base_score=None, booster=None, callbacks=None,\n             colsample_bylevel=None, colsample_bynode=None,\n             colsample_bytree=None, early_stopping_rounds=None,\n             enable_categorical=False, eval_metric=None, feature_types=None,\n             gamma=None, gpu_id=None, grow_policy=None, importance_type=None,\n             interaction_constraints=None, learning_rate=None, max_bin=None,\n             max_cat_threshold=None, max_cat_to_onehot=None,\n             max_delta_step=None, max_depth=None, max_leaves=None,\n             min_child_weight=None, missing=nan, monotone_constraints=None,\n             n_estimators=100, n_jobs=None, num_parallel_tree=None,\n             predictor=None, random_state=42, ...)</pre></div></div></div></div></div>"
     },
     "execution_count": 31,
     "metadata": {},
     "output_type": "execute_result"
    }
   ],
   "source": [
    "model_density.fit(X, y_density)"
   ],
   "metadata": {
    "collapsed": false,
    "ExecuteTime": {
     "end_time": "2023-07-21T10:12:22.842882100Z",
     "start_time": "2023-07-21T10:12:02.726987100Z"
    }
   }
  },
  {
   "cell_type": "code",
   "execution_count": 32,
   "outputs": [
    {
     "data": {
      "text/plain": "XGBRegressor(base_score=None, booster=None, callbacks=None,\n             colsample_bylevel=None, colsample_bynode=None,\n             colsample_bytree=None, early_stopping_rounds=None,\n             enable_categorical=False, eval_metric=None, feature_types=None,\n             gamma=None, gpu_id=None, grow_policy=None, importance_type=None,\n             interaction_constraints=None, learning_rate=None, max_bin=None,\n             max_cat_threshold=None, max_cat_to_onehot=None,\n             max_delta_step=None, max_depth=None, max_leaves=None,\n             min_child_weight=None, missing=nan, monotone_constraints=None,\n             n_estimators=100, n_jobs=None, num_parallel_tree=None,\n             predictor=None, random_state=42, ...)",
      "text/html": "<style>#sk-container-id-2 {color: black;background-color: white;}#sk-container-id-2 pre{padding: 0;}#sk-container-id-2 div.sk-toggleable {background-color: white;}#sk-container-id-2 label.sk-toggleable__label {cursor: pointer;display: block;width: 100%;margin-bottom: 0;padding: 0.3em;box-sizing: border-box;text-align: center;}#sk-container-id-2 label.sk-toggleable__label-arrow:before {content: \"▸\";float: left;margin-right: 0.25em;color: #696969;}#sk-container-id-2 label.sk-toggleable__label-arrow:hover:before {color: black;}#sk-container-id-2 div.sk-estimator:hover label.sk-toggleable__label-arrow:before {color: black;}#sk-container-id-2 div.sk-toggleable__content {max-height: 0;max-width: 0;overflow: hidden;text-align: left;background-color: #f0f8ff;}#sk-container-id-2 div.sk-toggleable__content pre {margin: 0.2em;color: black;border-radius: 0.25em;background-color: #f0f8ff;}#sk-container-id-2 input.sk-toggleable__control:checked~div.sk-toggleable__content {max-height: 200px;max-width: 100%;overflow: auto;}#sk-container-id-2 input.sk-toggleable__control:checked~label.sk-toggleable__label-arrow:before {content: \"▾\";}#sk-container-id-2 div.sk-estimator input.sk-toggleable__control:checked~label.sk-toggleable__label {background-color: #d4ebff;}#sk-container-id-2 div.sk-label input.sk-toggleable__control:checked~label.sk-toggleable__label {background-color: #d4ebff;}#sk-container-id-2 input.sk-hidden--visually {border: 0;clip: rect(1px 1px 1px 1px);clip: rect(1px, 1px, 1px, 1px);height: 1px;margin: -1px;overflow: hidden;padding: 0;position: absolute;width: 1px;}#sk-container-id-2 div.sk-estimator {font-family: monospace;background-color: #f0f8ff;border: 1px dotted black;border-radius: 0.25em;box-sizing: border-box;margin-bottom: 0.5em;}#sk-container-id-2 div.sk-estimator:hover {background-color: #d4ebff;}#sk-container-id-2 div.sk-parallel-item::after {content: \"\";width: 100%;border-bottom: 1px solid gray;flex-grow: 1;}#sk-container-id-2 div.sk-label:hover label.sk-toggleable__label {background-color: #d4ebff;}#sk-container-id-2 div.sk-serial::before {content: \"\";position: absolute;border-left: 1px solid gray;box-sizing: border-box;top: 0;bottom: 0;left: 50%;z-index: 0;}#sk-container-id-2 div.sk-serial {display: flex;flex-direction: column;align-items: center;background-color: white;padding-right: 0.2em;padding-left: 0.2em;position: relative;}#sk-container-id-2 div.sk-item {position: relative;z-index: 1;}#sk-container-id-2 div.sk-parallel {display: flex;align-items: stretch;justify-content: center;background-color: white;position: relative;}#sk-container-id-2 div.sk-item::before, #sk-container-id-2 div.sk-parallel-item::before {content: \"\";position: absolute;border-left: 1px solid gray;box-sizing: border-box;top: 0;bottom: 0;left: 50%;z-index: -1;}#sk-container-id-2 div.sk-parallel-item {display: flex;flex-direction: column;z-index: 1;position: relative;background-color: white;}#sk-container-id-2 div.sk-parallel-item:first-child::after {align-self: flex-end;width: 50%;}#sk-container-id-2 div.sk-parallel-item:last-child::after {align-self: flex-start;width: 50%;}#sk-container-id-2 div.sk-parallel-item:only-child::after {width: 0;}#sk-container-id-2 div.sk-dashed-wrapped {border: 1px dashed gray;margin: 0 0.4em 0.5em 0.4em;box-sizing: border-box;padding-bottom: 0.4em;background-color: white;}#sk-container-id-2 div.sk-label label {font-family: monospace;font-weight: bold;display: inline-block;line-height: 1.2em;}#sk-container-id-2 div.sk-label-container {text-align: center;}#sk-container-id-2 div.sk-container {/* jupyter's `normalize.less` sets `[hidden] { display: none; }` but bootstrap.min.css set `[hidden] { display: none !important; }` so we also need the `!important` here to be able to override the default hidden behavior on the sphinx rendered scikit-learn.org. See: https://github.com/scikit-learn/scikit-learn/issues/21755 */display: inline-block !important;position: relative;}#sk-container-id-2 div.sk-text-repr-fallback {display: none;}</style><div id=\"sk-container-id-2\" class=\"sk-top-container\"><div class=\"sk-text-repr-fallback\"><pre>XGBRegressor(base_score=None, booster=None, callbacks=None,\n             colsample_bylevel=None, colsample_bynode=None,\n             colsample_bytree=None, early_stopping_rounds=None,\n             enable_categorical=False, eval_metric=None, feature_types=None,\n             gamma=None, gpu_id=None, grow_policy=None, importance_type=None,\n             interaction_constraints=None, learning_rate=None, max_bin=None,\n             max_cat_threshold=None, max_cat_to_onehot=None,\n             max_delta_step=None, max_depth=None, max_leaves=None,\n             min_child_weight=None, missing=nan, monotone_constraints=None,\n             n_estimators=100, n_jobs=None, num_parallel_tree=None,\n             predictor=None, random_state=42, ...)</pre><b>In a Jupyter environment, please rerun this cell to show the HTML representation or trust the notebook. <br />On GitHub, the HTML representation is unable to render, please try loading this page with nbviewer.org.</b></div><div class=\"sk-container\" hidden><div class=\"sk-item\"><div class=\"sk-estimator sk-toggleable\"><input class=\"sk-toggleable__control sk-hidden--visually\" id=\"sk-estimator-id-2\" type=\"checkbox\" checked><label for=\"sk-estimator-id-2\" class=\"sk-toggleable__label sk-toggleable__label-arrow\">XGBRegressor</label><div class=\"sk-toggleable__content\"><pre>XGBRegressor(base_score=None, booster=None, callbacks=None,\n             colsample_bylevel=None, colsample_bynode=None,\n             colsample_bytree=None, early_stopping_rounds=None,\n             enable_categorical=False, eval_metric=None, feature_types=None,\n             gamma=None, gpu_id=None, grow_policy=None, importance_type=None,\n             interaction_constraints=None, learning_rate=None, max_bin=None,\n             max_cat_threshold=None, max_cat_to_onehot=None,\n             max_delta_step=None, max_depth=None, max_leaves=None,\n             min_child_weight=None, missing=nan, monotone_constraints=None,\n             n_estimators=100, n_jobs=None, num_parallel_tree=None,\n             predictor=None, random_state=42, ...)</pre></div></div></div></div></div>"
     },
     "execution_count": 32,
     "metadata": {},
     "output_type": "execute_result"
    }
   ],
   "source": [
    "model_speed.fit(X, y_speed)"
   ],
   "metadata": {
    "collapsed": false,
    "ExecuteTime": {
     "end_time": "2023-07-21T10:12:42.433358100Z",
     "start_time": "2023-07-21T10:12:22.845883800Z"
    }
   }
  },
  {
   "cell_type": "code",
   "execution_count": 33,
   "outputs": [
    {
     "data": {
      "text/plain": "XGBRegressor(base_score=None, booster=None, callbacks=None,\n             colsample_bylevel=None, colsample_bynode=None,\n             colsample_bytree=None, early_stopping_rounds=None,\n             enable_categorical=False, eval_metric=None, feature_types=None,\n             gamma=None, gpu_id=None, grow_policy=None, importance_type=None,\n             interaction_constraints=None, learning_rate=None, max_bin=None,\n             max_cat_threshold=None, max_cat_to_onehot=None,\n             max_delta_step=None, max_depth=None, max_leaves=None,\n             min_child_weight=None, missing=nan, monotone_constraints=None,\n             n_estimators=100, n_jobs=None, num_parallel_tree=None,\n             predictor=None, random_state=42, ...)",
      "text/html": "<style>#sk-container-id-3 {color: black;background-color: white;}#sk-container-id-3 pre{padding: 0;}#sk-container-id-3 div.sk-toggleable {background-color: white;}#sk-container-id-3 label.sk-toggleable__label {cursor: pointer;display: block;width: 100%;margin-bottom: 0;padding: 0.3em;box-sizing: border-box;text-align: center;}#sk-container-id-3 label.sk-toggleable__label-arrow:before {content: \"▸\";float: left;margin-right: 0.25em;color: #696969;}#sk-container-id-3 label.sk-toggleable__label-arrow:hover:before {color: black;}#sk-container-id-3 div.sk-estimator:hover label.sk-toggleable__label-arrow:before {color: black;}#sk-container-id-3 div.sk-toggleable__content {max-height: 0;max-width: 0;overflow: hidden;text-align: left;background-color: #f0f8ff;}#sk-container-id-3 div.sk-toggleable__content pre {margin: 0.2em;color: black;border-radius: 0.25em;background-color: #f0f8ff;}#sk-container-id-3 input.sk-toggleable__control:checked~div.sk-toggleable__content {max-height: 200px;max-width: 100%;overflow: auto;}#sk-container-id-3 input.sk-toggleable__control:checked~label.sk-toggleable__label-arrow:before {content: \"▾\";}#sk-container-id-3 div.sk-estimator input.sk-toggleable__control:checked~label.sk-toggleable__label {background-color: #d4ebff;}#sk-container-id-3 div.sk-label input.sk-toggleable__control:checked~label.sk-toggleable__label {background-color: #d4ebff;}#sk-container-id-3 input.sk-hidden--visually {border: 0;clip: rect(1px 1px 1px 1px);clip: rect(1px, 1px, 1px, 1px);height: 1px;margin: -1px;overflow: hidden;padding: 0;position: absolute;width: 1px;}#sk-container-id-3 div.sk-estimator {font-family: monospace;background-color: #f0f8ff;border: 1px dotted black;border-radius: 0.25em;box-sizing: border-box;margin-bottom: 0.5em;}#sk-container-id-3 div.sk-estimator:hover {background-color: #d4ebff;}#sk-container-id-3 div.sk-parallel-item::after {content: \"\";width: 100%;border-bottom: 1px solid gray;flex-grow: 1;}#sk-container-id-3 div.sk-label:hover label.sk-toggleable__label {background-color: #d4ebff;}#sk-container-id-3 div.sk-serial::before {content: \"\";position: absolute;border-left: 1px solid gray;box-sizing: border-box;top: 0;bottom: 0;left: 50%;z-index: 0;}#sk-container-id-3 div.sk-serial {display: flex;flex-direction: column;align-items: center;background-color: white;padding-right: 0.2em;padding-left: 0.2em;position: relative;}#sk-container-id-3 div.sk-item {position: relative;z-index: 1;}#sk-container-id-3 div.sk-parallel {display: flex;align-items: stretch;justify-content: center;background-color: white;position: relative;}#sk-container-id-3 div.sk-item::before, #sk-container-id-3 div.sk-parallel-item::before {content: \"\";position: absolute;border-left: 1px solid gray;box-sizing: border-box;top: 0;bottom: 0;left: 50%;z-index: -1;}#sk-container-id-3 div.sk-parallel-item {display: flex;flex-direction: column;z-index: 1;position: relative;background-color: white;}#sk-container-id-3 div.sk-parallel-item:first-child::after {align-self: flex-end;width: 50%;}#sk-container-id-3 div.sk-parallel-item:last-child::after {align-self: flex-start;width: 50%;}#sk-container-id-3 div.sk-parallel-item:only-child::after {width: 0;}#sk-container-id-3 div.sk-dashed-wrapped {border: 1px dashed gray;margin: 0 0.4em 0.5em 0.4em;box-sizing: border-box;padding-bottom: 0.4em;background-color: white;}#sk-container-id-3 div.sk-label label {font-family: monospace;font-weight: bold;display: inline-block;line-height: 1.2em;}#sk-container-id-3 div.sk-label-container {text-align: center;}#sk-container-id-3 div.sk-container {/* jupyter's `normalize.less` sets `[hidden] { display: none; }` but bootstrap.min.css set `[hidden] { display: none !important; }` so we also need the `!important` here to be able to override the default hidden behavior on the sphinx rendered scikit-learn.org. See: https://github.com/scikit-learn/scikit-learn/issues/21755 */display: inline-block !important;position: relative;}#sk-container-id-3 div.sk-text-repr-fallback {display: none;}</style><div id=\"sk-container-id-3\" class=\"sk-top-container\"><div class=\"sk-text-repr-fallback\"><pre>XGBRegressor(base_score=None, booster=None, callbacks=None,\n             colsample_bylevel=None, colsample_bynode=None,\n             colsample_bytree=None, early_stopping_rounds=None,\n             enable_categorical=False, eval_metric=None, feature_types=None,\n             gamma=None, gpu_id=None, grow_policy=None, importance_type=None,\n             interaction_constraints=None, learning_rate=None, max_bin=None,\n             max_cat_threshold=None, max_cat_to_onehot=None,\n             max_delta_step=None, max_depth=None, max_leaves=None,\n             min_child_weight=None, missing=nan, monotone_constraints=None,\n             n_estimators=100, n_jobs=None, num_parallel_tree=None,\n             predictor=None, random_state=42, ...)</pre><b>In a Jupyter environment, please rerun this cell to show the HTML representation or trust the notebook. <br />On GitHub, the HTML representation is unable to render, please try loading this page with nbviewer.org.</b></div><div class=\"sk-container\" hidden><div class=\"sk-item\"><div class=\"sk-estimator sk-toggleable\"><input class=\"sk-toggleable__control sk-hidden--visually\" id=\"sk-estimator-id-3\" type=\"checkbox\" checked><label for=\"sk-estimator-id-3\" class=\"sk-toggleable__label sk-toggleable__label-arrow\">XGBRegressor</label><div class=\"sk-toggleable__content\"><pre>XGBRegressor(base_score=None, booster=None, callbacks=None,\n             colsample_bylevel=None, colsample_bynode=None,\n             colsample_bytree=None, early_stopping_rounds=None,\n             enable_categorical=False, eval_metric=None, feature_types=None,\n             gamma=None, gpu_id=None, grow_policy=None, importance_type=None,\n             interaction_constraints=None, learning_rate=None, max_bin=None,\n             max_cat_threshold=None, max_cat_to_onehot=None,\n             max_delta_step=None, max_depth=None, max_leaves=None,\n             min_child_weight=None, missing=nan, monotone_constraints=None,\n             n_estimators=100, n_jobs=None, num_parallel_tree=None,\n             predictor=None, random_state=42, ...)</pre></div></div></div></div></div>"
     },
     "execution_count": 33,
     "metadata": {},
     "output_type": "execute_result"
    }
   ],
   "source": [
    "model_altitude.fit(X, y_altitude)"
   ],
   "metadata": {
    "collapsed": false,
    "ExecuteTime": {
     "end_time": "2023-07-21T10:13:03.802663300Z",
     "start_time": "2023-07-21T10:12:42.436359700Z"
    }
   }
  },
  {
   "cell_type": "code",
   "execution_count": 34,
   "outputs": [],
   "source": [
    "test_preds_density = model_density.predict(testdata[feature_cols])\n",
    "test_preds_speed = model_speed.predict(testdata[feature_cols])\n",
    "test_preds_altitude = model_altitude.predict(testdata[feature_cols])"
   ],
   "metadata": {
    "collapsed": false,
    "ExecuteTime": {
     "end_time": "2023-07-21T10:13:10.596518900Z",
     "start_time": "2023-07-21T10:13:06.833011600Z"
    }
   }
  },
  {
   "cell_type": "code",
   "execution_count": 36,
   "outputs": [
    {
     "name": "stdout",
     "output_type": "stream",
     "text": [
      "Mean Absolute Error (Density): 0.6338270222437912\n",
      "Mean Absolute Error (Speed): 32.63004792560381\n",
      "Mean Absolute Error (Altitude): 1939.2502699599313\n"
     ]
    }
   ],
   "source": [
    "actual_density = testdata['hexbin_hourly_density']\n",
    "actual_speed = testdata['average_hourly_speed']\n",
    "actual_altitude = testdata['average_hourly_altitude']\n",
    "\n",
    "mae_density = mean_absolute_error(actual_density, test_preds_density)\n",
    "mae_speed = mean_absolute_error(actual_speed, test_preds_speed)\n",
    "mae_altitude = mean_absolute_error(actual_altitude, test_preds_altitude)\n",
    "\n",
    "print(\"Mean Absolute Error (Density):\", mae_density)\n",
    "print(\"Mean Absolute Error (Speed):\", mae_speed)\n",
    "print(\"Mean Absolute Error (Altitude):\", mae_altitude)\n"
   ],
   "metadata": {
    "collapsed": false,
    "ExecuteTime": {
     "end_time": "2023-07-21T10:13:25.627303Z",
     "start_time": "2023-07-21T10:13:25.543985300Z"
    }
   }
  },
  {
   "cell_type": "code",
   "execution_count": 37,
   "outputs": [],
   "source": [
    "testdata['predicted_density'] = test_preds_density\n",
    "testdata['predicted_speed'] = test_preds_speed\n",
    "testdata['predicted_altitude'] = test_preds_altitude"
   ],
   "metadata": {
    "collapsed": false,
    "ExecuteTime": {
     "end_time": "2023-07-21T10:13:27.451136400Z",
     "start_time": "2023-07-21T10:13:27.422615Z"
    }
   }
  },
  {
   "cell_type": "code",
   "execution_count": 38,
   "outputs": [
    {
     "data": {
      "text/plain": "         alert  altitude callsign                        day destination  \\\n0        False    1400.0   DLH01P  2023-01-01 00:00:00+00:00        EDDF   \n1        False    1675.0   DLH01P  2023-01-01 00:00:00+00:00        EDDF   \n2        False    1875.0   DLH01P  2023-01-01 00:00:00+00:00        EDDF   \n3        False    2075.0   DLH01P  2023-01-01 00:00:00+00:00        EDDF   \n4        False    2200.0   DLH01P  2023-01-01 00:00:00+00:00        EDDF   \n...        ...       ...      ...                        ...         ...   \n4865641  False       NaN   DLH9YJ  2023-01-28 00:00:00+00:00        EDDF   \n4865642  False       NaN   DLH9YJ  2023-01-28 00:00:00+00:00        EDDF   \n4865643  False       NaN   DLH9YJ  2023-01-28 00:00:00+00:00        EDDF   \n4865644  False     -75.0   DLH9YJ  2023-01-28 00:00:00+00:00        EDDF   \n4865645  False       NaN   DLH9YJ  2023-01-28 00:00:00+00:00        EDDF   \n\n                         firstseen  geoaltitude  groundspeed  hour  icao24  \\\n0        2023-01-01 12:48:30+00:00       1475.0        154.0    12  3c6668   \n1        2023-01-01 12:48:30+00:00       1825.0        157.0    12  3c6668   \n2        2023-01-01 12:48:30+00:00       2025.0        157.0    12  3c6668   \n3        2023-01-01 12:48:30+00:00       2225.0        160.0    12  3c6668   \n4        2023-01-01 12:48:30+00:00       2375.0        163.0    12  3c6668   \n...                            ...          ...          ...   ...     ...   \n4865641  2023-01-28 14:21:43+00:00          NaN         48.0    15  3c5465   \n4865642  2023-01-28 14:21:43+00:00          NaN         48.0    15  3c5465   \n4865643  2023-01-28 14:21:43+00:00          NaN         48.0    15  3c5465   \n4865644  2023-01-28 14:21:43+00:00          NaN         48.0    15  3c5465   \n4865645  2023-01-28 14:21:43+00:00          NaN         48.0    15  3c5465   \n\n         ... weekday_5 weekday_6       y          h3index  \\\n0        ...         0         1  7261.0  86392201fffffff   \n1        ...         0         1  7256.0  86392201fffffff   \n2        ...         0         1  7251.0  86392201fffffff   \n3        ...         0         1  7246.0  86392201fffffff   \n4        ...         0         1  7241.0  86392201fffffff   \n...      ...       ...       ...     ...              ...   \n4865641  ...         1         0  -125.0  861faea97ffffff   \n4865642  ...         1         0  -130.0  861faea97ffffff   \n4865643  ...         1         0  -135.0  861faea97ffffff   \n4865644  ...         1         0  -140.0  861faea97ffffff   \n4865645  ...         1         0  -145.0  861faea97ffffff   \n\n         hexbin_hourly_density average_hourly_speed  average_hourly_altitude  \\\n0                     1.000000           184.500000              3237.500000   \n1                     1.000000           184.500000              3237.500000   \n2                     1.000000           184.500000              3237.500000   \n3                     1.000000           184.500000              3237.500000   \n4                     1.000000           184.500000              3237.500000   \n...                        ...                  ...                      ...   \n4865641              15.590795           113.442789               585.392867   \n4865642              15.590795           113.442789               585.392867   \n4865643              15.590795           113.442789               585.392867   \n4865644              15.590795           113.442789               585.392867   \n4865645              15.590795           113.442789               585.392867   \n\n         predicted_density predicted_speed  predicted_altitude  \n0                 2.165882      154.833084         1258.135376  \n1                 1.762114      159.359161         1520.879639  \n2                 1.753512      158.042038         1970.914917  \n3                 1.477562      160.107117         2202.730225  \n4                 1.477562      163.052643         2217.014160  \n...                    ...             ...                 ...  \n4865641          13.278749       72.541428           36.036858  \n4865642          12.446949       72.741699           36.036858  \n4865643          12.446949       71.140152           33.805496  \n4865644          14.572087       69.337738          -46.538475  \n4865645          12.446949       70.984047           25.841482  \n\n[3178852 rows x 52 columns]",
      "text/html": "<div>\n<style scoped>\n    .dataframe tbody tr th:only-of-type {\n        vertical-align: middle;\n    }\n\n    .dataframe tbody tr th {\n        vertical-align: top;\n    }\n\n    .dataframe thead th {\n        text-align: right;\n    }\n</style>\n<table border=\"1\" class=\"dataframe\">\n  <thead>\n    <tr style=\"text-align: right;\">\n      <th></th>\n      <th>alert</th>\n      <th>altitude</th>\n      <th>callsign</th>\n      <th>day</th>\n      <th>destination</th>\n      <th>firstseen</th>\n      <th>geoaltitude</th>\n      <th>groundspeed</th>\n      <th>hour</th>\n      <th>icao24</th>\n      <th>...</th>\n      <th>weekday_5</th>\n      <th>weekday_6</th>\n      <th>y</th>\n      <th>h3index</th>\n      <th>hexbin_hourly_density</th>\n      <th>average_hourly_speed</th>\n      <th>average_hourly_altitude</th>\n      <th>predicted_density</th>\n      <th>predicted_speed</th>\n      <th>predicted_altitude</th>\n    </tr>\n  </thead>\n  <tbody>\n    <tr>\n      <th>0</th>\n      <td>False</td>\n      <td>1400.0</td>\n      <td>DLH01P</td>\n      <td>2023-01-01 00:00:00+00:00</td>\n      <td>EDDF</td>\n      <td>2023-01-01 12:48:30+00:00</td>\n      <td>1475.0</td>\n      <td>154.0</td>\n      <td>12</td>\n      <td>3c6668</td>\n      <td>...</td>\n      <td>0</td>\n      <td>1</td>\n      <td>7261.0</td>\n      <td>86392201fffffff</td>\n      <td>1.000000</td>\n      <td>184.500000</td>\n      <td>3237.500000</td>\n      <td>2.165882</td>\n      <td>154.833084</td>\n      <td>1258.135376</td>\n    </tr>\n    <tr>\n      <th>1</th>\n      <td>False</td>\n      <td>1675.0</td>\n      <td>DLH01P</td>\n      <td>2023-01-01 00:00:00+00:00</td>\n      <td>EDDF</td>\n      <td>2023-01-01 12:48:30+00:00</td>\n      <td>1825.0</td>\n      <td>157.0</td>\n      <td>12</td>\n      <td>3c6668</td>\n      <td>...</td>\n      <td>0</td>\n      <td>1</td>\n      <td>7256.0</td>\n      <td>86392201fffffff</td>\n      <td>1.000000</td>\n      <td>184.500000</td>\n      <td>3237.500000</td>\n      <td>1.762114</td>\n      <td>159.359161</td>\n      <td>1520.879639</td>\n    </tr>\n    <tr>\n      <th>2</th>\n      <td>False</td>\n      <td>1875.0</td>\n      <td>DLH01P</td>\n      <td>2023-01-01 00:00:00+00:00</td>\n      <td>EDDF</td>\n      <td>2023-01-01 12:48:30+00:00</td>\n      <td>2025.0</td>\n      <td>157.0</td>\n      <td>12</td>\n      <td>3c6668</td>\n      <td>...</td>\n      <td>0</td>\n      <td>1</td>\n      <td>7251.0</td>\n      <td>86392201fffffff</td>\n      <td>1.000000</td>\n      <td>184.500000</td>\n      <td>3237.500000</td>\n      <td>1.753512</td>\n      <td>158.042038</td>\n      <td>1970.914917</td>\n    </tr>\n    <tr>\n      <th>3</th>\n      <td>False</td>\n      <td>2075.0</td>\n      <td>DLH01P</td>\n      <td>2023-01-01 00:00:00+00:00</td>\n      <td>EDDF</td>\n      <td>2023-01-01 12:48:30+00:00</td>\n      <td>2225.0</td>\n      <td>160.0</td>\n      <td>12</td>\n      <td>3c6668</td>\n      <td>...</td>\n      <td>0</td>\n      <td>1</td>\n      <td>7246.0</td>\n      <td>86392201fffffff</td>\n      <td>1.000000</td>\n      <td>184.500000</td>\n      <td>3237.500000</td>\n      <td>1.477562</td>\n      <td>160.107117</td>\n      <td>2202.730225</td>\n    </tr>\n    <tr>\n      <th>4</th>\n      <td>False</td>\n      <td>2200.0</td>\n      <td>DLH01P</td>\n      <td>2023-01-01 00:00:00+00:00</td>\n      <td>EDDF</td>\n      <td>2023-01-01 12:48:30+00:00</td>\n      <td>2375.0</td>\n      <td>163.0</td>\n      <td>12</td>\n      <td>3c6668</td>\n      <td>...</td>\n      <td>0</td>\n      <td>1</td>\n      <td>7241.0</td>\n      <td>86392201fffffff</td>\n      <td>1.000000</td>\n      <td>184.500000</td>\n      <td>3237.500000</td>\n      <td>1.477562</td>\n      <td>163.052643</td>\n      <td>2217.014160</td>\n    </tr>\n    <tr>\n      <th>...</th>\n      <td>...</td>\n      <td>...</td>\n      <td>...</td>\n      <td>...</td>\n      <td>...</td>\n      <td>...</td>\n      <td>...</td>\n      <td>...</td>\n      <td>...</td>\n      <td>...</td>\n      <td>...</td>\n      <td>...</td>\n      <td>...</td>\n      <td>...</td>\n      <td>...</td>\n      <td>...</td>\n      <td>...</td>\n      <td>...</td>\n      <td>...</td>\n      <td>...</td>\n      <td>...</td>\n    </tr>\n    <tr>\n      <th>4865641</th>\n      <td>False</td>\n      <td>NaN</td>\n      <td>DLH9YJ</td>\n      <td>2023-01-28 00:00:00+00:00</td>\n      <td>EDDF</td>\n      <td>2023-01-28 14:21:43+00:00</td>\n      <td>NaN</td>\n      <td>48.0</td>\n      <td>15</td>\n      <td>3c5465</td>\n      <td>...</td>\n      <td>1</td>\n      <td>0</td>\n      <td>-125.0</td>\n      <td>861faea97ffffff</td>\n      <td>15.590795</td>\n      <td>113.442789</td>\n      <td>585.392867</td>\n      <td>13.278749</td>\n      <td>72.541428</td>\n      <td>36.036858</td>\n    </tr>\n    <tr>\n      <th>4865642</th>\n      <td>False</td>\n      <td>NaN</td>\n      <td>DLH9YJ</td>\n      <td>2023-01-28 00:00:00+00:00</td>\n      <td>EDDF</td>\n      <td>2023-01-28 14:21:43+00:00</td>\n      <td>NaN</td>\n      <td>48.0</td>\n      <td>15</td>\n      <td>3c5465</td>\n      <td>...</td>\n      <td>1</td>\n      <td>0</td>\n      <td>-130.0</td>\n      <td>861faea97ffffff</td>\n      <td>15.590795</td>\n      <td>113.442789</td>\n      <td>585.392867</td>\n      <td>12.446949</td>\n      <td>72.741699</td>\n      <td>36.036858</td>\n    </tr>\n    <tr>\n      <th>4865643</th>\n      <td>False</td>\n      <td>NaN</td>\n      <td>DLH9YJ</td>\n      <td>2023-01-28 00:00:00+00:00</td>\n      <td>EDDF</td>\n      <td>2023-01-28 14:21:43+00:00</td>\n      <td>NaN</td>\n      <td>48.0</td>\n      <td>15</td>\n      <td>3c5465</td>\n      <td>...</td>\n      <td>1</td>\n      <td>0</td>\n      <td>-135.0</td>\n      <td>861faea97ffffff</td>\n      <td>15.590795</td>\n      <td>113.442789</td>\n      <td>585.392867</td>\n      <td>12.446949</td>\n      <td>71.140152</td>\n      <td>33.805496</td>\n    </tr>\n    <tr>\n      <th>4865644</th>\n      <td>False</td>\n      <td>-75.0</td>\n      <td>DLH9YJ</td>\n      <td>2023-01-28 00:00:00+00:00</td>\n      <td>EDDF</td>\n      <td>2023-01-28 14:21:43+00:00</td>\n      <td>NaN</td>\n      <td>48.0</td>\n      <td>15</td>\n      <td>3c5465</td>\n      <td>...</td>\n      <td>1</td>\n      <td>0</td>\n      <td>-140.0</td>\n      <td>861faea97ffffff</td>\n      <td>15.590795</td>\n      <td>113.442789</td>\n      <td>585.392867</td>\n      <td>14.572087</td>\n      <td>69.337738</td>\n      <td>-46.538475</td>\n    </tr>\n    <tr>\n      <th>4865645</th>\n      <td>False</td>\n      <td>NaN</td>\n      <td>DLH9YJ</td>\n      <td>2023-01-28 00:00:00+00:00</td>\n      <td>EDDF</td>\n      <td>2023-01-28 14:21:43+00:00</td>\n      <td>NaN</td>\n      <td>48.0</td>\n      <td>15</td>\n      <td>3c5465</td>\n      <td>...</td>\n      <td>1</td>\n      <td>0</td>\n      <td>-145.0</td>\n      <td>861faea97ffffff</td>\n      <td>15.590795</td>\n      <td>113.442789</td>\n      <td>585.392867</td>\n      <td>12.446949</td>\n      <td>70.984047</td>\n      <td>25.841482</td>\n    </tr>\n  </tbody>\n</table>\n<p>3178852 rows × 52 columns</p>\n</div>"
     },
     "execution_count": 38,
     "metadata": {},
     "output_type": "execute_result"
    }
   ],
   "source": [
    "testdata"
   ],
   "metadata": {
    "collapsed": false,
    "ExecuteTime": {
     "end_time": "2023-07-21T10:49:50.930958700Z",
     "start_time": "2023-07-21T10:49:49.584470200Z"
    }
   }
  },
  {
   "cell_type": "code",
   "execution_count": null,
   "outputs": [],
   "source": [],
   "metadata": {
    "collapsed": false
   }
  }
 ],
 "metadata": {
  "kernelspec": {
   "display_name": "Python 3",
   "language": "python",
   "name": "python3"
  },
  "language_info": {
   "codemirror_mode": {
    "name": "ipython",
    "version": 2
   },
   "file_extension": ".py",
   "mimetype": "text/x-python",
   "name": "python",
   "nbconvert_exporter": "python",
   "pygments_lexer": "ipython2",
   "version": "2.7.6"
  }
 },
 "nbformat": 4,
 "nbformat_minor": 0
}
