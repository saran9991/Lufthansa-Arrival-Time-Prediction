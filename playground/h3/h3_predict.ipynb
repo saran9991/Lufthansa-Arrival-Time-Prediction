{
 "cells": [
  {
   "cell_type": "code",
   "execution_count": 1,
   "metadata": {
    "collapsed": true
   },
   "outputs": [],
   "source": [
    "import os\n",
    "from train_model.h3_preprocessing import h3_preprocess, get_h3_index, test_data_h3_average\n",
    "from train_model.incremental_combined_xgboost import PreProcessing\n",
    "\n",
    "import pandas as pd\n",
    "import xgboost as xgb\n",
    "from sklearn.metrics import mean_absolute_error\n",
    "from sklearn.metrics import r2_score\n",
    "import joblib\n",
    "import h3pandas\n",
    "import h3"
   ]
  },
  {
   "cell_type": "code",
   "execution_count": 2,
   "outputs": [
    {
     "data": {
      "text/plain": "'C:\\\\Users\\\\saran\\\\Desktop\\\\Lufthansa\\\\Lufthansa-Arrival-Time-Prediction\\\\playground\\\\h3'"
     },
     "execution_count": 2,
     "metadata": {},
     "output_type": "execute_result"
    }
   ],
   "source": [
    "os.getcwd()"
   ],
   "metadata": {
    "collapsed": false,
    "ExecuteTime": {
     "end_time": "2023-07-21T06:48:27.618127800Z",
     "start_time": "2023-07-21T06:48:27.566494900Z"
    }
   }
  },
  {
   "cell_type": "code",
   "execution_count": 3,
   "outputs": [],
   "source": [
    "os.chdir('..')\n",
    "os.chdir('..')"
   ],
   "metadata": {
    "collapsed": false,
    "ExecuteTime": {
     "end_time": "2023-07-21T06:48:29.918236900Z",
     "start_time": "2023-07-21T06:48:29.906698500Z"
    }
   }
  },
  {
   "cell_type": "code",
   "execution_count": 4,
   "outputs": [],
   "source": [
    "combined_data = pd.read_csv('combined_data_2.csv', low_memory=False)"
   ],
   "metadata": {
    "collapsed": false,
    "ExecuteTime": {
     "end_time": "2023-07-21T06:49:16.931759600Z",
     "start_time": "2023-07-21T06:48:30.328026500Z"
    }
   }
  },
  {
   "cell_type": "code",
   "execution_count": 5,
   "outputs": [],
   "source": [
    "preprocessor = PreProcessing()\n",
    "data = preprocessor.data_steps(combined_data)\n",
    "data.drop(columns=['Unnamed: 0.1', 'Unnamed: 0'], inplace=True)"
   ],
   "metadata": {
    "collapsed": false,
    "ExecuteTime": {
     "end_time": "2023-07-21T06:50:14.218955500Z",
     "start_time": "2023-07-21T06:49:17.190938Z"
    }
   }
  },
  {
   "cell_type": "code",
   "execution_count": 6,
   "outputs": [
    {
     "name": "stdout",
     "output_type": "stream",
     "text": [
      "H3 Features Added\n"
     ]
    }
   ],
   "source": [
    "data2 = h3_preprocess(data, 6)"
   ],
   "metadata": {
    "collapsed": false,
    "ExecuteTime": {
     "end_time": "2023-07-21T06:50:44.128859900Z",
     "start_time": "2023-07-21T06:50:14.222475600Z"
    }
   }
  },
  {
   "cell_type": "code",
   "execution_count": 7,
   "outputs": [],
   "source": [
    "traindata = data2.copy()"
   ],
   "metadata": {
    "collapsed": false,
    "ExecuteTime": {
     "end_time": "2023-07-21T06:50:44.230412900Z",
     "start_time": "2023-07-21T06:50:44.140150700Z"
    }
   }
  },
  {
   "cell_type": "code",
   "execution_count": 8,
   "outputs": [
    {
     "name": "stdout",
     "output_type": "stream",
     "text": [
      "H3 Index Added\n"
     ]
    }
   ],
   "source": [
    "testdata = preprocessor.data_steps(pd.read_csv('playground/data/2023/january2023.csv'))\n",
    "testdata.iloc[::50, :]\n",
    "testdata = get_h3_index(testdata, 6)"
   ],
   "metadata": {
    "collapsed": false,
    "ExecuteTime": {
     "end_time": "2023-07-21T06:53:09.659092900Z",
     "start_time": "2023-07-21T06:50:44.230412900Z"
    }
   }
  },
  {
   "cell_type": "code",
   "execution_count": 9,
   "outputs": [],
   "source": [
    "testdata = test_data_h3_average(traindata, testdata)"
   ],
   "metadata": {
    "collapsed": false,
    "ExecuteTime": {
     "end_time": "2023-07-21T06:53:48.009595800Z",
     "start_time": "2023-07-21T06:53:09.664136900Z"
    }
   }
  },
  {
   "cell_type": "code",
   "execution_count": 10,
   "outputs": [
    {
     "data": {
      "text/plain": "         Unnamed: 0.1  Unnamed: 0  alert  altitude callsign  \\\n0              176719      6591.0  False    1400.0   DLH01P   \n1              176720      6596.0  False    1675.0   DLH01P   \n2              176721      6601.0  False    1875.0   DLH01P   \n3              176722      6606.0  False    2075.0   DLH01P   \n4              176723      6611.0  False    2200.0   DLH01P   \n...               ...         ...    ...       ...      ...   \n4865641       7770265     31050.0  False       NaN   DLH9YJ   \n4865642       7770266     31055.0  False       NaN   DLH9YJ   \n4865643       7770267     31060.0  False       NaN   DLH9YJ   \n4865644       7770268     31065.0  False     -75.0   DLH9YJ   \n4865645       7770269     31070.0  False       NaN   DLH9YJ   \n\n                               day destination                  firstseen  \\\n0        2023-01-01 00:00:00+00:00        EDDF  2023-01-01 12:48:30+00:00   \n1        2023-01-01 00:00:00+00:00        EDDF  2023-01-01 12:48:30+00:00   \n2        2023-01-01 00:00:00+00:00        EDDF  2023-01-01 12:48:30+00:00   \n3        2023-01-01 00:00:00+00:00        EDDF  2023-01-01 12:48:30+00:00   \n4        2023-01-01 00:00:00+00:00        EDDF  2023-01-01 12:48:30+00:00   \n...                            ...         ...                        ...   \n4865641  2023-01-28 00:00:00+00:00        EDDF  2023-01-28 14:21:43+00:00   \n4865642  2023-01-28 00:00:00+00:00        EDDF  2023-01-28 14:21:43+00:00   \n4865643  2023-01-28 00:00:00+00:00        EDDF  2023-01-28 14:21:43+00:00   \n4865644  2023-01-28 00:00:00+00:00        EDDF  2023-01-28 14:21:43+00:00   \n4865645  2023-01-28 00:00:00+00:00        EDDF  2023-01-28 14:21:43+00:00   \n\n         geoaltitude  groundspeed  ...  weekday_6       y          h3index  \\\n0             1475.0        154.0  ...          1  7261.0  86392201fffffff   \n1             1825.0        157.0  ...          1  7256.0  86392201fffffff   \n2             2025.0        157.0  ...          1  7251.0  86392201fffffff   \n3             2225.0        160.0  ...          1  7246.0  86392201fffffff   \n4             2375.0        163.0  ...          1  7241.0  86392201fffffff   \n...              ...          ...  ...        ...     ...              ...   \n4865641          NaN         48.0  ...          0  -125.0  861faea97ffffff   \n4865642          NaN         48.0  ...          0  -130.0  861faea97ffffff   \n4865643          NaN         48.0  ...          0  -135.0  861faea97ffffff   \n4865644          NaN         48.0  ...          0  -140.0  861faea97ffffff   \n4865645          NaN         48.0  ...          0  -145.0  861faea97ffffff   \n\n        weekday  average_hexbin_weekday_density  average_weekday_speed  \\\n0             6                        1.285714             188.142857   \n1             6                        1.285714             188.142857   \n2             6                        1.285714             188.142857   \n3             6                        1.285714             188.142857   \n4             6                        1.285714             188.142857   \n...         ...                             ...                    ...   \n4865641       5                       16.280769             110.024528   \n4865642       5                       16.280769             110.024528   \n4865643       5                       16.280769             110.024528   \n4865644       5                       16.280769             110.024528   \n4865645       5                       16.280769             110.024528   \n\n         average_weekday_altitude average_hourly_hexbin_density  \\\n0                     2710.714286                      1.000000   \n1                     2710.714286                      1.000000   \n2                     2710.714286                      1.000000   \n3                     2710.714286                      1.000000   \n4                     2710.714286                      1.000000   \n...                           ...                           ...   \n4865641                691.345713                     15.590795   \n4865642                691.345713                     15.590795   \n4865643                691.345713                     15.590795   \n4865644                691.345713                     15.590795   \n4865645                691.345713                     15.590795   \n\n         average_hourly_avg_speed  average_hourly_avg_altitude  \n0                      184.500000                  3237.500000  \n1                      184.500000                  3237.500000  \n2                      184.500000                  3237.500000  \n3                      184.500000                  3237.500000  \n4                      184.500000                  3237.500000  \n...                           ...                          ...  \n4865641                113.442789                   585.392867  \n4865642                113.442789                   585.392867  \n4865643                113.442789                   585.392867  \n4865644                113.442789                   585.392867  \n4865645                113.442789                   585.392867  \n\n[4865646 rows x 55 columns]",
      "text/html": "<div>\n<style scoped>\n    .dataframe tbody tr th:only-of-type {\n        vertical-align: middle;\n    }\n\n    .dataframe tbody tr th {\n        vertical-align: top;\n    }\n\n    .dataframe thead th {\n        text-align: right;\n    }\n</style>\n<table border=\"1\" class=\"dataframe\">\n  <thead>\n    <tr style=\"text-align: right;\">\n      <th></th>\n      <th>Unnamed: 0.1</th>\n      <th>Unnamed: 0</th>\n      <th>alert</th>\n      <th>altitude</th>\n      <th>callsign</th>\n      <th>day</th>\n      <th>destination</th>\n      <th>firstseen</th>\n      <th>geoaltitude</th>\n      <th>groundspeed</th>\n      <th>...</th>\n      <th>weekday_6</th>\n      <th>y</th>\n      <th>h3index</th>\n      <th>weekday</th>\n      <th>average_hexbin_weekday_density</th>\n      <th>average_weekday_speed</th>\n      <th>average_weekday_altitude</th>\n      <th>average_hourly_hexbin_density</th>\n      <th>average_hourly_avg_speed</th>\n      <th>average_hourly_avg_altitude</th>\n    </tr>\n  </thead>\n  <tbody>\n    <tr>\n      <th>0</th>\n      <td>176719</td>\n      <td>6591.0</td>\n      <td>False</td>\n      <td>1400.0</td>\n      <td>DLH01P</td>\n      <td>2023-01-01 00:00:00+00:00</td>\n      <td>EDDF</td>\n      <td>2023-01-01 12:48:30+00:00</td>\n      <td>1475.0</td>\n      <td>154.0</td>\n      <td>...</td>\n      <td>1</td>\n      <td>7261.0</td>\n      <td>86392201fffffff</td>\n      <td>6</td>\n      <td>1.285714</td>\n      <td>188.142857</td>\n      <td>2710.714286</td>\n      <td>1.000000</td>\n      <td>184.500000</td>\n      <td>3237.500000</td>\n    </tr>\n    <tr>\n      <th>1</th>\n      <td>176720</td>\n      <td>6596.0</td>\n      <td>False</td>\n      <td>1675.0</td>\n      <td>DLH01P</td>\n      <td>2023-01-01 00:00:00+00:00</td>\n      <td>EDDF</td>\n      <td>2023-01-01 12:48:30+00:00</td>\n      <td>1825.0</td>\n      <td>157.0</td>\n      <td>...</td>\n      <td>1</td>\n      <td>7256.0</td>\n      <td>86392201fffffff</td>\n      <td>6</td>\n      <td>1.285714</td>\n      <td>188.142857</td>\n      <td>2710.714286</td>\n      <td>1.000000</td>\n      <td>184.500000</td>\n      <td>3237.500000</td>\n    </tr>\n    <tr>\n      <th>2</th>\n      <td>176721</td>\n      <td>6601.0</td>\n      <td>False</td>\n      <td>1875.0</td>\n      <td>DLH01P</td>\n      <td>2023-01-01 00:00:00+00:00</td>\n      <td>EDDF</td>\n      <td>2023-01-01 12:48:30+00:00</td>\n      <td>2025.0</td>\n      <td>157.0</td>\n      <td>...</td>\n      <td>1</td>\n      <td>7251.0</td>\n      <td>86392201fffffff</td>\n      <td>6</td>\n      <td>1.285714</td>\n      <td>188.142857</td>\n      <td>2710.714286</td>\n      <td>1.000000</td>\n      <td>184.500000</td>\n      <td>3237.500000</td>\n    </tr>\n    <tr>\n      <th>3</th>\n      <td>176722</td>\n      <td>6606.0</td>\n      <td>False</td>\n      <td>2075.0</td>\n      <td>DLH01P</td>\n      <td>2023-01-01 00:00:00+00:00</td>\n      <td>EDDF</td>\n      <td>2023-01-01 12:48:30+00:00</td>\n      <td>2225.0</td>\n      <td>160.0</td>\n      <td>...</td>\n      <td>1</td>\n      <td>7246.0</td>\n      <td>86392201fffffff</td>\n      <td>6</td>\n      <td>1.285714</td>\n      <td>188.142857</td>\n      <td>2710.714286</td>\n      <td>1.000000</td>\n      <td>184.500000</td>\n      <td>3237.500000</td>\n    </tr>\n    <tr>\n      <th>4</th>\n      <td>176723</td>\n      <td>6611.0</td>\n      <td>False</td>\n      <td>2200.0</td>\n      <td>DLH01P</td>\n      <td>2023-01-01 00:00:00+00:00</td>\n      <td>EDDF</td>\n      <td>2023-01-01 12:48:30+00:00</td>\n      <td>2375.0</td>\n      <td>163.0</td>\n      <td>...</td>\n      <td>1</td>\n      <td>7241.0</td>\n      <td>86392201fffffff</td>\n      <td>6</td>\n      <td>1.285714</td>\n      <td>188.142857</td>\n      <td>2710.714286</td>\n      <td>1.000000</td>\n      <td>184.500000</td>\n      <td>3237.500000</td>\n    </tr>\n    <tr>\n      <th>...</th>\n      <td>...</td>\n      <td>...</td>\n      <td>...</td>\n      <td>...</td>\n      <td>...</td>\n      <td>...</td>\n      <td>...</td>\n      <td>...</td>\n      <td>...</td>\n      <td>...</td>\n      <td>...</td>\n      <td>...</td>\n      <td>...</td>\n      <td>...</td>\n      <td>...</td>\n      <td>...</td>\n      <td>...</td>\n      <td>...</td>\n      <td>...</td>\n      <td>...</td>\n      <td>...</td>\n    </tr>\n    <tr>\n      <th>4865641</th>\n      <td>7770265</td>\n      <td>31050.0</td>\n      <td>False</td>\n      <td>NaN</td>\n      <td>DLH9YJ</td>\n      <td>2023-01-28 00:00:00+00:00</td>\n      <td>EDDF</td>\n      <td>2023-01-28 14:21:43+00:00</td>\n      <td>NaN</td>\n      <td>48.0</td>\n      <td>...</td>\n      <td>0</td>\n      <td>-125.0</td>\n      <td>861faea97ffffff</td>\n      <td>5</td>\n      <td>16.280769</td>\n      <td>110.024528</td>\n      <td>691.345713</td>\n      <td>15.590795</td>\n      <td>113.442789</td>\n      <td>585.392867</td>\n    </tr>\n    <tr>\n      <th>4865642</th>\n      <td>7770266</td>\n      <td>31055.0</td>\n      <td>False</td>\n      <td>NaN</td>\n      <td>DLH9YJ</td>\n      <td>2023-01-28 00:00:00+00:00</td>\n      <td>EDDF</td>\n      <td>2023-01-28 14:21:43+00:00</td>\n      <td>NaN</td>\n      <td>48.0</td>\n      <td>...</td>\n      <td>0</td>\n      <td>-130.0</td>\n      <td>861faea97ffffff</td>\n      <td>5</td>\n      <td>16.280769</td>\n      <td>110.024528</td>\n      <td>691.345713</td>\n      <td>15.590795</td>\n      <td>113.442789</td>\n      <td>585.392867</td>\n    </tr>\n    <tr>\n      <th>4865643</th>\n      <td>7770267</td>\n      <td>31060.0</td>\n      <td>False</td>\n      <td>NaN</td>\n      <td>DLH9YJ</td>\n      <td>2023-01-28 00:00:00+00:00</td>\n      <td>EDDF</td>\n      <td>2023-01-28 14:21:43+00:00</td>\n      <td>NaN</td>\n      <td>48.0</td>\n      <td>...</td>\n      <td>0</td>\n      <td>-135.0</td>\n      <td>861faea97ffffff</td>\n      <td>5</td>\n      <td>16.280769</td>\n      <td>110.024528</td>\n      <td>691.345713</td>\n      <td>15.590795</td>\n      <td>113.442789</td>\n      <td>585.392867</td>\n    </tr>\n    <tr>\n      <th>4865644</th>\n      <td>7770268</td>\n      <td>31065.0</td>\n      <td>False</td>\n      <td>-75.0</td>\n      <td>DLH9YJ</td>\n      <td>2023-01-28 00:00:00+00:00</td>\n      <td>EDDF</td>\n      <td>2023-01-28 14:21:43+00:00</td>\n      <td>NaN</td>\n      <td>48.0</td>\n      <td>...</td>\n      <td>0</td>\n      <td>-140.0</td>\n      <td>861faea97ffffff</td>\n      <td>5</td>\n      <td>16.280769</td>\n      <td>110.024528</td>\n      <td>691.345713</td>\n      <td>15.590795</td>\n      <td>113.442789</td>\n      <td>585.392867</td>\n    </tr>\n    <tr>\n      <th>4865645</th>\n      <td>7770269</td>\n      <td>31070.0</td>\n      <td>False</td>\n      <td>NaN</td>\n      <td>DLH9YJ</td>\n      <td>2023-01-28 00:00:00+00:00</td>\n      <td>EDDF</td>\n      <td>2023-01-28 14:21:43+00:00</td>\n      <td>NaN</td>\n      <td>48.0</td>\n      <td>...</td>\n      <td>0</td>\n      <td>-145.0</td>\n      <td>861faea97ffffff</td>\n      <td>5</td>\n      <td>16.280769</td>\n      <td>110.024528</td>\n      <td>691.345713</td>\n      <td>15.590795</td>\n      <td>113.442789</td>\n      <td>585.392867</td>\n    </tr>\n  </tbody>\n</table>\n<p>4865646 rows × 55 columns</p>\n</div>"
     },
     "execution_count": 10,
     "metadata": {},
     "output_type": "execute_result"
    }
   ],
   "source": [
    "testdata"
   ],
   "metadata": {
    "collapsed": false,
    "ExecuteTime": {
     "end_time": "2023-07-21T06:53:49.856033200Z",
     "start_time": "2023-07-21T06:53:48.011733300Z"
    }
   }
  },
  {
   "cell_type": "code",
   "execution_count": null,
   "outputs": [],
   "source": [],
   "metadata": {
    "collapsed": false
   }
  }
 ],
 "metadata": {
  "kernelspec": {
   "display_name": "Python 3",
   "language": "python",
   "name": "python3"
  },
  "language_info": {
   "codemirror_mode": {
    "name": "ipython",
    "version": 2
   },
   "file_extension": ".py",
   "mimetype": "text/x-python",
   "name": "python",
   "nbconvert_exporter": "python",
   "pygments_lexer": "ipython2",
   "version": "2.7.6"
  }
 },
 "nbformat": 4,
 "nbformat_minor": 0
}
