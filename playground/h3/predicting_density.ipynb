{
 "cells": [
  {
   "cell_type": "markdown",
   "source": [
    "# Predicts the density of other aircraft at Frankfurt Airport at the arrival time of the current aircraft"
   ],
   "metadata": {
    "collapsed": false
   },
   "id": "d71f711cce40e32a"
  },
  {
   "cell_type": "code",
   "execution_count": 1,
   "id": "initial_id",
   "metadata": {
    "collapsed": true,
    "ExecuteTime": {
     "end_time": "2023-10-11T17:29:00.127067200Z",
     "start_time": "2023-10-11T17:28:58.321206500Z"
    }
   },
   "outputs": [],
   "source": [
    "import pandas as pd \n",
    "from src.processing_utils.h3_preprocessing import get_h3_index\n",
    "import xgboost as xgb\n",
    "from sklearn.model_selection import train_test_split\n",
    "from sklearn.metrics import mean_squared_error\n",
    "from sklearn.metrics import mean_absolute_error\n",
    "import matplotlib.pyplot as plt"
   ]
  },
  {
   "cell_type": "code",
   "execution_count": 2,
   "outputs": [],
   "source": [
    "arrivals2022 = pd.read_csv('../../data/arrivals_2022.csv')"
   ],
   "metadata": {
    "collapsed": false,
    "ExecuteTime": {
     "end_time": "2023-10-11T17:29:00.594848800Z",
     "start_time": "2023-10-11T17:29:00.128066100Z"
    }
   },
   "id": "daad81929a505f71"
  },
  {
   "cell_type": "code",
   "execution_count": 3,
   "outputs": [],
   "source": [
    "arrivals2022.sort_values(by='arrival_time', inplace = True)\n",
    "arrivals2022.reset_index(inplace=True, drop=True)\n",
    "arrivals2022.rename(columns={'arrival_time': 'timestamp'}, inplace=True)"
   ],
   "metadata": {
    "collapsed": false,
    "ExecuteTime": {
     "end_time": "2023-10-11T17:29:00.642167600Z",
     "start_time": "2023-10-11T17:29:00.570177Z"
    }
   },
   "id": "d65a7c9cd2a39fde"
  },
  {
   "cell_type": "code",
   "execution_count": 4,
   "outputs": [
    {
     "name": "stderr",
     "output_type": "stream",
     "text": [
      "2023-10-11 19:29:00,632 [INFO]: Starting H3 preprocessing...\n",
      "Processing: 100%|██████████| 5/5 [00:05<00:00,  1.11s/it]\n",
      "2023-10-11 19:29:06,194 [INFO]: H3 Features Added\n"
     ]
    }
   ],
   "source": [
    "arrivals_h3 = get_h3_index(arrivals2022, 10)"
   ],
   "metadata": {
    "collapsed": false,
    "ExecuteTime": {
     "end_time": "2023-10-11T17:29:06.211460Z",
     "start_time": "2023-10-11T17:29:00.631971900Z"
    }
   },
   "id": "474cd80bcc5d599d"
  },
  {
   "cell_type": "code",
   "execution_count": 7,
   "outputs": [],
   "source": [
    "arrivals_h3['general_frankfurt_density'] = 0 \n",
    "for index, row in arrivals_h3.iterrows():\n",
    "    density = arrivals_h3[(arrivals_h3['timestamp'] >= row['timestamp'] - pd.Timedelta(minutes=20)) &\n",
    "                          (arrivals_h3['timestamp'] <= row['timestamp'])].shape[0] - 1\n",
    "    arrivals_h3.at[index, 'at_frankfurt_density'] = density"
   ],
   "metadata": {
    "collapsed": false,
    "ExecuteTime": {
     "end_time": "2023-10-11T17:34:54.272497600Z",
     "start_time": "2023-10-11T17:32:18.226197200Z"
    }
   },
   "id": "1da14b36ba5e1a6c"
  },
  {
   "cell_type": "code",
   "execution_count": 8,
   "outputs": [],
   "source": [
    "features = ['holiday', \n",
    "            'sec_sin', 'sec_cos', \n",
    "            'day_sin', 'day_cos', \n",
    "            'weekday_0', 'weekday_1', 'weekday_2',\n",
    "            'weekday_3', 'weekday_4', 'weekday_5', \n",
    "            'weekday_6']\n",
    "\n",
    "X = arrivals_h3[features]\n",
    "y = arrivals_h3['at_frankfurt_density']"
   ],
   "metadata": {
    "collapsed": false,
    "ExecuteTime": {
     "end_time": "2023-10-11T17:34:54.284523700Z",
     "start_time": "2023-10-11T17:34:54.272497600Z"
    }
   },
   "id": "14d9a409a119ca95"
  },
  {
   "cell_type": "code",
   "execution_count": 9,
   "outputs": [],
   "source": [
    "X_train, X_test, y_train, y_test = train_test_split(X, y, test_size=0.2, random_state=42)"
   ],
   "metadata": {
    "collapsed": false,
    "ExecuteTime": {
     "end_time": "2023-10-11T17:34:54.316483600Z",
     "start_time": "2023-10-11T17:34:54.286524600Z"
    }
   },
   "id": "9e976493742a2a73"
  },
  {
   "cell_type": "code",
   "execution_count": 10,
   "outputs": [
    {
     "data": {
      "text/plain": "XGBRegressor(base_score=None, booster=None, callbacks=None,\n             colsample_bylevel=None, colsample_bynode=None,\n             colsample_bytree=None, early_stopping_rounds=None,\n             enable_categorical=False, eval_metric=None, feature_types=None,\n             gamma=None, gpu_id=None, grow_policy=None, importance_type=None,\n             interaction_constraints=None, learning_rate=None, max_bin=None,\n             max_cat_threshold=None, max_cat_to_onehot=None,\n             max_delta_step=None, max_depth=None, max_leaves=None,\n             min_child_weight=None, missing=nan, monotone_constraints=None,\n             n_estimators=100, n_jobs=None, num_parallel_tree=None,\n             predictor=None, random_state=None, ...)",
      "text/html": "<style>#sk-container-id-1 {color: black;background-color: white;}#sk-container-id-1 pre{padding: 0;}#sk-container-id-1 div.sk-toggleable {background-color: white;}#sk-container-id-1 label.sk-toggleable__label {cursor: pointer;display: block;width: 100%;margin-bottom: 0;padding: 0.3em;box-sizing: border-box;text-align: center;}#sk-container-id-1 label.sk-toggleable__label-arrow:before {content: \"▸\";float: left;margin-right: 0.25em;color: #696969;}#sk-container-id-1 label.sk-toggleable__label-arrow:hover:before {color: black;}#sk-container-id-1 div.sk-estimator:hover label.sk-toggleable__label-arrow:before {color: black;}#sk-container-id-1 div.sk-toggleable__content {max-height: 0;max-width: 0;overflow: hidden;text-align: left;background-color: #f0f8ff;}#sk-container-id-1 div.sk-toggleable__content pre {margin: 0.2em;color: black;border-radius: 0.25em;background-color: #f0f8ff;}#sk-container-id-1 input.sk-toggleable__control:checked~div.sk-toggleable__content {max-height: 200px;max-width: 100%;overflow: auto;}#sk-container-id-1 input.sk-toggleable__control:checked~label.sk-toggleable__label-arrow:before {content: \"▾\";}#sk-container-id-1 div.sk-estimator input.sk-toggleable__control:checked~label.sk-toggleable__label {background-color: #d4ebff;}#sk-container-id-1 div.sk-label input.sk-toggleable__control:checked~label.sk-toggleable__label {background-color: #d4ebff;}#sk-container-id-1 input.sk-hidden--visually {border: 0;clip: rect(1px 1px 1px 1px);clip: rect(1px, 1px, 1px, 1px);height: 1px;margin: -1px;overflow: hidden;padding: 0;position: absolute;width: 1px;}#sk-container-id-1 div.sk-estimator {font-family: monospace;background-color: #f0f8ff;border: 1px dotted black;border-radius: 0.25em;box-sizing: border-box;margin-bottom: 0.5em;}#sk-container-id-1 div.sk-estimator:hover {background-color: #d4ebff;}#sk-container-id-1 div.sk-parallel-item::after {content: \"\";width: 100%;border-bottom: 1px solid gray;flex-grow: 1;}#sk-container-id-1 div.sk-label:hover label.sk-toggleable__label {background-color: #d4ebff;}#sk-container-id-1 div.sk-serial::before {content: \"\";position: absolute;border-left: 1px solid gray;box-sizing: border-box;top: 0;bottom: 0;left: 50%;z-index: 0;}#sk-container-id-1 div.sk-serial {display: flex;flex-direction: column;align-items: center;background-color: white;padding-right: 0.2em;padding-left: 0.2em;position: relative;}#sk-container-id-1 div.sk-item {position: relative;z-index: 1;}#sk-container-id-1 div.sk-parallel {display: flex;align-items: stretch;justify-content: center;background-color: white;position: relative;}#sk-container-id-1 div.sk-item::before, #sk-container-id-1 div.sk-parallel-item::before {content: \"\";position: absolute;border-left: 1px solid gray;box-sizing: border-box;top: 0;bottom: 0;left: 50%;z-index: -1;}#sk-container-id-1 div.sk-parallel-item {display: flex;flex-direction: column;z-index: 1;position: relative;background-color: white;}#sk-container-id-1 div.sk-parallel-item:first-child::after {align-self: flex-end;width: 50%;}#sk-container-id-1 div.sk-parallel-item:last-child::after {align-self: flex-start;width: 50%;}#sk-container-id-1 div.sk-parallel-item:only-child::after {width: 0;}#sk-container-id-1 div.sk-dashed-wrapped {border: 1px dashed gray;margin: 0 0.4em 0.5em 0.4em;box-sizing: border-box;padding-bottom: 0.4em;background-color: white;}#sk-container-id-1 div.sk-label label {font-family: monospace;font-weight: bold;display: inline-block;line-height: 1.2em;}#sk-container-id-1 div.sk-label-container {text-align: center;}#sk-container-id-1 div.sk-container {/* jupyter's `normalize.less` sets `[hidden] { display: none; }` but bootstrap.min.css set `[hidden] { display: none !important; }` so we also need the `!important` here to be able to override the default hidden behavior on the sphinx rendered scikit-learn.org. See: https://github.com/scikit-learn/scikit-learn/issues/21755 */display: inline-block !important;position: relative;}#sk-container-id-1 div.sk-text-repr-fallback {display: none;}</style><div id=\"sk-container-id-1\" class=\"sk-top-container\"><div class=\"sk-text-repr-fallback\"><pre>XGBRegressor(base_score=None, booster=None, callbacks=None,\n             colsample_bylevel=None, colsample_bynode=None,\n             colsample_bytree=None, early_stopping_rounds=None,\n             enable_categorical=False, eval_metric=None, feature_types=None,\n             gamma=None, gpu_id=None, grow_policy=None, importance_type=None,\n             interaction_constraints=None, learning_rate=None, max_bin=None,\n             max_cat_threshold=None, max_cat_to_onehot=None,\n             max_delta_step=None, max_depth=None, max_leaves=None,\n             min_child_weight=None, missing=nan, monotone_constraints=None,\n             n_estimators=100, n_jobs=None, num_parallel_tree=None,\n             predictor=None, random_state=None, ...)</pre><b>In a Jupyter environment, please rerun this cell to show the HTML representation or trust the notebook. <br />On GitHub, the HTML representation is unable to render, please try loading this page with nbviewer.org.</b></div><div class=\"sk-container\" hidden><div class=\"sk-item\"><div class=\"sk-estimator sk-toggleable\"><input class=\"sk-toggleable__control sk-hidden--visually\" id=\"sk-estimator-id-1\" type=\"checkbox\" checked><label for=\"sk-estimator-id-1\" class=\"sk-toggleable__label sk-toggleable__label-arrow\">XGBRegressor</label><div class=\"sk-toggleable__content\"><pre>XGBRegressor(base_score=None, booster=None, callbacks=None,\n             colsample_bylevel=None, colsample_bynode=None,\n             colsample_bytree=None, early_stopping_rounds=None,\n             enable_categorical=False, eval_metric=None, feature_types=None,\n             gamma=None, gpu_id=None, grow_policy=None, importance_type=None,\n             interaction_constraints=None, learning_rate=None, max_bin=None,\n             max_cat_threshold=None, max_cat_to_onehot=None,\n             max_delta_step=None, max_depth=None, max_leaves=None,\n             min_child_weight=None, missing=nan, monotone_constraints=None,\n             n_estimators=100, n_jobs=None, num_parallel_tree=None,\n             predictor=None, random_state=None, ...)</pre></div></div></div></div></div>"
     },
     "execution_count": 10,
     "metadata": {},
     "output_type": "execute_result"
    }
   ],
   "source": [
    "model = xgb.XGBRegressor(objective=\"reg:squarederror\", n_estimators=100)\n",
    "model.fit(X_train, y_train)"
   ],
   "metadata": {
    "collapsed": false,
    "ExecuteTime": {
     "end_time": "2023-10-11T17:34:56.146613300Z",
     "start_time": "2023-10-11T17:34:54.319004Z"
    }
   },
   "id": "dc1ecfebc0460113"
  },
  {
   "cell_type": "code",
   "execution_count": 11,
   "outputs": [
    {
     "name": "stdout",
     "output_type": "stream",
     "text": [
      "Mean Squared Error: 3.1502131586638393\n",
      "Mean Absolute Error: 1.3863183415225162\n"
     ]
    }
   ],
   "source": [
    "y_pred = model.predict(X_test)\n",
    "print(f\"Mean Squared Error: {mean_squared_error(y_test, y_pred)}\")\n",
    "print(f\"Mean Absolute Error: {mean_absolute_error(y_test, y_pred)}\")"
   ],
   "metadata": {
    "collapsed": false,
    "ExecuteTime": {
     "end_time": "2023-10-11T17:34:56.179698400Z",
     "start_time": "2023-10-11T17:34:56.149127200Z"
    }
   },
   "id": "aa11f740c9d49967"
  },
  {
   "cell_type": "code",
   "execution_count": 12,
   "outputs": [
    {
     "name": "stderr",
     "output_type": "stream",
     "text": [
      "C:\\Users\\saran\\AppData\\Local\\Temp\\ipykernel_14440\\2567144223.py:1: DtypeWarning: Columns (17) have mixed types. Specify dtype option on import or set low_memory=False.\n",
      "  april2022 = pd.read_csv('../../data/2022/pre_processed_april2022.csv')\n"
     ]
    }
   ],
   "source": [
    "april2022 = pd.read_csv('../../data/2022/pre_processed_april2022.csv')"
   ],
   "metadata": {
    "collapsed": false,
    "ExecuteTime": {
     "end_time": "2023-10-11T17:36:16.210636400Z",
     "start_time": "2023-10-11T17:34:56.180708100Z"
    }
   },
   "id": "95d09fd354de7134"
  },
  {
   "cell_type": "code",
   "execution_count": 13,
   "outputs": [],
   "source": [
    "X_test_2 = april2022[features]"
   ],
   "metadata": {
    "collapsed": false,
    "ExecuteTime": {
     "end_time": "2023-10-11T17:36:16.364883300Z",
     "start_time": "2023-10-11T17:36:16.212609300Z"
    }
   },
   "id": "907f82f3be78510a"
  },
  {
   "cell_type": "code",
   "execution_count": 14,
   "outputs": [
    {
     "data": {
      "text/plain": "         holiday   sec_sin   sec_cos   day_sin   day_cos  weekday_0  \\\n0              0  0.903210  0.429198  0.999991  0.004304          0   \n1              0  0.903398  0.428804  0.999991  0.004304          0   \n2              0  0.903522  0.428541  0.999991  0.004304          0   \n3              0  0.903740  0.428081  0.999991  0.004304          0   \n4              0  0.904020  0.427489  0.999991  0.004304          0   \n...          ...       ...       ...       ...       ...        ...   \n6280217        0 -0.510418 -0.859927  0.924291 -0.381689          0   \n6280218        0 -0.510605 -0.859815  0.924291 -0.381689          0   \n6280219        0 -0.510668 -0.859778  0.924291 -0.381689          0   \n6280220        0 -0.511043 -0.859555  0.924291 -0.381689          0   \n6280221        0 -0.511168 -0.859481  0.924291 -0.381689          0   \n\n         weekday_1  weekday_2  weekday_3  weekday_4  weekday_5  weekday_6  \n0                0          0          0          1          0          0  \n1                0          0          0          1          0          0  \n2                0          0          0          1          0          0  \n3                0          0          0          1          0          0  \n4                0          0          0          1          0          0  \n...            ...        ...        ...        ...        ...        ...  \n6280217          0          0          0          0          0          1  \n6280218          0          0          0          0          0          1  \n6280219          0          0          0          0          0          1  \n6280220          0          0          0          0          0          1  \n6280221          0          0          0          0          0          1  \n\n[6280222 rows x 12 columns]",
      "text/html": "<div>\n<style scoped>\n    .dataframe tbody tr th:only-of-type {\n        vertical-align: middle;\n    }\n\n    .dataframe tbody tr th {\n        vertical-align: top;\n    }\n\n    .dataframe thead th {\n        text-align: right;\n    }\n</style>\n<table border=\"1\" class=\"dataframe\">\n  <thead>\n    <tr style=\"text-align: right;\">\n      <th></th>\n      <th>holiday</th>\n      <th>sec_sin</th>\n      <th>sec_cos</th>\n      <th>day_sin</th>\n      <th>day_cos</th>\n      <th>weekday_0</th>\n      <th>weekday_1</th>\n      <th>weekday_2</th>\n      <th>weekday_3</th>\n      <th>weekday_4</th>\n      <th>weekday_5</th>\n      <th>weekday_6</th>\n    </tr>\n  </thead>\n  <tbody>\n    <tr>\n      <th>0</th>\n      <td>0</td>\n      <td>0.903210</td>\n      <td>0.429198</td>\n      <td>0.999991</td>\n      <td>0.004304</td>\n      <td>0</td>\n      <td>0</td>\n      <td>0</td>\n      <td>0</td>\n      <td>1</td>\n      <td>0</td>\n      <td>0</td>\n    </tr>\n    <tr>\n      <th>1</th>\n      <td>0</td>\n      <td>0.903398</td>\n      <td>0.428804</td>\n      <td>0.999991</td>\n      <td>0.004304</td>\n      <td>0</td>\n      <td>0</td>\n      <td>0</td>\n      <td>0</td>\n      <td>1</td>\n      <td>0</td>\n      <td>0</td>\n    </tr>\n    <tr>\n      <th>2</th>\n      <td>0</td>\n      <td>0.903522</td>\n      <td>0.428541</td>\n      <td>0.999991</td>\n      <td>0.004304</td>\n      <td>0</td>\n      <td>0</td>\n      <td>0</td>\n      <td>0</td>\n      <td>1</td>\n      <td>0</td>\n      <td>0</td>\n    </tr>\n    <tr>\n      <th>3</th>\n      <td>0</td>\n      <td>0.903740</td>\n      <td>0.428081</td>\n      <td>0.999991</td>\n      <td>0.004304</td>\n      <td>0</td>\n      <td>0</td>\n      <td>0</td>\n      <td>0</td>\n      <td>1</td>\n      <td>0</td>\n      <td>0</td>\n    </tr>\n    <tr>\n      <th>4</th>\n      <td>0</td>\n      <td>0.904020</td>\n      <td>0.427489</td>\n      <td>0.999991</td>\n      <td>0.004304</td>\n      <td>0</td>\n      <td>0</td>\n      <td>0</td>\n      <td>0</td>\n      <td>1</td>\n      <td>0</td>\n      <td>0</td>\n    </tr>\n    <tr>\n      <th>...</th>\n      <td>...</td>\n      <td>...</td>\n      <td>...</td>\n      <td>...</td>\n      <td>...</td>\n      <td>...</td>\n      <td>...</td>\n      <td>...</td>\n      <td>...</td>\n      <td>...</td>\n      <td>...</td>\n      <td>...</td>\n    </tr>\n    <tr>\n      <th>6280217</th>\n      <td>0</td>\n      <td>-0.510418</td>\n      <td>-0.859927</td>\n      <td>0.924291</td>\n      <td>-0.381689</td>\n      <td>0</td>\n      <td>0</td>\n      <td>0</td>\n      <td>0</td>\n      <td>0</td>\n      <td>0</td>\n      <td>1</td>\n    </tr>\n    <tr>\n      <th>6280218</th>\n      <td>0</td>\n      <td>-0.510605</td>\n      <td>-0.859815</td>\n      <td>0.924291</td>\n      <td>-0.381689</td>\n      <td>0</td>\n      <td>0</td>\n      <td>0</td>\n      <td>0</td>\n      <td>0</td>\n      <td>0</td>\n      <td>1</td>\n    </tr>\n    <tr>\n      <th>6280219</th>\n      <td>0</td>\n      <td>-0.510668</td>\n      <td>-0.859778</td>\n      <td>0.924291</td>\n      <td>-0.381689</td>\n      <td>0</td>\n      <td>0</td>\n      <td>0</td>\n      <td>0</td>\n      <td>0</td>\n      <td>0</td>\n      <td>1</td>\n    </tr>\n    <tr>\n      <th>6280220</th>\n      <td>0</td>\n      <td>-0.511043</td>\n      <td>-0.859555</td>\n      <td>0.924291</td>\n      <td>-0.381689</td>\n      <td>0</td>\n      <td>0</td>\n      <td>0</td>\n      <td>0</td>\n      <td>0</td>\n      <td>0</td>\n      <td>1</td>\n    </tr>\n    <tr>\n      <th>6280221</th>\n      <td>0</td>\n      <td>-0.511168</td>\n      <td>-0.859481</td>\n      <td>0.924291</td>\n      <td>-0.381689</td>\n      <td>0</td>\n      <td>0</td>\n      <td>0</td>\n      <td>0</td>\n      <td>0</td>\n      <td>0</td>\n      <td>1</td>\n    </tr>\n  </tbody>\n</table>\n<p>6280222 rows × 12 columns</p>\n</div>"
     },
     "execution_count": 14,
     "metadata": {},
     "output_type": "execute_result"
    }
   ],
   "source": [
    "X_test_2"
   ],
   "metadata": {
    "collapsed": false,
    "ExecuteTime": {
     "end_time": "2023-10-11T17:36:16.410641300Z",
     "start_time": "2023-10-11T17:36:16.368407200Z"
    }
   },
   "id": "2daf3054c0d78dbc"
  },
  {
   "cell_type": "code",
   "execution_count": 15,
   "outputs": [],
   "source": [
    "y_pred = model.predict(april2022[features])"
   ],
   "metadata": {
    "collapsed": false,
    "ExecuteTime": {
     "end_time": "2023-10-11T17:36:19.155668700Z",
     "start_time": "2023-10-11T17:36:16.401508400Z"
    }
   },
   "id": "1e91bd8267a4d268"
  },
  {
   "cell_type": "code",
   "execution_count": 16,
   "outputs": [],
   "source": [
    "april2022['at_frankfurt_density'] = y_pred"
   ],
   "metadata": {
    "collapsed": false,
    "ExecuteTime": {
     "end_time": "2023-10-11T17:36:19.185675300Z",
     "start_time": "2023-10-11T17:36:19.162943100Z"
    }
   },
   "id": "6f4a1cc7026e6252"
  },
  {
   "cell_type": "code",
   "execution_count": 17,
   "outputs": [
    {
     "data": {
      "text/plain": "<Figure size 1000x600 with 1 Axes>",
      "image/png": "[encoded data removed]"
     },
     "metadata": {},
     "output_type": "display_data"
    }
   ],
   "source": [
    "importances = model.feature_importances_\n",
    "feature_names = features\n",
    "indices = importances.argsort()[::-1]\n",
    "names = [feature_names[i] for i in indices]\n",
    "\n",
    "plt.figure(figsize=(10, 6))\n",
    "plt.title(\"Feature Importance\")\n",
    "plt.bar(range(X_train.shape[1]), importances[indices])\n",
    "\n",
    "plt.xticks(range(X_train.shape[1]), names, rotation=45)\n",
    "plt.ylabel(\"Importance\")\n",
    "\n",
    "plt.tight_layout()\n",
    "plt.show()"
   ],
   "metadata": {
    "collapsed": false,
    "ExecuteTime": {
     "end_time": "2023-10-11T17:36:19.620923400Z",
     "start_time": "2023-10-11T17:36:19.188679400Z"
    }
   },
   "id": "695f3de1b7bdeb7"
  },
  {
   "cell_type": "code",
   "execution_count": null,
   "outputs": [],
   "source": [],
   "metadata": {
    "collapsed": false
   },
   "id": "c4877de8a541b619"
  }
 ],
 "metadata": {
  "kernelspec": {
   "display_name": "Python 3",
   "language": "python",
   "name": "python3"
  },
  "language_info": {
   "codemirror_mode": {
    "name": "ipython",
    "version": 2
   },
   "file_extension": ".py",
   "mimetype": "text/x-python",
   "name": "python",
   "nbconvert_exporter": "python",
   "pygments_lexer": "ipython2",
   "version": "2.7.6"
  }
 },
 "nbformat": 4,
 "nbformat_minor": 5
}
