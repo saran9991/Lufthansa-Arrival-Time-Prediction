{
 "cells": [
  {
   "cell_type": "code",
   "execution_count": 1,
   "metadata": {
    "ExecuteTime": {
     "start_time": "2023-04-23T01:56:49.527020Z",
     "end_time": "2023-04-23T01:56:52.425608Z"
    }
   },
   "outputs": [],
   "source": [
    "from preprocessing import get_complete_flights\n",
    "from preprocessing import haversine\n",
    "from assign_origin import assign_origin\n",
    "from traffic.core import Traffic\n",
    "import pandas as pd"
   ]
  },
  {
   "cell_type": "markdown",
   "metadata": {},
   "source": [
    "# Data from 9th May, 2022 - Smaller Dataset to check results faster"
   ]
  },
  {
   "cell_type": "code",
   "execution_count": 2,
   "metadata": {
    "ExecuteTime": {
     "start_time": "2023-04-23T01:56:52.428129Z",
     "end_time": "2023-04-23T01:56:59.931221Z"
    }
   },
   "outputs": [],
   "source": [
    "file = \"Frankfurt_LH_2205.h5\"\n",
    "t_09 = Traffic.from_file(file, key=\"LH_220509\", parse_dates=[\"day\", \"firstseen\", \"hour\", \"last_position\", \"lastseen\", \"timestamp\"])\n",
    "#t_10 = Traffic.from_file(file, key=\"LH_220510\", parse_dates=[\"day\", \"firstseen\", \"hour\", \"last_position\", \"lastseen\", \"timestamp\"])\n",
    "#t_11 = Traffic.from_file(file, key=\"LH_220511\", parse_dates=[\"day\", \"firstseen\", \"hour\", \"last_position\", \"lastseen\", \"timestamp\"])"
   ]
  },
  {
   "cell_type": "code",
   "execution_count": 3,
   "metadata": {
    "ExecuteTime": {
     "start_time": "2023-04-23T01:56:59.934060Z",
     "end_time": "2023-04-23T01:56:59.948106Z"
    }
   },
   "outputs": [],
   "source": [
    "dft09 = t_09.data"
   ]
  },
  {
   "cell_type": "code",
   "execution_count": 4,
   "metadata": {
    "ExecuteTime": {
     "start_time": "2023-04-23T01:56:59.951205Z",
     "end_time": "2023-04-23T01:57:00.104068Z"
    }
   },
   "outputs": [],
   "source": [
    "#Adding a column of the haversine distance from EDDF at every row in the dataset\n",
    "dft09[\"distance\"] = haversine(dft09[\"latitude\"], dft09[\"longitude\"], 50.0271, 8.53356)"
   ]
  },
  {
   "cell_type": "code",
   "execution_count": 5,
   "metadata": {
    "ExecuteTime": {
     "start_time": "2023-04-23T01:57:00.108068Z",
     "end_time": "2023-04-23T01:57:00.445479Z"
    }
   },
   "outputs": [],
   "source": [
    "#Ordering the columns in a certain order\n",
    "dft09 = dft09.reindex(columns= ['timestamp', 'onground', 'callsign', 'flight_id', 'altitude', 'geoaltitude', 'latitude', 'longitude', 'groundspeed', 'vertical_rate', 'distance', 'hour', 'icao24', 'last_position', 'lastseen', 'origin', 'spi', 'squawk', 'track', 'alert', 'day', 'firstseen', 'destination'])"
   ]
  },
  {
   "cell_type": "code",
   "execution_count": 6,
   "metadata": {
    "ExecuteTime": {
     "start_time": "2023-04-23T01:57:00.488052Z",
     "end_time": "2023-04-23T01:57:01.678410Z"
    }
   },
   "outputs": [],
   "source": [
    "#Sorting based on Callsign and Timestamp\n",
    "dft09.sort_values(by=['callsign','timestamp'], inplace = True)"
   ]
  },
  {
   "cell_type": "code",
   "execution_count": 7,
   "metadata": {
    "ExecuteTime": {
     "start_time": "2023-04-23T01:57:01.680439Z",
     "end_time": "2023-04-23T01:57:03.117363Z"
    }
   },
   "outputs": [
    {
     "data": {
      "text/plain": "                       timestamp  onground callsign   flight_id  altitude  \\\n228881 2022-05-09 04:06:29+00:00     False   DLH001  DLH001_332    -350.0   \n228882 2022-05-09 04:06:30+00:00     False   DLH001  DLH001_332    -350.0   \n228883 2022-05-09 04:06:31+00:00     False   DLH001  DLH001_332    -350.0   \n228884 2022-05-09 04:06:32+00:00     False   DLH001  DLH001_332    -350.0   \n228885 2022-05-09 04:06:33+00:00     False   DLH001  DLH001_332    -350.0   \n...                          ...       ...      ...         ...       ...   \n70217  2022-05-09 14:10:45+00:00     False   DLH9YX  DLH9YX_090     250.0   \n70218  2022-05-09 14:10:46+00:00     False   DLH9YX  DLH9YX_090     225.0   \n70219  2022-05-09 14:10:47+00:00     False   DLH9YX  DLH9YX_090     225.0   \n70220  2022-05-09 14:10:48+00:00     False   DLH9YX  DLH9YX_090     200.0   \n70221  2022-05-09 14:10:49+00:00     False   DLH9YX  DLH9YX_090     200.0   \n\n        geoaltitude   latitude  longitude  groundspeed  vertical_rate  ...  \\\n228881        200.0  53.636092   9.991096        123.0           64.0  ...   \n228882        200.0  53.637222   9.990104        126.0           64.0  ...   \n228883        200.0  53.637768   9.989642        126.0           64.0  ...   \n228884        200.0  53.638367   9.989083        126.0           64.0  ...   \n228885        200.0  53.638367   9.989083        126.0           64.0  ...   \n...             ...        ...        ...          ...            ...  ...   \n70217         675.0  50.024551   8.521777        143.0         -704.0  ...   \n70218         650.0  50.025513   8.525752        142.0         -640.0  ...   \n70219         650.0  50.025640   8.526207        142.0         -768.0  ...   \n70220         625.0  50.025780   8.526801        142.0         -896.0  ...   \n70221         625.0  50.025780   8.526801        142.0         -896.0  ...   \n\n                             last_position                  lastseen origin  \\\n228881 2022-05-09 04:06:27.242000128+00:00 2022-05-09 05:00:45+00:00   EDDH   \n228882    2022-05-09 04:06:29.408000+00:00 2022-05-09 05:00:45+00:00   EDDH   \n228883 2022-05-09 04:06:30.509999872+00:00 2022-05-09 05:00:45+00:00   EDDH   \n228884    2022-05-09 04:06:31.596000+00:00 2022-05-09 05:00:45+00:00   EDDH   \n228885    2022-05-09 04:06:31.596000+00:00 2022-05-09 05:00:45+00:00   EDDH   \n...                                    ...                       ...    ...   \n70217     2022-05-09 14:10:41.792000+00:00 2022-05-09 14:10:49+00:00   EPGD   \n70218  2022-05-09 14:10:45.967000064+00:00 2022-05-09 14:10:49+00:00   EPGD   \n70219  2022-05-09 14:10:46.505000192+00:00 2022-05-09 14:10:49+00:00   EPGD   \n70220  2022-05-09 14:10:47.158999808+00:00 2022-05-09 14:10:49+00:00   EPGD   \n70221  2022-05-09 14:10:47.158999808+00:00 2022-05-09 14:10:49+00:00   EPGD   \n\n          spi squawk       track  alert                       day  \\\n228881  False    NaN  332.807648  False 2022-05-09 00:00:00+00:00   \n228882  False    NaN  333.027157  False 2022-05-09 00:00:00+00:00   \n228883  False    NaN  333.027157  False 2022-05-09 00:00:00+00:00   \n228884  False    NaN  333.027157  False 2022-05-09 00:00:00+00:00   \n228885  False    NaN  333.027157  False 2022-05-09 00:00:00+00:00   \n...       ...    ...         ...    ...                       ...   \n70217   False   1000   68.645623  False 2022-05-09 00:00:00+00:00   \n70218   False   1000   69.020247  False 2022-05-09 00:00:00+00:00   \n70219   False   1000   69.396759  False 2022-05-09 00:00:00+00:00   \n70220   False   1000   69.396759  False 2022-05-09 00:00:00+00:00   \n70221   False   1000   69.396759  False 2022-05-09 00:00:00+00:00   \n\n                       firstseen  destination  \n228881 2022-05-09 04:06:29+00:00         EDDF  \n228882 2022-05-09 04:06:29+00:00         EDDF  \n228883 2022-05-09 04:06:29+00:00         EDDF  \n228884 2022-05-09 04:06:29+00:00         EDDF  \n228885 2022-05-09 04:06:29+00:00         EDDF  \n...                          ...          ...  \n70217  2022-05-09 12:48:50+00:00         EDDF  \n70218  2022-05-09 12:48:50+00:00         EDDF  \n70219  2022-05-09 12:48:50+00:00         EDDF  \n70220  2022-05-09 12:48:50+00:00         EDDF  \n70221  2022-05-09 12:48:50+00:00         EDDF  \n\n[2061656 rows x 23 columns]",
      "text/html": "<div>\n<style scoped>\n    .dataframe tbody tr th:only-of-type {\n        vertical-align: middle;\n    }\n\n    .dataframe tbody tr th {\n        vertical-align: top;\n    }\n\n    .dataframe thead th {\n        text-align: right;\n    }\n</style>\n<table border=\"1\" class=\"dataframe\">\n  <thead>\n    <tr style=\"text-align: right;\">\n      <th></th>\n      <th>timestamp</th>\n      <th>onground</th>\n      <th>callsign</th>\n      <th>flight_id</th>\n      <th>altitude</th>\n      <th>geoaltitude</th>\n      <th>latitude</th>\n      <th>longitude</th>\n      <th>groundspeed</th>\n      <th>vertical_rate</th>\n      <th>...</th>\n      <th>last_position</th>\n      <th>lastseen</th>\n      <th>origin</th>\n      <th>spi</th>\n      <th>squawk</th>\n      <th>track</th>\n      <th>alert</th>\n      <th>day</th>\n      <th>firstseen</th>\n      <th>destination</th>\n    </tr>\n  </thead>\n  <tbody>\n    <tr>\n      <th>228881</th>\n      <td>2022-05-09 04:06:29+00:00</td>\n      <td>False</td>\n      <td>DLH001</td>\n      <td>DLH001_332</td>\n      <td>-350.0</td>\n      <td>200.0</td>\n      <td>53.636092</td>\n      <td>9.991096</td>\n      <td>123.0</td>\n      <td>64.0</td>\n      <td>...</td>\n      <td>2022-05-09 04:06:27.242000128+00:00</td>\n      <td>2022-05-09 05:00:45+00:00</td>\n      <td>EDDH</td>\n      <td>False</td>\n      <td>NaN</td>\n      <td>332.807648</td>\n      <td>False</td>\n      <td>2022-05-09 00:00:00+00:00</td>\n      <td>2022-05-09 04:06:29+00:00</td>\n      <td>EDDF</td>\n    </tr>\n    <tr>\n      <th>228882</th>\n      <td>2022-05-09 04:06:30+00:00</td>\n      <td>False</td>\n      <td>DLH001</td>\n      <td>DLH001_332</td>\n      <td>-350.0</td>\n      <td>200.0</td>\n      <td>53.637222</td>\n      <td>9.990104</td>\n      <td>126.0</td>\n      <td>64.0</td>\n      <td>...</td>\n      <td>2022-05-09 04:06:29.408000+00:00</td>\n      <td>2022-05-09 05:00:45+00:00</td>\n      <td>EDDH</td>\n      <td>False</td>\n      <td>NaN</td>\n      <td>333.027157</td>\n      <td>False</td>\n      <td>2022-05-09 00:00:00+00:00</td>\n      <td>2022-05-09 04:06:29+00:00</td>\n      <td>EDDF</td>\n    </tr>\n    <tr>\n      <th>228883</th>\n      <td>2022-05-09 04:06:31+00:00</td>\n      <td>False</td>\n      <td>DLH001</td>\n      <td>DLH001_332</td>\n      <td>-350.0</td>\n      <td>200.0</td>\n      <td>53.637768</td>\n      <td>9.989642</td>\n      <td>126.0</td>\n      <td>64.0</td>\n      <td>...</td>\n      <td>2022-05-09 04:06:30.509999872+00:00</td>\n      <td>2022-05-09 05:00:45+00:00</td>\n      <td>EDDH</td>\n      <td>False</td>\n      <td>NaN</td>\n      <td>333.027157</td>\n      <td>False</td>\n      <td>2022-05-09 00:00:00+00:00</td>\n      <td>2022-05-09 04:06:29+00:00</td>\n      <td>EDDF</td>\n    </tr>\n    <tr>\n      <th>228884</th>\n      <td>2022-05-09 04:06:32+00:00</td>\n      <td>False</td>\n      <td>DLH001</td>\n      <td>DLH001_332</td>\n      <td>-350.0</td>\n      <td>200.0</td>\n      <td>53.638367</td>\n      <td>9.989083</td>\n      <td>126.0</td>\n      <td>64.0</td>\n      <td>...</td>\n      <td>2022-05-09 04:06:31.596000+00:00</td>\n      <td>2022-05-09 05:00:45+00:00</td>\n      <td>EDDH</td>\n      <td>False</td>\n      <td>NaN</td>\n      <td>333.027157</td>\n      <td>False</td>\n      <td>2022-05-09 00:00:00+00:00</td>\n      <td>2022-05-09 04:06:29+00:00</td>\n      <td>EDDF</td>\n    </tr>\n    <tr>\n      <th>228885</th>\n      <td>2022-05-09 04:06:33+00:00</td>\n      <td>False</td>\n      <td>DLH001</td>\n      <td>DLH001_332</td>\n      <td>-350.0</td>\n      <td>200.0</td>\n      <td>53.638367</td>\n      <td>9.989083</td>\n      <td>126.0</td>\n      <td>64.0</td>\n      <td>...</td>\n      <td>2022-05-09 04:06:31.596000+00:00</td>\n      <td>2022-05-09 05:00:45+00:00</td>\n      <td>EDDH</td>\n      <td>False</td>\n      <td>NaN</td>\n      <td>333.027157</td>\n      <td>False</td>\n      <td>2022-05-09 00:00:00+00:00</td>\n      <td>2022-05-09 04:06:29+00:00</td>\n      <td>EDDF</td>\n    </tr>\n    <tr>\n      <th>...</th>\n      <td>...</td>\n      <td>...</td>\n      <td>...</td>\n      <td>...</td>\n      <td>...</td>\n      <td>...</td>\n      <td>...</td>\n      <td>...</td>\n      <td>...</td>\n      <td>...</td>\n      <td>...</td>\n      <td>...</td>\n      <td>...</td>\n      <td>...</td>\n      <td>...</td>\n      <td>...</td>\n      <td>...</td>\n      <td>...</td>\n      <td>...</td>\n      <td>...</td>\n      <td>...</td>\n    </tr>\n    <tr>\n      <th>70217</th>\n      <td>2022-05-09 14:10:45+00:00</td>\n      <td>False</td>\n      <td>DLH9YX</td>\n      <td>DLH9YX_090</td>\n      <td>250.0</td>\n      <td>675.0</td>\n      <td>50.024551</td>\n      <td>8.521777</td>\n      <td>143.0</td>\n      <td>-704.0</td>\n      <td>...</td>\n      <td>2022-05-09 14:10:41.792000+00:00</td>\n      <td>2022-05-09 14:10:49+00:00</td>\n      <td>EPGD</td>\n      <td>False</td>\n      <td>1000</td>\n      <td>68.645623</td>\n      <td>False</td>\n      <td>2022-05-09 00:00:00+00:00</td>\n      <td>2022-05-09 12:48:50+00:00</td>\n      <td>EDDF</td>\n    </tr>\n    <tr>\n      <th>70218</th>\n      <td>2022-05-09 14:10:46+00:00</td>\n      <td>False</td>\n      <td>DLH9YX</td>\n      <td>DLH9YX_090</td>\n      <td>225.0</td>\n      <td>650.0</td>\n      <td>50.025513</td>\n      <td>8.525752</td>\n      <td>142.0</td>\n      <td>-640.0</td>\n      <td>...</td>\n      <td>2022-05-09 14:10:45.967000064+00:00</td>\n      <td>2022-05-09 14:10:49+00:00</td>\n      <td>EPGD</td>\n      <td>False</td>\n      <td>1000</td>\n      <td>69.020247</td>\n      <td>False</td>\n      <td>2022-05-09 00:00:00+00:00</td>\n      <td>2022-05-09 12:48:50+00:00</td>\n      <td>EDDF</td>\n    </tr>\n    <tr>\n      <th>70219</th>\n      <td>2022-05-09 14:10:47+00:00</td>\n      <td>False</td>\n      <td>DLH9YX</td>\n      <td>DLH9YX_090</td>\n      <td>225.0</td>\n      <td>650.0</td>\n      <td>50.025640</td>\n      <td>8.526207</td>\n      <td>142.0</td>\n      <td>-768.0</td>\n      <td>...</td>\n      <td>2022-05-09 14:10:46.505000192+00:00</td>\n      <td>2022-05-09 14:10:49+00:00</td>\n      <td>EPGD</td>\n      <td>False</td>\n      <td>1000</td>\n      <td>69.396759</td>\n      <td>False</td>\n      <td>2022-05-09 00:00:00+00:00</td>\n      <td>2022-05-09 12:48:50+00:00</td>\n      <td>EDDF</td>\n    </tr>\n    <tr>\n      <th>70220</th>\n      <td>2022-05-09 14:10:48+00:00</td>\n      <td>False</td>\n      <td>DLH9YX</td>\n      <td>DLH9YX_090</td>\n      <td>200.0</td>\n      <td>625.0</td>\n      <td>50.025780</td>\n      <td>8.526801</td>\n      <td>142.0</td>\n      <td>-896.0</td>\n      <td>...</td>\n      <td>2022-05-09 14:10:47.158999808+00:00</td>\n      <td>2022-05-09 14:10:49+00:00</td>\n      <td>EPGD</td>\n      <td>False</td>\n      <td>1000</td>\n      <td>69.396759</td>\n      <td>False</td>\n      <td>2022-05-09 00:00:00+00:00</td>\n      <td>2022-05-09 12:48:50+00:00</td>\n      <td>EDDF</td>\n    </tr>\n    <tr>\n      <th>70221</th>\n      <td>2022-05-09 14:10:49+00:00</td>\n      <td>False</td>\n      <td>DLH9YX</td>\n      <td>DLH9YX_090</td>\n      <td>200.0</td>\n      <td>625.0</td>\n      <td>50.025780</td>\n      <td>8.526801</td>\n      <td>142.0</td>\n      <td>-896.0</td>\n      <td>...</td>\n      <td>2022-05-09 14:10:47.158999808+00:00</td>\n      <td>2022-05-09 14:10:49+00:00</td>\n      <td>EPGD</td>\n      <td>False</td>\n      <td>1000</td>\n      <td>69.396759</td>\n      <td>False</td>\n      <td>2022-05-09 00:00:00+00:00</td>\n      <td>2022-05-09 12:48:50+00:00</td>\n      <td>EDDF</td>\n    </tr>\n  </tbody>\n</table>\n<p>2061656 rows × 23 columns</p>\n</div>"
     },
     "execution_count": 7,
     "metadata": {},
     "output_type": "execute_result"
    }
   ],
   "source": [
    "dft09"
   ]
  },
  {
   "cell_type": "markdown",
   "metadata": {},
   "source": [
    "# Running `get_complete_flights()` to get complete flights"
   ]
  },
  {
   "cell_type": "code",
   "execution_count": 8,
   "metadata": {
    "ExecuteTime": {
     "start_time": "2023-04-23T01:57:03.123370Z",
     "end_time": "2023-04-23T01:57:06.706722Z"
    }
   },
   "outputs": [],
   "source": [
    "complete_flights_9_may_2022 = get_complete_flights(dft09, None) #Traffic object returned\n",
    "complete_flight_ids = complete_flights_9_may_2022.flight_ids # Flight IDS of complete flights"
   ]
  },
  {
   "cell_type": "code",
   "execution_count": 9,
   "metadata": {
    "ExecuteTime": {
     "start_time": "2023-04-23T01:57:06.848871Z",
     "end_time": "2023-04-23T01:57:06.953984Z"
    }
   },
   "outputs": [],
   "source": [
    "#Filtering only the flight IDs that are complete\n",
    "complete_flight_dataset = dft09[dft09['flight_id'].isin(complete_flight_ids)]"
   ]
  },
  {
   "cell_type": "code",
   "execution_count": 10,
   "metadata": {
    "ExecuteTime": {
     "start_time": "2023-04-23T01:57:06.957983Z",
     "end_time": "2023-04-23T01:57:07.357507Z"
    }
   },
   "outputs": [
    {
     "data": {
      "text/plain": "                       timestamp  onground callsign  flight_id  altitude  \\\n156134 2022-05-09 07:43:13+00:00      True   DLH011   DLH011_1       NaN   \n156135 2022-05-09 07:43:14+00:00     False   DLH011   DLH011_1    -375.0   \n156136 2022-05-09 07:43:15+00:00     False   DLH011   DLH011_1    -375.0   \n156137 2022-05-09 07:43:16+00:00     False   DLH011   DLH011_1    -375.0   \n156138 2022-05-09 07:43:17+00:00     False   DLH011   DLH011_1    -375.0   \n...                          ...       ...      ...        ...       ...   \n1396   2022-05-09 17:23:17+00:00      True    DLH9Y  DLH9Y_388     100.0   \n1397   2022-05-09 17:23:18+00:00      True    DLH9Y  DLH9Y_388       NaN   \n1398   2022-05-09 17:23:19+00:00      True    DLH9Y  DLH9Y_388       NaN   \n1399   2022-05-09 17:23:20+00:00      True    DLH9Y  DLH9Y_388     100.0   \n1400   2022-05-09 17:23:21+00:00      True    DLH9Y  DLH9Y_388       NaN   \n\n        geoaltitude   latitude  longitude  groundspeed  vertical_rate  ...  \\\n156134          NaN  53.621349   9.969975          NaN            NaN  ...   \n156135          NaN  53.621567   9.970407         97.0           64.0  ...   \n156136        175.0  53.621887   9.971034        102.0           64.0  ...   \n156137        175.0  53.622359   9.972032        107.0            0.0  ...   \n156138        175.0  53.622665   9.972682        111.0           64.0  ...   \n...             ...        ...        ...          ...            ...  ...   \n1396            NaN  50.042061   8.558024        129.0          -64.0  ...   \n1397            NaN  50.042084   8.558115        129.0          -64.0  ...   \n1398            NaN  50.042084   8.558115        129.0          -64.0  ...   \n1399            NaN  50.042084   8.558115        129.0          -64.0  ...   \n1400            NaN  50.042201   8.558609        129.0          -64.0  ...   \n\n                             last_position                  lastseen origin  \\\n156134 2022-05-09 07:43:12.701999872+00:00 2022-05-09 08:34:26+00:00   EDDH   \n156135 2022-05-09 07:43:13.377000192+00:00 2022-05-09 08:34:26+00:00   EDDH   \n156136    2022-05-09 07:43:14.300000+00:00 2022-05-09 08:34:26+00:00   EDDH   \n156137 2022-05-09 07:43:15.673000192+00:00 2022-05-09 08:34:26+00:00   EDDH   \n156138 2022-05-09 07:43:16.703000064+00:00 2022-05-09 08:34:26+00:00   EDDH   \n...                                    ...                       ...    ...   \n1396      2022-05-09 17:23:16.892000+00:00 2022-05-09 17:23:21+00:00   EBBR   \n1397   2022-05-09 17:23:17.477999872+00:00 2022-05-09 17:23:21+00:00   EBBR   \n1398   2022-05-09 17:23:17.477999872+00:00 2022-05-09 17:23:21+00:00   EBBR   \n1399   2022-05-09 17:23:17.477999872+00:00 2022-05-09 17:23:21+00:00   EBBR   \n1400   2022-05-09 17:23:20.913000192+00:00 2022-05-09 17:23:21+00:00   EBBR   \n\n          spi squawk      track  alert                       day  \\\n156134  False    NaN        NaN  False 2022-05-09 00:00:00+00:00   \n156135  False    NaN  50.420595  False 2022-05-09 00:00:00+00:00   \n156136  False    NaN  50.552971  False 2022-05-09 00:00:00+00:00   \n156137  False    NaN  50.332159  False 2022-05-09 00:00:00+00:00   \n156138  False    NaN  50.128191  False 2022-05-09 00:00:00+00:00   \n...       ...    ...        ...    ...                       ...   \n1396    False   1000  69.599791  False 2022-05-09 00:00:00+00:00   \n1397    False   1000  69.599791  False 2022-05-09 00:00:00+00:00   \n1398    False   1000  69.599791  False 2022-05-09 00:00:00+00:00   \n1399    False   1000  69.599791  False 2022-05-09 00:00:00+00:00   \n1400    False   1000  69.599791  False 2022-05-09 00:00:00+00:00   \n\n                       firstseen  destination  \n156134 2022-05-09 07:43:13+00:00         EDDF  \n156135 2022-05-09 07:43:13+00:00         EDDF  \n156136 2022-05-09 07:43:13+00:00         EDDF  \n156137 2022-05-09 07:43:13+00:00         EDDF  \n156138 2022-05-09 07:43:13+00:00         EDDF  \n...                          ...          ...  \n1396   2022-05-09 16:45:01+00:00         EDDF  \n1397   2022-05-09 16:45:01+00:00         EDDF  \n1398   2022-05-09 16:45:01+00:00         EDDF  \n1399   2022-05-09 16:45:01+00:00         EDDF  \n1400   2022-05-09 16:45:01+00:00         EDDF  \n\n[503562 rows x 23 columns]",
      "text/html": "<div>\n<style scoped>\n    .dataframe tbody tr th:only-of-type {\n        vertical-align: middle;\n    }\n\n    .dataframe tbody tr th {\n        vertical-align: top;\n    }\n\n    .dataframe thead th {\n        text-align: right;\n    }\n</style>\n<table border=\"1\" class=\"dataframe\">\n  <thead>\n    <tr style=\"text-align: right;\">\n      <th></th>\n      <th>timestamp</th>\n      <th>onground</th>\n      <th>callsign</th>\n      <th>flight_id</th>\n      <th>altitude</th>\n      <th>geoaltitude</th>\n      <th>latitude</th>\n      <th>longitude</th>\n      <th>groundspeed</th>\n      <th>vertical_rate</th>\n      <th>...</th>\n      <th>last_position</th>\n      <th>lastseen</th>\n      <th>origin</th>\n      <th>spi</th>\n      <th>squawk</th>\n      <th>track</th>\n      <th>alert</th>\n      <th>day</th>\n      <th>firstseen</th>\n      <th>destination</th>\n    </tr>\n  </thead>\n  <tbody>\n    <tr>\n      <th>156134</th>\n      <td>2022-05-09 07:43:13+00:00</td>\n      <td>True</td>\n      <td>DLH011</td>\n      <td>DLH011_1</td>\n      <td>NaN</td>\n      <td>NaN</td>\n      <td>53.621349</td>\n      <td>9.969975</td>\n      <td>NaN</td>\n      <td>NaN</td>\n      <td>...</td>\n      <td>2022-05-09 07:43:12.701999872+00:00</td>\n      <td>2022-05-09 08:34:26+00:00</td>\n      <td>EDDH</td>\n      <td>False</td>\n      <td>NaN</td>\n      <td>NaN</td>\n      <td>False</td>\n      <td>2022-05-09 00:00:00+00:00</td>\n      <td>2022-05-09 07:43:13+00:00</td>\n      <td>EDDF</td>\n    </tr>\n    <tr>\n      <th>156135</th>\n      <td>2022-05-09 07:43:14+00:00</td>\n      <td>False</td>\n      <td>DLH011</td>\n      <td>DLH011_1</td>\n      <td>-375.0</td>\n      <td>NaN</td>\n      <td>53.621567</td>\n      <td>9.970407</td>\n      <td>97.0</td>\n      <td>64.0</td>\n      <td>...</td>\n      <td>2022-05-09 07:43:13.377000192+00:00</td>\n      <td>2022-05-09 08:34:26+00:00</td>\n      <td>EDDH</td>\n      <td>False</td>\n      <td>NaN</td>\n      <td>50.420595</td>\n      <td>False</td>\n      <td>2022-05-09 00:00:00+00:00</td>\n      <td>2022-05-09 07:43:13+00:00</td>\n      <td>EDDF</td>\n    </tr>\n    <tr>\n      <th>156136</th>\n      <td>2022-05-09 07:43:15+00:00</td>\n      <td>False</td>\n      <td>DLH011</td>\n      <td>DLH011_1</td>\n      <td>-375.0</td>\n      <td>175.0</td>\n      <td>53.621887</td>\n      <td>9.971034</td>\n      <td>102.0</td>\n      <td>64.0</td>\n      <td>...</td>\n      <td>2022-05-09 07:43:14.300000+00:00</td>\n      <td>2022-05-09 08:34:26+00:00</td>\n      <td>EDDH</td>\n      <td>False</td>\n      <td>NaN</td>\n      <td>50.552971</td>\n      <td>False</td>\n      <td>2022-05-09 00:00:00+00:00</td>\n      <td>2022-05-09 07:43:13+00:00</td>\n      <td>EDDF</td>\n    </tr>\n    <tr>\n      <th>156137</th>\n      <td>2022-05-09 07:43:16+00:00</td>\n      <td>False</td>\n      <td>DLH011</td>\n      <td>DLH011_1</td>\n      <td>-375.0</td>\n      <td>175.0</td>\n      <td>53.622359</td>\n      <td>9.972032</td>\n      <td>107.0</td>\n      <td>0.0</td>\n      <td>...</td>\n      <td>2022-05-09 07:43:15.673000192+00:00</td>\n      <td>2022-05-09 08:34:26+00:00</td>\n      <td>EDDH</td>\n      <td>False</td>\n      <td>NaN</td>\n      <td>50.332159</td>\n      <td>False</td>\n      <td>2022-05-09 00:00:00+00:00</td>\n      <td>2022-05-09 07:43:13+00:00</td>\n      <td>EDDF</td>\n    </tr>\n    <tr>\n      <th>156138</th>\n      <td>2022-05-09 07:43:17+00:00</td>\n      <td>False</td>\n      <td>DLH011</td>\n      <td>DLH011_1</td>\n      <td>-375.0</td>\n      <td>175.0</td>\n      <td>53.622665</td>\n      <td>9.972682</td>\n      <td>111.0</td>\n      <td>64.0</td>\n      <td>...</td>\n      <td>2022-05-09 07:43:16.703000064+00:00</td>\n      <td>2022-05-09 08:34:26+00:00</td>\n      <td>EDDH</td>\n      <td>False</td>\n      <td>NaN</td>\n      <td>50.128191</td>\n      <td>False</td>\n      <td>2022-05-09 00:00:00+00:00</td>\n      <td>2022-05-09 07:43:13+00:00</td>\n      <td>EDDF</td>\n    </tr>\n    <tr>\n      <th>...</th>\n      <td>...</td>\n      <td>...</td>\n      <td>...</td>\n      <td>...</td>\n      <td>...</td>\n      <td>...</td>\n      <td>...</td>\n      <td>...</td>\n      <td>...</td>\n      <td>...</td>\n      <td>...</td>\n      <td>...</td>\n      <td>...</td>\n      <td>...</td>\n      <td>...</td>\n      <td>...</td>\n      <td>...</td>\n      <td>...</td>\n      <td>...</td>\n      <td>...</td>\n      <td>...</td>\n    </tr>\n    <tr>\n      <th>1396</th>\n      <td>2022-05-09 17:23:17+00:00</td>\n      <td>True</td>\n      <td>DLH9Y</td>\n      <td>DLH9Y_388</td>\n      <td>100.0</td>\n      <td>NaN</td>\n      <td>50.042061</td>\n      <td>8.558024</td>\n      <td>129.0</td>\n      <td>-64.0</td>\n      <td>...</td>\n      <td>2022-05-09 17:23:16.892000+00:00</td>\n      <td>2022-05-09 17:23:21+00:00</td>\n      <td>EBBR</td>\n      <td>False</td>\n      <td>1000</td>\n      <td>69.599791</td>\n      <td>False</td>\n      <td>2022-05-09 00:00:00+00:00</td>\n      <td>2022-05-09 16:45:01+00:00</td>\n      <td>EDDF</td>\n    </tr>\n    <tr>\n      <th>1397</th>\n      <td>2022-05-09 17:23:18+00:00</td>\n      <td>True</td>\n      <td>DLH9Y</td>\n      <td>DLH9Y_388</td>\n      <td>NaN</td>\n      <td>NaN</td>\n      <td>50.042084</td>\n      <td>8.558115</td>\n      <td>129.0</td>\n      <td>-64.0</td>\n      <td>...</td>\n      <td>2022-05-09 17:23:17.477999872+00:00</td>\n      <td>2022-05-09 17:23:21+00:00</td>\n      <td>EBBR</td>\n      <td>False</td>\n      <td>1000</td>\n      <td>69.599791</td>\n      <td>False</td>\n      <td>2022-05-09 00:00:00+00:00</td>\n      <td>2022-05-09 16:45:01+00:00</td>\n      <td>EDDF</td>\n    </tr>\n    <tr>\n      <th>1398</th>\n      <td>2022-05-09 17:23:19+00:00</td>\n      <td>True</td>\n      <td>DLH9Y</td>\n      <td>DLH9Y_388</td>\n      <td>NaN</td>\n      <td>NaN</td>\n      <td>50.042084</td>\n      <td>8.558115</td>\n      <td>129.0</td>\n      <td>-64.0</td>\n      <td>...</td>\n      <td>2022-05-09 17:23:17.477999872+00:00</td>\n      <td>2022-05-09 17:23:21+00:00</td>\n      <td>EBBR</td>\n      <td>False</td>\n      <td>1000</td>\n      <td>69.599791</td>\n      <td>False</td>\n      <td>2022-05-09 00:00:00+00:00</td>\n      <td>2022-05-09 16:45:01+00:00</td>\n      <td>EDDF</td>\n    </tr>\n    <tr>\n      <th>1399</th>\n      <td>2022-05-09 17:23:20+00:00</td>\n      <td>True</td>\n      <td>DLH9Y</td>\n      <td>DLH9Y_388</td>\n      <td>100.0</td>\n      <td>NaN</td>\n      <td>50.042084</td>\n      <td>8.558115</td>\n      <td>129.0</td>\n      <td>-64.0</td>\n      <td>...</td>\n      <td>2022-05-09 17:23:17.477999872+00:00</td>\n      <td>2022-05-09 17:23:21+00:00</td>\n      <td>EBBR</td>\n      <td>False</td>\n      <td>1000</td>\n      <td>69.599791</td>\n      <td>False</td>\n      <td>2022-05-09 00:00:00+00:00</td>\n      <td>2022-05-09 16:45:01+00:00</td>\n      <td>EDDF</td>\n    </tr>\n    <tr>\n      <th>1400</th>\n      <td>2022-05-09 17:23:21+00:00</td>\n      <td>True</td>\n      <td>DLH9Y</td>\n      <td>DLH9Y_388</td>\n      <td>NaN</td>\n      <td>NaN</td>\n      <td>50.042201</td>\n      <td>8.558609</td>\n      <td>129.0</td>\n      <td>-64.0</td>\n      <td>...</td>\n      <td>2022-05-09 17:23:20.913000192+00:00</td>\n      <td>2022-05-09 17:23:21+00:00</td>\n      <td>EBBR</td>\n      <td>False</td>\n      <td>1000</td>\n      <td>69.599791</td>\n      <td>False</td>\n      <td>2022-05-09 00:00:00+00:00</td>\n      <td>2022-05-09 16:45:01+00:00</td>\n      <td>EDDF</td>\n    </tr>\n  </tbody>\n</table>\n<p>503562 rows × 23 columns</p>\n</div>"
     },
     "execution_count": 10,
     "metadata": {},
     "output_type": "execute_result"
    }
   ],
   "source": [
    "complete_flight_dataset"
   ]
  },
  {
   "cell_type": "code",
   "execution_count": 11,
   "metadata": {
    "ExecuteTime": {
     "start_time": "2023-04-23T01:57:07.360891Z",
     "end_time": "2023-04-23T01:57:07.622845Z"
    }
   },
   "outputs": [],
   "source": [
    "#Contains coordinates of all airports worldwide\n",
    "airports = pd.read_csv('data/airports_coordinates.csv')"
   ]
  },
  {
   "cell_type": "code",
   "execution_count": 12,
   "metadata": {
    "ExecuteTime": {
     "start_time": "2023-04-23T01:57:07.623844Z",
     "end_time": "2023-04-23T01:57:07.638950Z"
    }
   },
   "outputs": [],
   "source": [
    "#Only choosing relevant columns = Airport identifier, Latitude, Longitude\n",
    "airports = airports[['ident', 'latitude_deg', 'longitude_deg']]"
   ]
  },
  {
   "cell_type": "code",
   "execution_count": 13,
   "metadata": {
    "ExecuteTime": {
     "start_time": "2023-04-23T01:57:07.641948Z",
     "end_time": "2023-04-23T01:57:07.668244Z"
    }
   },
   "outputs": [
    {
     "data": {
      "text/plain": "         ident  latitude_deg  longitude_deg\n0          00A     40.070801     -74.933601\n1         00AA     38.704022    -101.473911\n2         00AK     59.947733    -151.692524\n3         00AL     34.864799     -86.770302\n4         00AN     59.093287    -156.456699\n...        ...           ...            ...\n74963  ZZ-0001     51.894444       1.482500\n74964  ZZ-0002    -11.584278      47.296389\n74965  ZZ-0003     32.110587     -97.356312\n74966     ZZZW     69.355287    -138.939310\n74967     ZZZZ     30.784722     130.270556\n\n[74968 rows x 3 columns]",
      "text/html": "<div>\n<style scoped>\n    .dataframe tbody tr th:only-of-type {\n        vertical-align: middle;\n    }\n\n    .dataframe tbody tr th {\n        vertical-align: top;\n    }\n\n    .dataframe thead th {\n        text-align: right;\n    }\n</style>\n<table border=\"1\" class=\"dataframe\">\n  <thead>\n    <tr style=\"text-align: right;\">\n      <th></th>\n      <th>ident</th>\n      <th>latitude_deg</th>\n      <th>longitude_deg</th>\n    </tr>\n  </thead>\n  <tbody>\n    <tr>\n      <th>0</th>\n      <td>00A</td>\n      <td>40.070801</td>\n      <td>-74.933601</td>\n    </tr>\n    <tr>\n      <th>1</th>\n      <td>00AA</td>\n      <td>38.704022</td>\n      <td>-101.473911</td>\n    </tr>\n    <tr>\n      <th>2</th>\n      <td>00AK</td>\n      <td>59.947733</td>\n      <td>-151.692524</td>\n    </tr>\n    <tr>\n      <th>3</th>\n      <td>00AL</td>\n      <td>34.864799</td>\n      <td>-86.770302</td>\n    </tr>\n    <tr>\n      <th>4</th>\n      <td>00AN</td>\n      <td>59.093287</td>\n      <td>-156.456699</td>\n    </tr>\n    <tr>\n      <th>...</th>\n      <td>...</td>\n      <td>...</td>\n      <td>...</td>\n    </tr>\n    <tr>\n      <th>74963</th>\n      <td>ZZ-0001</td>\n      <td>51.894444</td>\n      <td>1.482500</td>\n    </tr>\n    <tr>\n      <th>74964</th>\n      <td>ZZ-0002</td>\n      <td>-11.584278</td>\n      <td>47.296389</td>\n    </tr>\n    <tr>\n      <th>74965</th>\n      <td>ZZ-0003</td>\n      <td>32.110587</td>\n      <td>-97.356312</td>\n    </tr>\n    <tr>\n      <th>74966</th>\n      <td>ZZZW</td>\n      <td>69.355287</td>\n      <td>-138.939310</td>\n    </tr>\n    <tr>\n      <th>74967</th>\n      <td>ZZZZ</td>\n      <td>30.784722</td>\n      <td>130.270556</td>\n    </tr>\n  </tbody>\n</table>\n<p>74968 rows × 3 columns</p>\n</div>"
     },
     "execution_count": 13,
     "metadata": {},
     "output_type": "execute_result"
    }
   ],
   "source": [
    "airports"
   ]
  },
  {
   "cell_type": "markdown",
   "metadata": {},
   "source": [
    "# Function call `assign_origin()`"
   ]
  },
  {
   "cell_type": "code",
   "execution_count": 14,
   "metadata": {
    "ExecuteTime": {
     "start_time": "2023-04-23T01:57:07.657246Z",
     "end_time": "2023-04-23T01:57:16.696563Z"
    }
   },
   "outputs": [],
   "source": [
    "complete_flight_dataset = assign_origin(complete_flight_dataset, airports)"
   ]
  },
  {
   "cell_type": "code",
   "execution_count": 15,
   "metadata": {
    "ExecuteTime": {
     "start_time": "2023-04-23T01:57:16.698563Z",
     "end_time": "2023-04-23T01:57:17.026695Z"
    }
   },
   "outputs": [
    {
     "data": {
      "text/plain": "                       timestamp  onground callsign  flight_id  altitude  \\\n0      2022-05-09 07:43:13+00:00      True   DLH011   DLH011_1       NaN   \n1      2022-05-09 07:43:14+00:00     False   DLH011   DLH011_1    -375.0   \n2      2022-05-09 07:43:15+00:00     False   DLH011   DLH011_1    -375.0   \n3      2022-05-09 07:43:16+00:00     False   DLH011   DLH011_1    -375.0   \n4      2022-05-09 07:43:17+00:00     False   DLH011   DLH011_1    -375.0   \n...                          ...       ...      ...        ...       ...   \n503557 2022-05-09 17:23:17+00:00      True    DLH9Y  DLH9Y_388     100.0   \n503558 2022-05-09 17:23:18+00:00      True    DLH9Y  DLH9Y_388       NaN   \n503559 2022-05-09 17:23:19+00:00      True    DLH9Y  DLH9Y_388       NaN   \n503560 2022-05-09 17:23:20+00:00      True    DLH9Y  DLH9Y_388     100.0   \n503561 2022-05-09 17:23:21+00:00      True    DLH9Y  DLH9Y_388       NaN   \n\n        geoaltitude   latitude  longitude  groundspeed  vertical_rate  ...  \\\n0               NaN  53.621349   9.969975          NaN            NaN  ...   \n1               NaN  53.621567   9.970407         97.0           64.0  ...   \n2             175.0  53.621887   9.971034        102.0           64.0  ...   \n3             175.0  53.622359   9.972032        107.0            0.0  ...   \n4             175.0  53.622665   9.972682        111.0           64.0  ...   \n...             ...        ...        ...          ...            ...  ...   \n503557          NaN  50.042061   8.558024        129.0          -64.0  ...   \n503558          NaN  50.042084   8.558115        129.0          -64.0  ...   \n503559          NaN  50.042084   8.558115        129.0          -64.0  ...   \n503560          NaN  50.042084   8.558115        129.0          -64.0  ...   \n503561          NaN  50.042201   8.558609        129.0          -64.0  ...   \n\n                             last_position                  lastseen origin  \\\n0      2022-05-09 07:43:12.701999872+00:00 2022-05-09 08:34:26+00:00   EDDH   \n1      2022-05-09 07:43:13.377000192+00:00 2022-05-09 08:34:26+00:00   EDDH   \n2         2022-05-09 07:43:14.300000+00:00 2022-05-09 08:34:26+00:00   EDDH   \n3      2022-05-09 07:43:15.673000192+00:00 2022-05-09 08:34:26+00:00   EDDH   \n4      2022-05-09 07:43:16.703000064+00:00 2022-05-09 08:34:26+00:00   EDDH   \n...                                    ...                       ...    ...   \n503557    2022-05-09 17:23:16.892000+00:00 2022-05-09 17:23:21+00:00   EBBR   \n503558 2022-05-09 17:23:17.477999872+00:00 2022-05-09 17:23:21+00:00   EBBR   \n503559 2022-05-09 17:23:17.477999872+00:00 2022-05-09 17:23:21+00:00   EBBR   \n503560 2022-05-09 17:23:17.477999872+00:00 2022-05-09 17:23:21+00:00   EBBR   \n503561 2022-05-09 17:23:20.913000192+00:00 2022-05-09 17:23:21+00:00   EBBR   \n\n          spi squawk      track  alert                       day  \\\n0       False    NaN        NaN  False 2022-05-09 00:00:00+00:00   \n1       False    NaN  50.420595  False 2022-05-09 00:00:00+00:00   \n2       False    NaN  50.552971  False 2022-05-09 00:00:00+00:00   \n3       False    NaN  50.332159  False 2022-05-09 00:00:00+00:00   \n4       False    NaN  50.128191  False 2022-05-09 00:00:00+00:00   \n...       ...    ...        ...    ...                       ...   \n503557  False   1000  69.599791  False 2022-05-09 00:00:00+00:00   \n503558  False   1000  69.599791  False 2022-05-09 00:00:00+00:00   \n503559  False   1000  69.599791  False 2022-05-09 00:00:00+00:00   \n503560  False   1000  69.599791  False 2022-05-09 00:00:00+00:00   \n503561  False   1000  69.599791  False 2022-05-09 00:00:00+00:00   \n\n                       firstseen  destination  \n0      2022-05-09 07:43:13+00:00         EDDF  \n1      2022-05-09 07:43:13+00:00         EDDF  \n2      2022-05-09 07:43:13+00:00         EDDF  \n3      2022-05-09 07:43:13+00:00         EDDF  \n4      2022-05-09 07:43:13+00:00         EDDF  \n...                          ...          ...  \n503557 2022-05-09 16:45:01+00:00         EDDF  \n503558 2022-05-09 16:45:01+00:00         EDDF  \n503559 2022-05-09 16:45:01+00:00         EDDF  \n503560 2022-05-09 16:45:01+00:00         EDDF  \n503561 2022-05-09 16:45:01+00:00         EDDF  \n\n[503562 rows x 23 columns]",
      "text/html": "<div>\n<style scoped>\n    .dataframe tbody tr th:only-of-type {\n        vertical-align: middle;\n    }\n\n    .dataframe tbody tr th {\n        vertical-align: top;\n    }\n\n    .dataframe thead th {\n        text-align: right;\n    }\n</style>\n<table border=\"1\" class=\"dataframe\">\n  <thead>\n    <tr style=\"text-align: right;\">\n      <th></th>\n      <th>timestamp</th>\n      <th>onground</th>\n      <th>callsign</th>\n      <th>flight_id</th>\n      <th>altitude</th>\n      <th>geoaltitude</th>\n      <th>latitude</th>\n      <th>longitude</th>\n      <th>groundspeed</th>\n      <th>vertical_rate</th>\n      <th>...</th>\n      <th>last_position</th>\n      <th>lastseen</th>\n      <th>origin</th>\n      <th>spi</th>\n      <th>squawk</th>\n      <th>track</th>\n      <th>alert</th>\n      <th>day</th>\n      <th>firstseen</th>\n      <th>destination</th>\n    </tr>\n  </thead>\n  <tbody>\n    <tr>\n      <th>0</th>\n      <td>2022-05-09 07:43:13+00:00</td>\n      <td>True</td>\n      <td>DLH011</td>\n      <td>DLH011_1</td>\n      <td>NaN</td>\n      <td>NaN</td>\n      <td>53.621349</td>\n      <td>9.969975</td>\n      <td>NaN</td>\n      <td>NaN</td>\n      <td>...</td>\n      <td>2022-05-09 07:43:12.701999872+00:00</td>\n      <td>2022-05-09 08:34:26+00:00</td>\n      <td>EDDH</td>\n      <td>False</td>\n      <td>NaN</td>\n      <td>NaN</td>\n      <td>False</td>\n      <td>2022-05-09 00:00:00+00:00</td>\n      <td>2022-05-09 07:43:13+00:00</td>\n      <td>EDDF</td>\n    </tr>\n    <tr>\n      <th>1</th>\n      <td>2022-05-09 07:43:14+00:00</td>\n      <td>False</td>\n      <td>DLH011</td>\n      <td>DLH011_1</td>\n      <td>-375.0</td>\n      <td>NaN</td>\n      <td>53.621567</td>\n      <td>9.970407</td>\n      <td>97.0</td>\n      <td>64.0</td>\n      <td>...</td>\n      <td>2022-05-09 07:43:13.377000192+00:00</td>\n      <td>2022-05-09 08:34:26+00:00</td>\n      <td>EDDH</td>\n      <td>False</td>\n      <td>NaN</td>\n      <td>50.420595</td>\n      <td>False</td>\n      <td>2022-05-09 00:00:00+00:00</td>\n      <td>2022-05-09 07:43:13+00:00</td>\n      <td>EDDF</td>\n    </tr>\n    <tr>\n      <th>2</th>\n      <td>2022-05-09 07:43:15+00:00</td>\n      <td>False</td>\n      <td>DLH011</td>\n      <td>DLH011_1</td>\n      <td>-375.0</td>\n      <td>175.0</td>\n      <td>53.621887</td>\n      <td>9.971034</td>\n      <td>102.0</td>\n      <td>64.0</td>\n      <td>...</td>\n      <td>2022-05-09 07:43:14.300000+00:00</td>\n      <td>2022-05-09 08:34:26+00:00</td>\n      <td>EDDH</td>\n      <td>False</td>\n      <td>NaN</td>\n      <td>50.552971</td>\n      <td>False</td>\n      <td>2022-05-09 00:00:00+00:00</td>\n      <td>2022-05-09 07:43:13+00:00</td>\n      <td>EDDF</td>\n    </tr>\n    <tr>\n      <th>3</th>\n      <td>2022-05-09 07:43:16+00:00</td>\n      <td>False</td>\n      <td>DLH011</td>\n      <td>DLH011_1</td>\n      <td>-375.0</td>\n      <td>175.0</td>\n      <td>53.622359</td>\n      <td>9.972032</td>\n      <td>107.0</td>\n      <td>0.0</td>\n      <td>...</td>\n      <td>2022-05-09 07:43:15.673000192+00:00</td>\n      <td>2022-05-09 08:34:26+00:00</td>\n      <td>EDDH</td>\n      <td>False</td>\n      <td>NaN</td>\n      <td>50.332159</td>\n      <td>False</td>\n      <td>2022-05-09 00:00:00+00:00</td>\n      <td>2022-05-09 07:43:13+00:00</td>\n      <td>EDDF</td>\n    </tr>\n    <tr>\n      <th>4</th>\n      <td>2022-05-09 07:43:17+00:00</td>\n      <td>False</td>\n      <td>DLH011</td>\n      <td>DLH011_1</td>\n      <td>-375.0</td>\n      <td>175.0</td>\n      <td>53.622665</td>\n      <td>9.972682</td>\n      <td>111.0</td>\n      <td>64.0</td>\n      <td>...</td>\n      <td>2022-05-09 07:43:16.703000064+00:00</td>\n      <td>2022-05-09 08:34:26+00:00</td>\n      <td>EDDH</td>\n      <td>False</td>\n      <td>NaN</td>\n      <td>50.128191</td>\n      <td>False</td>\n      <td>2022-05-09 00:00:00+00:00</td>\n      <td>2022-05-09 07:43:13+00:00</td>\n      <td>EDDF</td>\n    </tr>\n    <tr>\n      <th>...</th>\n      <td>...</td>\n      <td>...</td>\n      <td>...</td>\n      <td>...</td>\n      <td>...</td>\n      <td>...</td>\n      <td>...</td>\n      <td>...</td>\n      <td>...</td>\n      <td>...</td>\n      <td>...</td>\n      <td>...</td>\n      <td>...</td>\n      <td>...</td>\n      <td>...</td>\n      <td>...</td>\n      <td>...</td>\n      <td>...</td>\n      <td>...</td>\n      <td>...</td>\n      <td>...</td>\n    </tr>\n    <tr>\n      <th>503557</th>\n      <td>2022-05-09 17:23:17+00:00</td>\n      <td>True</td>\n      <td>DLH9Y</td>\n      <td>DLH9Y_388</td>\n      <td>100.0</td>\n      <td>NaN</td>\n      <td>50.042061</td>\n      <td>8.558024</td>\n      <td>129.0</td>\n      <td>-64.0</td>\n      <td>...</td>\n      <td>2022-05-09 17:23:16.892000+00:00</td>\n      <td>2022-05-09 17:23:21+00:00</td>\n      <td>EBBR</td>\n      <td>False</td>\n      <td>1000</td>\n      <td>69.599791</td>\n      <td>False</td>\n      <td>2022-05-09 00:00:00+00:00</td>\n      <td>2022-05-09 16:45:01+00:00</td>\n      <td>EDDF</td>\n    </tr>\n    <tr>\n      <th>503558</th>\n      <td>2022-05-09 17:23:18+00:00</td>\n      <td>True</td>\n      <td>DLH9Y</td>\n      <td>DLH9Y_388</td>\n      <td>NaN</td>\n      <td>NaN</td>\n      <td>50.042084</td>\n      <td>8.558115</td>\n      <td>129.0</td>\n      <td>-64.0</td>\n      <td>...</td>\n      <td>2022-05-09 17:23:17.477999872+00:00</td>\n      <td>2022-05-09 17:23:21+00:00</td>\n      <td>EBBR</td>\n      <td>False</td>\n      <td>1000</td>\n      <td>69.599791</td>\n      <td>False</td>\n      <td>2022-05-09 00:00:00+00:00</td>\n      <td>2022-05-09 16:45:01+00:00</td>\n      <td>EDDF</td>\n    </tr>\n    <tr>\n      <th>503559</th>\n      <td>2022-05-09 17:23:19+00:00</td>\n      <td>True</td>\n      <td>DLH9Y</td>\n      <td>DLH9Y_388</td>\n      <td>NaN</td>\n      <td>NaN</td>\n      <td>50.042084</td>\n      <td>8.558115</td>\n      <td>129.0</td>\n      <td>-64.0</td>\n      <td>...</td>\n      <td>2022-05-09 17:23:17.477999872+00:00</td>\n      <td>2022-05-09 17:23:21+00:00</td>\n      <td>EBBR</td>\n      <td>False</td>\n      <td>1000</td>\n      <td>69.599791</td>\n      <td>False</td>\n      <td>2022-05-09 00:00:00+00:00</td>\n      <td>2022-05-09 16:45:01+00:00</td>\n      <td>EDDF</td>\n    </tr>\n    <tr>\n      <th>503560</th>\n      <td>2022-05-09 17:23:20+00:00</td>\n      <td>True</td>\n      <td>DLH9Y</td>\n      <td>DLH9Y_388</td>\n      <td>100.0</td>\n      <td>NaN</td>\n      <td>50.042084</td>\n      <td>8.558115</td>\n      <td>129.0</td>\n      <td>-64.0</td>\n      <td>...</td>\n      <td>2022-05-09 17:23:17.477999872+00:00</td>\n      <td>2022-05-09 17:23:21+00:00</td>\n      <td>EBBR</td>\n      <td>False</td>\n      <td>1000</td>\n      <td>69.599791</td>\n      <td>False</td>\n      <td>2022-05-09 00:00:00+00:00</td>\n      <td>2022-05-09 16:45:01+00:00</td>\n      <td>EDDF</td>\n    </tr>\n    <tr>\n      <th>503561</th>\n      <td>2022-05-09 17:23:21+00:00</td>\n      <td>True</td>\n      <td>DLH9Y</td>\n      <td>DLH9Y_388</td>\n      <td>NaN</td>\n      <td>NaN</td>\n      <td>50.042201</td>\n      <td>8.558609</td>\n      <td>129.0</td>\n      <td>-64.0</td>\n      <td>...</td>\n      <td>2022-05-09 17:23:20.913000192+00:00</td>\n      <td>2022-05-09 17:23:21+00:00</td>\n      <td>EBBR</td>\n      <td>False</td>\n      <td>1000</td>\n      <td>69.599791</td>\n      <td>False</td>\n      <td>2022-05-09 00:00:00+00:00</td>\n      <td>2022-05-09 16:45:01+00:00</td>\n      <td>EDDF</td>\n    </tr>\n  </tbody>\n</table>\n<p>503562 rows × 23 columns</p>\n</div>"
     },
     "execution_count": 15,
     "metadata": {},
     "output_type": "execute_result"
    }
   ],
   "source": [
    "complete_flight_dataset"
   ]
  },
  {
   "cell_type": "code",
   "execution_count": 15,
   "outputs": [],
   "source": [],
   "metadata": {
    "collapsed": false,
    "ExecuteTime": {
     "start_time": "2023-04-23T01:57:17.028697Z",
     "end_time": "2023-04-23T01:57:17.045486Z"
    }
   }
  }
 ],
 "metadata": {
  "kernelspec": {
   "display_name": "Python 3 (ipykernel)",
   "language": "python",
   "name": "python3"
  },
  "language_info": {
   "codemirror_mode": {
    "name": "ipython",
    "version": 3
   },
   "file_extension": ".py",
   "mimetype": "text/x-python",
   "name": "python",
   "nbconvert_exporter": "python",
   "pygments_lexer": "ipython3",
   "version": "3.10.9"
  }
 },
 "nbformat": 4,
 "nbformat_minor": 1
}
