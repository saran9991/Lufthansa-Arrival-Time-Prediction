{
 "cells": [
  {
   "cell_type": "code",
   "execution_count": 1,
   "id": "c08c3d42-b372-4f75-9c52-246a180ae147",
   "metadata": {
    "tags": []
   },
   "outputs": [],
   "source": [
    "import numpy as np\n",
    "import traffic\n",
    "from traffic.data import opensky\n",
    "from traffic.core import Traffic\n",
    "from rich.pretty import pprint\n",
    "import pandas as pd\n",
    "import copy\n",
    "from preprocessing import get_edge_flights, get_complete_flights, preprocess_traffic\n",
    "import h5py\n",
    "from datetime import datetime"
   ]
  },
  {
   "cell_type": "code",
   "execution_count": 4,
   "id": "ec785efc-a5fa-41cd-aa93-b895f9a4a935",
   "metadata": {
    "tags": []
   },
   "outputs": [],
   "source": [
    "# let's first load data from the h5-file\n",
    "file = \"Frankfurt_LH_2206.h5\"\n",
    "t_10 = Traffic.from_file(file, key = \"LH_220610\", parse_dates=[\"day\",\"firstseen\", \"hour\", \"last_position\",\"lastseen\",\"timestamp\"])"
   ]
  },
  {
   "cell_type": "code",
   "execution_count": 5,
   "outputs": [],
   "source": [
    "df = preprocess_traffic(t_10)"
   ],
   "metadata": {
    "collapsed": false
   }
  },
  {
   "cell_type": "code",
   "execution_count": 6,
   "outputs": [
    {
     "data": {
      "text/plain": "       alert  altitude callsign                       day destination  \\\n78430  False   36000.0   DLH573 2022-06-10 00:00:00+00:00        EDDF   \n78431  False   36000.0   DLH573 2022-06-10 00:00:00+00:00        EDDF   \n78432  False   36000.0   DLH573 2022-06-10 00:00:00+00:00        EDDF   \n78433  False   36000.0   DLH573 2022-06-10 00:00:00+00:00        EDDF   \n78434  False   36000.0   DLH573 2022-06-10 00:00:00+00:00        EDDF   \n78435  False   36000.0   DLH573 2022-06-10 00:00:00+00:00        EDDF   \n78436  False   36000.0   DLH573 2022-06-10 00:00:00+00:00        EDDF   \n78437  False   36000.0   DLH573 2022-06-10 00:00:00+00:00        EDDF   \n78438  False   36000.0   DLH573 2022-06-10 00:00:00+00:00        EDDF   \n78439  False   36000.0   DLH573 2022-06-10 00:00:00+00:00        EDDF   \n\n                      firstseen  geoaltitude  groundspeed  \\\n78430 2022-06-09 17:29:18+00:00      37925.0        448.0   \n78431 2022-06-09 17:29:18+00:00      37925.0        448.0   \n78432 2022-06-09 17:29:18+00:00      37925.0        448.0   \n78433 2022-06-09 17:29:18+00:00      37925.0        448.0   \n78434 2022-06-09 17:29:18+00:00      37925.0        448.0   \n78435 2022-06-09 17:29:18+00:00      37925.0        448.0   \n78436 2022-06-09 17:29:18+00:00      37925.0        448.0   \n78437 2022-06-09 17:29:18+00:00      37925.0        448.0   \n78438 2022-06-09 17:29:18+00:00      37925.0        448.0   \n78439 2022-06-09 17:29:18+00:00      37925.0        448.0   \n\n                           hour  icao24  ... longitude origin    spi  squawk  \\\n78430 2022-06-10 01:00:00+00:00  3c4b21  ...  6.762503   FAOR  False     NaN   \n78431 2022-06-10 01:00:00+00:00  3c4b21  ...  6.762786   FAOR  False     NaN   \n78432 2022-06-10 01:00:00+00:00  3c4b21  ...  6.763100   FAOR  False     NaN   \n78433 2022-06-10 01:00:00+00:00  3c4b21  ...  6.763399   FAOR  False     NaN   \n78434 2022-06-10 01:00:00+00:00  3c4b21  ...  6.763757   FAOR  False     NaN   \n78435 2022-06-10 01:00:00+00:00  3c4b21  ...  6.763757   FAOR  False     NaN   \n78436 2022-06-10 01:00:00+00:00  3c4b21  ...  6.763757   FAOR  False     NaN   \n78437 2022-06-10 01:00:00+00:00  3c4b21  ...  6.763757   FAOR  False     NaN   \n78438 2022-06-10 01:00:00+00:00  3c4b21  ...  6.763757   FAOR  False     NaN   \n78439 2022-06-10 01:00:00+00:00  3c4b21  ...  6.763757   FAOR  False     NaN   \n\n                      timestamp     track vertical_rate   flight_id  \\\n78430 2022-06-10 01:40:47+00:00  7.188537         -64.0  DLH573_205   \n78431 2022-06-10 01:40:48+00:00  7.188537         -64.0  DLH573_205   \n78432 2022-06-10 01:40:49+00:00  7.188537         -64.0  DLH573_205   \n78433 2022-06-10 01:40:50+00:00  7.188537         -64.0  DLH573_205   \n78434 2022-06-10 01:40:51+00:00  7.188537         -64.0  DLH573_205   \n78435 2022-06-10 01:40:52+00:00  7.188537         -64.0  DLH573_205   \n78436 2022-06-10 01:40:53+00:00  7.188537           0.0  DLH573_205   \n78437 2022-06-10 01:40:54+00:00  7.188537           0.0  DLH573_205   \n78438 2022-06-10 01:40:55+00:00  7.188537           0.0  DLH573_205   \n78439 2022-06-10 01:40:56+00:00  7.188537           0.0  DLH573_205   \n\n          distance              arrival_time  \n78430  1422.935554 2022-06-10 03:38:30+00:00  \n78431  1422.725147 2022-06-10 03:38:30+00:00  \n78432  1422.518615 2022-06-10 03:38:30+00:00  \n78433  1422.289540 2022-06-10 03:38:30+00:00  \n78434  1422.039377 2022-06-10 03:38:30+00:00  \n78435  1422.039377 2022-06-10 03:38:30+00:00  \n78436  1422.039377 2022-06-10 03:38:30+00:00  \n78437  1422.039377 2022-06-10 03:38:30+00:00  \n78438  1422.039377 2022-06-10 03:38:30+00:00  \n78439  1422.039377 2022-06-10 03:38:30+00:00  \n\n[10 rows x 23 columns]",
      "text/html": "<div>\n<style scoped>\n    .dataframe tbody tr th:only-of-type {\n        vertical-align: middle;\n    }\n\n    .dataframe tbody tr th {\n        vertical-align: top;\n    }\n\n    .dataframe thead th {\n        text-align: right;\n    }\n</style>\n<table border=\"1\" class=\"dataframe\">\n  <thead>\n    <tr style=\"text-align: right;\">\n      <th></th>\n      <th>alert</th>\n      <th>altitude</th>\n      <th>callsign</th>\n      <th>day</th>\n      <th>destination</th>\n      <th>firstseen</th>\n      <th>geoaltitude</th>\n      <th>groundspeed</th>\n      <th>hour</th>\n      <th>icao24</th>\n      <th>...</th>\n      <th>longitude</th>\n      <th>origin</th>\n      <th>spi</th>\n      <th>squawk</th>\n      <th>timestamp</th>\n      <th>track</th>\n      <th>vertical_rate</th>\n      <th>flight_id</th>\n      <th>distance</th>\n      <th>arrival_time</th>\n    </tr>\n  </thead>\n  <tbody>\n    <tr>\n      <th>78430</th>\n      <td>False</td>\n      <td>36000.0</td>\n      <td>DLH573</td>\n      <td>2022-06-10 00:00:00+00:00</td>\n      <td>EDDF</td>\n      <td>2022-06-09 17:29:18+00:00</td>\n      <td>37925.0</td>\n      <td>448.0</td>\n      <td>2022-06-10 01:00:00+00:00</td>\n      <td>3c4b21</td>\n      <td>...</td>\n      <td>6.762503</td>\n      <td>FAOR</td>\n      <td>False</td>\n      <td>NaN</td>\n      <td>2022-06-10 01:40:47+00:00</td>\n      <td>7.188537</td>\n      <td>-64.0</td>\n      <td>DLH573_205</td>\n      <td>1422.935554</td>\n      <td>2022-06-10 03:38:30+00:00</td>\n    </tr>\n    <tr>\n      <th>78431</th>\n      <td>False</td>\n      <td>36000.0</td>\n      <td>DLH573</td>\n      <td>2022-06-10 00:00:00+00:00</td>\n      <td>EDDF</td>\n      <td>2022-06-09 17:29:18+00:00</td>\n      <td>37925.0</td>\n      <td>448.0</td>\n      <td>2022-06-10 01:00:00+00:00</td>\n      <td>3c4b21</td>\n      <td>...</td>\n      <td>6.762786</td>\n      <td>FAOR</td>\n      <td>False</td>\n      <td>NaN</td>\n      <td>2022-06-10 01:40:48+00:00</td>\n      <td>7.188537</td>\n      <td>-64.0</td>\n      <td>DLH573_205</td>\n      <td>1422.725147</td>\n      <td>2022-06-10 03:38:30+00:00</td>\n    </tr>\n    <tr>\n      <th>78432</th>\n      <td>False</td>\n      <td>36000.0</td>\n      <td>DLH573</td>\n      <td>2022-06-10 00:00:00+00:00</td>\n      <td>EDDF</td>\n      <td>2022-06-09 17:29:18+00:00</td>\n      <td>37925.0</td>\n      <td>448.0</td>\n      <td>2022-06-10 01:00:00+00:00</td>\n      <td>3c4b21</td>\n      <td>...</td>\n      <td>6.763100</td>\n      <td>FAOR</td>\n      <td>False</td>\n      <td>NaN</td>\n      <td>2022-06-10 01:40:49+00:00</td>\n      <td>7.188537</td>\n      <td>-64.0</td>\n      <td>DLH573_205</td>\n      <td>1422.518615</td>\n      <td>2022-06-10 03:38:30+00:00</td>\n    </tr>\n    <tr>\n      <th>78433</th>\n      <td>False</td>\n      <td>36000.0</td>\n      <td>DLH573</td>\n      <td>2022-06-10 00:00:00+00:00</td>\n      <td>EDDF</td>\n      <td>2022-06-09 17:29:18+00:00</td>\n      <td>37925.0</td>\n      <td>448.0</td>\n      <td>2022-06-10 01:00:00+00:00</td>\n      <td>3c4b21</td>\n      <td>...</td>\n      <td>6.763399</td>\n      <td>FAOR</td>\n      <td>False</td>\n      <td>NaN</td>\n      <td>2022-06-10 01:40:50+00:00</td>\n      <td>7.188537</td>\n      <td>-64.0</td>\n      <td>DLH573_205</td>\n      <td>1422.289540</td>\n      <td>2022-06-10 03:38:30+00:00</td>\n    </tr>\n    <tr>\n      <th>78434</th>\n      <td>False</td>\n      <td>36000.0</td>\n      <td>DLH573</td>\n      <td>2022-06-10 00:00:00+00:00</td>\n      <td>EDDF</td>\n      <td>2022-06-09 17:29:18+00:00</td>\n      <td>37925.0</td>\n      <td>448.0</td>\n      <td>2022-06-10 01:00:00+00:00</td>\n      <td>3c4b21</td>\n      <td>...</td>\n      <td>6.763757</td>\n      <td>FAOR</td>\n      <td>False</td>\n      <td>NaN</td>\n      <td>2022-06-10 01:40:51+00:00</td>\n      <td>7.188537</td>\n      <td>-64.0</td>\n      <td>DLH573_205</td>\n      <td>1422.039377</td>\n      <td>2022-06-10 03:38:30+00:00</td>\n    </tr>\n    <tr>\n      <th>78435</th>\n      <td>False</td>\n      <td>36000.0</td>\n      <td>DLH573</td>\n      <td>2022-06-10 00:00:00+00:00</td>\n      <td>EDDF</td>\n      <td>2022-06-09 17:29:18+00:00</td>\n      <td>37925.0</td>\n      <td>448.0</td>\n      <td>2022-06-10 01:00:00+00:00</td>\n      <td>3c4b21</td>\n      <td>...</td>\n      <td>6.763757</td>\n      <td>FAOR</td>\n      <td>False</td>\n      <td>NaN</td>\n      <td>2022-06-10 01:40:52+00:00</td>\n      <td>7.188537</td>\n      <td>-64.0</td>\n      <td>DLH573_205</td>\n      <td>1422.039377</td>\n      <td>2022-06-10 03:38:30+00:00</td>\n    </tr>\n    <tr>\n      <th>78436</th>\n      <td>False</td>\n      <td>36000.0</td>\n      <td>DLH573</td>\n      <td>2022-06-10 00:00:00+00:00</td>\n      <td>EDDF</td>\n      <td>2022-06-09 17:29:18+00:00</td>\n      <td>37925.0</td>\n      <td>448.0</td>\n      <td>2022-06-10 01:00:00+00:00</td>\n      <td>3c4b21</td>\n      <td>...</td>\n      <td>6.763757</td>\n      <td>FAOR</td>\n      <td>False</td>\n      <td>NaN</td>\n      <td>2022-06-10 01:40:53+00:00</td>\n      <td>7.188537</td>\n      <td>0.0</td>\n      <td>DLH573_205</td>\n      <td>1422.039377</td>\n      <td>2022-06-10 03:38:30+00:00</td>\n    </tr>\n    <tr>\n      <th>78437</th>\n      <td>False</td>\n      <td>36000.0</td>\n      <td>DLH573</td>\n      <td>2022-06-10 00:00:00+00:00</td>\n      <td>EDDF</td>\n      <td>2022-06-09 17:29:18+00:00</td>\n      <td>37925.0</td>\n      <td>448.0</td>\n      <td>2022-06-10 01:00:00+00:00</td>\n      <td>3c4b21</td>\n      <td>...</td>\n      <td>6.763757</td>\n      <td>FAOR</td>\n      <td>False</td>\n      <td>NaN</td>\n      <td>2022-06-10 01:40:54+00:00</td>\n      <td>7.188537</td>\n      <td>0.0</td>\n      <td>DLH573_205</td>\n      <td>1422.039377</td>\n      <td>2022-06-10 03:38:30+00:00</td>\n    </tr>\n    <tr>\n      <th>78438</th>\n      <td>False</td>\n      <td>36000.0</td>\n      <td>DLH573</td>\n      <td>2022-06-10 00:00:00+00:00</td>\n      <td>EDDF</td>\n      <td>2022-06-09 17:29:18+00:00</td>\n      <td>37925.0</td>\n      <td>448.0</td>\n      <td>2022-06-10 01:00:00+00:00</td>\n      <td>3c4b21</td>\n      <td>...</td>\n      <td>6.763757</td>\n      <td>FAOR</td>\n      <td>False</td>\n      <td>NaN</td>\n      <td>2022-06-10 01:40:55+00:00</td>\n      <td>7.188537</td>\n      <td>0.0</td>\n      <td>DLH573_205</td>\n      <td>1422.039377</td>\n      <td>2022-06-10 03:38:30+00:00</td>\n    </tr>\n    <tr>\n      <th>78439</th>\n      <td>False</td>\n      <td>36000.0</td>\n      <td>DLH573</td>\n      <td>2022-06-10 00:00:00+00:00</td>\n      <td>EDDF</td>\n      <td>2022-06-09 17:29:18+00:00</td>\n      <td>37925.0</td>\n      <td>448.0</td>\n      <td>2022-06-10 01:00:00+00:00</td>\n      <td>3c4b21</td>\n      <td>...</td>\n      <td>6.763757</td>\n      <td>FAOR</td>\n      <td>False</td>\n      <td>NaN</td>\n      <td>2022-06-10 01:40:56+00:00</td>\n      <td>7.188537</td>\n      <td>0.0</td>\n      <td>DLH573_205</td>\n      <td>1422.039377</td>\n      <td>2022-06-10 03:38:30+00:00</td>\n    </tr>\n  </tbody>\n</table>\n<p>10 rows × 23 columns</p>\n</div>"
     },
     "execution_count": 6,
     "metadata": {},
     "output_type": "execute_result"
    }
   ],
   "source": [
    "df.head(10)"
   ],
   "metadata": {
    "collapsed": false
   }
  },
  {
   "cell_type": "code",
   "execution_count": 7,
   "outputs": [],
   "source": [
    "flights = Traffic(df)"
   ],
   "metadata": {
    "collapsed": false
   }
  },
  {
   "cell_type": "code",
   "execution_count": 8,
   "outputs": [
    {
     "data": {
      "text/plain": "    flight_id  count\n0  DLH451_160  17200\n1  DLH433_151  14827\n2  DLH693_251  14353\n3  DLH625_237  14164\n4  DLH1307_24  14023\n5  DLH691_250  13845\n6  DLH687_248  13676\n7  DLH1309_25  13618\n8  DLH1295_20  13329\n9  DLH1293_19  12336",
      "text/html": "<h4><b>Traffic</b></h4> with 161 identifiers<style type=\"text/css\">\n#T_8bf8e_row0_col0 {\n  width: 10em;\n  background: linear-gradient(90deg, #5fba7d 100.0%, transparent 100.0%);\n}\n#T_8bf8e_row1_col0 {\n  width: 10em;\n  background: linear-gradient(90deg, #5fba7d 86.2%, transparent 86.2%);\n}\n#T_8bf8e_row2_col0 {\n  width: 10em;\n  background: linear-gradient(90deg, #5fba7d 83.4%, transparent 83.4%);\n}\n#T_8bf8e_row3_col0 {\n  width: 10em;\n  background: linear-gradient(90deg, #5fba7d 82.3%, transparent 82.3%);\n}\n#T_8bf8e_row4_col0 {\n  width: 10em;\n  background: linear-gradient(90deg, #5fba7d 81.5%, transparent 81.5%);\n}\n#T_8bf8e_row5_col0 {\n  width: 10em;\n  background: linear-gradient(90deg, #5fba7d 80.5%, transparent 80.5%);\n}\n#T_8bf8e_row6_col0 {\n  width: 10em;\n  background: linear-gradient(90deg, #5fba7d 79.5%, transparent 79.5%);\n}\n#T_8bf8e_row7_col0 {\n  width: 10em;\n  background: linear-gradient(90deg, #5fba7d 79.2%, transparent 79.2%);\n}\n#T_8bf8e_row8_col0 {\n  width: 10em;\n  background: linear-gradient(90deg, #5fba7d 77.5%, transparent 77.5%);\n}\n#T_8bf8e_row9_col0 {\n  width: 10em;\n  background: linear-gradient(90deg, #5fba7d 71.7%, transparent 71.7%);\n}\n</style>\n<table id=\"T_8bf8e\">\n  <thead>\n    <tr>\n      <th class=\"blank level0\" >&nbsp;</th>\n      <th id=\"T_8bf8e_level0_col0\" class=\"col_heading level0 col0\" >count</th>\n    </tr>\n    <tr>\n      <th class=\"index_name level0\" >flight_id</th>\n      <th class=\"blank col0\" >&nbsp;</th>\n    </tr>\n  </thead>\n  <tbody>\n    <tr>\n      <th id=\"T_8bf8e_level0_row0\" class=\"row_heading level0 row0\" >DLH451_160</th>\n      <td id=\"T_8bf8e_row0_col0\" class=\"data row0 col0\" >17200</td>\n    </tr>\n    <tr>\n      <th id=\"T_8bf8e_level0_row1\" class=\"row_heading level0 row1\" >DLH433_151</th>\n      <td id=\"T_8bf8e_row1_col0\" class=\"data row1 col0\" >14827</td>\n    </tr>\n    <tr>\n      <th id=\"T_8bf8e_level0_row2\" class=\"row_heading level0 row2\" >DLH693_251</th>\n      <td id=\"T_8bf8e_row2_col0\" class=\"data row2 col0\" >14353</td>\n    </tr>\n    <tr>\n      <th id=\"T_8bf8e_level0_row3\" class=\"row_heading level0 row3\" >DLH625_237</th>\n      <td id=\"T_8bf8e_row3_col0\" class=\"data row3 col0\" >14164</td>\n    </tr>\n    <tr>\n      <th id=\"T_8bf8e_level0_row4\" class=\"row_heading level0 row4\" >DLH1307_24</th>\n      <td id=\"T_8bf8e_row4_col0\" class=\"data row4 col0\" >14023</td>\n    </tr>\n    <tr>\n      <th id=\"T_8bf8e_level0_row5\" class=\"row_heading level0 row5\" >DLH691_250</th>\n      <td id=\"T_8bf8e_row5_col0\" class=\"data row5 col0\" >13845</td>\n    </tr>\n    <tr>\n      <th id=\"T_8bf8e_level0_row6\" class=\"row_heading level0 row6\" >DLH687_248</th>\n      <td id=\"T_8bf8e_row6_col0\" class=\"data row6 col0\" >13676</td>\n    </tr>\n    <tr>\n      <th id=\"T_8bf8e_level0_row7\" class=\"row_heading level0 row7\" >DLH1309_25</th>\n      <td id=\"T_8bf8e_row7_col0\" class=\"data row7 col0\" >13618</td>\n    </tr>\n    <tr>\n      <th id=\"T_8bf8e_level0_row8\" class=\"row_heading level0 row8\" >DLH1295_20</th>\n      <td id=\"T_8bf8e_row8_col0\" class=\"data row8 col0\" >13329</td>\n    </tr>\n    <tr>\n      <th id=\"T_8bf8e_level0_row9\" class=\"row_heading level0 row9\" >DLH1293_19</th>\n      <td id=\"T_8bf8e_row9_col0\" class=\"data row9 col0\" >12336</td>\n    </tr>\n  </tbody>\n</table>\n"
     },
     "execution_count": 8,
     "metadata": {},
     "output_type": "execute_result"
    }
   ],
   "source": [
    "flights"
   ],
   "metadata": {
    "collapsed": false
   }
  },
  {
   "cell_type": "code",
   "execution_count": null,
   "outputs": [],
   "source": [],
   "metadata": {
    "collapsed": false
   }
  }
 ],
 "metadata": {
  "kernelspec": {
   "display_name": "Python 3 (ipykernel)",
   "language": "python",
   "name": "python3"
  },
  "language_info": {
   "codemirror_mode": {
    "name": "ipython",
    "version": 3
   },
   "file_extension": ".py",
   "mimetype": "text/x-python",
   "name": "python",
   "nbconvert_exporter": "python",
   "pygments_lexer": "ipython3",
   "version": "3.10.9"
  }
 },
 "nbformat": 4,
 "nbformat_minor": 5
}
