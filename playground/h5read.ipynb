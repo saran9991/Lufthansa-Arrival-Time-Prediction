{
 "cells": [
  {
   "cell_type": "code",
   "execution_count": 31,
   "metadata": {
    "collapsed": true,
    "ExecuteTime": {
     "end_time": "2023-06-25T02:45:47.274757100Z",
     "start_time": "2023-06-25T02:45:47.263757800Z"
    }
   },
   "outputs": [],
   "source": [
    "import pandas as pd\n",
    "import h5py\n",
    "from traffic.core import Traffic"
   ]
  },
  {
   "cell_type": "code",
   "execution_count": 32,
   "outputs": [],
   "source": [
    "f = h5py.File('data/Frankfurt_LH_2210.h5', 'r')"
   ],
   "metadata": {
    "collapsed": false,
    "ExecuteTime": {
     "end_time": "2023-06-25T02:45:47.368168Z",
     "start_time": "2023-06-25T02:45:47.293277100Z"
    }
   }
  },
  {
   "cell_type": "code",
   "execution_count": 33,
   "outputs": [],
   "source": [
    "keys = [key for key in f.keys()]"
   ],
   "metadata": {
    "collapsed": false,
    "ExecuteTime": {
     "end_time": "2023-06-25T02:45:47.400456100Z",
     "start_time": "2023-06-25T02:45:47.378607500Z"
    }
   }
  },
  {
   "cell_type": "code",
   "execution_count": 34,
   "outputs": [
    {
     "name": "stdout",
     "output_type": "stream",
     "text": [
      "Working on: LH_221001\n",
      "Working on: LH_221002\n",
      "Working on: LH_221003\n",
      "Working on: LH_221004\n",
      "Working on: LH_221005\n",
      "Working on: LH_221006\n",
      "Working on: LH_221007\n",
      "Working on: LH_221008\n",
      "Working on: LH_221009\n",
      "Working on: LH_221010\n",
      "Working on: LH_221011\n",
      "Working on: LH_221012\n",
      "Working on: LH_221013\n",
      "Working on: LH_221014\n",
      "Working on: LH_221015\n",
      "Working on: LH_221016\n",
      "Working on: LH_221017\n",
      "Working on: LH_221018\n",
      "Working on: LH_221019\n",
      "Working on: LH_221020\n",
      "Working on: LH_221021\n",
      "Working on: LH_221022\n",
      "Working on: LH_221023\n",
      "Working on: LH_221024\n",
      "Working on: LH_221025\n",
      "Working on: LH_221026\n",
      "Working on: LH_221027\n",
      "Working on: LH_221028\n",
      "Working on: LH_221029\n",
      "Working on: LH_221030\n",
      "Working on: LH_221031\n"
     ]
    }
   ],
   "source": [
    "df_all = pd.DataFrame()\n",
    "for key in keys:\n",
    "    print('Working on:', key)\n",
    "    t = Traffic.from_file('data/Frankfurt_LH_2210.h5', key=key, parse_dates=[\"day\", \"firstseen\", \"hour\", \"last_position\", \"lastseen\", \"timestamp\"])\n",
    "    df_day = t.data\n",
    "    df_day = df_day.iloc[::5, :]\n",
    "    df_all = pd.concat([df_all, df_day], ignore_index=True)"
   ],
   "metadata": {
    "collapsed": false,
    "ExecuteTime": {
     "end_time": "2023-06-25T02:52:04.200717Z",
     "start_time": "2023-06-25T02:45:47.405457500Z"
    }
   }
  },
  {
   "cell_type": "code",
   "execution_count": 35,
   "outputs": [],
   "source": [
    "df_all.to_csv('data/october2022.csv')"
   ],
   "metadata": {
    "collapsed": false,
    "ExecuteTime": {
     "end_time": "2023-06-25T03:02:06.523037500Z",
     "start_time": "2023-06-25T02:52:04.249314300Z"
    }
   }
  }
 ],
 "metadata": {
  "kernelspec": {
   "display_name": "Python 3",
   "language": "python",
   "name": "python3"
  },
  "language_info": {
   "codemirror_mode": {
    "name": "ipython",
    "version": 2
   },
   "file_extension": ".py",
   "mimetype": "text/x-python",
   "name": "python",
   "nbconvert_exporter": "python",
   "pygments_lexer": "ipython2",
   "version": "2.7.6"
  }
 },
 "nbformat": 4,
 "nbformat_minor": 0
}
