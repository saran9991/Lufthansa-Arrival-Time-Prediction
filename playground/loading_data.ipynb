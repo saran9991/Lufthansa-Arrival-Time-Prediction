{
 "cells": [
  {
   "cell_type": "code",
   "execution_count": 1,
   "outputs": [],
   "source": [
    "from traffic.core import Traffic\n",
    "from preprocessing import get_complete_flights, preprocess_traffic, generate_aux_columns\n",
    "import h5py\n",
    "import numpy as np\n",
    "import pandas as pd\n",
    "import datetime\n",
    "import tensorflow as tf\n",
    "from tensorflow import keras\n",
    "from tensorflow.keras.optimizers import Adam\n",
    "from tensorflow.keras.models import load_model\n",
    "from sklearn.preprocessing import StandardScaler\n",
    "from joblib import dump, load\n",
    "import itertools\n",
    "from tqdm.auto import tqdm"
   ],
   "metadata": {
    "collapsed": false
   }
  },
  {
   "cell_type": "code",
   "execution_count": 2,
   "metadata": {
    "collapsed": true
   },
   "outputs": [],
   "source": [
    "def seconds_till_arrival(flights_data: pd.DataFrame):\n",
    "    time_till_arrival = flights_data[\"arrival_time\"]- flights_data[\"timestamp\"]\n",
    "    seconds = time_till_arrival.dt.total_seconds()\n",
    "    return seconds"
   ]
  },
  {
   "cell_type": "code",
   "execution_count": 12,
   "outputs": [],
   "source": [
    "def build_sequential(lr, input_dims, output_dims, layerSizes, dropout_rate, activation, loss):\n",
    "    model = keras.Sequential()\n",
    "    model.add(keras.layers.Input(shape=input_dims))\n",
    "    for size in layerSizes:\n",
    "        model.add(keras.layers.Dense(size))\n",
    "        model.add(keras.layers.LeakyReLU(alpha=0.05))\n",
    "        model.add(keras.layers.Dropout(dropout_rate))  # Add dropout layer here\n",
    "\n",
    "    model.add(keras.layers.Dense(output_dims,activation=activation))\n",
    "\n",
    "    model.compile(optimizer=keras.optimizers.Adam(learning_rate=lr), loss=loss)\n",
    "\n",
    "    return model\n"
   ],
   "metadata": {
    "collapsed": false
   }
  },
  {
   "cell_type": "code",
   "execution_count": 7,
   "outputs": [],
   "source": [
    "scaler = load('../trained_models/std_scaler_reg.bin')\n",
    "file_0 = \"../data/Frankfurt_LH_2301.h5\"\n",
    "file_1 = \"Frankfurt_LH_2302.h5\"\n",
    "file_2 = \"../data/Frankfurt_LH_2303.h5\"\n",
    "file_batch = [file_1]\n",
    "def load_data_batch(file_batch, sample_fraction=1):\n",
    "    first_day = True\n",
    "    for file in file_batch:\n",
    "        with h5py.File(file, 'r') as f:\n",
    "            for key in tqdm(list(f.keys()),desc=file):\n",
    "\n",
    "                new_flights = Traffic.from_file(file, key=key,\n",
    "                                                parse_dates=[\"day\", \"firstseen\", \"hour\", \"last_position\",\n",
    "                                                             \"lastseen\", \"timestamp\"]).data\n",
    "\n",
    "                if first_day:\n",
    "                    df_flights = preprocess_traffic(new_flights)\n",
    "                    df_flights = df_flights[\n",
    "                        [\n",
    "                            \"distance\",\n",
    "                            \"altitude\",\n",
    "                            \"geoaltitude\",\n",
    "                            \"arrival_time\",\n",
    "                            \"timestamp\",\n",
    "                            \"vertical_rate\",\n",
    "                            \"groundspeed\",\n",
    "                            \"track\",\n",
    "                            \"latitude\",\n",
    "                            \"longitude\"\n",
    "                        ]\n",
    "                    ].dropna()\n",
    "                    df_flights = df_flights.sample(frac=sample_fraction)\n",
    "                    first_day = False\n",
    "                else:\n",
    "                    old_flights = pd.concat([old_flights,new_flights])\n",
    "                    start = new_flights.day.min().replace(tzinfo=None)\n",
    "                    end = start + datetime.timedelta(days=1)\n",
    "                    relevant_time = [str(start), str(end)]\n",
    "                    df_add_flights = preprocess_traffic(old_flights, relevant_time)\n",
    "                    df_add_flights = df_add_flights[\n",
    "                        [\n",
    "                            \"distance\",\n",
    "                            \"altitude\",\n",
    "                            \"geoaltitude\",\n",
    "                            \"arrival_time\",\n",
    "                            \"timestamp\",\n",
    "                            \"vertical_rate\",\n",
    "                            \"groundspeed\",\n",
    "                            \"track\",\n",
    "                            \"latitude\",\n",
    "                            \"longitude\"\n",
    "                        ]\n",
    "                    ].dropna()\n",
    "                    del(old_flights)\n",
    "                    df_add_flights = df_add_flights.sample(frac=sample_fraction)\n",
    "                    df_flights = pd.concat([df_flights, df_add_flights])\n",
    "                    del(df_add_flights)\n",
    "                old_flights = new_flights\n",
    "\n",
    "\n",
    "    return df_flights\n"
   ],
   "metadata": {
    "collapsed": false
   }
  },
  {
   "cell_type": "code",
   "execution_count": 13,
   "outputs": [
    {
     "name": "stdout",
     "output_type": "stream",
     "text": [
      "Model: \"sequential_1\"\n",
      "_________________________________________________________________\n",
      " Layer (type)                Output Shape              Param #   \n",
      "=================================================================\n",
      " dense_4 (Dense)             (None, 1024)              20480     \n",
      "                                                                 \n",
      " leaky_re_lu_3 (LeakyReLU)   (None, 1024)              0         \n",
      "                                                                 \n",
      " dropout (Dropout)           (None, 1024)              0         \n",
      "                                                                 \n",
      " dense_5 (Dense)             (None, 512)               524800    \n",
      "                                                                 \n",
      " leaky_re_lu_4 (LeakyReLU)   (None, 512)               0         \n",
      "                                                                 \n",
      " dropout_1 (Dropout)         (None, 512)               0         \n",
      "                                                                 \n",
      " dense_6 (Dense)             (None, 256)               131328    \n",
      "                                                                 \n",
      " leaky_re_lu_5 (LeakyReLU)   (None, 256)               0         \n",
      "                                                                 \n",
      " dropout_2 (Dropout)         (None, 256)               0         \n",
      "                                                                 \n",
      " dense_7 (Dense)             (None, 1)                 257       \n",
      "                                                                 \n",
      "=================================================================\n",
      "Total params: 676,865\n",
      "Trainable params: 676,865\n",
      "Non-trainable params: 0\n",
      "_________________________________________________________________\n",
      "INFO:tensorflow:Assets written to: ../trained_models/model_bering\\assets\n"
     ]
    }
   ],
   "source": [
    "model_file = '../trained_models/model_bering'\n",
    "#model = load_model(model_file)\n",
    "model = build_sequential(lr=0.0001, input_dims=(X.shape[1],),output_dims=1, layerSizes=(1024, 512, 256),dropout_rate =0.2, activation=\"relu\",loss=\"MAE\")\n",
    "model.summary()\n",
    "model.save(model_file)"
   ],
   "metadata": {
    "collapsed": false
   }
  },
  {
   "cell_type": "code",
   "execution_count": 9,
   "outputs": [
    {
     "data": {
      "text/plain": "Frankfurt_LH_2302.h5:   0%|          | 0/24 [00:00<?, ?it/s]",
      "application/vnd.jupyter.widget-view+json": {
       "version_major": 2,
       "version_minor": 0,
       "model_id": "5969e2b568d34583af5b27c4da8440f8"
      }
     },
     "metadata": {},
     "output_type": "display_data"
    },
    {
     "data": {
      "text/plain": "       distance  altitude  geoaltitude              arrival_time  \\\n0    794.201342   36025.0      36325.0 2023-02-01 10:56:31+00:00   \n1    267.538137   34000.0      33525.0 2023-02-01 15:40:07+00:00   \n2   1715.137033   31525.0      32275.0 2023-02-01 19:16:16+00:00   \n3      4.958587     775.0       1125.0 2023-02-01 19:27:41+00:00   \n4   1191.571282   38000.0      38600.0 2023-02-01 04:20:20+00:00   \n..          ...       ...          ...                       ...   \n95  5915.240554   35000.0      34600.0 2023-02-01 07:04:19+00:00   \n96   635.204801   36000.0      36025.0 2023-02-01 15:25:29+00:00   \n97    17.987046    4000.0       4250.0 2023-02-01 14:46:36+00:00   \n98   636.198239   36000.0      36100.0 2023-02-01 10:56:31+00:00   \n99   997.353311   32250.0      30275.0 2023-02-01 17:01:49+00:00   \n\n                   timestamp  vertical_rate  groundspeed       track  \\\n0  2023-02-01 09:36:50+00:00           64.0        459.0   42.878904   \n1  2023-02-01 14:56:36+00:00            0.0        322.0   25.769328   \n2  2023-02-01 16:46:51+00:00         1280.0        431.0   45.000000   \n3  2023-02-01 19:26:22+00:00         -512.0        117.0  249.558203   \n4  2023-02-01 02:22:53+00:00            0.0        414.0   21.673001   \n..                       ...            ...          ...         ...   \n95 2023-02-01 01:04:18+00:00            0.0        609.0   62.004955   \n96 2023-02-01 14:26:04+00:00           64.0        458.0   59.680472   \n97 2023-02-01 14:41:06+00:00         -640.0        143.0  249.537728   \n98 2023-02-01 09:48:56+00:00            0.0        433.0   21.113500   \n99 2023-02-01 15:37:21+00:00          960.0        450.0  190.510043   \n\n     latitude  longitude  ...  bearing_cos  track_sin  track_cos  weekday_0  \\\n0   43.158068   5.739310  ...    -0.957310   0.680451   0.732793          0   \n1   47.630081   8.565491  ...    -1.000000   0.434749   0.900552          0   \n2   39.803970  -7.867465  ...    -0.577195   0.707107   0.707107          0   \n3   50.055130   8.629110  ...     0.392781  -0.937027  -0.349256          0   \n4   39.614372   4.996826  ...    -0.966226   0.369309   0.929307          0   \n..        ...        ...  ...          ...        ...        ...        ...   \n95  42.043886 -71.133536  ...     0.409900   0.882988   0.469395          0   \n96  47.750061   0.591202  ...    -0.350724   0.863224   0.504822          0   \n97  50.107407   8.792749  ...     0.432513  -0.936903  -0.349591          0   \n98  44.467987   6.609650  ...    -0.969745   0.360217   0.932869          0   \n99  58.952225  10.368347  ...     0.994575  -0.182408  -0.983223          0   \n\n    weekday_1  weekday_2  weekday_3  weekday_4  weekday_5  weekday_6  \n0           0          1          0          0          0          0  \n1           0          1          0          0          0          0  \n2           0          1          0          0          0          0  \n3           0          1          0          0          0          0  \n4           0          1          0          0          0          0  \n..        ...        ...        ...        ...        ...        ...  \n95          0          1          0          0          0          0  \n96          0          1          0          0          0          0  \n97          0          1          0          0          0          0  \n98          0          1          0          0          0          0  \n99          0          1          0          0          0          0  \n\n[100 rows x 26 columns]",
      "text/html": "<div>\n<style scoped>\n    .dataframe tbody tr th:only-of-type {\n        vertical-align: middle;\n    }\n\n    .dataframe tbody tr th {\n        vertical-align: top;\n    }\n\n    .dataframe thead th {\n        text-align: right;\n    }\n</style>\n<table border=\"1\" class=\"dataframe\">\n  <thead>\n    <tr style=\"text-align: right;\">\n      <th></th>\n      <th>distance</th>\n      <th>altitude</th>\n      <th>geoaltitude</th>\n      <th>arrival_time</th>\n      <th>timestamp</th>\n      <th>vertical_rate</th>\n      <th>groundspeed</th>\n      <th>track</th>\n      <th>latitude</th>\n      <th>longitude</th>\n      <th>...</th>\n      <th>bearing_cos</th>\n      <th>track_sin</th>\n      <th>track_cos</th>\n      <th>weekday_0</th>\n      <th>weekday_1</th>\n      <th>weekday_2</th>\n      <th>weekday_3</th>\n      <th>weekday_4</th>\n      <th>weekday_5</th>\n      <th>weekday_6</th>\n    </tr>\n  </thead>\n  <tbody>\n    <tr>\n      <th>0</th>\n      <td>794.201342</td>\n      <td>36025.0</td>\n      <td>36325.0</td>\n      <td>2023-02-01 10:56:31+00:00</td>\n      <td>2023-02-01 09:36:50+00:00</td>\n      <td>64.0</td>\n      <td>459.0</td>\n      <td>42.878904</td>\n      <td>43.158068</td>\n      <td>5.739310</td>\n      <td>...</td>\n      <td>-0.957310</td>\n      <td>0.680451</td>\n      <td>0.732793</td>\n      <td>0</td>\n      <td>0</td>\n      <td>1</td>\n      <td>0</td>\n      <td>0</td>\n      <td>0</td>\n      <td>0</td>\n    </tr>\n    <tr>\n      <th>1</th>\n      <td>267.538137</td>\n      <td>34000.0</td>\n      <td>33525.0</td>\n      <td>2023-02-01 15:40:07+00:00</td>\n      <td>2023-02-01 14:56:36+00:00</td>\n      <td>0.0</td>\n      <td>322.0</td>\n      <td>25.769328</td>\n      <td>47.630081</td>\n      <td>8.565491</td>\n      <td>...</td>\n      <td>-1.000000</td>\n      <td>0.434749</td>\n      <td>0.900552</td>\n      <td>0</td>\n      <td>0</td>\n      <td>1</td>\n      <td>0</td>\n      <td>0</td>\n      <td>0</td>\n      <td>0</td>\n    </tr>\n    <tr>\n      <th>2</th>\n      <td>1715.137033</td>\n      <td>31525.0</td>\n      <td>32275.0</td>\n      <td>2023-02-01 19:16:16+00:00</td>\n      <td>2023-02-01 16:46:51+00:00</td>\n      <td>1280.0</td>\n      <td>431.0</td>\n      <td>45.000000</td>\n      <td>39.803970</td>\n      <td>-7.867465</td>\n      <td>...</td>\n      <td>-0.577195</td>\n      <td>0.707107</td>\n      <td>0.707107</td>\n      <td>0</td>\n      <td>0</td>\n      <td>1</td>\n      <td>0</td>\n      <td>0</td>\n      <td>0</td>\n      <td>0</td>\n    </tr>\n    <tr>\n      <th>3</th>\n      <td>4.958587</td>\n      <td>775.0</td>\n      <td>1125.0</td>\n      <td>2023-02-01 19:27:41+00:00</td>\n      <td>2023-02-01 19:26:22+00:00</td>\n      <td>-512.0</td>\n      <td>117.0</td>\n      <td>249.558203</td>\n      <td>50.055130</td>\n      <td>8.629110</td>\n      <td>...</td>\n      <td>0.392781</td>\n      <td>-0.937027</td>\n      <td>-0.349256</td>\n      <td>0</td>\n      <td>0</td>\n      <td>1</td>\n      <td>0</td>\n      <td>0</td>\n      <td>0</td>\n      <td>0</td>\n    </tr>\n    <tr>\n      <th>4</th>\n      <td>1191.571282</td>\n      <td>38000.0</td>\n      <td>38600.0</td>\n      <td>2023-02-01 04:20:20+00:00</td>\n      <td>2023-02-01 02:22:53+00:00</td>\n      <td>0.0</td>\n      <td>414.0</td>\n      <td>21.673001</td>\n      <td>39.614372</td>\n      <td>4.996826</td>\n      <td>...</td>\n      <td>-0.966226</td>\n      <td>0.369309</td>\n      <td>0.929307</td>\n      <td>0</td>\n      <td>0</td>\n      <td>1</td>\n      <td>0</td>\n      <td>0</td>\n      <td>0</td>\n      <td>0</td>\n    </tr>\n    <tr>\n      <th>...</th>\n      <td>...</td>\n      <td>...</td>\n      <td>...</td>\n      <td>...</td>\n      <td>...</td>\n      <td>...</td>\n      <td>...</td>\n      <td>...</td>\n      <td>...</td>\n      <td>...</td>\n      <td>...</td>\n      <td>...</td>\n      <td>...</td>\n      <td>...</td>\n      <td>...</td>\n      <td>...</td>\n      <td>...</td>\n      <td>...</td>\n      <td>...</td>\n      <td>...</td>\n      <td>...</td>\n    </tr>\n    <tr>\n      <th>95</th>\n      <td>5915.240554</td>\n      <td>35000.0</td>\n      <td>34600.0</td>\n      <td>2023-02-01 07:04:19+00:00</td>\n      <td>2023-02-01 01:04:18+00:00</td>\n      <td>0.0</td>\n      <td>609.0</td>\n      <td>62.004955</td>\n      <td>42.043886</td>\n      <td>-71.133536</td>\n      <td>...</td>\n      <td>0.409900</td>\n      <td>0.882988</td>\n      <td>0.469395</td>\n      <td>0</td>\n      <td>0</td>\n      <td>1</td>\n      <td>0</td>\n      <td>0</td>\n      <td>0</td>\n      <td>0</td>\n    </tr>\n    <tr>\n      <th>96</th>\n      <td>635.204801</td>\n      <td>36000.0</td>\n      <td>36025.0</td>\n      <td>2023-02-01 15:25:29+00:00</td>\n      <td>2023-02-01 14:26:04+00:00</td>\n      <td>64.0</td>\n      <td>458.0</td>\n      <td>59.680472</td>\n      <td>47.750061</td>\n      <td>0.591202</td>\n      <td>...</td>\n      <td>-0.350724</td>\n      <td>0.863224</td>\n      <td>0.504822</td>\n      <td>0</td>\n      <td>0</td>\n      <td>1</td>\n      <td>0</td>\n      <td>0</td>\n      <td>0</td>\n      <td>0</td>\n    </tr>\n    <tr>\n      <th>97</th>\n      <td>17.987046</td>\n      <td>4000.0</td>\n      <td>4250.0</td>\n      <td>2023-02-01 14:46:36+00:00</td>\n      <td>2023-02-01 14:41:06+00:00</td>\n      <td>-640.0</td>\n      <td>143.0</td>\n      <td>249.537728</td>\n      <td>50.107407</td>\n      <td>8.792749</td>\n      <td>...</td>\n      <td>0.432513</td>\n      <td>-0.936903</td>\n      <td>-0.349591</td>\n      <td>0</td>\n      <td>0</td>\n      <td>1</td>\n      <td>0</td>\n      <td>0</td>\n      <td>0</td>\n      <td>0</td>\n    </tr>\n    <tr>\n      <th>98</th>\n      <td>636.198239</td>\n      <td>36000.0</td>\n      <td>36100.0</td>\n      <td>2023-02-01 10:56:31+00:00</td>\n      <td>2023-02-01 09:48:56+00:00</td>\n      <td>0.0</td>\n      <td>433.0</td>\n      <td>21.113500</td>\n      <td>44.467987</td>\n      <td>6.609650</td>\n      <td>...</td>\n      <td>-0.969745</td>\n      <td>0.360217</td>\n      <td>0.932869</td>\n      <td>0</td>\n      <td>0</td>\n      <td>1</td>\n      <td>0</td>\n      <td>0</td>\n      <td>0</td>\n      <td>0</td>\n    </tr>\n    <tr>\n      <th>99</th>\n      <td>997.353311</td>\n      <td>32250.0</td>\n      <td>30275.0</td>\n      <td>2023-02-01 17:01:49+00:00</td>\n      <td>2023-02-01 15:37:21+00:00</td>\n      <td>960.0</td>\n      <td>450.0</td>\n      <td>190.510043</td>\n      <td>58.952225</td>\n      <td>10.368347</td>\n      <td>...</td>\n      <td>0.994575</td>\n      <td>-0.182408</td>\n      <td>-0.983223</td>\n      <td>0</td>\n      <td>0</td>\n      <td>1</td>\n      <td>0</td>\n      <td>0</td>\n      <td>0</td>\n      <td>0</td>\n    </tr>\n  </tbody>\n</table>\n<p>100 rows × 26 columns</p>\n</div>"
     },
     "execution_count": 9,
     "metadata": {},
     "output_type": "execute_result"
    }
   ],
   "source": [
    "df_eval = load_data_batch(file_batch)\n",
    "df_eval = generate_aux_columns(df_eval)\n",
    "df_eval.head(100)"
   ],
   "metadata": {
    "collapsed": false
   }
  },
  {
   "cell_type": "code",
   "execution_count": 12,
   "outputs": [
    {
     "data": {
      "text/plain": "         distance  altitude  geoaltitude  vertical_rate  groundspeed  holiday  \\\n1503736 -0.547639 -0.210420    -0.206651      -0.718908    -0.519186        0   \n1780326 -0.659943 -1.997881    -1.981377      -0.331918    -2.487663        0   \n625010   2.301439  0.741685     0.753577       0.030885    -0.309348        0   \n931112   5.277457  0.661169     0.649769       0.030885     1.539221        0   \n1004953  0.060613  0.580653     0.577902       0.030885     0.310172        0   \n...           ...       ...          ...            ...          ...      ...   \n371601  -0.545064 -0.305026    -0.316449       0.030885    -0.209426        0   \n245100  -0.306689  0.612859     0.615832       0.393688     0.769816        0   \n1070550 -0.168961  0.582665     0.533983       0.006698     0.360133        0   \n997013   0.096802  0.739672     0.667736       0.030885    -0.119495        0   \n460019   0.808121  0.902718     0.743596       0.030885     0.400102        0   \n\n          sec_sin   sec_cos   day_sin   day_cos  ...  bearing_cos  track_sin  \\\n1503736 -0.986008  0.166697  0.746972  0.664855  ...    -0.470794  -0.822192   \n1780326 -0.937611  0.347686  0.840618  0.541628  ...    -0.242212   0.936056   \n625010   0.046743  0.998907  0.594727  0.803928  ...    -0.328020  -0.644970   \n931112  -0.024214  0.999707  0.622047  0.782980  ...     0.564241   0.622272   \n1004953  0.986691 -0.162608  0.635432  0.772157  ...    -0.473804   0.359757   \n...           ...       ...       ...       ...  ...          ...        ...   \n371601  -0.720198 -0.693769  0.580800  0.814046  ...    -0.245669   0.949472   \n245100  -0.997086  0.076284  0.566702  0.823923  ...     0.290031   0.974072   \n1070550  0.790378  0.612620  0.648630  0.761104  ...    -0.538025  -0.775693   \n997013  -0.169278 -0.985568  0.635432  0.772157  ...     0.785695  -0.636881   \n460019   0.630789  0.775955  0.580800  0.814046  ...    -0.312986  -0.953994   \n\n         track_cos  weekday_0  weekday_1  weekday_2  weekday_3  weekday_4  \\\n1503736   0.569210          0          0          0          0          0   \n1780326   0.351851          1          0          0          0          0   \n625010    0.764208          1          0          0          0          0   \n931112    0.782801          0          0          1          0          0   \n1004953   0.933046          0          0          0          1          0   \n...            ...        ...        ...        ...        ...        ...   \n371601    0.313853          0          0          0          0          0   \n245100   -0.226236          0          0          0          0          0   \n1070550   0.631111          0          0          0          0          1   \n997013   -0.770962          0          0          0          1          0   \n460019    0.299827          0          0          0          0          0   \n\n         weekday_5  weekday_6  \n1503736          1          0  \n1780326          0          0  \n625010           0          0  \n931112           0          0  \n1004953          0          0  \n...            ...        ...  \n371601           0          1  \n245100           1          0  \n1070550          0          0  \n997013           0          0  \n460019           0          1  \n\n[1971133 rows x 21 columns]",
      "text/html": "<div>\n<style scoped>\n    .dataframe tbody tr th:only-of-type {\n        vertical-align: middle;\n    }\n\n    .dataframe tbody tr th {\n        vertical-align: top;\n    }\n\n    .dataframe thead th {\n        text-align: right;\n    }\n</style>\n<table border=\"1\" class=\"dataframe\">\n  <thead>\n    <tr style=\"text-align: right;\">\n      <th></th>\n      <th>distance</th>\n      <th>altitude</th>\n      <th>geoaltitude</th>\n      <th>vertical_rate</th>\n      <th>groundspeed</th>\n      <th>holiday</th>\n      <th>sec_sin</th>\n      <th>sec_cos</th>\n      <th>day_sin</th>\n      <th>day_cos</th>\n      <th>...</th>\n      <th>bearing_cos</th>\n      <th>track_sin</th>\n      <th>track_cos</th>\n      <th>weekday_0</th>\n      <th>weekday_1</th>\n      <th>weekday_2</th>\n      <th>weekday_3</th>\n      <th>weekday_4</th>\n      <th>weekday_5</th>\n      <th>weekday_6</th>\n    </tr>\n  </thead>\n  <tbody>\n    <tr>\n      <th>1503736</th>\n      <td>-0.547639</td>\n      <td>-0.210420</td>\n      <td>-0.206651</td>\n      <td>-0.718908</td>\n      <td>-0.519186</td>\n      <td>0</td>\n      <td>-0.986008</td>\n      <td>0.166697</td>\n      <td>0.746972</td>\n      <td>0.664855</td>\n      <td>...</td>\n      <td>-0.470794</td>\n      <td>-0.822192</td>\n      <td>0.569210</td>\n      <td>0</td>\n      <td>0</td>\n      <td>0</td>\n      <td>0</td>\n      <td>0</td>\n      <td>1</td>\n      <td>0</td>\n    </tr>\n    <tr>\n      <th>1780326</th>\n      <td>-0.659943</td>\n      <td>-1.997881</td>\n      <td>-1.981377</td>\n      <td>-0.331918</td>\n      <td>-2.487663</td>\n      <td>0</td>\n      <td>-0.937611</td>\n      <td>0.347686</td>\n      <td>0.840618</td>\n      <td>0.541628</td>\n      <td>...</td>\n      <td>-0.242212</td>\n      <td>0.936056</td>\n      <td>0.351851</td>\n      <td>1</td>\n      <td>0</td>\n      <td>0</td>\n      <td>0</td>\n      <td>0</td>\n      <td>0</td>\n      <td>0</td>\n    </tr>\n    <tr>\n      <th>625010</th>\n      <td>2.301439</td>\n      <td>0.741685</td>\n      <td>0.753577</td>\n      <td>0.030885</td>\n      <td>-0.309348</td>\n      <td>0</td>\n      <td>0.046743</td>\n      <td>0.998907</td>\n      <td>0.594727</td>\n      <td>0.803928</td>\n      <td>...</td>\n      <td>-0.328020</td>\n      <td>-0.644970</td>\n      <td>0.764208</td>\n      <td>1</td>\n      <td>0</td>\n      <td>0</td>\n      <td>0</td>\n      <td>0</td>\n      <td>0</td>\n      <td>0</td>\n    </tr>\n    <tr>\n      <th>931112</th>\n      <td>5.277457</td>\n      <td>0.661169</td>\n      <td>0.649769</td>\n      <td>0.030885</td>\n      <td>1.539221</td>\n      <td>0</td>\n      <td>-0.024214</td>\n      <td>0.999707</td>\n      <td>0.622047</td>\n      <td>0.782980</td>\n      <td>...</td>\n      <td>0.564241</td>\n      <td>0.622272</td>\n      <td>0.782801</td>\n      <td>0</td>\n      <td>0</td>\n      <td>1</td>\n      <td>0</td>\n      <td>0</td>\n      <td>0</td>\n      <td>0</td>\n    </tr>\n    <tr>\n      <th>1004953</th>\n      <td>0.060613</td>\n      <td>0.580653</td>\n      <td>0.577902</td>\n      <td>0.030885</td>\n      <td>0.310172</td>\n      <td>0</td>\n      <td>0.986691</td>\n      <td>-0.162608</td>\n      <td>0.635432</td>\n      <td>0.772157</td>\n      <td>...</td>\n      <td>-0.473804</td>\n      <td>0.359757</td>\n      <td>0.933046</td>\n      <td>0</td>\n      <td>0</td>\n      <td>0</td>\n      <td>1</td>\n      <td>0</td>\n      <td>0</td>\n      <td>0</td>\n    </tr>\n    <tr>\n      <th>...</th>\n      <td>...</td>\n      <td>...</td>\n      <td>...</td>\n      <td>...</td>\n      <td>...</td>\n      <td>...</td>\n      <td>...</td>\n      <td>...</td>\n      <td>...</td>\n      <td>...</td>\n      <td>...</td>\n      <td>...</td>\n      <td>...</td>\n      <td>...</td>\n      <td>...</td>\n      <td>...</td>\n      <td>...</td>\n      <td>...</td>\n      <td>...</td>\n      <td>...</td>\n      <td>...</td>\n    </tr>\n    <tr>\n      <th>371601</th>\n      <td>-0.545064</td>\n      <td>-0.305026</td>\n      <td>-0.316449</td>\n      <td>0.030885</td>\n      <td>-0.209426</td>\n      <td>0</td>\n      <td>-0.720198</td>\n      <td>-0.693769</td>\n      <td>0.580800</td>\n      <td>0.814046</td>\n      <td>...</td>\n      <td>-0.245669</td>\n      <td>0.949472</td>\n      <td>0.313853</td>\n      <td>0</td>\n      <td>0</td>\n      <td>0</td>\n      <td>0</td>\n      <td>0</td>\n      <td>0</td>\n      <td>1</td>\n    </tr>\n    <tr>\n      <th>245100</th>\n      <td>-0.306689</td>\n      <td>0.612859</td>\n      <td>0.615832</td>\n      <td>0.393688</td>\n      <td>0.769816</td>\n      <td>0</td>\n      <td>-0.997086</td>\n      <td>0.076284</td>\n      <td>0.566702</td>\n      <td>0.823923</td>\n      <td>...</td>\n      <td>0.290031</td>\n      <td>0.974072</td>\n      <td>-0.226236</td>\n      <td>0</td>\n      <td>0</td>\n      <td>0</td>\n      <td>0</td>\n      <td>0</td>\n      <td>1</td>\n      <td>0</td>\n    </tr>\n    <tr>\n      <th>1070550</th>\n      <td>-0.168961</td>\n      <td>0.582665</td>\n      <td>0.533983</td>\n      <td>0.006698</td>\n      <td>0.360133</td>\n      <td>0</td>\n      <td>0.790378</td>\n      <td>0.612620</td>\n      <td>0.648630</td>\n      <td>0.761104</td>\n      <td>...</td>\n      <td>-0.538025</td>\n      <td>-0.775693</td>\n      <td>0.631111</td>\n      <td>0</td>\n      <td>0</td>\n      <td>0</td>\n      <td>0</td>\n      <td>1</td>\n      <td>0</td>\n      <td>0</td>\n    </tr>\n    <tr>\n      <th>997013</th>\n      <td>0.096802</td>\n      <td>0.739672</td>\n      <td>0.667736</td>\n      <td>0.030885</td>\n      <td>-0.119495</td>\n      <td>0</td>\n      <td>-0.169278</td>\n      <td>-0.985568</td>\n      <td>0.635432</td>\n      <td>0.772157</td>\n      <td>...</td>\n      <td>0.785695</td>\n      <td>-0.636881</td>\n      <td>-0.770962</td>\n      <td>0</td>\n      <td>0</td>\n      <td>0</td>\n      <td>1</td>\n      <td>0</td>\n      <td>0</td>\n      <td>0</td>\n    </tr>\n    <tr>\n      <th>460019</th>\n      <td>0.808121</td>\n      <td>0.902718</td>\n      <td>0.743596</td>\n      <td>0.030885</td>\n      <td>0.400102</td>\n      <td>0</td>\n      <td>0.630789</td>\n      <td>0.775955</td>\n      <td>0.580800</td>\n      <td>0.814046</td>\n      <td>...</td>\n      <td>-0.312986</td>\n      <td>-0.953994</td>\n      <td>0.299827</td>\n      <td>0</td>\n      <td>0</td>\n      <td>0</td>\n      <td>0</td>\n      <td>0</td>\n      <td>0</td>\n      <td>1</td>\n    </tr>\n  </tbody>\n</table>\n<p>1971133 rows × 21 columns</p>\n</div>"
     },
     "execution_count": 12,
     "metadata": {},
     "output_type": "execute_result"
    }
   ],
   "source": [
    "df_eval =df_eval.sample(frac=1)\n",
    "y = seconds_till_arrival(df_eval)\n",
    "X = df_eval.drop(columns=[\"arrival_time\", \"timestamp\", \"track\", \"latitude\", \"longitude\"])\n",
    "cols_numeric = [\"distance\", \"altitude\", \"geoaltitude\", \"vertical_rate\",\"groundspeed\"]\n",
    "X_numeric = X[cols_numeric]\n",
    "X[cols_numeric] = scaler.transform(X_numeric)\n",
    "X"
   ],
   "metadata": {
    "collapsed": false
   }
  },
  {
   "cell_type": "code",
   "execution_count": 8,
   "outputs": [
    {
     "ename": "NameError",
     "evalue": "name 'X' is not defined",
     "output_type": "error",
     "traceback": [
      "\u001B[1;31m---------------------------------------------------------------------------\u001B[0m",
      "\u001B[1;31mNameError\u001B[0m                                 Traceback (most recent call last)",
      "Cell \u001B[1;32mIn[8], line 23\u001B[0m\n\u001B[0;32m     21\u001B[0m     \u001B[38;5;28;01melse\u001B[39;00m:\n\u001B[0;32m     22\u001B[0m         \u001B[38;5;28;01myield\u001B[39;00m X_batch, y_batch\n\u001B[1;32m---> 23\u001B[0m gen \u001B[38;5;241m=\u001B[39m batch_generator(\u001B[43mX\u001B[49m, y, \u001B[38;5;241m256\u001B[39m)\n\u001B[0;32m     24\u001B[0m model\u001B[38;5;241m.\u001B[39mfit(gen)\n",
      "\u001B[1;31mNameError\u001B[0m: name 'X' is not defined"
     ]
    }
   ],
   "source": [
    "def batch_generator(df: pd.DataFrame, y, batchsize, with_sample_weights = False, sample_weights=None ):\n",
    "    size = df.shape[0]\n",
    "    i = 0\n",
    "    while i < size:\n",
    "        X_batch = df.iloc[i:i+batchsize,:]\n",
    "        y_batch = y.iloc[i:i+batchsize].values\n",
    "        if with_sample_weights:\n",
    "            sample_batch = sample_weights.iloc[i:i+batchsize].values\n",
    "            yield X_batch, y_batch, sample_batch\n",
    "        else:\n",
    "            yield X_batch, y_batch\n",
    "        i += batchsize\n",
    "\n",
    "    X_batch = df.iloc[i:,:]\n",
    "    y_batch = y.iloc[i:].values\n",
    "    if with_sample_weights:\n",
    "        sample_batch = sample_weights.iloc[i:i+batchsize].values\n",
    "        yield X_batch, y_batch, sample_batch\n",
    "    else:\n",
    "        yield X_batch, y_batch\n",
    "gen = batch_generator(X, y, 256)\n",
    "model.fit(gen)"
   ],
   "metadata": {
    "collapsed": false
   }
  },
  {
   "cell_type": "code",
   "execution_count": 15,
   "outputs": [
    {
     "name": "stdout",
     "output_type": "stream",
     "text": [
      "INFO:tensorflow:Assets written to: ../trained_models/model_bering\\assets\n"
     ]
    }
   ],
   "source": [
    "model.save(model_file)"
   ],
   "metadata": {
    "collapsed": false
   }
  },
  {
   "cell_type": "code",
   "execution_count": 11,
   "outputs": [
    {
     "data": {
      "text/plain": "        distance  altitude  geoaltitude  vertical_rate  groundspeed  holiday  \\\n29831  -0.638548 -1.247067    -1.312611      -0.307731    -0.259387        0   \n105008  0.037724  0.421633     0.380266       0.030885    -0.249395        0   \n47316   6.312349 -1.210835    -1.248729       0.611369     0.220242        0   \n200222  0.099721  0.594743     0.418196       0.442061     0.909708        0   \n171868 -0.654376 -1.836849    -1.839639      -0.138423    -1.528405        0   \n...          ...       ...          ...            ...          ...      ...   \n142383 -0.649714 -1.720100    -1.771764       0.006698    -2.357763        0   \n87080   0.176128  1.063750     0.989143       0.030885     0.520010        0   \n16914   3.921060  0.822201     0.729622       0.030885     1.749058        0   \n23735   0.716648  0.902718     0.799493       0.030885     0.060365        0   \n53949  -0.043417 -1.305441    -1.300633       0.587182    -1.168683        0   \n\n         sec_sin   sec_cos   day_sin   day_cos  bearing_sin  bearing_cos  \\\n29831  -0.861075  0.508478  0.914128  0.405426    -0.995308    -0.096755   \n105008  0.715185  0.698936  0.920971  0.389630     0.765358    -0.643605   \n47316  -0.229130  0.973396  0.907014  0.421101    -0.602869     0.797841   \n200222  0.988072  0.153992  0.891981  0.452072     0.106747     0.994286   \n171868 -0.714727 -0.699404  0.884068  0.467359     0.910519     0.413467   \n...          ...       ...       ...       ...          ...          ...   \n142383 -0.752271 -0.658854  0.907014  0.421101     0.915109     0.403206   \n87080   0.663437  0.748232  0.891981  0.452072     0.020683    -0.999786   \n16914   0.295916  0.955214  0.858764  0.512371    -0.882447     0.470412   \n23735   0.561783  0.827285  0.907014  0.421101     0.951200    -0.308574   \n53949  -0.222258 -0.974988  0.875892  0.482508    -0.846519     0.532359   \n\n        weekday_0  weekday_1  weekday_2  weekday_3  weekday_4  weekday_5  \\\n29831           0          0          1          0          0          0   \n105008          0          0          0          1          0          0   \n47316           0          1          0          0          0          0   \n200222          0          0          0          0          0          0   \n171868          0          0          0          0          0          1   \n...           ...        ...        ...        ...        ...        ...   \n142383          0          1          0          0          0          0   \n87080           0          0          0          0          0          0   \n16914           0          0          1          0          0          0   \n23735           0          1          0          0          0          0   \n53949           0          0          0          0          1          0   \n\n        weekday_6  \n29831           0  \n105008          0  \n47316           0  \n200222          1  \n171868          0  \n...           ...  \n142383          0  \n87080           1  \n16914           0  \n23735           0  \n53949           0  \n\n[7889012 rows x 19 columns]",
      "text/html": "<div>\n<style scoped>\n    .dataframe tbody tr th:only-of-type {\n        vertical-align: middle;\n    }\n\n    .dataframe tbody tr th {\n        vertical-align: top;\n    }\n\n    .dataframe thead th {\n        text-align: right;\n    }\n</style>\n<table border=\"1\" class=\"dataframe\">\n  <thead>\n    <tr style=\"text-align: right;\">\n      <th></th>\n      <th>distance</th>\n      <th>altitude</th>\n      <th>geoaltitude</th>\n      <th>vertical_rate</th>\n      <th>groundspeed</th>\n      <th>holiday</th>\n      <th>sec_sin</th>\n      <th>sec_cos</th>\n      <th>day_sin</th>\n      <th>day_cos</th>\n      <th>bearing_sin</th>\n      <th>bearing_cos</th>\n      <th>weekday_0</th>\n      <th>weekday_1</th>\n      <th>weekday_2</th>\n      <th>weekday_3</th>\n      <th>weekday_4</th>\n      <th>weekday_5</th>\n      <th>weekday_6</th>\n    </tr>\n  </thead>\n  <tbody>\n    <tr>\n      <th>29831</th>\n      <td>-0.638548</td>\n      <td>-1.247067</td>\n      <td>-1.312611</td>\n      <td>-0.307731</td>\n      <td>-0.259387</td>\n      <td>0</td>\n      <td>-0.861075</td>\n      <td>0.508478</td>\n      <td>0.914128</td>\n      <td>0.405426</td>\n      <td>-0.995308</td>\n      <td>-0.096755</td>\n      <td>0</td>\n      <td>0</td>\n      <td>1</td>\n      <td>0</td>\n      <td>0</td>\n      <td>0</td>\n      <td>0</td>\n    </tr>\n    <tr>\n      <th>105008</th>\n      <td>0.037724</td>\n      <td>0.421633</td>\n      <td>0.380266</td>\n      <td>0.030885</td>\n      <td>-0.249395</td>\n      <td>0</td>\n      <td>0.715185</td>\n      <td>0.698936</td>\n      <td>0.920971</td>\n      <td>0.389630</td>\n      <td>0.765358</td>\n      <td>-0.643605</td>\n      <td>0</td>\n      <td>0</td>\n      <td>0</td>\n      <td>1</td>\n      <td>0</td>\n      <td>0</td>\n      <td>0</td>\n    </tr>\n    <tr>\n      <th>47316</th>\n      <td>6.312349</td>\n      <td>-1.210835</td>\n      <td>-1.248729</td>\n      <td>0.611369</td>\n      <td>0.220242</td>\n      <td>0</td>\n      <td>-0.229130</td>\n      <td>0.973396</td>\n      <td>0.907014</td>\n      <td>0.421101</td>\n      <td>-0.602869</td>\n      <td>0.797841</td>\n      <td>0</td>\n      <td>1</td>\n      <td>0</td>\n      <td>0</td>\n      <td>0</td>\n      <td>0</td>\n      <td>0</td>\n    </tr>\n    <tr>\n      <th>200222</th>\n      <td>0.099721</td>\n      <td>0.594743</td>\n      <td>0.418196</td>\n      <td>0.442061</td>\n      <td>0.909708</td>\n      <td>0</td>\n      <td>0.988072</td>\n      <td>0.153992</td>\n      <td>0.891981</td>\n      <td>0.452072</td>\n      <td>0.106747</td>\n      <td>0.994286</td>\n      <td>0</td>\n      <td>0</td>\n      <td>0</td>\n      <td>0</td>\n      <td>0</td>\n      <td>0</td>\n      <td>1</td>\n    </tr>\n    <tr>\n      <th>171868</th>\n      <td>-0.654376</td>\n      <td>-1.836849</td>\n      <td>-1.839639</td>\n      <td>-0.138423</td>\n      <td>-1.528405</td>\n      <td>0</td>\n      <td>-0.714727</td>\n      <td>-0.699404</td>\n      <td>0.884068</td>\n      <td>0.467359</td>\n      <td>0.910519</td>\n      <td>0.413467</td>\n      <td>0</td>\n      <td>0</td>\n      <td>0</td>\n      <td>0</td>\n      <td>0</td>\n      <td>1</td>\n      <td>0</td>\n    </tr>\n    <tr>\n      <th>...</th>\n      <td>...</td>\n      <td>...</td>\n      <td>...</td>\n      <td>...</td>\n      <td>...</td>\n      <td>...</td>\n      <td>...</td>\n      <td>...</td>\n      <td>...</td>\n      <td>...</td>\n      <td>...</td>\n      <td>...</td>\n      <td>...</td>\n      <td>...</td>\n      <td>...</td>\n      <td>...</td>\n      <td>...</td>\n      <td>...</td>\n      <td>...</td>\n    </tr>\n    <tr>\n      <th>142383</th>\n      <td>-0.649714</td>\n      <td>-1.720100</td>\n      <td>-1.771764</td>\n      <td>0.006698</td>\n      <td>-2.357763</td>\n      <td>0</td>\n      <td>-0.752271</td>\n      <td>-0.658854</td>\n      <td>0.907014</td>\n      <td>0.421101</td>\n      <td>0.915109</td>\n      <td>0.403206</td>\n      <td>0</td>\n      <td>1</td>\n      <td>0</td>\n      <td>0</td>\n      <td>0</td>\n      <td>0</td>\n      <td>0</td>\n    </tr>\n    <tr>\n      <th>87080</th>\n      <td>0.176128</td>\n      <td>1.063750</td>\n      <td>0.989143</td>\n      <td>0.030885</td>\n      <td>0.520010</td>\n      <td>0</td>\n      <td>0.663437</td>\n      <td>0.748232</td>\n      <td>0.891981</td>\n      <td>0.452072</td>\n      <td>0.020683</td>\n      <td>-0.999786</td>\n      <td>0</td>\n      <td>0</td>\n      <td>0</td>\n      <td>0</td>\n      <td>0</td>\n      <td>0</td>\n      <td>1</td>\n    </tr>\n    <tr>\n      <th>16914</th>\n      <td>3.921060</td>\n      <td>0.822201</td>\n      <td>0.729622</td>\n      <td>0.030885</td>\n      <td>1.749058</td>\n      <td>0</td>\n      <td>0.295916</td>\n      <td>0.955214</td>\n      <td>0.858764</td>\n      <td>0.512371</td>\n      <td>-0.882447</td>\n      <td>0.470412</td>\n      <td>0</td>\n      <td>0</td>\n      <td>1</td>\n      <td>0</td>\n      <td>0</td>\n      <td>0</td>\n      <td>0</td>\n    </tr>\n    <tr>\n      <th>23735</th>\n      <td>0.716648</td>\n      <td>0.902718</td>\n      <td>0.799493</td>\n      <td>0.030885</td>\n      <td>0.060365</td>\n      <td>0</td>\n      <td>0.561783</td>\n      <td>0.827285</td>\n      <td>0.907014</td>\n      <td>0.421101</td>\n      <td>0.951200</td>\n      <td>-0.308574</td>\n      <td>0</td>\n      <td>1</td>\n      <td>0</td>\n      <td>0</td>\n      <td>0</td>\n      <td>0</td>\n      <td>0</td>\n    </tr>\n    <tr>\n      <th>53949</th>\n      <td>-0.043417</td>\n      <td>-1.305441</td>\n      <td>-1.300633</td>\n      <td>0.587182</td>\n      <td>-1.168683</td>\n      <td>0</td>\n      <td>-0.222258</td>\n      <td>-0.974988</td>\n      <td>0.875892</td>\n      <td>0.482508</td>\n      <td>-0.846519</td>\n      <td>0.532359</td>\n      <td>0</td>\n      <td>0</td>\n      <td>0</td>\n      <td>0</td>\n      <td>1</td>\n      <td>0</td>\n      <td>0</td>\n    </tr>\n  </tbody>\n</table>\n<p>7889012 rows × 19 columns</p>\n</div>"
     },
     "execution_count": 11,
     "metadata": {},
     "output_type": "execute_result"
    }
   ],
   "source": [
    "X"
   ],
   "metadata": {
    "collapsed": false
   }
  },
  {
   "cell_type": "markdown",
   "source": [],
   "metadata": {
    "collapsed": false
   }
  },
  {
   "cell_type": "markdown",
   "source": [],
   "metadata": {
    "collapsed": false
   }
  }
 ],
 "metadata": {
  "kernelspec": {
   "display_name": "Python 3",
   "language": "python",
   "name": "python3"
  },
  "language_info": {
   "codemirror_mode": {
    "name": "ipython",
    "version": 2
   },
   "file_extension": ".py",
   "mimetype": "text/x-python",
   "name": "python",
   "nbconvert_exporter": "python",
   "pygments_lexer": "ipython2",
   "version": "2.7.6"
  }
 },
 "nbformat": 4,
 "nbformat_minor": 0
}
