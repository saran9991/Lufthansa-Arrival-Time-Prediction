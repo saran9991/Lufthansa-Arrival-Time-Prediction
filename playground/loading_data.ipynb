{
 "cells": [
  {
   "cell_type": "code",
   "execution_count": 1,
   "outputs": [],
   "source": [
    "from traffic.core import Traffic\n",
    "from preprocessing import get_complete_flights, preprocess_traffic, generate_aux_columns\n",
    "import h5py\n",
    "import numpy as np\n",
    "import pandas as pd\n",
    "import datetime\n",
    "import tensorflow as tf\n",
    "from tensorflow import keras\n",
    "from tensorflow.keras.optimizers import Adam\n",
    "from tensorflow.keras.models import load_model\n",
    "from sklearn.preprocessing import StandardScaler\n",
    "from joblib import dump, load\n",
    "import itertools"
   ],
   "metadata": {
    "collapsed": false
   }
  },
  {
   "cell_type": "code",
   "execution_count": 2,
   "metadata": {
    "collapsed": true
   },
   "outputs": [],
   "source": [
    "def seconds_till_arrival(flights_data: pd.DataFrame):\n",
    "    time_till_arrival = flights_data[\"arrival_time\"]- flights_data[\"timestamp\"]\n",
    "    seconds = time_till_arrival.dt.total_seconds()\n",
    "    return seconds"
   ]
  },
  {
   "cell_type": "code",
   "execution_count": 3,
   "outputs": [],
   "source": [
    "def build_sequential(lr, input_dims, output_dims, layerSizes, activation, loss):\n",
    "    model = keras.Sequential()\n",
    "    model.add (keras.layers.Input(shape=input_dims))\n",
    "    for size in layerSizes:\n",
    "        model.add(keras.layers.Dense(size))\n",
    "        model.add(keras.layers.LeakyReLU(alpha=0.05))\n",
    "\n",
    "    model.add(keras.layers.Dense(output_dims,activation=activation))\n",
    "\n",
    "    model.compile(optimizer=Adam(learning_rate=lr), loss=loss)\n",
    "\n",
    "    return model"
   ],
   "metadata": {
    "collapsed": false
   }
  },
  {
   "cell_type": "code",
   "execution_count": 4,
   "outputs": [
    {
     "name": "stdout",
     "output_type": "stream",
     "text": [
      "LH_230101\n",
      "LH_230103\n",
      "LH_230104\n",
      "LH_230105\n",
      "LH_230106\n",
      "LH_230107\n",
      "LH_230108\n",
      "LH_230109\n",
      "LH_230110\n",
      "LH_230111\n",
      "LH_230112\n",
      "LH_230113\n",
      "LH_230114\n",
      "LH_230115\n",
      "LH_230116\n",
      "LH_230117\n",
      "LH_230118\n",
      "LH_230119\n",
      "LH_230120\n",
      "LH_230121\n",
      "LH_230122\n",
      "LH_230123\n",
      "LH_230124\n",
      "LH_230125\n",
      "LH_230126\n",
      "LH_230127\n",
      "LH_230128\n",
      "LH_230129\n",
      "LH_230130\n",
      "LH_230131\n"
     ]
    }
   ],
   "source": [
    "scaler = load('../trained_models/std_scaler_reg.bin')\n",
    "file = \"../data/Frankfurt_LH_2301.h5\"\n",
    "\n",
    "with h5py.File(file, 'r') as f:\n",
    "    first = True\n",
    "    for key in list(f.keys()):\n",
    "        print(key)\n",
    "        try:\n",
    "            flights = Traffic.from_file(file, key=key,\n",
    "                                    parse_dates=[\"day\", \"firstseen\", \"hour\", \"last_position\",\n",
    "                                                 \"lastseen\", \"timestamp\"])\n",
    "        except:\n",
    "            continue\n",
    "\n",
    "        try:\n",
    "            df_flights = preprocess_traffic(flights)\n",
    "        except AttributeError:\n",
    "            continue\n",
    "\n",
    "        df = df_flights[\n",
    "            [\"distance\", \"altitude\", \"geoaltitude\", \"arrival_time\", \"timestamp\", \"vertical_rate\",\n",
    "             \"groundspeed\"]].dropna()\n",
    "\n",
    "        if not first:\n",
    "            df_eval = pd.concat([df, df_eval])\n",
    "        else:\n",
    "            df_eval = df\n",
    "            first = False\n"
   ],
   "metadata": {
    "collapsed": false
   }
  },
  {
   "cell_type": "code",
   "execution_count": 9,
   "outputs": [
    {
     "name": "stdout",
     "output_type": "stream",
     "text": [
      "Model: \"sequential_3\"\n",
      "_________________________________________________________________\n",
      " Layer (type)                Output Shape              Param #   \n",
      "=================================================================\n",
      " dense_16 (Dense)            (None, 1024)              18432     \n",
      "                                                                 \n",
      " leaky_re_lu_13 (LeakyReLU)  (None, 1024)              0         \n",
      "                                                                 \n",
      " dense_17 (Dense)            (None, 512)               524800    \n",
      "                                                                 \n",
      " leaky_re_lu_14 (LeakyReLU)  (None, 512)               0         \n",
      "                                                                 \n",
      " dense_18 (Dense)            (None, 256)               131328    \n",
      "                                                                 \n",
      " leaky_re_lu_15 (LeakyReLU)  (None, 256)               0         \n",
      "                                                                 \n",
      " dense_19 (Dense)            (None, 1)                 257       \n",
      "                                                                 \n",
      "=================================================================\n",
      "Total params: 674,817\n",
      "Trainable params: 674,817\n",
      "Non-trainable params: 0\n",
      "_________________________________________________________________\n"
     ]
    }
   ],
   "source": [
    "model_file = '../trained_models/model_with_cycle_no_month'\n",
    "model = load_model(model_file)\n",
    "#model = build_sequential(lr=0.0001, input_dims=(X.shape[1],),output_dims=1, layerSizes=(1024, 512, 256),activation=\"relu\",loss=\"MAE\")\n",
    "model.summary()\n",
    "#model.save(model_file)"
   ],
   "metadata": {
    "collapsed": false
   }
  },
  {
   "cell_type": "code",
   "execution_count": 6,
   "outputs": [
    {
     "data": {
      "text/plain": "         distance  altitude  geoaltitude              arrival_time  \\\n34757  300.980610     350.0        600.0 2023-01-31 14:01:12+00:00   \n34758  300.749698     425.0        600.0 2023-01-31 14:01:12+00:00   \n34759  300.682789     475.0        600.0 2023-01-31 14:01:12+00:00   \n34760  300.619171     500.0        650.0 2023-01-31 14:01:12+00:00   \n34761  300.588307     525.0        700.0 2023-01-31 14:01:12+00:00   \n...           ...       ...          ...                       ...   \n34852  293.801747    5450.0       5450.0 2023-01-31 14:01:12+00:00   \n34853  293.712047    5500.0       5500.0 2023-01-31 14:01:12+00:00   \n34854  293.588607    5575.0       5575.0 2023-01-31 14:01:12+00:00   \n34855  293.500165    5625.0       5600.0 2023-01-31 14:01:12+00:00   \n34856  293.397391    5675.0       5650.0 2023-01-31 14:01:12+00:00   \n\n                      timestamp  vertical_rate  groundspeed  holiday  \\\n34757 2023-01-31 13:25:40+00:00          192.0        119.0        0   \n34758 2023-01-31 13:25:41+00:00          192.0        119.0        0   \n34759 2023-01-31 13:25:42+00:00         2048.0        130.0        0   \n34760 2023-01-31 13:25:43+00:00         2368.0        130.0        0   \n34761 2023-01-31 13:25:44+00:00         2496.0        130.0        0   \n...                         ...            ...          ...      ...   \n34852 2023-01-31 13:27:15+00:00         3136.0        215.0        0   \n34853 2023-01-31 13:27:16+00:00         3200.0        217.0        0   \n34854 2023-01-31 13:27:17+00:00         3264.0        217.0        0   \n34855 2023-01-31 13:27:18+00:00         3328.0        219.0        0   \n34856 2023-01-31 13:27:19+00:00         3456.0        220.0        0   \n\n        sec_sin   sec_cos   day_sin   day_cos  weekday_0  weekday_1  \\\n34757 -0.365148 -0.930950  0.508671  0.860961          0          1   \n34758 -0.365215 -0.930923  0.508671  0.860961          0          1   \n34759 -0.365283 -0.930897  0.508671  0.860961          0          1   \n34760 -0.365351 -0.930870  0.508671  0.860961          0          1   \n34761 -0.365418 -0.930843  0.508671  0.860961          0          1   \n...         ...       ...       ...       ...        ...        ...   \n34852 -0.371570 -0.928405  0.508671  0.860961          0          1   \n34853 -0.371638 -0.928378  0.508671  0.860961          0          1   \n34854 -0.371705 -0.928351  0.508671  0.860961          0          1   \n34855 -0.371773 -0.928324  0.508671  0.860961          0          1   \n34856 -0.371840 -0.928297  0.508671  0.860961          0          1   \n\n       weekday_2  weekday_3  weekday_4  weekday_5  weekday_6  \n34757          0          0          0          0          0  \n34758          0          0          0          0          0  \n34759          0          0          0          0          0  \n34760          0          0          0          0          0  \n34761          0          0          0          0          0  \n...          ...        ...        ...        ...        ...  \n34852          0          0          0          0          0  \n34853          0          0          0          0          0  \n34854          0          0          0          0          0  \n34855          0          0          0          0          0  \n34856          0          0          0          0          0  \n\n[100 rows x 19 columns]",
      "text/html": "<div>\n<style scoped>\n    .dataframe tbody tr th:only-of-type {\n        vertical-align: middle;\n    }\n\n    .dataframe tbody tr th {\n        vertical-align: top;\n    }\n\n    .dataframe thead th {\n        text-align: right;\n    }\n</style>\n<table border=\"1\" class=\"dataframe\">\n  <thead>\n    <tr style=\"text-align: right;\">\n      <th></th>\n      <th>distance</th>\n      <th>altitude</th>\n      <th>geoaltitude</th>\n      <th>arrival_time</th>\n      <th>timestamp</th>\n      <th>vertical_rate</th>\n      <th>groundspeed</th>\n      <th>holiday</th>\n      <th>sec_sin</th>\n      <th>sec_cos</th>\n      <th>day_sin</th>\n      <th>day_cos</th>\n      <th>weekday_0</th>\n      <th>weekday_1</th>\n      <th>weekday_2</th>\n      <th>weekday_3</th>\n      <th>weekday_4</th>\n      <th>weekday_5</th>\n      <th>weekday_6</th>\n    </tr>\n  </thead>\n  <tbody>\n    <tr>\n      <th>34757</th>\n      <td>300.980610</td>\n      <td>350.0</td>\n      <td>600.0</td>\n      <td>2023-01-31 14:01:12+00:00</td>\n      <td>2023-01-31 13:25:40+00:00</td>\n      <td>192.0</td>\n      <td>119.0</td>\n      <td>0</td>\n      <td>-0.365148</td>\n      <td>-0.930950</td>\n      <td>0.508671</td>\n      <td>0.860961</td>\n      <td>0</td>\n      <td>1</td>\n      <td>0</td>\n      <td>0</td>\n      <td>0</td>\n      <td>0</td>\n      <td>0</td>\n    </tr>\n    <tr>\n      <th>34758</th>\n      <td>300.749698</td>\n      <td>425.0</td>\n      <td>600.0</td>\n      <td>2023-01-31 14:01:12+00:00</td>\n      <td>2023-01-31 13:25:41+00:00</td>\n      <td>192.0</td>\n      <td>119.0</td>\n      <td>0</td>\n      <td>-0.365215</td>\n      <td>-0.930923</td>\n      <td>0.508671</td>\n      <td>0.860961</td>\n      <td>0</td>\n      <td>1</td>\n      <td>0</td>\n      <td>0</td>\n      <td>0</td>\n      <td>0</td>\n      <td>0</td>\n    </tr>\n    <tr>\n      <th>34759</th>\n      <td>300.682789</td>\n      <td>475.0</td>\n      <td>600.0</td>\n      <td>2023-01-31 14:01:12+00:00</td>\n      <td>2023-01-31 13:25:42+00:00</td>\n      <td>2048.0</td>\n      <td>130.0</td>\n      <td>0</td>\n      <td>-0.365283</td>\n      <td>-0.930897</td>\n      <td>0.508671</td>\n      <td>0.860961</td>\n      <td>0</td>\n      <td>1</td>\n      <td>0</td>\n      <td>0</td>\n      <td>0</td>\n      <td>0</td>\n      <td>0</td>\n    </tr>\n    <tr>\n      <th>34760</th>\n      <td>300.619171</td>\n      <td>500.0</td>\n      <td>650.0</td>\n      <td>2023-01-31 14:01:12+00:00</td>\n      <td>2023-01-31 13:25:43+00:00</td>\n      <td>2368.0</td>\n      <td>130.0</td>\n      <td>0</td>\n      <td>-0.365351</td>\n      <td>-0.930870</td>\n      <td>0.508671</td>\n      <td>0.860961</td>\n      <td>0</td>\n      <td>1</td>\n      <td>0</td>\n      <td>0</td>\n      <td>0</td>\n      <td>0</td>\n      <td>0</td>\n    </tr>\n    <tr>\n      <th>34761</th>\n      <td>300.588307</td>\n      <td>525.0</td>\n      <td>700.0</td>\n      <td>2023-01-31 14:01:12+00:00</td>\n      <td>2023-01-31 13:25:44+00:00</td>\n      <td>2496.0</td>\n      <td>130.0</td>\n      <td>0</td>\n      <td>-0.365418</td>\n      <td>-0.930843</td>\n      <td>0.508671</td>\n      <td>0.860961</td>\n      <td>0</td>\n      <td>1</td>\n      <td>0</td>\n      <td>0</td>\n      <td>0</td>\n      <td>0</td>\n      <td>0</td>\n    </tr>\n    <tr>\n      <th>...</th>\n      <td>...</td>\n      <td>...</td>\n      <td>...</td>\n      <td>...</td>\n      <td>...</td>\n      <td>...</td>\n      <td>...</td>\n      <td>...</td>\n      <td>...</td>\n      <td>...</td>\n      <td>...</td>\n      <td>...</td>\n      <td>...</td>\n      <td>...</td>\n      <td>...</td>\n      <td>...</td>\n      <td>...</td>\n      <td>...</td>\n      <td>...</td>\n    </tr>\n    <tr>\n      <th>34852</th>\n      <td>293.801747</td>\n      <td>5450.0</td>\n      <td>5450.0</td>\n      <td>2023-01-31 14:01:12+00:00</td>\n      <td>2023-01-31 13:27:15+00:00</td>\n      <td>3136.0</td>\n      <td>215.0</td>\n      <td>0</td>\n      <td>-0.371570</td>\n      <td>-0.928405</td>\n      <td>0.508671</td>\n      <td>0.860961</td>\n      <td>0</td>\n      <td>1</td>\n      <td>0</td>\n      <td>0</td>\n      <td>0</td>\n      <td>0</td>\n      <td>0</td>\n    </tr>\n    <tr>\n      <th>34853</th>\n      <td>293.712047</td>\n      <td>5500.0</td>\n      <td>5500.0</td>\n      <td>2023-01-31 14:01:12+00:00</td>\n      <td>2023-01-31 13:27:16+00:00</td>\n      <td>3200.0</td>\n      <td>217.0</td>\n      <td>0</td>\n      <td>-0.371638</td>\n      <td>-0.928378</td>\n      <td>0.508671</td>\n      <td>0.860961</td>\n      <td>0</td>\n      <td>1</td>\n      <td>0</td>\n      <td>0</td>\n      <td>0</td>\n      <td>0</td>\n      <td>0</td>\n    </tr>\n    <tr>\n      <th>34854</th>\n      <td>293.588607</td>\n      <td>5575.0</td>\n      <td>5575.0</td>\n      <td>2023-01-31 14:01:12+00:00</td>\n      <td>2023-01-31 13:27:17+00:00</td>\n      <td>3264.0</td>\n      <td>217.0</td>\n      <td>0</td>\n      <td>-0.371705</td>\n      <td>-0.928351</td>\n      <td>0.508671</td>\n      <td>0.860961</td>\n      <td>0</td>\n      <td>1</td>\n      <td>0</td>\n      <td>0</td>\n      <td>0</td>\n      <td>0</td>\n      <td>0</td>\n    </tr>\n    <tr>\n      <th>34855</th>\n      <td>293.500165</td>\n      <td>5625.0</td>\n      <td>5600.0</td>\n      <td>2023-01-31 14:01:12+00:00</td>\n      <td>2023-01-31 13:27:18+00:00</td>\n      <td>3328.0</td>\n      <td>219.0</td>\n      <td>0</td>\n      <td>-0.371773</td>\n      <td>-0.928324</td>\n      <td>0.508671</td>\n      <td>0.860961</td>\n      <td>0</td>\n      <td>1</td>\n      <td>0</td>\n      <td>0</td>\n      <td>0</td>\n      <td>0</td>\n      <td>0</td>\n    </tr>\n    <tr>\n      <th>34856</th>\n      <td>293.397391</td>\n      <td>5675.0</td>\n      <td>5650.0</td>\n      <td>2023-01-31 14:01:12+00:00</td>\n      <td>2023-01-31 13:27:19+00:00</td>\n      <td>3456.0</td>\n      <td>220.0</td>\n      <td>0</td>\n      <td>-0.371840</td>\n      <td>-0.928297</td>\n      <td>0.508671</td>\n      <td>0.860961</td>\n      <td>0</td>\n      <td>1</td>\n      <td>0</td>\n      <td>0</td>\n      <td>0</td>\n      <td>0</td>\n      <td>0</td>\n    </tr>\n  </tbody>\n</table>\n<p>100 rows × 19 columns</p>\n</div>"
     },
     "execution_count": 6,
     "metadata": {},
     "output_type": "execute_result"
    }
   ],
   "source": [
    "df_eval = generate_aux_columns(df_eval)\n",
    "df_eval.head(100)"
   ],
   "metadata": {
    "collapsed": false
   }
  },
  {
   "cell_type": "code",
   "execution_count": 7,
   "outputs": [],
   "source": [
    "y = seconds_till_arrival(df_eval)\n",
    "X = df_eval.drop(columns=[\"arrival_time\", \"timestamp\"])\n",
    "cols_numeric = [\"distance\", \"altitude\", \"geoaltitude\", \"vertical_rate\",\"groundspeed\"]\n",
    "X_numeric = X[cols_numeric]\n",
    "X[cols_numeric] = scaler.transform(X_numeric)"
   ],
   "metadata": {
    "collapsed": false
   }
  },
  {
   "cell_type": "code",
   "execution_count": 10,
   "outputs": [
    {
     "name": "stdout",
     "output_type": "stream",
     "text": [
      "92119/92119 [==============================] - 195s 2ms/step - loss: 279.6768\n"
     ]
    },
    {
     "data": {
      "text/plain": "279.6767578125"
     },
     "execution_count": 10,
     "metadata": {},
     "output_type": "execute_result"
    }
   ],
   "source": [
    "def batch_generator(df: pd.DataFrame, y, batchsize, with_sample_weights = False, sample_weights=None ):\n",
    "    # we want to penalize errors more strongly if the aircraft is far away from arrival and less severely\n",
    "    # when nearer\n",
    "    size = df.shape[0]\n",
    "    i = 0\n",
    "    while i < size:\n",
    "        X_batch = df.iloc[i:i+batchsize,:]\n",
    "        y_batch = y.iloc[i:i+batchsize].values\n",
    "        if with_sample_weights:\n",
    "            sample_batch = sample_weights.iloc[i:i+batchsize].values\n",
    "            yield X_batch, y_batch, sample_batch\n",
    "        else:\n",
    "            yield X_batch, y_batch\n",
    "        i += batchsize\n",
    "\n",
    "    X_batch = df.iloc[i:,:]\n",
    "    y_batch = y.iloc[i:].values\n",
    "    if with_sample_weights:\n",
    "        sample_batch = sample_weights.iloc[i:i+batchsize].values\n",
    "        yield X_batch, y_batch, sample_batch\n",
    "    else:\n",
    "        yield X_batch, y_batch\n",
    "gen = batch_generator(X, y, 256)\n",
    "model.evaluate(gen)"
   ],
   "metadata": {
    "collapsed": false
   }
  },
  {
   "cell_type": "markdown",
   "source": [],
   "metadata": {
    "collapsed": false
   }
  },
  {
   "cell_type": "markdown",
   "source": [],
   "metadata": {
    "collapsed": false
   }
  }
 ],
 "metadata": {
  "kernelspec": {
   "display_name": "Python 3",
   "language": "python",
   "name": "python3"
  },
  "language_info": {
   "codemirror_mode": {
    "name": "ipython",
    "version": 2
   },
   "file_extension": ".py",
   "mimetype": "text/x-python",
   "name": "python",
   "nbconvert_exporter": "python",
   "pygments_lexer": "ipython2",
   "version": "2.7.6"
  }
 },
 "nbformat": 4,
 "nbformat_minor": 0
}
