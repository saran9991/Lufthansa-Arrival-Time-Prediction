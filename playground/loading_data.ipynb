{
 "cells": [
  {
   "cell_type": "code",
   "execution_count": 1,
   "outputs": [],
   "source": [
    "from traffic.core import Traffic\n",
    "from preprocessing import get_complete_flights, preprocess_traffic, generate_aux_columns\n",
    "import h5py\n",
    "import numpy as np\n",
    "import pandas as pd\n",
    "import datetime\n",
    "import tensorflow as tf\n",
    "from tensorflow import keras\n",
    "from tensorflow.keras.optimizers import Adam\n",
    "from tensorflow.keras.models import load_model\n",
    "from sklearn.preprocessing import StandardScaler\n",
    "from joblib import dump, load\n",
    "import itertools\n",
    "from tqdm.auto import tqdm"
   ],
   "metadata": {
    "collapsed": false
   }
  },
  {
   "cell_type": "code",
   "execution_count": 2,
   "metadata": {
    "collapsed": true
   },
   "outputs": [],
   "source": [
    "def seconds_till_arrival(flights_data: pd.DataFrame):\n",
    "    time_till_arrival = flights_data[\"arrival_time\"]- flights_data[\"timestamp\"]\n",
    "    seconds = time_till_arrival.dt.total_seconds()\n",
    "    return seconds"
   ]
  },
  {
   "cell_type": "code",
   "execution_count": 12,
   "outputs": [],
   "source": [
    "def build_sequential(lr, input_dims, output_dims, layerSizes, dropout_rate, activation, loss):\n",
    "    model = keras.Sequential()\n",
    "    model.add(keras.layers.Input(shape=input_dims))\n",
    "    for size in layerSizes:\n",
    "        model.add(keras.layers.Dense(size))\n",
    "        model.add(keras.layers.LeakyReLU(alpha=0.05))\n",
    "        model.add(keras.layers.Dropout(dropout_rate))  # Add dropout layer here\n",
    "\n",
    "    model.add(keras.layers.Dense(output_dims,activation=activation))\n",
    "\n",
    "    model.compile(optimizer=keras.optimizers.Adam(learning_rate=lr), loss=loss)\n",
    "\n",
    "    return model\n"
   ],
   "metadata": {
    "collapsed": false
   }
  },
  {
   "cell_type": "code",
   "execution_count": 4,
   "outputs": [],
   "source": [
    "scaler = load('../trained_models/std_scaler_reg.bin')\n",
    "file_0 = \"../data/Frankfurt_LH_2301.h5\"\n",
    "file_1 = \"Frankfurt_LH_2302.h5\"\n",
    "file_2 = \"Frankfurt_LH_2303.h5\"\n",
    "file_batch = [file_2]\n",
    "def load_data_batch(file_batch, sample_fraction=1):\n",
    "    first_day = True\n",
    "    for file in file_batch:\n",
    "        with h5py.File(file, 'r') as f:\n",
    "            for key in tqdm(list(f.keys()),desc=file):\n",
    "\n",
    "                new_flights = Traffic.from_file(file, key=key,\n",
    "                                                parse_dates=[\"day\", \"firstseen\", \"hour\", \"last_position\",\n",
    "                                                             \"lastseen\", \"timestamp\"]).data\n",
    "\n",
    "                if first_day:\n",
    "                    df_flights = preprocess_traffic(new_flights)\n",
    "                    df_flights = df_flights[\n",
    "                        [\n",
    "                            \"distance\",\n",
    "                            \"altitude\",\n",
    "                            \"geoaltitude\",\n",
    "                            \"arrival_time\",\n",
    "                            \"timestamp\",\n",
    "                            \"vertical_rate\",\n",
    "                            \"groundspeed\",\n",
    "                            \"latitude\",\n",
    "                            \"longitude\"\n",
    "                        ]\n",
    "                    ].dropna()\n",
    "                    df_flights = df_flights.sample(frac=sample_fraction)\n",
    "                    first_day = False\n",
    "                else:\n",
    "                    old_flights = pd.concat([old_flights,new_flights])\n",
    "                    start = new_flights.day.min().replace(tzinfo=None)\n",
    "                    end = start + datetime.timedelta(days=1)\n",
    "                    relevant_time = [str(start), str(end)]\n",
    "                    df_add_flights = preprocess_traffic(old_flights, relevant_time)\n",
    "                    df_add_flights = df_add_flights[\n",
    "                        [\n",
    "                            \"distance\",\n",
    "                            \"altitude\",\n",
    "                            \"geoaltitude\",\n",
    "                            \"arrival_time\",\n",
    "                            \"timestamp\",\n",
    "                            \"vertical_rate\",\n",
    "                            \"groundspeed\",\n",
    "                            \"latitude\",\n",
    "                            \"longitude\"\n",
    "                        ]\n",
    "                    ].dropna()\n",
    "                    del(old_flights)\n",
    "                    df_add_flights = df_add_flights.sample(frac=sample_fraction)\n",
    "                    df_flights = pd.concat([df_flights, df_add_flights])\n",
    "                    del(df_add_flights)\n",
    "                old_flights = new_flights\n",
    "\n",
    "\n",
    "    return df_flights\n"
   ],
   "metadata": {
    "collapsed": false
   }
  },
  {
   "cell_type": "code",
   "execution_count": 13,
   "outputs": [
    {
     "name": "stdout",
     "output_type": "stream",
     "text": [
      "Model: \"sequential_1\"\n",
      "_________________________________________________________________\n",
      " Layer (type)                Output Shape              Param #   \n",
      "=================================================================\n",
      " dense_4 (Dense)             (None, 1024)              20480     \n",
      "                                                                 \n",
      " leaky_re_lu_3 (LeakyReLU)   (None, 1024)              0         \n",
      "                                                                 \n",
      " dropout (Dropout)           (None, 1024)              0         \n",
      "                                                                 \n",
      " dense_5 (Dense)             (None, 512)               524800    \n",
      "                                                                 \n",
      " leaky_re_lu_4 (LeakyReLU)   (None, 512)               0         \n",
      "                                                                 \n",
      " dropout_1 (Dropout)         (None, 512)               0         \n",
      "                                                                 \n",
      " dense_6 (Dense)             (None, 256)               131328    \n",
      "                                                                 \n",
      " leaky_re_lu_5 (LeakyReLU)   (None, 256)               0         \n",
      "                                                                 \n",
      " dropout_2 (Dropout)         (None, 256)               0         \n",
      "                                                                 \n",
      " dense_7 (Dense)             (None, 1)                 257       \n",
      "                                                                 \n",
      "=================================================================\n",
      "Total params: 676,865\n",
      "Trainable params: 676,865\n",
      "Non-trainable params: 0\n",
      "_________________________________________________________________\n",
      "INFO:tensorflow:Assets written to: ../trained_models/model_bering\\assets\n"
     ]
    }
   ],
   "source": [
    "model_file = '../trained_models/model_bering'\n",
    "#model = load_model(model_file)\n",
    "model = build_sequential(lr=0.0001, input_dims=(X.shape[1],),output_dims=1, layerSizes=(1024, 512, 256),dropout_rate =0.2, activation=\"relu\",loss=\"MAE\")\n",
    "model.summary()\n",
    "model.save(model_file)"
   ],
   "metadata": {
    "collapsed": false
   }
  },
  {
   "cell_type": "code",
   "execution_count": 5,
   "outputs": [
    {
     "data": {
      "text/plain": "Frankfurt_LH_2303.h5:   0%|          | 0/20 [00:00<?, ?it/s]",
      "application/vnd.jupyter.widget-view+json": {
       "version_major": 2,
       "version_minor": 0,
       "model_id": "08d792dd9ac441ce8f88c6505c545327"
      }
     },
     "metadata": {},
     "output_type": "display_data"
    },
    {
     "data": {
      "text/plain": "           distance  altitude  geoaltitude              arrival_time  \\\n58919   1640.489790    6425.0       6675.0 2023-03-01 15:13:33+00:00   \n54569    221.990447   22975.0      22875.0 2023-03-01 11:14:29+00:00   \n131021   340.263502   39000.0      38725.0 2023-03-01 15:27:21+00:00   \n102933     8.929258     925.0       1325.0 2023-03-01 17:32:36+00:00   \n15265    983.163389   38000.0      37525.0 2023-03-01 04:10:53+00:00   \n...             ...       ...          ...                       ...   \n33137     52.180264   13050.0      13225.0 2023-03-01 06:11:38+00:00   \n43205     90.845876   16225.0      16275.0 2023-03-01 19:21:29+00:00   \n121388    16.858724   11000.0      11225.0 2023-03-01 19:25:57+00:00   \n67980    990.825340   37000.0      37000.0 2023-03-01 06:56:10+00:00   \n123064    36.753450   11000.0      11275.0 2023-03-01 17:35:56+00:00   \n\n                       timestamp  vertical_rate  groundspeed   latitude  \\\n58919  2023-03-01 12:58:44+00:00         3776.0        258.0  41.394562   \n54569  2023-03-01 10:49:15+00:00           64.0        419.0  50.586594   \n131021 2023-03-01 14:48:30+00:00            0.0        416.0  51.774902   \n102933 2023-03-01 17:31:05+00:00         -704.0        118.0  50.023773   \n15265  2023-03-01 02:50:48+00:00            0.0        505.0  41.191727   \n...                          ...            ...          ...        ...   \n33137  2023-03-01 05:53:18+00:00         -576.0        343.0  50.319946   \n43205  2023-03-01 19:03:12+00:00        -1536.0        378.0  49.247473   \n121388 2023-03-01 18:58:28+00:00            0.0        357.0  49.971313   \n67980  2023-03-01 05:33:11+00:00            0.0        457.0  51.746211   \n123064 2023-03-01 17:20:43+00:00            0.0        312.0  50.238831   \n\n        longitude  holiday  ...   day_cos  bearing_sin  bearing_cos  \\\n58919   -8.677202        0  ...  0.512371    -0.872648    -0.488350   \n54569    5.557203        0  ...  0.512371    -0.955777     0.294093   \n131021   4.565339        0  ...  0.512371    -0.808002     0.589180   \n102933   8.441981        0  ...  0.512371    -0.985180    -0.171525   \n15265    8.796021        0  ...  0.512371     0.019711    -0.999806   \n...           ...      ...  ...       ...          ...          ...   \n33137    9.151105        0  ...  0.512371     0.796698     0.604377   \n43205    8.889096        0  ...  0.512371     0.258645    -0.965972   \n121388   8.777498        0  ...  0.512371     0.900048    -0.435792   \n67980   -5.331497        0  ...  0.512371    -0.959417     0.281991   \n123064   8.974746        0  ...  0.512371     0.791990     0.610535   \n\n        weekday_0  weekday_1  weekday_2  weekday_3  weekday_4  weekday_5  \\\n58919           0          0          1          0          0          0   \n54569           0          0          1          0          0          0   \n131021          0          0          1          0          0          0   \n102933          0          0          1          0          0          0   \n15265           0          0          1          0          0          0   \n...           ...        ...        ...        ...        ...        ...   \n33137           0          0          1          0          0          0   \n43205           0          0          1          0          0          0   \n121388          0          0          1          0          0          0   \n67980           0          0          1          0          0          0   \n123064          0          0          1          0          0          0   \n\n        weekday_6  \n58919           0  \n54569           0  \n131021          0  \n102933          0  \n15265           0  \n...           ...  \n33137           0  \n43205           0  \n121388          0  \n67980           0  \n123064          0  \n\n[100 rows x 23 columns]",
      "text/html": "<div>\n<style scoped>\n    .dataframe tbody tr th:only-of-type {\n        vertical-align: middle;\n    }\n\n    .dataframe tbody tr th {\n        vertical-align: top;\n    }\n\n    .dataframe thead th {\n        text-align: right;\n    }\n</style>\n<table border=\"1\" class=\"dataframe\">\n  <thead>\n    <tr style=\"text-align: right;\">\n      <th></th>\n      <th>distance</th>\n      <th>altitude</th>\n      <th>geoaltitude</th>\n      <th>arrival_time</th>\n      <th>timestamp</th>\n      <th>vertical_rate</th>\n      <th>groundspeed</th>\n      <th>latitude</th>\n      <th>longitude</th>\n      <th>holiday</th>\n      <th>...</th>\n      <th>day_cos</th>\n      <th>bearing_sin</th>\n      <th>bearing_cos</th>\n      <th>weekday_0</th>\n      <th>weekday_1</th>\n      <th>weekday_2</th>\n      <th>weekday_3</th>\n      <th>weekday_4</th>\n      <th>weekday_5</th>\n      <th>weekday_6</th>\n    </tr>\n  </thead>\n  <tbody>\n    <tr>\n      <th>58919</th>\n      <td>1640.489790</td>\n      <td>6425.0</td>\n      <td>6675.0</td>\n      <td>2023-03-01 15:13:33+00:00</td>\n      <td>2023-03-01 12:58:44+00:00</td>\n      <td>3776.0</td>\n      <td>258.0</td>\n      <td>41.394562</td>\n      <td>-8.677202</td>\n      <td>0</td>\n      <td>...</td>\n      <td>0.512371</td>\n      <td>-0.872648</td>\n      <td>-0.488350</td>\n      <td>0</td>\n      <td>0</td>\n      <td>1</td>\n      <td>0</td>\n      <td>0</td>\n      <td>0</td>\n      <td>0</td>\n    </tr>\n    <tr>\n      <th>54569</th>\n      <td>221.990447</td>\n      <td>22975.0</td>\n      <td>22875.0</td>\n      <td>2023-03-01 11:14:29+00:00</td>\n      <td>2023-03-01 10:49:15+00:00</td>\n      <td>64.0</td>\n      <td>419.0</td>\n      <td>50.586594</td>\n      <td>5.557203</td>\n      <td>0</td>\n      <td>...</td>\n      <td>0.512371</td>\n      <td>-0.955777</td>\n      <td>0.294093</td>\n      <td>0</td>\n      <td>0</td>\n      <td>1</td>\n      <td>0</td>\n      <td>0</td>\n      <td>0</td>\n      <td>0</td>\n    </tr>\n    <tr>\n      <th>131021</th>\n      <td>340.263502</td>\n      <td>39000.0</td>\n      <td>38725.0</td>\n      <td>2023-03-01 15:27:21+00:00</td>\n      <td>2023-03-01 14:48:30+00:00</td>\n      <td>0.0</td>\n      <td>416.0</td>\n      <td>51.774902</td>\n      <td>4.565339</td>\n      <td>0</td>\n      <td>...</td>\n      <td>0.512371</td>\n      <td>-0.808002</td>\n      <td>0.589180</td>\n      <td>0</td>\n      <td>0</td>\n      <td>1</td>\n      <td>0</td>\n      <td>0</td>\n      <td>0</td>\n      <td>0</td>\n    </tr>\n    <tr>\n      <th>102933</th>\n      <td>8.929258</td>\n      <td>925.0</td>\n      <td>1325.0</td>\n      <td>2023-03-01 17:32:36+00:00</td>\n      <td>2023-03-01 17:31:05+00:00</td>\n      <td>-704.0</td>\n      <td>118.0</td>\n      <td>50.023773</td>\n      <td>8.441981</td>\n      <td>0</td>\n      <td>...</td>\n      <td>0.512371</td>\n      <td>-0.985180</td>\n      <td>-0.171525</td>\n      <td>0</td>\n      <td>0</td>\n      <td>1</td>\n      <td>0</td>\n      <td>0</td>\n      <td>0</td>\n      <td>0</td>\n    </tr>\n    <tr>\n      <th>15265</th>\n      <td>983.163389</td>\n      <td>38000.0</td>\n      <td>37525.0</td>\n      <td>2023-03-01 04:10:53+00:00</td>\n      <td>2023-03-01 02:50:48+00:00</td>\n      <td>0.0</td>\n      <td>505.0</td>\n      <td>41.191727</td>\n      <td>8.796021</td>\n      <td>0</td>\n      <td>...</td>\n      <td>0.512371</td>\n      <td>0.019711</td>\n      <td>-0.999806</td>\n      <td>0</td>\n      <td>0</td>\n      <td>1</td>\n      <td>0</td>\n      <td>0</td>\n      <td>0</td>\n      <td>0</td>\n    </tr>\n    <tr>\n      <th>...</th>\n      <td>...</td>\n      <td>...</td>\n      <td>...</td>\n      <td>...</td>\n      <td>...</td>\n      <td>...</td>\n      <td>...</td>\n      <td>...</td>\n      <td>...</td>\n      <td>...</td>\n      <td>...</td>\n      <td>...</td>\n      <td>...</td>\n      <td>...</td>\n      <td>...</td>\n      <td>...</td>\n      <td>...</td>\n      <td>...</td>\n      <td>...</td>\n      <td>...</td>\n      <td>...</td>\n    </tr>\n    <tr>\n      <th>33137</th>\n      <td>52.180264</td>\n      <td>13050.0</td>\n      <td>13225.0</td>\n      <td>2023-03-01 06:11:38+00:00</td>\n      <td>2023-03-01 05:53:18+00:00</td>\n      <td>-576.0</td>\n      <td>343.0</td>\n      <td>50.319946</td>\n      <td>9.151105</td>\n      <td>0</td>\n      <td>...</td>\n      <td>0.512371</td>\n      <td>0.796698</td>\n      <td>0.604377</td>\n      <td>0</td>\n      <td>0</td>\n      <td>1</td>\n      <td>0</td>\n      <td>0</td>\n      <td>0</td>\n      <td>0</td>\n    </tr>\n    <tr>\n      <th>43205</th>\n      <td>90.845876</td>\n      <td>16225.0</td>\n      <td>16275.0</td>\n      <td>2023-03-01 19:21:29+00:00</td>\n      <td>2023-03-01 19:03:12+00:00</td>\n      <td>-1536.0</td>\n      <td>378.0</td>\n      <td>49.247473</td>\n      <td>8.889096</td>\n      <td>0</td>\n      <td>...</td>\n      <td>0.512371</td>\n      <td>0.258645</td>\n      <td>-0.965972</td>\n      <td>0</td>\n      <td>0</td>\n      <td>1</td>\n      <td>0</td>\n      <td>0</td>\n      <td>0</td>\n      <td>0</td>\n    </tr>\n    <tr>\n      <th>121388</th>\n      <td>16.858724</td>\n      <td>11000.0</td>\n      <td>11225.0</td>\n      <td>2023-03-01 19:25:57+00:00</td>\n      <td>2023-03-01 18:58:28+00:00</td>\n      <td>0.0</td>\n      <td>357.0</td>\n      <td>49.971313</td>\n      <td>8.777498</td>\n      <td>0</td>\n      <td>...</td>\n      <td>0.512371</td>\n      <td>0.900048</td>\n      <td>-0.435792</td>\n      <td>0</td>\n      <td>0</td>\n      <td>1</td>\n      <td>0</td>\n      <td>0</td>\n      <td>0</td>\n      <td>0</td>\n    </tr>\n    <tr>\n      <th>67980</th>\n      <td>990.825340</td>\n      <td>37000.0</td>\n      <td>37000.0</td>\n      <td>2023-03-01 06:56:10+00:00</td>\n      <td>2023-03-01 05:33:11+00:00</td>\n      <td>0.0</td>\n      <td>457.0</td>\n      <td>51.746211</td>\n      <td>-5.331497</td>\n      <td>0</td>\n      <td>...</td>\n      <td>0.512371</td>\n      <td>-0.959417</td>\n      <td>0.281991</td>\n      <td>0</td>\n      <td>0</td>\n      <td>1</td>\n      <td>0</td>\n      <td>0</td>\n      <td>0</td>\n      <td>0</td>\n    </tr>\n    <tr>\n      <th>123064</th>\n      <td>36.753450</td>\n      <td>11000.0</td>\n      <td>11275.0</td>\n      <td>2023-03-01 17:35:56+00:00</td>\n      <td>2023-03-01 17:20:43+00:00</td>\n      <td>0.0</td>\n      <td>312.0</td>\n      <td>50.238831</td>\n      <td>8.974746</td>\n      <td>0</td>\n      <td>...</td>\n      <td>0.512371</td>\n      <td>0.791990</td>\n      <td>0.610535</td>\n      <td>0</td>\n      <td>0</td>\n      <td>1</td>\n      <td>0</td>\n      <td>0</td>\n      <td>0</td>\n      <td>0</td>\n    </tr>\n  </tbody>\n</table>\n<p>100 rows × 23 columns</p>\n</div>"
     },
     "execution_count": 5,
     "metadata": {},
     "output_type": "execute_result"
    }
   ],
   "source": [
    "df_eval = load_data_batch(file_batch)\n",
    "df_eval = generate_aux_columns(df_eval)\n",
    "df_eval.head(100)"
   ],
   "metadata": {
    "collapsed": false
   }
  },
  {
   "cell_type": "code",
   "execution_count": 6,
   "outputs": [],
   "source": [
    "df_eval =df_eval.sample(frac=1)\n",
    "y = seconds_till_arrival(df_eval)\n",
    "X = df_eval.drop(columns=[\"arrival_time\", \"timestamp\", \"latitude\", \"longitude\"])\n",
    "cols_numeric = [\"distance\", \"altitude\", \"geoaltitude\", \"vertical_rate\",\"groundspeed\"]\n",
    "X_numeric = X[cols_numeric]\n",
    "X[cols_numeric] = scaler.transform(X_numeric)"
   ],
   "metadata": {
    "collapsed": false
   }
  },
  {
   "cell_type": "code",
   "execution_count": 14,
   "outputs": [
    {
     "name": "stdout",
     "output_type": "stream",
     "text": [
      "    109/Unknown - 4s 7ms/step - loss: 5136.1411"
     ]
    },
    {
     "name": "stderr",
     "output_type": "stream",
     "text": [
      "\n",
      "KeyboardInterrupt\n",
      "\n"
     ]
    }
   ],
   "source": [
    "def batch_generator(df: pd.DataFrame, y, batchsize, with_sample_weights = False, sample_weights=None ):\n",
    "    # we want to penalize errors more strongly if the aircraft is far away from arrival and less severely\n",
    "    # when nearer\n",
    "    size = df.shape[0]\n",
    "    i = 0\n",
    "    while i < size:\n",
    "        X_batch = df.iloc[i:i+batchsize,:]\n",
    "        y_batch = y.iloc[i:i+batchsize].values\n",
    "        if with_sample_weights:\n",
    "            sample_batch = sample_weights.iloc[i:i+batchsize].values\n",
    "            yield X_batch, y_batch, sample_batch\n",
    "        else:\n",
    "            yield X_batch, y_batch\n",
    "        i += batchsize\n",
    "\n",
    "    X_batch = df.iloc[i:,:]\n",
    "    y_batch = y.iloc[i:].values\n",
    "    if with_sample_weights:\n",
    "        sample_batch = sample_weights.iloc[i:i+batchsize].values\n",
    "        yield X_batch, y_batch, sample_batch\n",
    "    else:\n",
    "        yield X_batch, y_batch\n",
    "gen = batch_generator(X, y, 256)\n",
    "model.fit(gen)"
   ],
   "metadata": {
    "collapsed": false
   }
  },
  {
   "cell_type": "code",
   "execution_count": 15,
   "outputs": [
    {
     "name": "stdout",
     "output_type": "stream",
     "text": [
      "INFO:tensorflow:Assets written to: ../trained_models/model_bering\\assets\n"
     ]
    }
   ],
   "source": [
    "model.save(model_file)"
   ],
   "metadata": {
    "collapsed": false
   }
  },
  {
   "cell_type": "code",
   "execution_count": 11,
   "outputs": [
    {
     "data": {
      "text/plain": "        distance  altitude  geoaltitude  vertical_rate  groundspeed  holiday  \\\n29831  -0.638548 -1.247067    -1.312611      -0.307731    -0.259387        0   \n105008  0.037724  0.421633     0.380266       0.030885    -0.249395        0   \n47316   6.312349 -1.210835    -1.248729       0.611369     0.220242        0   \n200222  0.099721  0.594743     0.418196       0.442061     0.909708        0   \n171868 -0.654376 -1.836849    -1.839639      -0.138423    -1.528405        0   \n...          ...       ...          ...            ...          ...      ...   \n142383 -0.649714 -1.720100    -1.771764       0.006698    -2.357763        0   \n87080   0.176128  1.063750     0.989143       0.030885     0.520010        0   \n16914   3.921060  0.822201     0.729622       0.030885     1.749058        0   \n23735   0.716648  0.902718     0.799493       0.030885     0.060365        0   \n53949  -0.043417 -1.305441    -1.300633       0.587182    -1.168683        0   \n\n         sec_sin   sec_cos   day_sin   day_cos  bearing_sin  bearing_cos  \\\n29831  -0.861075  0.508478  0.914128  0.405426    -0.995308    -0.096755   \n105008  0.715185  0.698936  0.920971  0.389630     0.765358    -0.643605   \n47316  -0.229130  0.973396  0.907014  0.421101    -0.602869     0.797841   \n200222  0.988072  0.153992  0.891981  0.452072     0.106747     0.994286   \n171868 -0.714727 -0.699404  0.884068  0.467359     0.910519     0.413467   \n...          ...       ...       ...       ...          ...          ...   \n142383 -0.752271 -0.658854  0.907014  0.421101     0.915109     0.403206   \n87080   0.663437  0.748232  0.891981  0.452072     0.020683    -0.999786   \n16914   0.295916  0.955214  0.858764  0.512371    -0.882447     0.470412   \n23735   0.561783  0.827285  0.907014  0.421101     0.951200    -0.308574   \n53949  -0.222258 -0.974988  0.875892  0.482508    -0.846519     0.532359   \n\n        weekday_0  weekday_1  weekday_2  weekday_3  weekday_4  weekday_5  \\\n29831           0          0          1          0          0          0   \n105008          0          0          0          1          0          0   \n47316           0          1          0          0          0          0   \n200222          0          0          0          0          0          0   \n171868          0          0          0          0          0          1   \n...           ...        ...        ...        ...        ...        ...   \n142383          0          1          0          0          0          0   \n87080           0          0          0          0          0          0   \n16914           0          0          1          0          0          0   \n23735           0          1          0          0          0          0   \n53949           0          0          0          0          1          0   \n\n        weekday_6  \n29831           0  \n105008          0  \n47316           0  \n200222          1  \n171868          0  \n...           ...  \n142383          0  \n87080           1  \n16914           0  \n23735           0  \n53949           0  \n\n[7889012 rows x 19 columns]",
      "text/html": "<div>\n<style scoped>\n    .dataframe tbody tr th:only-of-type {\n        vertical-align: middle;\n    }\n\n    .dataframe tbody tr th {\n        vertical-align: top;\n    }\n\n    .dataframe thead th {\n        text-align: right;\n    }\n</style>\n<table border=\"1\" class=\"dataframe\">\n  <thead>\n    <tr style=\"text-align: right;\">\n      <th></th>\n      <th>distance</th>\n      <th>altitude</th>\n      <th>geoaltitude</th>\n      <th>vertical_rate</th>\n      <th>groundspeed</th>\n      <th>holiday</th>\n      <th>sec_sin</th>\n      <th>sec_cos</th>\n      <th>day_sin</th>\n      <th>day_cos</th>\n      <th>bearing_sin</th>\n      <th>bearing_cos</th>\n      <th>weekday_0</th>\n      <th>weekday_1</th>\n      <th>weekday_2</th>\n      <th>weekday_3</th>\n      <th>weekday_4</th>\n      <th>weekday_5</th>\n      <th>weekday_6</th>\n    </tr>\n  </thead>\n  <tbody>\n    <tr>\n      <th>29831</th>\n      <td>-0.638548</td>\n      <td>-1.247067</td>\n      <td>-1.312611</td>\n      <td>-0.307731</td>\n      <td>-0.259387</td>\n      <td>0</td>\n      <td>-0.861075</td>\n      <td>0.508478</td>\n      <td>0.914128</td>\n      <td>0.405426</td>\n      <td>-0.995308</td>\n      <td>-0.096755</td>\n      <td>0</td>\n      <td>0</td>\n      <td>1</td>\n      <td>0</td>\n      <td>0</td>\n      <td>0</td>\n      <td>0</td>\n    </tr>\n    <tr>\n      <th>105008</th>\n      <td>0.037724</td>\n      <td>0.421633</td>\n      <td>0.380266</td>\n      <td>0.030885</td>\n      <td>-0.249395</td>\n      <td>0</td>\n      <td>0.715185</td>\n      <td>0.698936</td>\n      <td>0.920971</td>\n      <td>0.389630</td>\n      <td>0.765358</td>\n      <td>-0.643605</td>\n      <td>0</td>\n      <td>0</td>\n      <td>0</td>\n      <td>1</td>\n      <td>0</td>\n      <td>0</td>\n      <td>0</td>\n    </tr>\n    <tr>\n      <th>47316</th>\n      <td>6.312349</td>\n      <td>-1.210835</td>\n      <td>-1.248729</td>\n      <td>0.611369</td>\n      <td>0.220242</td>\n      <td>0</td>\n      <td>-0.229130</td>\n      <td>0.973396</td>\n      <td>0.907014</td>\n      <td>0.421101</td>\n      <td>-0.602869</td>\n      <td>0.797841</td>\n      <td>0</td>\n      <td>1</td>\n      <td>0</td>\n      <td>0</td>\n      <td>0</td>\n      <td>0</td>\n      <td>0</td>\n    </tr>\n    <tr>\n      <th>200222</th>\n      <td>0.099721</td>\n      <td>0.594743</td>\n      <td>0.418196</td>\n      <td>0.442061</td>\n      <td>0.909708</td>\n      <td>0</td>\n      <td>0.988072</td>\n      <td>0.153992</td>\n      <td>0.891981</td>\n      <td>0.452072</td>\n      <td>0.106747</td>\n      <td>0.994286</td>\n      <td>0</td>\n      <td>0</td>\n      <td>0</td>\n      <td>0</td>\n      <td>0</td>\n      <td>0</td>\n      <td>1</td>\n    </tr>\n    <tr>\n      <th>171868</th>\n      <td>-0.654376</td>\n      <td>-1.836849</td>\n      <td>-1.839639</td>\n      <td>-0.138423</td>\n      <td>-1.528405</td>\n      <td>0</td>\n      <td>-0.714727</td>\n      <td>-0.699404</td>\n      <td>0.884068</td>\n      <td>0.467359</td>\n      <td>0.910519</td>\n      <td>0.413467</td>\n      <td>0</td>\n      <td>0</td>\n      <td>0</td>\n      <td>0</td>\n      <td>0</td>\n      <td>1</td>\n      <td>0</td>\n    </tr>\n    <tr>\n      <th>...</th>\n      <td>...</td>\n      <td>...</td>\n      <td>...</td>\n      <td>...</td>\n      <td>...</td>\n      <td>...</td>\n      <td>...</td>\n      <td>...</td>\n      <td>...</td>\n      <td>...</td>\n      <td>...</td>\n      <td>...</td>\n      <td>...</td>\n      <td>...</td>\n      <td>...</td>\n      <td>...</td>\n      <td>...</td>\n      <td>...</td>\n      <td>...</td>\n    </tr>\n    <tr>\n      <th>142383</th>\n      <td>-0.649714</td>\n      <td>-1.720100</td>\n      <td>-1.771764</td>\n      <td>0.006698</td>\n      <td>-2.357763</td>\n      <td>0</td>\n      <td>-0.752271</td>\n      <td>-0.658854</td>\n      <td>0.907014</td>\n      <td>0.421101</td>\n      <td>0.915109</td>\n      <td>0.403206</td>\n      <td>0</td>\n      <td>1</td>\n      <td>0</td>\n      <td>0</td>\n      <td>0</td>\n      <td>0</td>\n      <td>0</td>\n    </tr>\n    <tr>\n      <th>87080</th>\n      <td>0.176128</td>\n      <td>1.063750</td>\n      <td>0.989143</td>\n      <td>0.030885</td>\n      <td>0.520010</td>\n      <td>0</td>\n      <td>0.663437</td>\n      <td>0.748232</td>\n      <td>0.891981</td>\n      <td>0.452072</td>\n      <td>0.020683</td>\n      <td>-0.999786</td>\n      <td>0</td>\n      <td>0</td>\n      <td>0</td>\n      <td>0</td>\n      <td>0</td>\n      <td>0</td>\n      <td>1</td>\n    </tr>\n    <tr>\n      <th>16914</th>\n      <td>3.921060</td>\n      <td>0.822201</td>\n      <td>0.729622</td>\n      <td>0.030885</td>\n      <td>1.749058</td>\n      <td>0</td>\n      <td>0.295916</td>\n      <td>0.955214</td>\n      <td>0.858764</td>\n      <td>0.512371</td>\n      <td>-0.882447</td>\n      <td>0.470412</td>\n      <td>0</td>\n      <td>0</td>\n      <td>1</td>\n      <td>0</td>\n      <td>0</td>\n      <td>0</td>\n      <td>0</td>\n    </tr>\n    <tr>\n      <th>23735</th>\n      <td>0.716648</td>\n      <td>0.902718</td>\n      <td>0.799493</td>\n      <td>0.030885</td>\n      <td>0.060365</td>\n      <td>0</td>\n      <td>0.561783</td>\n      <td>0.827285</td>\n      <td>0.907014</td>\n      <td>0.421101</td>\n      <td>0.951200</td>\n      <td>-0.308574</td>\n      <td>0</td>\n      <td>1</td>\n      <td>0</td>\n      <td>0</td>\n      <td>0</td>\n      <td>0</td>\n      <td>0</td>\n    </tr>\n    <tr>\n      <th>53949</th>\n      <td>-0.043417</td>\n      <td>-1.305441</td>\n      <td>-1.300633</td>\n      <td>0.587182</td>\n      <td>-1.168683</td>\n      <td>0</td>\n      <td>-0.222258</td>\n      <td>-0.974988</td>\n      <td>0.875892</td>\n      <td>0.482508</td>\n      <td>-0.846519</td>\n      <td>0.532359</td>\n      <td>0</td>\n      <td>0</td>\n      <td>0</td>\n      <td>0</td>\n      <td>1</td>\n      <td>0</td>\n      <td>0</td>\n    </tr>\n  </tbody>\n</table>\n<p>7889012 rows × 19 columns</p>\n</div>"
     },
     "execution_count": 11,
     "metadata": {},
     "output_type": "execute_result"
    }
   ],
   "source": [
    "X"
   ],
   "metadata": {
    "collapsed": false
   }
  },
  {
   "cell_type": "markdown",
   "source": [],
   "metadata": {
    "collapsed": false
   }
  },
  {
   "cell_type": "markdown",
   "source": [],
   "metadata": {
    "collapsed": false
   }
  }
 ],
 "metadata": {
  "kernelspec": {
   "display_name": "Python 3",
   "language": "python",
   "name": "python3"
  },
  "language_info": {
   "codemirror_mode": {
    "name": "ipython",
    "version": 2
   },
   "file_extension": ".py",
   "mimetype": "text/x-python",
   "name": "python",
   "nbconvert_exporter": "python",
   "pygments_lexer": "ipython2",
   "version": "2.7.6"
  }
 },
 "nbformat": 4,
 "nbformat_minor": 0
}
