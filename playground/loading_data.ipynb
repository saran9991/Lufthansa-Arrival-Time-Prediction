{
 "cells": [
  {
   "cell_type": "code",
   "execution_count": 1,
   "outputs": [],
   "source": [
    "from traffic.core import Traffic\n",
    "from preprocessing import get_complete_flights, preprocess_traffic, generate_dummy_columns\n",
    "import h5py\n",
    "import numpy as np\n",
    "import pandas as pd\n",
    "import datetime\n",
    "import tensorflow as tf\n",
    "from tensorflow import keras\n",
    "from tensorflow.keras.optimizers import Adam\n",
    "from tensorflow.keras.models import load_model\n",
    "from sklearn.preprocessing import StandardScaler\n",
    "from joblib import dump, load\n",
    "import itertools"
   ],
   "metadata": {
    "collapsed": false
   }
  },
  {
   "cell_type": "code",
   "execution_count": 2,
   "outputs": [
    {
     "name": "stdout",
     "output_type": "stream",
     "text": [
      "2.10.0\n",
      "Num GPUs Available:  1\n"
     ]
    }
   ],
   "source": [
    "print(tf.__version__)\n",
    "print(\"Num GPUs Available: \", len(tf.config.list_physical_devices('GPU')))"
   ],
   "metadata": {
    "collapsed": false
   }
  },
  {
   "cell_type": "code",
   "execution_count": 3,
   "metadata": {
    "collapsed": true
   },
   "outputs": [],
   "source": [
    "def seconds_till_arrival(flights_data: pd.DataFrame):\n",
    "    time_till_arrival = flights_data[\"arrival_time\"]- flights_data[\"timestamp\"]\n",
    "    seconds = time_till_arrival.dt.total_seconds()\n",
    "    return seconds"
   ]
  },
  {
   "cell_type": "code",
   "execution_count": 4,
   "outputs": [],
   "source": [
    "def build_sequential(lr, input_dims, output_dims, layerSizes, activation, loss):\n",
    "    model = keras.Sequential()\n",
    "    model.add (keras.layers.Input(shape=input_dims))\n",
    "    for size in layerSizes:\n",
    "        model.add(keras.layers.Dense(size))\n",
    "        model.add(keras.layers.LeakyReLU(alpha=0.05))\n",
    "\n",
    "    model.add(keras.layers.Dense(output_dims,activation=activation))\n",
    "\n",
    "    model.compile(optimizer=Adam(learning_rate=lr), loss=loss)\n",
    "\n",
    "    return model"
   ],
   "metadata": {
    "collapsed": false
   }
  },
  {
   "cell_type": "code",
   "execution_count": 5,
   "outputs": [
    {
     "name": "stdout",
     "output_type": "stream",
     "text": [
      "LH_230101\n",
      "LH_230103\n",
      "LH_230104\n",
      "LH_230105\n",
      "LH_230106\n",
      "LH_230107\n",
      "LH_230108\n",
      "LH_230109\n",
      "LH_230110\n",
      "LH_230111\n",
      "LH_230112\n",
      "LH_230113\n",
      "LH_230114\n",
      "LH_230115\n",
      "LH_230116\n",
      "LH_230117\n",
      "LH_230118\n",
      "LH_230119\n",
      "LH_230120\n",
      "LH_230121\n",
      "LH_230122\n",
      "LH_230123\n",
      "LH_230124\n",
      "LH_230125\n",
      "LH_230126\n",
      "LH_230127\n",
      "LH_230128\n",
      "LH_230129\n",
      "LH_230130\n",
      "LH_230131\n"
     ]
    }
   ],
   "source": [
    "scaler = load('../trained_models/std_scaler_reg.bin')\n",
    "file = \"../data/Frankfurt_LH_2301.h5\"\n",
    "\n",
    "with h5py.File(file, 'r') as f:\n",
    "    first = True\n",
    "    for key in list(f.keys()):\n",
    "        print(key)\n",
    "        try:\n",
    "            flights = Traffic.from_file(file, key=key,\n",
    "                                    parse_dates=[\"day\", \"firstseen\", \"hour\", \"last_position\",\n",
    "                                                 \"lastseen\", \"timestamp\"])\n",
    "        except:\n",
    "            continue\n",
    "\n",
    "        try:\n",
    "            df_flights = preprocess_traffic(flights)\n",
    "        except AttributeError:\n",
    "            continue\n",
    "\n",
    "        df = df_flights[\n",
    "            [\"distance\", \"altitude\", \"geoaltitude\", \"arrival_time\", \"timestamp\", \"vertical_rate\",\n",
    "             \"groundspeed\", \"month\", \"weekday\", \"holiday\"]].dropna()\n",
    "\n",
    "        if not first:\n",
    "            df_eval = pd.concat([df, df_eval])\n",
    "        else:\n",
    "            df_eval = df\n",
    "            first = False\n"
   ],
   "metadata": {
    "collapsed": false
   }
  },
  {
   "cell_type": "code",
   "execution_count": 31,
   "outputs": [],
   "source": [
    "model_file = '../trained_models/model_with_cat_0429'\n",
    "model = load_model(model_file)"
   ],
   "metadata": {
    "collapsed": false
   }
  },
  {
   "cell_type": "code",
   "execution_count": 7,
   "outputs": [],
   "source": [
    "df_train = generate_dummy_columns(df_eval)\n",
    "df_train = df_train.sample(frac=1)"
   ],
   "metadata": {
    "collapsed": false
   }
  },
  {
   "cell_type": "code",
   "execution_count": 8,
   "outputs": [],
   "source": [
    "y = seconds_till_arrival(df_train)\n",
    "X = df_train.drop(columns=[\"arrival_time\", \"timestamp\", \"month\", \"weekday\"])\n",
    "cols_numeric = [\"distance\", \"altitude\", \"geoaltitude\", \"vertical_rate\",\"groundspeed\"]\n",
    "X_numeric = X[cols_numeric]\n",
    "X[cols_numeric] = scaler.transform(X_numeric)"
   ],
   "metadata": {
    "collapsed": false
   }
  },
  {
   "cell_type": "code",
   "execution_count": 30,
   "outputs": [
    {
     "name": "stdout",
     "output_type": "stream",
     "text": [
      "165643/736944 [=====>........................] - ETA: 17:34 - loss: 386145.3750"
     ]
    },
    {
     "name": "stderr",
     "output_type": "stream",
     "text": [
      "\n",
      "KeyboardInterrupt\n",
      "\n"
     ]
    }
   ],
   "source": [
    "model.evaluate(X,y)"
   ],
   "metadata": {
    "collapsed": false
   }
  },
  {
   "cell_type": "markdown",
   "source": [],
   "metadata": {
    "collapsed": false
   }
  },
  {
   "cell_type": "code",
   "execution_count": 24,
   "outputs": [
    {
     "name": "stdout",
     "output_type": "stream",
     "text": [
      "3125/3125 [==============================] - 4s 1ms/step\n"
     ]
    }
   ],
   "source": [
    "y_pred = model.predict(X.iloc[:100000,:])"
   ],
   "metadata": {
    "collapsed": false
   }
  },
  {
   "cell_type": "code",
   "execution_count": 25,
   "outputs": [],
   "source": [
    "err = abs(y[:100000] -y_pred[:,0])"
   ],
   "metadata": {
    "collapsed": false
   }
  },
  {
   "cell_type": "code",
   "execution_count": 28,
   "outputs": [
    {
     "data": {
      "text/plain": "360.188671875"
     },
     "execution_count": 28,
     "metadata": {},
     "output_type": "execute_result"
    }
   ],
   "source": [
    "err.max()/60"
   ],
   "metadata": {
    "collapsed": false
   }
  },
  {
   "cell_type": "code",
   "execution_count": 34,
   "outputs": [
    {
     "data": {
      "text/plain": "[<matplotlib.lines.Line2D at 0x19e33bba410>]"
     },
     "execution_count": 34,
     "metadata": {},
     "output_type": "execute_result"
    },
    {
     "data": {
      "text/plain": "<Figure size 640x480 with 1 Axes>",
      "image/png": "[encoded data removed]"
     },
     "metadata": {},
     "output_type": "display_data"
    }
   ],
   "source": [
    "plt.scatter(df_eval[\"distance\"],err)\n",
    "plt.plot(xseq, a + b * xseq, color=\"k\", lw=2.5)"
   ],
   "metadata": {
    "collapsed": false
   }
  },
  {
   "cell_type": "markdown",
   "source": [],
   "metadata": {
    "collapsed": false
   }
  },
  {
   "cell_type": "markdown",
   "source": [],
   "metadata": {
    "collapsed": false
   }
  },
  {
   "cell_type": "markdown",
   "source": [
    "sadf"
   ],
   "metadata": {
    "collapsed": false
   }
  }
 ],
 "metadata": {
  "kernelspec": {
   "display_name": "Python 3",
   "language": "python",
   "name": "python3"
  },
  "language_info": {
   "codemirror_mode": {
    "name": "ipython",
    "version": 2
   },
   "file_extension": ".py",
   "mimetype": "text/x-python",
   "name": "python",
   "nbconvert_exporter": "python",
   "pygments_lexer": "ipython2",
   "version": "2.7.6"
  }
 },
 "nbformat": 4,
 "nbformat_minor": 0
}
