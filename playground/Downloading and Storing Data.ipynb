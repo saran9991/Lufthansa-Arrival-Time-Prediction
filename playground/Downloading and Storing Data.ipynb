{
 "cells": [
  {
   "cell_type": "code",
   "execution_count": 1,
   "id": "010e048c-683b-4d5a-896c-3bc747ce680f",
   "metadata": {
    "tags": []
   },
   "outputs": [],
   "source": [
    "import traffic\n",
    "from traffic.data import opensky\n",
    "from traffic.core import Traffic\n",
    "from rich.pretty import pprint\n",
    "import pandas as pd\n",
    "import numpy as np"
   ]
  },
  {
   "cell_type": "code",
   "execution_count": null,
   "id": "021c77ba-8c38-4505-a58b-42ef03d61773",
   "metadata": {
    "tags": []
   },
   "outputs": [
    {
     "data": {
      "application/vnd.jupyter.widget-view+json": {
       "model_id": "5b5ae06875ca46f58e95bf86a74ee1dc",
       "version_major": 2,
       "version_minor": 0
      },
      "text/plain": [
       "Output()"
      ]
     },
     "metadata": {},
     "output_type": "display_data"
    }
   ],
   "source": [
    "# The airport code for Frankfurt is EDDF - let's get flights on March 1st 2023\n",
    "for i in range(1,31):\n",
    "    if i < 10:\n",
    "        day = \"0\"+str(i)\n",
    "        \n",
    "    else:\n",
    "        day = str(i)\n",
    "    h5_key = \"LH_2204\"+day\n",
    "    from traffic.data import opensky\n",
    "    trajectories = opensky.history(\"2022-04-\"+day+\" 00:00\",\n",
    "                        stop= \"2022-04-\"+day+\" 23:59\",\n",
    "                        arrival_airport =\"EDDF\",\n",
    "                        cached=False )\n",
    "    try:\n",
    "        callsigns_lh = trajectories.data.callsign.loc[trajectories.data.callsign.str.contains(\"DLH\").astype(bool)]\n",
    "            \n",
    "        callsigns_lh = callsigns_lh.unique()\n",
    "        callsigns_lh = callsigns_lh[~pd.isnull(callsigns_lh)]\n",
    "        trajectories_lh = trajectories[callsigns_lh]\n",
    "        trajectories_lh = trajectories_lh.assign_id().eval()\n",
    "        print(\"add\",h5_key,\"to file\")\n",
    "        trajectories_lh.to_hdf(\"Frankfurt_LH_2204.h5\", key=h5_key, format = 'table')\n",
    "\n",
    "    except AttributeError as e:\n",
    "        print(e)\n",
    "\n",
    "\n",
    "        \n",
    "        \n"
   ]
  },
  {
   "cell_type": "code",
   "execution_count": 6,
   "id": "2c8016c4-64b4-482d-845d-59f2c4c8cd8f",
   "metadata": {},
   "outputs": [
    {
     "name": "stdout",
     "output_type": "stream",
     "text": [
      "<KeysViewHDF5 ['LH_220301', 'LH_220302', 'LH_220303', 'LH_220304', 'LH_220305', 'LH_220306', 'LH_220307', 'LH_220308', 'LH_220309', 'LH_220310', 'LH_220311', 'LH_220312', 'LH_220313', 'LH_220314', 'LH_220315', 'LH_220316', 'LH_220317', 'LH_220318', 'LH_220319', 'LH_220320', 'LH_220321', 'LH_220322', 'LH_220323', 'LH_220324', 'LH_220325', 'LH_220326', 'LH_220327', 'LH_220328', 'LH_220329', 'LH_220330']>\n"
     ]
    }
   ],
   "source": [
    "import h5py\n",
    "filename = \"Frankfurt_LH_2203.h5\"\n",
    "with h5py.File(filename, \"r\") as f:\n",
    "    print(f.keys())"
   ]
  },
  {
   "cell_type": "code",
   "execution_count": null,
   "id": "284baf24-0584-4ec7-861c-d896a8d420e3",
   "metadata": {},
   "outputs": [],
   "source": []
  }
 ],
 "metadata": {
  "kernelspec": {
   "display_name": "Python 3 (ipykernel)",
   "language": "python",
   "name": "python3"
  },
  "language_info": {
   "codemirror_mode": {
    "name": "ipython",
    "version": 3
   },
   "file_extension": ".py",
   "mimetype": "text/x-python",
   "name": "python",
   "nbconvert_exporter": "python",
   "pygments_lexer": "ipython3",
   "version": "3.9.16"
  }
 },
 "nbformat": 4,
 "nbformat_minor": 5
}
