{
 "cells": [
  {
   "cell_type": "code",
   "execution_count": 1,
   "id": "010e048c-683b-4d5a-896c-3bc747ce680f",
   "metadata": {
    "tags": []
   },
   "outputs": [],
   "source": [
    "import traffic\n",
    "from traffic.data import opensky\n",
    "from traffic.core import Traffic\n",
    "from rich.pretty import pprint\n",
    "import pandas as pd\n",
    "import numpy as np\n",
    "from datetime import datetime, timedelta"
   ]
  },
  {
   "cell_type": "code",
   "execution_count": 6,
   "id": "021c77ba-8c38-4505-a58b-42ef03d61773",
   "metadata": {
    "tags": []
   },
   "outputs": [],
   "source": [
    "def download_month(month: int, year: int):\n",
    "\n",
    "    if month < 10:\n",
    "        str_month = \"0\" + str(month)\n",
    "    else:\n",
    "        str_month = str(month)\n",
    "\n",
    "    filename = \"LH_\" + str(year[2:]) + str_month + \".h5\"\n",
    "    print(filename)\n",
    "    next_month = month + 1 if month < 12 else  1\n",
    "    str_next_month = str(next_month) if next_month > 9 else \"0\" + str(next_month)\n",
    "\n",
    "    datetime_str_start = str(year) + \"-\"+ str_month + \"-01 00:00:00\"\n",
    "    datetime_str_end = str(year) + \"-\" + str_next_month + \"-01 00:00:00\"\n",
    "    datetime_current = datetime.strptime(datetime_str_start, '%Y-%m-%d %H:%M:%S')\n",
    "    datetime_end = datetime.strptime(datetime_str_end, '%Y-%m-%d %H:%M:%S')\n",
    "\n",
    "    while datetime_current < datetime_end:\n",
    "\n",
    "        print(datetime_current)\n",
    "        day = datetime_current.day\n",
    "        if day < 10:\n",
    "            day_str = \"0\" + str(day)\n",
    "        else:\n",
    "            day_str = str(day)\n",
    "\n",
    "        h5_key = \"LH_22\" + str_month + day_str\n",
    "        print(h5_key)\n",
    "        str_current_day = str(datetime_current)\n",
    "        str_next_day = str(datetime_current + timedelta(days = 1))\n",
    "        print(\"getting data between \"+str_current_day+ \" and \"+ str_next_day)\n",
    "\n",
    "        trajectories = opensky.history(str_current_day,\n",
    "                            stop= str_next_day,\n",
    "                            arrival_airport =\"EDDF\",\n",
    "                            cached=True )\n",
    "        try:\n",
    "            callsigns_lh = trajectories.data.callsign.loc[trajectories.data.callsign.str.contains(\"DLH\").astype(bool)]\n",
    "\n",
    "            callsigns_lh = callsigns_lh.unique()\n",
    "            callsigns_lh = callsigns_lh[~pd.isnull(callsigns_lh)]\n",
    "            trajectories_lh = trajectories[callsigns_lh]\n",
    "            trajectories_lh = trajectories_lh.assign_id().eval()\n",
    "            print(\"add\",h5_key,\"to file\")\n",
    "            trajectories_lh.to_hdf(filename, key=h5_key, format = 'table')\n",
    "\n",
    "        except AttributeError as e:\n",
    "            print(e)\n",
    "\n",
    "        datetime_current += timedelta(days = 1)\n"
   ]
  },
  {
   "cell_type": "code",
   "execution_count": 7,
   "id": "1c63e42f",
   "metadata": {
    "collapsed": false,
    "jupyter": {
     "outputs_hidden": false
    }
   },
   "outputs": [
    {
     "ename": "TypeError",
     "evalue": "'int' object is not subscriptable",
     "output_type": "error",
     "traceback": [
      "\u001b[1;31m---------------------------------------------------------------------------\u001b[0m",
      "\u001b[1;31mTypeError\u001b[0m                                 Traceback (most recent call last)",
      "Cell \u001b[1;32mIn[7], line 1\u001b[0m\n\u001b[1;32m----> 1\u001b[0m \u001b[43mdownload_month\u001b[49m\u001b[43m(\u001b[49m\u001b[38;5;241;43m5\u001b[39;49m\u001b[43m,\u001b[49m\u001b[38;5;241;43m2022\u001b[39;49m\u001b[43m)\u001b[49m\n",
      "Cell \u001b[1;32mIn[6], line 8\u001b[0m, in \u001b[0;36mdownload_month\u001b[1;34m(month, year)\u001b[0m\n\u001b[0;32m      5\u001b[0m \u001b[38;5;28;01melse\u001b[39;00m:\n\u001b[0;32m      6\u001b[0m     str_month \u001b[38;5;241m=\u001b[39m \u001b[38;5;28mstr\u001b[39m(month)\n\u001b[1;32m----> 8\u001b[0m filename \u001b[38;5;241m=\u001b[39m \u001b[38;5;124m\"\u001b[39m\u001b[38;5;124mLH_\u001b[39m\u001b[38;5;124m\"\u001b[39m \u001b[38;5;241m+\u001b[39m \u001b[38;5;28mstr\u001b[39m(\u001b[43myear\u001b[49m\u001b[43m[\u001b[49m\u001b[38;5;241;43m2\u001b[39;49m\u001b[43m:\u001b[49m\u001b[43m]\u001b[49m) \u001b[38;5;241m+\u001b[39m str_month \u001b[38;5;241m+\u001b[39m \u001b[38;5;124m\"\u001b[39m\u001b[38;5;124m.h5\u001b[39m\u001b[38;5;124m\"\u001b[39m\n\u001b[0;32m      9\u001b[0m \u001b[38;5;28mprint\u001b[39m(filename)\n\u001b[0;32m     10\u001b[0m next_month \u001b[38;5;241m=\u001b[39m month \u001b[38;5;241m+\u001b[39m \u001b[38;5;241m1\u001b[39m \u001b[38;5;28;01mif\u001b[39;00m month \u001b[38;5;241m<\u001b[39m \u001b[38;5;241m12\u001b[39m \u001b[38;5;28;01melse\u001b[39;00m  \u001b[38;5;241m1\u001b[39m\n",
      "\u001b[1;31mTypeError\u001b[0m: 'int' object is not subscriptable"
     ]
    }
   ],
   "source": [
    "download_month(5,2022)"
   ]
  },
  {
   "cell_type": "code",
   "execution_count": null,
   "id": "645f6105",
   "metadata": {
    "collapsed": false,
    "jupyter": {
     "outputs_hidden": false
    }
   },
   "outputs": [],
   "source": []
  }
 ],
 "metadata": {
  "kernelspec": {
   "display_name": "Python 3 (ipykernel)",
   "language": "python",
   "name": "python3"
  },
  "language_info": {
   "codemirror_mode": {
    "name": "ipython",
    "version": 3
   },
   "file_extension": ".py",
   "mimetype": "text/x-python",
   "name": "python",
   "nbconvert_exporter": "python",
   "pygments_lexer": "ipython3",
   "version": "3.10.9"
  }
 },
 "nbformat": 4,
 "nbformat_minor": 5
}
