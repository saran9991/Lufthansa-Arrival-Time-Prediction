{
 "cells": [
  {
   "cell_type": "code",
   "execution_count": 1,
   "id": "010e048c-683b-4d5a-896c-3bc747ce680f",
   "metadata": {
    "tags": []
   },
   "outputs": [],
   "source": [
    "import traffic\n",
    "from traffic.data import opensky\n",
    "from traffic.core import Traffic\n",
    "from rich.pretty import pprint\n",
    "import pandas as pd\n",
    "import numpy as np\n",
    "from datetime import datetime, timedelta\n",
    "import h5py\n",
    "import os"
   ]
  },
  {
   "cell_type": "code",
   "execution_count": 2,
   "id": "021c77ba-8c38-4505-a58b-42ef03d61773",
   "metadata": {
    "tags": []
   },
   "outputs": [],
   "source": [
    "def download_month(month: int, year: int, start_day = 1, cached=True):\n",
    "\n",
    "    if month < 10:\n",
    "        str_month = \"0\" + str(month)\n",
    "    else:\n",
    "        str_month = str(month)\n",
    "\n",
    "    filename = \"Frankfurt_LH_\" + str(year)[2:] + str_month + \".h5\"\n",
    "    print(filename)\n",
    "    next_month = month + 1 if month < 12 else  1\n",
    "    str_next_month = str(next_month) if next_month > 9 else \"0\" + str(next_month)\n",
    "\n",
    "    start_day_str = \"0\" + str(start_day) if start_day < 10 else str(start_day)\n",
    "    datetime_str_start = str(year) + \"-\"+ str_month + \"-\" + start_day_str +  \" 00:00:00\"\n",
    "    datetime_str_end = str(year) + \"-\" + str_next_month + \"-01 00:00:00\" if next_month != 1 else str(year+1) + \"-\" + str_next_month + \"-01 00:00:00\"\n",
    "    datetime_current = datetime.strptime(datetime_str_start, '%Y-%m-%d %H:%M:%S')\n",
    "    datetime_end = datetime.strptime(datetime_str_end, '%Y-%m-%d %H:%M:%S')\n",
    "\n",
    "    while datetime_current < datetime_end:\n",
    "\n",
    "        print(datetime_current)\n",
    "        day = datetime_current.day\n",
    "        if day < 10:\n",
    "            day_str = \"0\" + str(day)\n",
    "        else:\n",
    "            day_str = str(day)\n",
    "\n",
    "        h5_key = \"LH_22\" + str_month + day_str\n",
    "        print(h5_key)\n",
    "        str_current_day = str(datetime_current)\n",
    "        str_next_day = str(datetime_current + timedelta(days = 1))\n",
    "        print(\"getting data between \"+str_current_day+ \" and \"+ str_next_day)\n",
    "\n",
    "        trajectories = opensky.history(str_current_day,\n",
    "                            stop= str_next_day,\n",
    "                            arrival_airport =\"EDDF\",\n",
    "                            cached=cached)\n",
    "        try:\n",
    "            callsigns_lh = trajectories.data.callsign.loc[trajectories.data.callsign.str.contains(\"DLH\").astype(bool)]\n",
    "\n",
    "            callsigns_lh = callsigns_lh.unique()\n",
    "            callsigns_lh = callsigns_lh[~pd.isnull(callsigns_lh)]\n",
    "            trajectories_lh = trajectories[callsigns_lh]\n",
    "            print(\"add\",h5_key,\"to file\")\n",
    "\n",
    "            trajectories_lh.to_hdf(filename, key=h5_key, format = 'table')\n",
    "\n",
    "        except AttributeError as e:\n",
    "            print(e)\n",
    "\n",
    "        datetime_current += timedelta(days = 1)\n"
   ]
  },
  {
   "cell_type": "code",
   "execution_count": null,
   "id": "dc0ae2c6-52b1-47c3-856f-80b3275c3f22",
   "metadata": {},
   "outputs": [
    {
     "data": {
      "application/vnd.jupyter.widget-view+json": {
       "model_id": "f306e8db90c94b75b1a17f48a559f72c",
       "version_major": 2,
       "version_minor": 0
      },
      "text/plain": [
       "Output()"
      ]
     },
     "metadata": {},
     "output_type": "display_data"
    },
    {
     "name": "stdout",
     "output_type": "stream",
     "text": [
      "Frankfurt_LH_2204.h5\n",
      "2022-04-06 00:00:00\n",
      "LH_220406\n",
      "getting data between 2022-04-06 00:00:00 and 2022-04-07 00:00:00\n"
     ]
    }
   ],
   "source": [
    "download_month(4, 2022, 6, cached = False)"
   ]
  },
  {
   "cell_type": "code",
   "execution_count": 3,
   "id": "5919da59-92c6-4787-8a59-5d0743a93639",
   "metadata": {},
   "outputs": [
    {
     "name": "stdout",
     "output_type": "stream",
     "text": [
      "['LH_220401', 'LH_220402', 'LH_220403', 'LH_220404', 'LH_220405']\n"
     ]
    }
   ],
   "source": [
    "with h5py.File(\"Frankfurt_LH_2204.h5\", 'r') as f:\n",
    "    print(list(f.keys()))"
   ]
  },
  {
   "cell_type": "code",
   "execution_count": null,
   "id": "626ed77b-625d-4b66-bed5-f96a3f8d8b22",
   "metadata": {},
   "outputs": [],
   "source": []
  }
 ],
 "metadata": {
  "kernelspec": {
   "display_name": "Python 3 (ipykernel)",
   "language": "python",
   "name": "python3"
  },
  "language_info": {
   "codemirror_mode": {
    "name": "ipython",
    "version": 3
   },
   "file_extension": ".py",
   "mimetype": "text/x-python",
   "name": "python",
   "nbconvert_exporter": "python",
   "pygments_lexer": "ipython3",
   "version": "3.10.9"
  }
 },
 "nbformat": 4,
 "nbformat_minor": 5
}
