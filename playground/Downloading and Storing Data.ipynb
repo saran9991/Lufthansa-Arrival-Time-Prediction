{
 "cells": [
  {
   "cell_type": "code",
   "execution_count": 1,
   "id": "010e048c-683b-4d5a-896c-3bc747ce680f",
   "metadata": {
    "tags": []
   },
   "outputs": [],
   "source": [
    "import traffic\n",
    "from traffic.data import opensky\n",
    "from traffic.core import Traffic\n",
    "from rich.pretty import pprint\n",
    "import pandas as pd\n",
    "import numpy as np\n",
    "from datetime import datetime, timedelta"
   ]
  },
  {
   "cell_type": "code",
   "execution_count": 3,
   "id": "021c77ba-8c38-4505-a58b-42ef03d61773",
   "metadata": {
    "tags": []
   },
   "outputs": [],
   "source": [
    "def download_month(month: int, year: int):\n",
    "\n",
    "    if month < 10:\n",
    "        str_month = \"0\" + str(month)\n",
    "    else:\n",
    "        str_month = str(month)\n",
    "\n",
    "\n",
    "    next_month = month + 1 if month < 12 else  1\n",
    "    str_next_month = str(next_month) if next_month > 9 else \"0\" + str(next_month)\n",
    "\n",
    "    datetime_str_start = str(year) + \"-\"+ str_month + \"-01 00:00:00\"\n",
    "    datetime_str_end = str(year) + \"-\" + str_next_month + \"-01 00:00:00\"\n",
    "    datetime_current = datetime.strptime(datetime_str_start, '%Y-%m-%d %H:%M:%S')\n",
    "    datetime_end = datetime.strptime(datetime_str_end, '%Y-%m-%d %H:%M:%S')\n",
    "\n",
    "    while datetime_current < datetime_end:\n",
    "\n",
    "        print(datetime_current)\n",
    "        day = datetime_current.day\n",
    "        if day < 10:\n",
    "            day_str = \"0\" + str(day)\n",
    "        else:\n",
    "            day_str = str(day)\n",
    "\n",
    "        h5_key = \"LH_2205\"+day_str\n",
    "        str_current_day = str(datetime_current)\n",
    "        str_next_day = str(datetime_current + timedelta(days = 1))\n",
    "        print(\"getting data between \"+str_current_day+ \" and \"+ str_next_day)\n",
    "\n",
    "        trajectories = opensky.history(str_current_day,\n",
    "                            stop= str_next_day,\n",
    "                            arrival_airport =\"EDDF\",\n",
    "                            cached=False )\n",
    "        try:\n",
    "            callsigns_lh = trajectories.data.callsign.loc[trajectories.data.callsign.str.contains(\"DLH\").astype(bool)]\n",
    "\n",
    "            callsigns_lh = callsigns_lh.unique()\n",
    "            callsigns_lh = callsigns_lh[~pd.isnull(callsigns_lh)]\n",
    "            trajectories_lh = trajectories[callsigns_lh]\n",
    "            trajectories_lh = trajectories_lh.assign_id().eval()\n",
    "            print(\"add\",h5_key,\"to file\")\n",
    "            trajectories_lh.to_hdf(\"Frankfurt_LH_2205.h5\", key=h5_key, format = 'table')\n",
    "\n",
    "        except AttributeError as e:\n",
    "            print(e)\n",
    "\n",
    "        datetime_current += timedelta(days = 1)\n"
   ]
  },
  {
   "cell_type": "code",
   "execution_count": 4,
   "outputs": [
    {
     "data": {
      "text/plain": "Output()",
      "application/vnd.jupyter.widget-view+json": {
       "version_major": 2,
       "version_minor": 0,
       "model_id": "d17874245a6a4de4a48c5662b4ba7bb2"
      }
     },
     "metadata": {},
     "output_type": "display_data"
    },
    {
     "name": "stdout",
     "output_type": "stream",
     "text": [
      "2022-05-01 00:00:00\n",
      "getting data between 2022-05-01 00:00:00 and 2022-05-02 00:00:00\n"
     ]
    },
    {
     "data": {
      "text/plain": "",
      "text/html": "<pre style=\"white-space:pre;overflow-x:auto;line-height:normal;font-family:Menlo,'DejaVu Sans Mono',consolas,'Courier New',monospace\"></pre>\n"
     },
     "metadata": {},
     "output_type": "display_data"
    },
    {
     "data": {
      "text/plain": "\n",
      "text/html": "<pre style=\"white-space:pre;overflow-x:auto;line-height:normal;font-family:Menlo,'DejaVu Sans Mono',consolas,'Courier New',monospace\">\n</pre>\n"
     },
     "metadata": {},
     "output_type": "display_data"
    },
    {
     "ename": "KeyboardInterrupt",
     "evalue": "",
     "output_type": "error",
     "traceback": [
      "\u001B[1;31m---------------------------------------------------------------------------\u001B[0m",
      "\u001B[1;31mKeyboardInterrupt\u001B[0m                         Traceback (most recent call last)",
      "Cell \u001B[1;32mIn[4], line 1\u001B[0m\n\u001B[1;32m----> 1\u001B[0m \u001B[43mdownload_month\u001B[49m\u001B[43m(\u001B[49m\u001B[38;5;241;43m5\u001B[39;49m\u001B[43m,\u001B[49m\u001B[38;5;241;43m2022\u001B[39;49m\u001B[43m)\u001B[49m\n",
      "Cell \u001B[1;32mIn[3], line 31\u001B[0m, in \u001B[0;36mdownload_month\u001B[1;34m(month, year)\u001B[0m\n\u001B[0;32m     28\u001B[0m str_next_day \u001B[38;5;241m=\u001B[39m \u001B[38;5;28mstr\u001B[39m(datetime_current \u001B[38;5;241m+\u001B[39m timedelta(days \u001B[38;5;241m=\u001B[39m \u001B[38;5;241m1\u001B[39m))\n\u001B[0;32m     29\u001B[0m \u001B[38;5;28mprint\u001B[39m(\u001B[38;5;124m\"\u001B[39m\u001B[38;5;124mgetting data between \u001B[39m\u001B[38;5;124m\"\u001B[39m\u001B[38;5;241m+\u001B[39mstr_current_day\u001B[38;5;241m+\u001B[39m \u001B[38;5;124m\"\u001B[39m\u001B[38;5;124m and \u001B[39m\u001B[38;5;124m\"\u001B[39m\u001B[38;5;241m+\u001B[39m str_next_day)\n\u001B[1;32m---> 31\u001B[0m trajectories \u001B[38;5;241m=\u001B[39m \u001B[43mopensky\u001B[49m\u001B[38;5;241;43m.\u001B[39;49m\u001B[43mhistory\u001B[49m\u001B[43m(\u001B[49m\u001B[43mstr_current_day\u001B[49m\u001B[43m,\u001B[49m\n\u001B[0;32m     32\u001B[0m \u001B[43m                    \u001B[49m\u001B[43mstop\u001B[49m\u001B[38;5;241;43m=\u001B[39;49m\u001B[43m \u001B[49m\u001B[43mstr_next_day\u001B[49m\u001B[43m,\u001B[49m\n\u001B[0;32m     33\u001B[0m \u001B[43m                    \u001B[49m\u001B[43marrival_airport\u001B[49m\u001B[43m \u001B[49m\u001B[38;5;241;43m=\u001B[39;49m\u001B[38;5;124;43m\"\u001B[39;49m\u001B[38;5;124;43mEDDF\u001B[39;49m\u001B[38;5;124;43m\"\u001B[39;49m\u001B[43m,\u001B[49m\n\u001B[0;32m     34\u001B[0m \u001B[43m                    \u001B[49m\u001B[43mcached\u001B[49m\u001B[38;5;241;43m=\u001B[39;49m\u001B[38;5;28;43;01mFalse\u001B[39;49;00m\u001B[43m \u001B[49m\u001B[43m)\u001B[49m\n\u001B[0;32m     35\u001B[0m \u001B[38;5;28;01mtry\u001B[39;00m:\n\u001B[0;32m     36\u001B[0m     callsigns_lh \u001B[38;5;241m=\u001B[39m trajectories\u001B[38;5;241m.\u001B[39mdata\u001B[38;5;241m.\u001B[39mcallsign\u001B[38;5;241m.\u001B[39mloc[trajectories\u001B[38;5;241m.\u001B[39mdata\u001B[38;5;241m.\u001B[39mcallsign\u001B[38;5;241m.\u001B[39mstr\u001B[38;5;241m.\u001B[39mcontains(\u001B[38;5;124m\"\u001B[39m\u001B[38;5;124mDLH\u001B[39m\u001B[38;5;124m\"\u001B[39m)\u001B[38;5;241m.\u001B[39mastype(\u001B[38;5;28mbool\u001B[39m)]\n",
      "File \u001B[1;32m~\\anaconda3\\envs\\Lufthansa-Arrival-Time-Prediction\\lib\\site-packages\\traffic\\data\\adsb\\opensky_impala.py:1018\u001B[0m, in \u001B[0;36mImpala.history\u001B[1;34m(self, start, stop, date_delta, return_flight, callsign, icao24, serials, bounds, departure_airport, arrival_airport, airport, count, cached, compress, limit, other_tables, other_params, nautical_units, time_buffer, progressbar, *args)\u001B[0m\n\u001B[0;32m    997\u001B[0m _log\u001B[38;5;241m.\u001B[39minfo(\n\u001B[0;32m    998\u001B[0m     \u001B[38;5;124mf\u001B[39m\u001B[38;5;124m\"\u001B[39m\u001B[38;5;124mSending request between time \u001B[39m\u001B[38;5;132;01m{\u001B[39;00mbt\u001B[38;5;132;01m}\u001B[39;00m\u001B[38;5;124m and \u001B[39m\u001B[38;5;132;01m{\u001B[39;00mat\u001B[38;5;132;01m}\u001B[39;00m\u001B[38;5;124m \u001B[39m\u001B[38;5;124m\"\u001B[39m\n\u001B[0;32m    999\u001B[0m     \u001B[38;5;124mf\u001B[39m\u001B[38;5;124m\"\u001B[39m\u001B[38;5;124mand hour \u001B[39m\u001B[38;5;132;01m{\u001B[39;00mbh\u001B[38;5;132;01m}\u001B[39;00m\u001B[38;5;124m and \u001B[39m\u001B[38;5;132;01m{\u001B[39;00mah\u001B[38;5;132;01m}\u001B[39;00m\u001B[38;5;124m\"\u001B[39m\n\u001B[0;32m   1000\u001B[0m )\n\u001B[0;32m   1002\u001B[0m request \u001B[38;5;241m=\u001B[39m \u001B[38;5;28mself\u001B[39m\u001B[38;5;241m.\u001B[39mbasic_request\u001B[38;5;241m.\u001B[39mformat(\n\u001B[0;32m   1003\u001B[0m     columns\u001B[38;5;241m=\u001B[39mcolumns,\n\u001B[0;32m   1004\u001B[0m     before_time\u001B[38;5;241m=\u001B[39mbt\u001B[38;5;241m.\u001B[39mtimestamp(),\n\u001B[1;32m   (...)\u001B[0m\n\u001B[0;32m   1015\u001B[0m     where_clause\u001B[38;5;241m=\u001B[39mwhere_clause,\n\u001B[0;32m   1016\u001B[0m )\n\u001B[1;32m-> 1018\u001B[0m df \u001B[38;5;241m=\u001B[39m \u001B[38;5;28;43mself\u001B[39;49m\u001B[38;5;241;43m.\u001B[39;49m\u001B[43m_impala\u001B[49m\u001B[43m(\u001B[49m\n\u001B[0;32m   1019\u001B[0m \u001B[43m    \u001B[49m\u001B[43mrequest\u001B[49m\u001B[43m,\u001B[49m\u001B[43m \u001B[49m\u001B[43mcolumns\u001B[49m\u001B[38;5;241;43m=\u001B[39;49m\u001B[43mparse_columns\u001B[49m\u001B[43m,\u001B[49m\u001B[43m \u001B[49m\u001B[43mcached\u001B[49m\u001B[38;5;241;43m=\u001B[39;49m\u001B[43mcached\u001B[49m\u001B[43m,\u001B[49m\u001B[43m \u001B[49m\u001B[43mcompress\u001B[49m\u001B[38;5;241;43m=\u001B[39;49m\u001B[43mcompress\u001B[49m\n\u001B[0;32m   1020\u001B[0m \u001B[43m\u001B[49m\u001B[43m)\u001B[49m\n\u001B[0;32m   1022\u001B[0m \u001B[38;5;28;01mif\u001B[39;00m df \u001B[38;5;129;01mis\u001B[39;00m \u001B[38;5;28;01mNone\u001B[39;00m:\n\u001B[0;32m   1023\u001B[0m     \u001B[38;5;28;01mcontinue\u001B[39;00m\n",
      "File \u001B[1;32m~\\anaconda3\\envs\\Lufthansa-Arrival-Time-Prediction\\lib\\site-packages\\traffic\\data\\adsb\\opensky_impala.py:341\u001B[0m, in \u001B[0;36mImpala._impala\u001B[1;34m(self, request, columns, cached, compress)\u001B[0m\n\u001B[0;32m    339\u001B[0m total \u001B[38;5;241m=\u001B[39m \u001B[38;5;124m\"\u001B[39m\u001B[38;5;124m\"\u001B[39m\n\u001B[0;32m    340\u001B[0m _log\u001B[38;5;241m.\u001B[39minfo(\u001B[38;5;124m\"\u001B[39m\u001B[38;5;124mWill be writing into \u001B[39m\u001B[38;5;132;01m{}\u001B[39;00m\u001B[38;5;124m\"\u001B[39m\u001B[38;5;241m.\u001B[39mformat(cachename))\n\u001B[1;32m--> 341\u001B[0m \u001B[38;5;28;01mwhile\u001B[39;00m \u001B[38;5;28mlen\u001B[39m(total) \u001B[38;5;241m==\u001B[39m \u001B[38;5;241m0\u001B[39m \u001B[38;5;129;01mor\u001B[39;00m \u001B[43mtotal\u001B[49m\u001B[43m[\u001B[49m\u001B[38;5;241;43m-\u001B[39;49m\u001B[38;5;241;43m10\u001B[39;49m\u001B[43m:\u001B[49m\u001B[43m]\u001B[49m\u001B[43m \u001B[49m\u001B[38;5;241;43m!=\u001B[39;49m\u001B[43m \u001B[49m\u001B[38;5;124;43m\"\u001B[39;49m\u001B[38;5;124;43m:21000] > \u001B[39;49m\u001B[38;5;124;43m\"\u001B[39;49m:\n\u001B[0;32m    342\u001B[0m     b \u001B[38;5;241m=\u001B[39m \u001B[38;5;28mself\u001B[39m\u001B[38;5;241m.\u001B[39mstdout\u001B[38;5;241m.\u001B[39mchannel\u001B[38;5;241m.\u001B[39mrecv(\u001B[38;5;241m256\u001B[39m)\n\u001B[0;32m    343\u001B[0m     total \u001B[38;5;241m+\u001B[39m\u001B[38;5;241m=\u001B[39m b\u001B[38;5;241m.\u001B[39mdecode()\n",
      "\u001B[1;31mKeyboardInterrupt\u001B[0m: "
     ]
    }
   ],
   "source": [
    "download_month(5,2022)"
   ],
   "metadata": {
    "collapsed": false
   }
  },
  {
   "cell_type": "code",
   "execution_count": 6,
   "id": "2c8016c4-64b4-482d-845d-59f2c4c8cd8f",
   "metadata": {},
   "outputs": [
    {
     "name": "stdout",
     "output_type": "stream",
     "text": [
      "<KeysViewHDF5 ['LH_220301', 'LH_220302', 'LH_220303', 'LH_220304', 'LH_220305', 'LH_220306', 'LH_220307', 'LH_220308', 'LH_220309', 'LH_220310', 'LH_220311', 'LH_220312', 'LH_220313', 'LH_220314', 'LH_220315', 'LH_220316', 'LH_220317', 'LH_220318', 'LH_220319', 'LH_220320', 'LH_220321', 'LH_220322', 'LH_220323', 'LH_220324', 'LH_220325', 'LH_220326', 'LH_220327', 'LH_220328', 'LH_220329', 'LH_220330']>\n"
     ]
    }
   ],
   "source": [
    "# check keys of the h5-file\n",
    "import h5py\n",
    "filename = \"Frankfurt_LH_2205.h5\"\n",
    "with h5py.File(filename, \"r\") as f:\n",
    "    print(f.keys())"
   ]
  },
  {
   "cell_type": "code",
   "execution_count": 3,
   "id": "284baf24-0584-4ec7-861c-d896a8d420e3",
   "metadata": {},
   "outputs": [
    {
     "data": {
      "text/plain": "5"
     },
     "execution_count": 3,
     "metadata": {},
     "output_type": "execute_result"
    }
   ],
   "source": [
    "int(\"05\")"
   ]
  },
  {
   "cell_type": "code",
   "execution_count": null,
   "outputs": [],
   "source": [],
   "metadata": {
    "collapsed": false
   }
  }
 ],
 "metadata": {
  "kernelspec": {
   "display_name": "Python 3 (ipykernel)",
   "language": "python",
   "name": "python3"
  },
  "language_info": {
   "codemirror_mode": {
    "name": "ipython",
    "version": 3
   },
   "file_extension": ".py",
   "mimetype": "text/x-python",
   "name": "python",
   "nbconvert_exporter": "python",
   "pygments_lexer": "ipython3",
   "version": "3.9.16"
  }
 },
 "nbformat": 4,
 "nbformat_minor": 5
}
